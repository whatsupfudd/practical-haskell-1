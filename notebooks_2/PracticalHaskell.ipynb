{
 "cells": [
  {
   "cell_type": "code",
   "execution_count": 1,
   "id": "74373fc5-3da7-4e5c-bfd6-8a45ff8d521e",
   "metadata": {
    "jupyter": {
     "source_hidden": true
    }
   },
   "outputs": [
    {
     "data": {
      "text/html": [
       "<script src=\"xstatic/js/components.js\" cross-origin=\"anonymous\" type=\"module\"></script>"
      ]
     },
     "metadata": {},
     "output_type": "display_data"
    }
   ],
   "source": [
    "-- load styles & scripts to pimp the notebook.\n",
    "import qualified IHaskell.Display as ID\n",
    "ID.Display [\n",
    "    ID.html \"<link href=\\\"https://unpkg.com/tailwindcss@^1.0/dist/tailwind.min.css\\\" rel=\\\"stylesheet\\\">\"\n",
    "    , ID.html \"<link href=\\\"xstatic/css/pimping.css\\\" rel=\\\"stylesheet\\\">\"\n",
    "    , ID.html \"<script src=\\\"xstatic/js/components.js\\\" cross-origin=\\\"anonymous\\\" type=\\\"module\\\"></script>\"\n",
    "  ]"
   ]
  },
  {
   "cell_type": "code",
   "execution_count": 2,
   "id": "cfab07ce-619a-4101-ab1f-9800806e7d07",
   "metadata": {
    "jupyter": {
     "source_hidden": true
    }
   },
   "outputs": [],
   "source": [
    "-- Basic CORS parameter definitions\n",
    "\n",
    "{-# LANGUAGE OverloadedRecordDot #-}\n",
    "{-# LANGUAGE RecordWildCards #-}\n",
    "{-# LANGUAGE DerivingStrategies #-}\n",
    "{-# LANGUAGE DeriveGeneric #-}\n",
    "{-# LANGUAGE DeriveAnyClass #-}\n",
    "{-# LANGUAGE OverloadedStrings #-}\n",
    "\n",
    "module WebServer.CorsPolicy where\n",
    "\n",
    "import Data.Aeson (FromJSON, ToJSON)\n",
    "import Data.CaseInsensitive as CI\n",
    "import Data.List (elem, lookup)\n",
    "import Data.Maybe (fromMaybe)\n",
    "import Data.Text (Text)\n",
    "import qualified Data.Text as DT\n",
    "import Data.Text.Encoding (encodeUtf8)\n",
    "import GHC.Generics (Generic)\n",
    "import Network.HTTP.Types.Header (hOrigin)\n",
    "import Network.Wai\n",
    "import Network.Wai.Middleware.Cors\n",
    "\n",
    "\n",
    "data CorsConfig = CorsConfig {\n",
    "   allowedOrigins :: [ Text ]\n",
    "  , publicPrefixes :: [ Text ]\n",
    "  , maxAge :: Maybe Int\n",
    "  }\n",
    "  deriving stock (Generic, Show)\n",
    "  deriving anyclass (ToJSON, FromJSON)\n",
    "\n",
    "\n",
    "defaultCorsPolicy = CorsConfig {\n",
    "   allowedOrigins = [ \"http://localhost\", \"http://localhost:7885\" ]\n",
    "  , publicPrefixes = [ \"inlogin\", \"site\", \"/\" ]\n",
    "  , maxAge = Nothing\n",
    "  }\n",
    "\n",
    "\n",
    "setCorsPolicy :: CorsConfig -> Middleware\n",
    "setCorsPolicy cConfig = cors $ \\request ->\n",
    "  if isSwaggerRequest request || isPublicApi request\n",
    "  then Just $ simpleCorsResourcePolicy { \n",
    "    corsMethods = simpleMethods <> [ \"OPTIONS\" ]\n",
    "    , corsRequestHeaders = simpleHeaders <> [\"Authorization\", \"Content-Type\"]\n",
    "    }\n",
    "  else Just $ CorsResourcePolicy { \n",
    "    corsOrigins = matchHostOrigin request\n",
    "    , corsMethods = simpleMethods <> [ \"DELETE\", \"OPTIONS\" ]\n",
    "    , corsRequestHeaders = [\"Authorization\", \"Content-Type\"]\n",
    "    , corsExposedHeaders = Nothing\n",
    "    , corsMaxAge = cConfig.maxAge\n",
    "    , corsVaryOrigin = True\n",
    "    , corsRequireOrigin = True\n",
    "    , corsIgnoreFailures = False\n",
    "    }\n",
    "    where\n",
    "      matchHostOrigin request = Just . fromMaybe ([], False) $ do\n",
    "        origin <- lookup hOrigin (requestHeaders request)\n",
    "\n",
    "        if CI.mk origin `elem` (mk . encodeUtf8 <$> cConfig.allowedOrigins)\n",
    "        then return ([origin], True)\n",
    "        else Nothing\n",
    "\n",
    "      isSwaggerRequest request = case pathInfo request of\n",
    "        []    -> False\n",
    "        (x:_) -> \"swagger\" `DT.isPrefixOf` x\n",
    "\n",
    "      isPublicApi request = case pathInfo request of\n",
    "        []    -> False\n",
    "        (x:_) -> any (`DT.isPrefixOf` x) cConfig.publicPrefixes\n"
   ]
  },
  {
   "cell_type": "code",
   "execution_count": 3,
   "id": "bb947a9f-e11a-47ac-ab25-42b533ef0a30",
   "metadata": {
    "jupyter": {
     "source_hidden": true
    }
   },
   "outputs": [],
   "source": [
    "-- Wrap Json Web Keys for JWT in easy-to-use functions for main logic.\n",
    "\n",
    "{-# LANGUAGE FlexibleContexts #-}\n",
    "\n",
    "module WebServer.JWT (generateKeyPairIO, readJWK) where\n",
    "\n",
    "import Control.Lens ((?~), (^.))\n",
    "import Control.Monad.Except\n",
    "import Crypto.JOSE.JWA.JWS (Alg (ES256))\n",
    "import Crypto.JOSE.JWK (AsPublicKey (asPublicKey), Crv (P_256),\n",
    "                                       JWK, JWKAlg (JWSAlg),\n",
    "                                       KeyMaterialGenParam (ECGenParam),\n",
    "                                       KeyOp (Sign, Verify), KeyUse (Sig),\n",
    "                                       MonadRandom, genJWK, jwkAlg, jwkKeyOps,\n",
    "                                       jwkUse)\n",
    "import Crypto.JWT\n",
    "import qualified Crypto.JWT as Jose\n",
    "import Data.Aeson (eitherDecodeFileStrict, encodeFile)\n",
    "import qualified Data.ByteString as BS\n",
    "import qualified Data.ByteString.Lazy as BSL\n",
    "import Data.Function ((&))\n",
    "import Data.Text (Text)\n",
    "import qualified Data.Text as DT\n",
    "\n",
    "import Servant.Auth.Server (Auth, AuthResult (..), BasicAuth, BasicAuthCfg, CookieSettings (CookieSettings, cookieIsSecure)\n",
    "                  , IsSecure (NotSecure), FromBasicAuthData, JWT, JWTSettings (validationKeys, audienceMatches), FromJWT (..), ToJWT (..), cookieIsSecure\n",
    "                  , defaultCookieSettings, defaultJWTSettings, IsMatch (Matches, DoesNotMatch, Matches))\n",
    "\n",
    "\n",
    "generateKeyPair :: MonadRandom m => m JWK\n",
    "generateKeyPair = do\n",
    "  k <- genJWK . ECGenParam $ P_256\n",
    "  return $\n",
    "    k\n",
    "      & jwkAlg ?~ JWSAlg ES256\n",
    "      & jwkKeyOps ?~ [Sign, Verify]\n",
    "      & jwkUse ?~ Sig\n",
    "\n",
    "\n",
    "-- | Generate jwk and public version according to kyrosid specs.\n",
    "generateKeyPairIO :: FilePath -> IO JWK\n",
    "generateKeyPairIO path = do\n",
    "  jwk <- generateKeyPair\n",
    "  let mbPubJWK = jwk ^. asPublicKey\n",
    "  case mbPubJWK of\n",
    "    Nothing -> fail \"Public JWK generation error\"\n",
    "    Just pubJWK ->\n",
    "      encodeFile (path <> \".pub\") pubJWK\n",
    "  encodeFile path jwk\n",
    "  pure jwk\n",
    "\n",
    "\n",
    "-- | Read JWK from file\n",
    "readJWK :: FilePath -> IO JWK\n",
    "readJWK path = do\n",
    "  eJWK <- eitherDecodeFileStrict path\n",
    "  case eJWK of\n",
    "    Left e -> fail e\n",
    "    Right jwk -> pure jwk\n",
    "\n",
    "\n",
    "verifyJWT' :: (FromJWT a, VerificationKeyStore (ExceptT JWTError IO) (JWSHeader ()) ClaimsSet (IO JWKSet)) => JWTSettings -> BS.ByteString -> IO (Either Text a)\n",
    "verifyJWT' jwtCfg input = do\n",
    "  verifiedJWT <- liftIO $ runExceptT . withExceptT formJWTError $ do\n",
    "    unverifiedJWT <- Jose.decodeCompact (BSL.fromStrict input)\n",
    "    Jose.verifyClaims\n",
    "      (jwtSettingsToJwtValidationSettings jwtCfg)\n",
    "      (validationKeys jwtCfg)\n",
    "      unverifiedJWT\n",
    "\n",
    "  let eitherResult = verifiedJWT >>= decodeJWT\n",
    "\n",
    "  return eitherResult\n",
    "  where\n",
    "    formJWTError :: JWTError -> Text\n",
    "    formJWTError = DT.pack . show\n",
    "\n",
    "\n",
    "jwtSettingsToJwtValidationSettings :: JWTSettings -> Jose.JWTValidationSettings\n",
    "jwtSettingsToJwtValidationSettings s =\n",
    "  defaultJWTValidationSettings (toBool <$> audienceMatches s)\n",
    "  where\n",
    "    toBool Matches = True\n",
    "    toBool DoesNotMatch = False\n"
   ]
  },
  {
   "cell_type": "code",
   "execution_count": 4,
   "id": "a7932e4d-1837-4f50-9454-035c4083d9a2",
   "metadata": {
    "jupyter": {
     "source_hidden": true
    }
   },
   "outputs": [],
   "source": [
    "-- Create some Runtime parameters for neater main logic.\n",
    "\n",
    "module Options.Runtime (defaultRun, RunOptions (..), WebServerOptions (..)) where\n",
    "\n",
    "import Data.Text (Text)\n",
    "\n",
    "import WebServer.CorsPolicy (CorsConfig, defaultCorsPolicy)\n",
    "\n",
    "data WebServerOptions = WebServerOptions {\n",
    "    port :: Int\n",
    "    , host :: Text\n",
    "  }\n",
    "  deriving (Show)\n",
    "\n",
    "data RunOptions = RunOptions {\n",
    "    debug :: Int\n",
    "    , webServer :: WebServerOptions\n",
    "    , jwkConfFile :: Maybe FilePath\n",
    "    , corsPolicy :: Maybe CorsConfig\n",
    "  }\n",
    "  deriving (Show)\n",
    "\n",
    "defaultRun :: RunOptions\n",
    "defaultRun =\n",
    "  RunOptions {\n",
    "    debug = 0\n",
    "    , webServer = WebServerOptions {\n",
    "        port = 8181\n",
    "        , host = \"localhost\"\n",
    "      }\n",
    "    , jwkConfFile = Nothing\n",
    "    , corsPolicy = Nothing\n",
    "  }\n"
   ]
  },
  {
   "cell_type": "markdown",
   "id": "c0becb75-e545-44fc-a75d-6f2e5a4f3daf",
   "metadata": {},
   "source": [
    "<link href=\"https://unpkg.com/tailwindcss@^1.0/dist/tailwind.min.css\" rel=\"stylesheet\">\n",
    "<div>\n",
    "<h1>\n",
    "Full Stack Deep Dive: What's the deal with Haskell?    \n",
    "</h1>\n",
    "</div>\n",
    "\n",
    "<div class=\"content flex py-2\">\n",
    "<div>\n",
    "<p><span style=\"float: left; padding: 5px 10px 0px 0px;\"><img class=\"rounded\" src=\"https://www.haskell.org/img/haskell-logo.svg\" width=\"200\"></span>\n",
    "is one of those languages that senior developers will have heard mysterious tales of. But as most stuff of legends, few people will have had practical experience with Haskell. That's unfortunate, by today's state of technology it would make a lot of sense for Haskell experience being a standard skillset of full-stack developers and CTOs.\n",
    "</p>\n",
    "<p>Why? Projecting my own experience, Haskell is the best tool to reach the Zen of programming, to get a balance between theory and real-life implementations, to achieve quick prototyping and long-term software designs, to use time-tested techniques and innovative ideas. I've not come to that reflection overnight: I have over 40 years of software development under my belt, during which I've worked with many many programming ecosystems in many many kind of software development projects with many many types of people. I got curious about Haskell 10 years ago, I slowly integrated its ecosystem into my daily workflow and especially over the last 5 years I've seen the tools mature to be part of the modern web application development process.\n",
    "</p>\n",
    "<div class=\"float-right rounded\"><img class=\"rounded-full shadow-md shadow-gray-700\" style=\"float: right; margin: 0px 10px 0px 10px;\" src=\"xstatic/img/lib_1.png\" width=\"300\" height=\"400\"></div>\n",
    "<div><p>How can you get to evaluate the Haskell advantage? I propose you go through this Jupyter notebook to get a basic overview of the important capabilities of Haskell ecosystem while taking as little of your time as possible. My goal is to show you that this is not wishful thinking, but that if you do spend time learning Haskell you'll be able to use this knowledge in daily situations.</p>\n",
    "\n",
    "<p>This notebook doesn't go into setting up a development environment, compiling and running a first simple piece of code, and helping you going in your own environment and experiments. Instead it's loaded with code that already works through a Haskell kernel. I want to give you the quickest path to see for yourself that you can create a <em>normal, modern, efficient</em> web app using the Haskell ecosystem, using HTMX and Tailwind on the frontend, and server-side rendering of templates filled with data provided by SQL queries, low-latency websocket communications on the backend.  Plus security, distributed computing, 3rd party APIs, Javascript/C++/Python ecosystems integration, etc.\n",
    "</p>\n",
    "<p>If I manage to get you interested and you want to get more experience, it is easy to get the Haskell ecosystem on your local machine, read some of the many resources to learn how to write Haskell code with <a href=\"https://github.com/haskell/haskell-language-server\"><i>language server</i></a> and <i>Copilot</i> support, and move forward in the creation of software through the <code>edit -- compile -- run -- observe</code> loop and reap the benefits of the ecosystem.</p>\n",
    "</div>\n",
    "</div>\n",
    "</div>"
   ]
  },
  {
   "cell_type": "markdown",
   "id": "7f65f038-c63d-4d52-842b-f4a32b117d66",
   "metadata": {
    "jp-MarkdownHeadingCollapsed": true
   },
   "source": [
    "Some of the benefits of having Haskell experience:\n",
    "- you get to look at both theory of computing **and** everyday practicalities of software development, leading to a better thinking in general,\n",
    "- best practices and first principles of programming are aplenty in the ecosystem, with substantial amount of high value-to-noise ratio packaged logic,\n",
    "- you improve your ability to enounce clearly and efficiently complex design, in consistent layers of abstractions,\n",
    "- you work in high-level of expressivenness providing short development time and minimal debugging efforts, yet you can get the kind of high-performance execution for large scale computing comparable to **C** and **Go**,\n",
    "- through its _domain specific languages_ (DSL) you can easily add your own language extensions for efficient handling of specific problems,\n",
    "- through the meta-programming features you can build CI/CD that understands the code, embeds deployment logic within the build phases and achieve much tighter iterations of software development,\n",
    "- the ecosystem is current with today's demand for interactive, media-rich, AI-enhanced cloud-based web applications (and most other buzz words you work with)."
   ]
  },
  {
   "cell_type": "markdown",
   "id": "95fae1b0-1de7-4550-ab29-3d7207e08026",
   "metadata": {
    "jp-MarkdownHeadingCollapsed": true
   },
   "source": [
    "With all these great features, it's important to remember that:\n",
    "- after over 30 years of existance, it's still a niche tool,\n",
    "- advanced capabilities both in pure logic and meta-programming lead to amazing coding abstractions that use concepts living in ivory towers,\n",
    "- documentation for getting onboarded and going on modern application development isn't adequate, and the community being made of many academic users writing in research paper style instead of dumb-down explanations often result in hard-to-reach information,\n",
    "- its passionate community isn't mainstream, focusing more on fintech, super-computing and R&D than consumer-oriented applications.\n",
    "\n",
    "I'll offer some thoughts on the state of the ecosystem and community at the end of the presentation."
   ]
  },
  {
   "cell_type": "markdown",
   "id": "c3c673a6-0580-49f6-80e3-b9684946d13d",
   "metadata": {},
   "source": [
    "<div class=\"grid justify-items-stretch bg-gray-700 hover:bg-orange-100 transition ease-in-out duration-150 rounded-md\" style=\"margin: 0em 0em 2em 0em;\">\n",
    "  <img class=\"rounded-full justify-self-center animation-bounce\" style=\"margin: 10px 8px 0px 0px;\" src=\"xstatic/img/lib_2.png\" width=\"250\">\n",
    "</div>\n",
    "<div>"
   ]
  },
  {
   "cell_type": "markdown",
   "id": "c94f265a-f1c4-4bf2-b96f-421b41d22138",
   "metadata": {},
   "source": [
    "Some basic ideas about Haskell as a programming language and its main compiler, GHC:\n",
    "- it has a simple and clean syntax: easy to learn, little decoratipns, high readability.\n",
    "- it is functional: Haskell guts are [System F](!https://en.wikipedia.org/wiki/System_F), the foundation of high-order functional logic,\n",
    "- it enforces immutability: a variable is assigned once (or *a term is bound to a name once only* the functional people would say),\n",
    "- it has a strong support for pure logic without side effects: logic with the same inputs will always produce the same results, as theoritical computing expects would have it,\n",
    "- it has a consistent support for practical computing: side effects and evolving execution contexts are required in real-life software, so that's also managed in the framework,\n",
    "- it has a very powerful typing system that is also strongly enforced: anything is typed (even types themselves!), type matching must be exact for code to be accepted, there are types of types and type manipulations, etc,\n",
    "- its typing system is powerful enough that it disappears from normal use: you write your code without types (a la JS) and Haskell figures out the rest (unlike JS!),\n",
    "- it supports meta-programming: GHC contains a VM that can execute codes during compilation, leading to on-the-fly extra code generation, value derivation, interaction with the outside world, etc,\n",
    "- it is extendable: new syntax can be created and added to Haskell to express domain-specific ideas, eg embedded SQL, and a powerful FFI provides an easy integration of existing C/C++ code,\n",
    "- it is very optimizable: all kind of directives will drive the compiler to producte efficient machine code, the runtime to work with memory or garbage-collection constraints, as well as using Linear Types provide a way to execute code without garbage-collection (a la Rust)."
   ]
  },
  {
   "cell_type": "markdown",
   "id": "4eaf2afa-dbad-4e7d-b35b-c83f8188ee01",
   "metadata": {},
   "source": [
    "Some basic ideas about Haskell as a runtime system:\n",
    "- it puts an emphasis on compiled binaries, but you'll see in this notebook that it works just fine in interpreted mode,\n",
    "- it provides a memory-management support (a garbage collector) that is very configurable,\n",
    "- it is lazy: functions are not executed if they don't need to, which on the upside can provide significant optimizations, and on the downside create significant memory requirements,\n",
    "- it is parallel: the concept of threading is built-in, and execution can happen in all kind of (safe) levels of parallelism depending on the underlying hardware,\n",
    "- it is debuggable: the interpreter is the main way of debugging Haskell code, but GDB is also able to step through logic execution, \n",
    "- it is observable: execution performance is recordable, with statistics providing valuable ways to update source code for speeding up execution or managing resources better, and the heap can be introspected by a socket-connected debugger,\n",
    "- it is self-contained: binaries can be statically linked, so a single executable file is all that's needed to run an application."
   ]
  },
  {
   "cell_type": "markdown",
   "id": "fedd09b6-2ab5-493b-9d45-3d37e373aa80",
   "metadata": {},
   "source": [
    "Ok, enough overview. But before moving on to writing a minmal web app, you need to be able to read Haskell code.\n",
    "\n",
    "<div class=\"grid justify-items bg-gray-700 hover:bg-orange-100 rounded-md\" style=\"padding:10px 0px 10px 0px\">\n",
    "  <img class=\"rounded-full justify-self-center\" src=\"xstatic/img/soft_linlog_1.png\" width=\"500\">\n",
    "</div>"
   ]
  },
  {
   "cell_type": "markdown",
   "id": "13739829-213b-43c4-b477-6fecd353f5d1",
   "metadata": {},
   "source": [
    "The main idea with Haskell syntax is that in general you write:\n",
    "* function applications: ```functionX argA argB```\n",
    "* bindings: ```left_hand_side = right_hand_side```\n",
    "* access to existing logic (packages): ```import AGreatPackage.BestModule (fctA, fctB)```\n",
    "* name space creation (modules): ```module TopNamespace.SubNameSpace (exportA, exportB)```"
   ]
  },
  {
   "cell_type": "markdown",
   "id": "6c561a85-3820-4a26-8504-5aced0296aef",
   "metadata": {},
   "source": [
    "Here we go... the baby code is a infix function application:"
   ]
  },
  {
   "cell_type": "code",
   "execution_count": 5,
   "id": "fb1dcd9f-b25e-4fb1-8cb8-3323f192cdc6",
   "metadata": {},
   "outputs": [
    {
     "data": {
      "text/plain": [
       "3"
      ]
     },
     "metadata": {},
     "output_type": "display_data"
    }
   ],
   "source": [
    "1 + 2"
   ]
  },
  {
   "cell_type": "markdown",
   "id": "0bc8a8ff-47b5-4a06-bb90-b2228de09d8b",
   "metadata": {},
   "source": [
    "This is what one expects: the `+` function is applied to 1 and 2.  In other language + may be a reserved symbol, but in Haskell it's just another function defined somewhere. And any function can be called in prefix or infix mode, so the previous line is equivalent to:"
   ]
  },
  {
   "cell_type": "code",
   "execution_count": 6,
   "id": "1f0b031c-fedf-4742-8133-98a2e5ff30c9",
   "metadata": {},
   "outputs": [
    {
     "data": {
      "text/plain": [
       "5"
      ]
     },
     "metadata": {},
     "output_type": "display_data"
    }
   ],
   "source": [
    "(+) 2 3"
   ]
  },
  {
   "cell_type": "markdown",
   "id": "2c6d2910-2ffb-437c-9c19-6e394e2eda60",
   "metadata": {},
   "source": [
    "Another typical example of baby code is the function application of the is-equal function:"
   ]
  },
  {
   "cell_type": "code",
   "execution_count": 7,
   "id": "796aa74b-1bef-4962-8acc-92f66602ab14",
   "metadata": {},
   "outputs": [
    {
     "data": {
      "text/plain": [
       "False"
      ]
     },
     "metadata": {},
     "output_type": "display_data"
    }
   ],
   "source": [
    "1 == 2"
   ]
  },
  {
   "cell_type": "markdown",
   "id": "c1134775-9345-43c9-8284-1ec02d631ef0",
   "metadata": {},
   "source": [
    "That function returned the Boolean literal _False_ (the other literal being _True_)."
   ]
  },
  {
   "cell_type": "markdown",
   "id": "bbda1447-aa06-4578-9d4c-fe6992f19bcf",
   "metadata": {},
   "source": [
    "Then there's the right side binding to the left side, which in other languages is typically an assignment statmement.  The baby code version of that is:"
   ]
  },
  {
   "cell_type": "code",
   "execution_count": 8,
   "id": "c7057ce9-d1c9-4027-8be8-ef9a0fa55bdb",
   "metadata": {},
   "outputs": [],
   "source": [
    "x1 = 2 + 3"
   ]
  },
  {
   "cell_type": "markdown",
   "id": "9d5f53e7-5562-4826-918f-0d40c5f5af33",
   "metadata": {},
   "source": [
    "That simply says that `x1` takes the value of the `2 + 3` function application.  Normally that means 6, but remember that Haskell is lazy, so deep down in the execution system it means that `x1` is going to be just `2 + 3` until `x1` needs to be used. Nothing useful in this case, but when the function application takes hour of CPU time to return a value or terabytes of RAM to perform, there will be none of these resources utilized until it's actually necessary to have a resulting value. By the way fpr any such situation you can tell the compiler that it should not enable laziness.\n",
    "\n",
    "As Haskell is a functional language, remember that the previous statement is actually a function definition where `x1` takes no argument and works with constants.  In a pure immutable functional language, there are no variables, just function applications and term bindings...\n",
    "\n",
    "The non-functional programmer will be more comfortable with the function definition:"
   ]
  },
  {
   "cell_type": "code",
   "execution_count": 9,
   "id": "74083c34-91f6-4ce5-8acc-b7baf0d6706d",
   "metadata": {},
   "outputs": [],
   "source": [
    "incByOne arg_1 = 1 + arg_1"
   ]
  },
  {
   "cell_type": "markdown",
   "id": "ee972a64-acf5-4c66-8cf9-3508ddbdb0e5",
   "metadata": {},
   "source": [
    "In this case, a function is defined which is called `incByOne` and which takes one argument.  When executed, it will add 1 to the `arg_1`, no surprise there.\n",
    "\n",
    "The arguments that the function expects are simply listed one after the other, no need for any other decoration in the syntax. Here's a function that takes 2 arguments, and simply adds them together:"
   ]
  },
  {
   "cell_type": "code",
   "execution_count": 10,
   "id": "93edcabc-5ed6-412d-81a7-131400ecfc8a",
   "metadata": {},
   "outputs": [],
   "source": [
    "yetAnotherAdd arg_1 arg_2 = arg_1 + arg_2"
   ]
  },
  {
   "cell_type": "markdown",
   "id": "6e48bf46-1dc8-4313-a241-8783a60e3db7",
   "metadata": {},
   "source": [
    "Lambda notation is bread and butter in Haskell, so that function can be rewritten with the following syntax (which will trigger warnings from the compiler...):"
   ]
  },
  {
   "cell_type": "code",
   "execution_count": 11,
   "id": "bde894f8-0701-4c4a-970b-b7c0fd62bba3",
   "metadata": {},
   "outputs": [
    {
     "data": {
      "text/html": [
       "<style>/* Styles used for the Hoogle display in the pager */\n",
       ".hoogle-doc {\n",
       "display: block;\n",
       "padding-bottom: 1.3em;\n",
       "padding-left: 0.4em;\n",
       "}\n",
       ".hoogle-code {\n",
       "display: block;\n",
       "font-family: monospace;\n",
       "white-space: pre;\n",
       "}\n",
       ".hoogle-text {\n",
       "display: block;\n",
       "}\n",
       ".hoogle-name {\n",
       "color: green;\n",
       "font-weight: bold;\n",
       "}\n",
       ".hoogle-head {\n",
       "font-weight: bold;\n",
       "}\n",
       ".hoogle-sub {\n",
       "display: block;\n",
       "margin-left: 0.4em;\n",
       "}\n",
       ".hoogle-package {\n",
       "font-weight: bold;\n",
       "font-style: italic;\n",
       "}\n",
       ".hoogle-module {\n",
       "font-weight: bold;\n",
       "}\n",
       ".hoogle-class {\n",
       "font-weight: bold;\n",
       "}\n",
       "\n",
       ".get-type {\n",
       "color: green;\n",
       "font-weight: bold;\n",
       "font-family: monospace;\n",
       "display: block;\n",
       "white-space: pre-wrap;\n",
       "}\n",
       ".show-type {\n",
       "color: green;\n",
       "font-weight: bold;\n",
       "font-family: monospace;\n",
       "margin-left: 1em;\n",
       "}\n",
       ".mono {\n",
       "font-family: monospace;\n",
       "display: block;\n",
       "}\n",
       ".err-msg {\n",
       "color: red;\n",
       "font-style: italic;\n",
       "font-family: monospace;\n",
       "white-space: pre;\n",
       "display: block;\n",
       "}\n",
       "#unshowable {\n",
       "color: red;\n",
       "font-weight: bold;\n",
       "}\n",
       ".err-msg.in.collapse {\n",
       "padding-top: 0.7em;\n",
       "}\n",
       "\n",
       ".highlight-code {\n",
       "white-space: pre;\n",
       "font-family: monospace;\n",
       "}\n",
       "\n",
       ".suggestion-warning { \n",
       "font-weight: bold;\n",
       "color: rgb(200, 130, 0);\n",
       "}\n",
       ".suggestion-error { \n",
       "font-weight: bold;\n",
       "color: red;\n",
       "}\n",
       ".suggestion-name {\n",
       "font-weight: bold;\n",
       "}\n",
       "\n",
       "</style><div class=\"suggestion-name\" style=\"clear:both;\">Redundant lambda</div><div class=\"suggestion-row\" style=\"float: left;\"><div class=\"suggestion-warning\">Found:</div><div class=\"highlight-code\" id=\"haskell\">aLambdaVersion = \\ arg_1 arg_2 -> arg_1 + arg_2</div></div><div class=\"suggestion-row\" style=\"float: left;\"><div class=\"suggestion-warning\">Why Not:</div><div class=\"highlight-code\" id=\"haskell\">aLambdaVersion arg_1 arg_2 = arg_1 + arg_2</div></div><div class=\"suggestion-name\" style=\"clear:both;\">Avoid lambda</div><div class=\"suggestion-row\" style=\"float: left;\"><div class=\"suggestion-warning\">Found:</div><div class=\"highlight-code\" id=\"haskell\">\\ arg_1 arg_2 -> arg_1 + arg_2</div></div><div class=\"suggestion-row\" style=\"float: left;\"><div class=\"suggestion-warning\">Why Not:</div><div class=\"highlight-code\" id=\"haskell\">(+)</div></div>"
      ],
      "text/plain": [
       "Line 1: Redundant lambda\n",
       "Found:\n",
       "aLambdaVersion = \\ arg_1 arg_2 -> arg_1 + arg_2\n",
       "Why not:\n",
       "aLambdaVersion arg_1 arg_2 = arg_1 + arg_2Line 1: Avoid lambda\n",
       "Found:\n",
       "\\ arg_1 arg_2 -> arg_1 + arg_2\n",
       "Why not:\n",
       "(+)"
      ]
     },
     "metadata": {},
     "output_type": "display_data"
    }
   ],
   "source": [
    "aLambdaVersion = \\arg_1 arg_2 -> arg_1 + arg_2"
   ]
  },
  {
   "cell_type": "markdown",
   "id": "6e12d3e7-9a6c-4b34-8326-4e52dc0f4375",
   "metadata": {},
   "source": [
    "But lambda notation is not as clear to read, so the compiler will try to get you to use the first form.\n",
    "\n",
    "Finally Haskell does all the expected tricks with curryfication, so it's possible to write:"
   ]
  },
  {
   "cell_type": "code",
   "execution_count": 12,
   "id": "d42fae99-87fe-4fe0-995e-ddd8937fbf51",
   "metadata": {},
   "outputs": [
    {
     "data": {
      "text/plain": [
       "5"
      ]
     },
     "metadata": {},
     "output_type": "display_data"
    },
    {
     "data": {
      "text/plain": [
       "5"
      ]
     },
     "metadata": {},
     "output_type": "display_data"
    }
   ],
   "source": [
    "addSynonym = (+)\n",
    "addTwo = (+ 2)\n",
    "\n",
    "addSynonym 2 3\n",
    "addTwo 3"
   ]
  },
  {
   "cell_type": "markdown",
   "id": "d27ad65d-53ec-4b77-9efb-29022757a520",
   "metadata": {},
   "source": [
    "In that last case the compiler figures out that a function is a curried version of another and arrange arguments passed at function application in the right order without requiring to have them specified in the function definition."
   ]
  },
  {
   "attachments": {},
   "cell_type": "markdown",
   "id": "f551db59-5166-4fb6-81ab-2041a59d633b",
   "metadata": {},
   "source": [
    "Note that up to now we haven't seen any typing anywhere, just like in Javascript.  Given Haskell is strongly-typed and has a very powerful typing system, where are all the types?\n",
    "\n",
    "Ok let's do use some typing notation.  First, a term can be given a specific type, like the `Int` type for the `2 + 3` calculation:"
   ]
  },
  {
   "cell_type": "code",
   "execution_count": 13,
   "id": "3b412cd9-bc05-4af2-be4b-90be2ae49f13",
   "metadata": {},
   "outputs": [],
   "source": [
    "x1 = 2 + 3 :: Int"
   ]
  },
  {
   "cell_type": "markdown",
   "id": "03d79176-8e6d-4ef3-a79c-1279d50ef1d6",
   "metadata": {},
   "source": [
    "That tells the compiler that the right-hand-side value is of type `Int`.  The compiler will check that the `+` function and the `2` and `3` values all make sense, and then also give `Int` type to `x1`.  This is pretty obvious to anyone who has experience with typed languages. But given that Haskell typing system supports polymorphism, it means that `+` may exist for many different types (and it does!), and `2` and `3` literals may be representing different kind of intergers (16 bits, 32 bits, unbounded, ...). Adding ` :: Int` will lock in the meaning of `x1` and force its uses to be limited to `Int` applications.\n",
    "\n",
    "**Important Note** Haskell enforces that type names must start with an upper-case letter, while variable and function names must start with a lower-case letter or a non-letter symbol such as `+`."
   ]
  },
  {
   "cell_type": "markdown",
   "id": "f314e90b-f398-4933-a92d-34601a55e1e1",
   "metadata": {},
   "source": [
    "The typing information can also be provided in two parts; the first one gives the typing for the right-hand-side, while the second part gives the left-hand-side, which typing will need to match.  So the follwing means the same:"
   ]
  },
  {
   "cell_type": "code",
   "execution_count": 14,
   "id": "995b5a62-413d-47c9-823e-894620d46c14",
   "metadata": {},
   "outputs": [],
   "source": [
    "x1 :: Int\n",
    "x1 = 2 + 3"
   ]
  },
  {
   "cell_type": "markdown",
   "id": "3dcbdddb-8bd1-4bc5-89f2-4a5abf6a5aec",
   "metadata": {},
   "source": [
    "That looks more like a good old C (and Java and ...) variable definition, where the variable is first declared and typed, and the value that it represents is given later and much match the type of the variable."
   ]
  },
  {
   "cell_type": "markdown",
   "id": "92ae60bb-8d7d-41e1-9f4c-20b416914994",
   "metadata": {},
   "source": [
    "More typically one will provide typing for functions to documentent the meaning of the code and for locking in certain constraints on the arguments.\n",
    "\n",
    "For example the following code clearly gives the intent of the developer on what the `showOneMore` function is expecting to work with (an `Int` argument), and what it will return (a `String` value. Here we once again use the 2 parts approach, where first the function is declared (with typing), and then its value is provided.  Now that is not how C (and friends) work for providing typing information to a function declaration, but if you think about it, the 2 parts syntax is simpler and more consistent..."
   ]
  },
  {
   "cell_type": "code",
   "execution_count": 15,
   "id": "0b73db10-09cb-4532-950f-43bdcd3fe3aa",
   "metadata": {},
   "outputs": [],
   "source": [
    "showOneMore :: Int -> String\n",
    "showOneMore arg_1 = show (1 + arg_1)"
   ]
  },
  {
   "cell_type": "markdown",
   "id": "319521b7-1f0a-4ab9-bbe2-8010cf701d9f",
   "metadata": {},
   "source": [
    "The typing for a function with two arguments is simply going to list them all, separated by arrows:"
   ]
  },
  {
   "cell_type": "code",
   "execution_count": 16,
   "id": "19a61354-f60e-4bc3-8a71-55191e7f396c",
   "metadata": {},
   "outputs": [],
   "source": [
    "yetAnotherAdd :: Int -> Int -> Int\n",
    "yetAnotherAdd arg_1 arg_2 = arg_1 + arg_2"
   ]
  },
  {
   "cell_type": "markdown",
   "id": "ec0b830c-01d7-4ee1-b4ce-0159595caceb",
   "metadata": {},
   "source": [
    "Why the arrows as separator and the lack of difference between arguments and results in the typing syntax like other typed languages? The arrows are from the deep theoritical foundations of Haskell, in which lambda calculus has used that notation for ... a long time.  The lack of difference between arguments and result is again consistency and simplicity of syntax: a function that takes no argument is types as ` :: Result_Type` (like the `x1` seend before), so a function that takes an argument will add a type and arrow before that, which looks like `Arg_Type -> Result_Type`."
   ]
  },
  {
   "cell_type": "markdown",
   "id": "61e02914-03e2-4a5e-a14e-d1ea2de3ce7f",
   "metadata": {},
   "source": [
    "<section class=\"bar-graph bar-graph-horizontal bar-graph-one\">\n",
    "  <div class=\"bar-one\">\n",
    "    <span class=\"year\">Progress</span>\n",
    "    <div class=\"bar\" data-percentage=\"70%\"></div>\n",
    "  </div>\n",
    "</section>"
   ]
  },
  {
   "cell_type": "markdown",
   "id": "f2567e67-5da7-43d0-85a6-016b1ec0c571",
   "metadata": {},
   "source": [
    "At this point there's more than enough syntax knownledge to move on to the proverbial 'Hello World' example.  First, here's the code:"
   ]
  },
  {
   "cell_type": "code",
   "execution_count": 17,
   "id": "0244dce1-3725-48c3-9405-d51db5d28563",
   "metadata": {},
   "outputs": [],
   "source": [
    "main :: IO ()\n",
    "main =\n",
    "  putStrLn \"Hello World!!\""
   ]
  },
  {
   "cell_type": "markdown",
   "id": "ffe60828-6ddb-48f7-8661-0292efc557dc",
   "metadata": {},
   "source": [
    "Haskell runtime follows the long tradition of the `main` function being the entry point for an application.\n",
    "The function is typed as `IO ()`, the basic type for all things that deal with the real-life computing issue of input/output.\n",
    "The `putStrLn` function takes a string (which is provided in literal form by using the double-quote character), and sends it to the _stdout_ of the running program.\n",
    "\n",
    "In the Jupyter Notebook, we can simply call the function and the IHaskell kernel will redirect its *stdout* to be the output in the result cell:"
   ]
  },
  {
   "cell_type": "code",
   "execution_count": 18,
   "id": "e08ad2c3-6432-440d-b956-6af226439494",
   "metadata": {},
   "outputs": [
    {
     "data": {
      "text/plain": [
       "Hello World!!"
      ]
     },
     "metadata": {},
     "output_type": "display_data"
    }
   ],
   "source": [
    "main"
   ]
  },
  {
   "cell_type": "markdown",
   "id": "5b31ed7e-2a73-4379-8cf0-cffb09482917",
   "metadata": {},
   "source": [
    "Moving forward, let's introduce a code management syntax: the `import` statement.  It instructs the compiler to go fetch code from some other place.  A simple concept in the good old days, but today it means resolving lots of data sources.  In Haskell, a unit of code is called a **module**, and it is a hierchical concept. Modules are stored in **packages**, which is the equivalent of libraries for C++, crates for Rust, packages (yeah!) for Javascript, and so on.  The GHC compiler came up early on with package management tools (*ghc-pkg*), and then more and more features have come up in that area over the years (*cabal*, *stack*, ...).  The main site for package distribution is [Stackage](https://stackage.org) but the largest site is [Hackage](https://hackage.haskell.org), which doesn't do as many efforts on curating the quality and stability of its content.\n",
    "\n",
    "**Important Note** Haskell enforces that module names start with an upper-case letter, just like types."
   ]
  },
  {
   "cell_type": "markdown",
   "id": "bf1aa00d-9ce5-42c3-8c6d-982238cde568",
   "metadata": {},
   "source": [
    "Bringing in the entire content of a module in the current code namespace is the simplest form of `import`:"
   ]
  },
  {
   "cell_type": "code",
   "execution_count": 19,
   "id": "d4becc71-8004-4e92-a746-8ae408215c8b",
   "metadata": {},
   "outputs": [],
   "source": [
    "import Data.Char"
   ]
  },
  {
   "cell_type": "markdown",
   "id": "82e0240c-9fb3-4cb5-8fb6-6057f663ab50",
   "metadata": {},
   "source": [
    "A more advanced module inclusing will control what is brought in the current code namespace, and potentially add a prefix to what is brought in, as for:"
   ]
  },
  {
   "cell_type": "code",
   "execution_count": 20,
   "id": "9c8790df-43cc-49f6-9904-fb310e1deb51",
   "metadata": {},
   "outputs": [],
   "source": [
    "import qualified Text.Blaze.Html5 as H\n",
    "import qualified Text.Blaze.Html5.Attributes as A"
   ]
  },
  {
   "cell_type": "markdown",
   "id": "f694e365-54e3-4f49-9362-6838ef54ec1e",
   "metadata": {},
   "source": [
    "We have added two modules to the current code namespace, and further more we've decided to have them accessable from now with the prefix *H* and *A*.\n",
    "\n",
    "It turns out that these two modules are part of the [Blaze](https://hackage.haskell.org/package/blaze-html) package, which provides all HTML elements and attributes as functions with the same names."
   ]
  },
  {
   "cell_type": "markdown",
   "id": "10f97f0c-2b63-49cc-9232-50b32f6b4afb",
   "metadata": {},
   "source": [
    "To get there, we must take first a quick detour on another syntax element, the oh-so-powerful **comment**.  Comments in Haskell are written with prefixing with two dashes, or a by putting between curly brackets and dashes, such as:"
   ]
  },
  {
   "cell_type": "code",
   "execution_count": 21,
   "id": "72d647fb-2b46-4cda-ad00-6881a8103af8",
   "metadata": {},
   "outputs": [],
   "source": [
    "-- Nothing impacts the compiler here...\n",
    "{- and\n",
    "  same\n",
    "  here\n",
    "-}"
   ]
  },
  {
   "cell_type": "markdown",
   "id": "d493a4b8-1389-404c-ab86-3327a857999e",
   "metadata": {},
   "source": [
    "The GHC compiler has adopted a special version of curly-bracket comment to provide compiler directives (pragmas), and we'll use that at this point to add a very useful processing mode, the *Overloaded String* mode:"
   ]
  },
  {
   "cell_type": "code",
   "execution_count": 22,
   "id": "896aa65f-01e7-4eaa-ae2b-a789b56a8af7",
   "metadata": {},
   "outputs": [],
   "source": [
    "{-# LANGUAGE OverloadedStrings #-}"
   ]
  },
  {
   "cell_type": "markdown",
   "id": "996a3c36-88e1-46e8-ac43-a787a95b6813",
   "metadata": {},
   "source": [
    "This is also feasible when using the *ghci* interpreter, which this notebook is using, by doing:"
   ]
  },
  {
   "cell_type": "code",
   "execution_count": 23,
   "id": "44748885-b625-4b00-8b3d-5661b08ab4f8",
   "metadata": {},
   "outputs": [],
   "source": [
    ":set -XOverloadedStrings"
   ]
  },
  {
   "cell_type": "markdown",
   "id": "c3b05a76-3626-4614-9a3f-67c25fe5fdcc",
   "metadata": {},
   "source": [
    "The `OverloadedStrings` mode means that the compiler will do polymorphism resolution on the string literals.  That in turns means we can let the compiler figure out the right process to turn a string literal into a `Html` value that Blaze wants for most of its DOM building functions. With that available, we can now use Blaze functions to send some html into the notebook cells:"
   ]
  },
  {
   "cell_type": "code",
   "execution_count": 24,
   "id": "1bedd5c5-fa7e-4139-8943-a93f8c91fd37",
   "metadata": {},
   "outputs": [
    {
     "data": {
      "text/html": [
       "<style>/* Styles used for the Hoogle display in the pager */\n",
       ".hoogle-doc {\n",
       "display: block;\n",
       "padding-bottom: 1.3em;\n",
       "padding-left: 0.4em;\n",
       "}\n",
       ".hoogle-code {\n",
       "display: block;\n",
       "font-family: monospace;\n",
       "white-space: pre;\n",
       "}\n",
       ".hoogle-text {\n",
       "display: block;\n",
       "}\n",
       ".hoogle-name {\n",
       "color: green;\n",
       "font-weight: bold;\n",
       "}\n",
       ".hoogle-head {\n",
       "font-weight: bold;\n",
       "}\n",
       ".hoogle-sub {\n",
       "display: block;\n",
       "margin-left: 0.4em;\n",
       "}\n",
       ".hoogle-package {\n",
       "font-weight: bold;\n",
       "font-style: italic;\n",
       "}\n",
       ".hoogle-module {\n",
       "font-weight: bold;\n",
       "}\n",
       ".hoogle-class {\n",
       "font-weight: bold;\n",
       "}\n",
       "\n",
       ".get-type {\n",
       "color: green;\n",
       "font-weight: bold;\n",
       "font-family: monospace;\n",
       "display: block;\n",
       "white-space: pre-wrap;\n",
       "}\n",
       ".show-type {\n",
       "color: green;\n",
       "font-weight: bold;\n",
       "font-family: monospace;\n",
       "margin-left: 1em;\n",
       "}\n",
       ".mono {\n",
       "font-family: monospace;\n",
       "display: block;\n",
       "}\n",
       ".err-msg {\n",
       "color: red;\n",
       "font-style: italic;\n",
       "font-family: monospace;\n",
       "white-space: pre;\n",
       "display: block;\n",
       "}\n",
       "#unshowable {\n",
       "color: red;\n",
       "font-weight: bold;\n",
       "}\n",
       ".err-msg.in.collapse {\n",
       "padding-top: 0.7em;\n",
       "}\n",
       "\n",
       ".highlight-code {\n",
       "white-space: pre;\n",
       "font-family: monospace;\n",
       "}\n",
       "\n",
       ".suggestion-warning { \n",
       "font-weight: bold;\n",
       "color: rgb(200, 130, 0);\n",
       "}\n",
       ".suggestion-error { \n",
       "font-weight: bold;\n",
       "color: red;\n",
       "}\n",
       ".suggestion-name {\n",
       "font-weight: bold;\n",
       "}\n",
       "\n",
       "</style><div class=\"text-red-400 bg-gray-700\">\n",
       "    <p>\n",
       "        This is an example of creating DOM elements similarly to JSX or (better) Elm...\n",
       "    </p>\n",
       "    <div class=\"rounded-md pb-3 pl-3\">\n",
       "        <img src=\"https://pbs.twimg.com/media/F6ezdRuWMAAVJfT?format=png&amp;name=900x900\" width=\"150\">\n",
       "    </div>\n",
       "    <b>\n",
       "        Hello\n",
       "    </b>\n",
       "</div>\n"
      ],
      "text/plain": [
       "<div class=\"text-red-400 bg-gray-700\">\n",
       "    <p>\n",
       "        This is an example of creating DOM elements similarly to JSX or (better) Elm...\n",
       "    </p>\n",
       "    <div class=\"rounded-md pb-3 pl-3\">\n",
       "        <img src=\"https://pbs.twimg.com/media/F6ezdRuWMAAVJfT?format=png&amp;name=900x900\" width=\"150\">\n",
       "    </div>\n",
       "    <b>\n",
       "        Hello\n",
       "    </b>\n",
       "</div>"
      ]
     },
     "metadata": {},
     "output_type": "display_data"
    }
   ],
   "source": [
    "H.div H.! A.class_ \"text-red-400 bg-gray-700\" $ do\n",
    "    H.p \"This is an example of creating DOM elements similarly to JSX or (better) Elm...\"\n",
    "    H.div H.! A.class_ \"rounded-md pb-3 pl-3\" $ H.img H.! A.src \"https://pbs.twimg.com/media/F6ezdRuWMAAVJfT?format=png&name=900x900\" H.! A.width \"150\"\n",
    "    H.b \"Hello\""
   ]
  },
  {
   "cell_type": "markdown",
   "id": "eb961113-e58a-49a0-a602-d890726d6b2b",
   "metadata": {},
   "source": [
    "There are two more syntax elements introduced in this example that need to be covered before looking at the code in details."
   ]
  },
  {
   "cell_type": "markdown",
   "id": "4457a367-8d5a-4eac-9ab0-ede895687554",
   "metadata": {},
   "source": [
    "The first one is the `$` symbol, which is a short-code for putting the rest of the line in parenthesis.\n",
    "So `f1 $ 1 + 2` is the same as `f1 (1 + 2)`, and `f1 $ f2 $ 1 + 2` is the same as `f1 (f2 (1 + 2))`."
   ]
  },
  {
   "cell_type": "markdown",
   "id": "0c58684c-6e2e-4946-8755-aa98f519e90f",
   "metadata": {},
   "source": [
    "The second one is the `do` term, which is a short-hand notation for sequencing of a block of functions.  Function sequencing is a very long topic that brings in the famous *Monad* type, so we won't say more than it is similar to doing the `.then(...)` call in Javascript.\n",
    "So\n",
    "\n",
    "    do\n",
    "      f1\n",
    "      ...\n",
    "      fN\n",
    "\n",
    "means that first `f1` function will be called, and then `f2` will be called, and so on until the result of `fN` will be passed as the result of the whole `do` block.\n",
    "\n",
    "Remember than parallelism is implied in Haskell, and without forcing sequencing the DOM elements could show up in any other that threading/optimization may find useful as they have no relationship amongst each other."
   ]
  },
  {
   "cell_type": "markdown",
   "id": "c39560bc-0bb1-4923-b89d-3646e3e7143f",
   "metadata": {},
   "source": [
    "Now for some code inspection.  First note that all the HTML elements have an equivalent function in Blaze, that takes a `Html` value and returns a `Html` value.  The IHaskell kernel has a trick to automatically merges the DOM elements from that `Html` value into the notebook's result cell, and that's why we see actual rendered HTML rather than some other form of value presentation.  Without that trick, we could see\n",
    "\n",
    "    <div class='text-red-400 bg-gray-700'><p>This ...\n",
    "\n",
    "as a text literal, or maybe a JSON rendering of the entire `Html` content.\n",
    "\n",
    "Second, this is a typical situation of learning curve risk.  On one side the Blaze package is very efficient and simple to use, two great qualities that usually don't go together. But to accomplish that, it uses advanced concepts (Monad, combinators, ...) and you'll be a mere user of the package unless you go through a steep learning curve of monoids, semigroups, functors, and so on.\n",
    "\n",
    "Having said that, let's look at the code: a `div` function from the `Text.Blaze.Html5` module will generate the enclosing DOM element.  Further more a `style` function creates the attribute specification (red color), and the `!` function links `div` and `style`, and then receives the result of the `do` block.\n",
    "\n",
    "In that block, each line calls a function that respectively generates *img*, *p* and *b* DOM elements, with some attributes (`!` calls) and content (the strings)."
   ]
  },
  {
   "cell_type": "markdown",
   "id": "97dc2e88-54eb-405a-bd27-5a1d4ecd4513",
   "metadata": {},
   "source": [
    "Rewriting this code without the module prefix gives:\n",
    "\n",
    "    div ! class_ \"text-red-400 bg-gray-700\" $ do\n",
    "    p \"This is an example of creating DOM elements similarly to JSX or (better) Elm...\"\n",
    "    div ! class_ \"rounded-md pb-3 pl-3\" $ img ! src \"https://pbs.twimg.com/...\" ! width \"150\"\n",
    "        b \"Hello\"\n",
    "\n",
    "\n",
    "which is mure more readable, so that's what you will do in real code.  But in this notebook we'll continue to explicitely show which package provides which function with these prefixes, but in real life an editor with a Haskell language server (HLS) and no prefix would be a better way to go.\n",
    "\n",
    "Using Blaze functions is very similar from writing template code for backend HTML generation.  But with all the advantages of Haskell language."
   ]
  },
  {
   "cell_type": "markdown",
   "id": "20ac4a60-8678-47e5-88bc-caede55ace1f",
   "metadata": {},
   "source": [
    "Now let's say we want to make some components a la React to build up an HTML page section in a modular way.  We'd go with something like:"
   ]
  },
  {
   "cell_type": "code",
   "execution_count": 25,
   "id": "23872b4e-8668-4410-8251-3a6f66b7d90d",
   "metadata": {},
   "outputs": [
    {
     "data": {
      "text/html": [
       "<style>/* Styles used for the Hoogle display in the pager */\n",
       ".hoogle-doc {\n",
       "display: block;\n",
       "padding-bottom: 1.3em;\n",
       "padding-left: 0.4em;\n",
       "}\n",
       ".hoogle-code {\n",
       "display: block;\n",
       "font-family: monospace;\n",
       "white-space: pre;\n",
       "}\n",
       ".hoogle-text {\n",
       "display: block;\n",
       "}\n",
       ".hoogle-name {\n",
       "color: green;\n",
       "font-weight: bold;\n",
       "}\n",
       ".hoogle-head {\n",
       "font-weight: bold;\n",
       "}\n",
       ".hoogle-sub {\n",
       "display: block;\n",
       "margin-left: 0.4em;\n",
       "}\n",
       ".hoogle-package {\n",
       "font-weight: bold;\n",
       "font-style: italic;\n",
       "}\n",
       ".hoogle-module {\n",
       "font-weight: bold;\n",
       "}\n",
       ".hoogle-class {\n",
       "font-weight: bold;\n",
       "}\n",
       "\n",
       ".get-type {\n",
       "color: green;\n",
       "font-weight: bold;\n",
       "font-family: monospace;\n",
       "display: block;\n",
       "white-space: pre-wrap;\n",
       "}\n",
       ".show-type {\n",
       "color: green;\n",
       "font-weight: bold;\n",
       "font-family: monospace;\n",
       "margin-left: 1em;\n",
       "}\n",
       ".mono {\n",
       "font-family: monospace;\n",
       "display: block;\n",
       "}\n",
       ".err-msg {\n",
       "color: red;\n",
       "font-style: italic;\n",
       "font-family: monospace;\n",
       "white-space: pre;\n",
       "display: block;\n",
       "}\n",
       "#unshowable {\n",
       "color: red;\n",
       "font-weight: bold;\n",
       "}\n",
       ".err-msg.in.collapse {\n",
       "padding-top: 0.7em;\n",
       "}\n",
       "\n",
       ".highlight-code {\n",
       "white-space: pre;\n",
       "font-family: monospace;\n",
       "}\n",
       "\n",
       ".suggestion-warning { \n",
       "font-weight: bold;\n",
       "color: rgb(200, 130, 0);\n",
       "}\n",
       ".suggestion-error { \n",
       "font-weight: bold;\n",
       "color: red;\n",
       "}\n",
       ".suggestion-name {\n",
       "font-weight: bold;\n",
       "}\n",
       "\n",
       "</style><div class=\"text-red-400 bg-gray-700\">\n",
       "    <p>\n",
       "        This is an example of creating DOM elements similarly to JSX or (better) Elm...\n",
       "    </p>\n",
       "    <img src=\"https://pbs.twimg.com/media/F6ezdRuWMAAVJfT?format=png&amp;name=900x900\" width=\"150\">\n",
       "    <b class=\"text-orange-200\">\n",
       "        Hello\n",
       "    </b>\n",
       "</div>\n"
      ],
      "text/plain": [
       "<div class=\"text-red-400 bg-gray-700\">\n",
       "    <p>\n",
       "        This is an example of creating DOM elements similarly to JSX or (better) Elm...\n",
       "    </p>\n",
       "    <img src=\"https://pbs.twimg.com/media/F6ezdRuWMAAVJfT?format=png&amp;name=900x900\" width=\"150\">\n",
       "    <b class=\"text-orange-200\">\n",
       "        Hello\n",
       "    </b>\n",
       "</div>"
      ]
     },
     "metadata": {},
     "output_type": "display_data"
    }
   ],
   "source": [
    "import qualified Data.Text as T\n",
    "\n",
    "-- define two components that take some parameters:\n",
    "componentA width postfix = do\n",
    "  H.p \"This is an example of creating DOM elements similarly to JSX or (better) Elm...\"\n",
    "  H.img H.! A.src (H.textValue . T.pack $ \"https://pbs.twimg.com/media/\" ++ postfix) H.! A.width (H.textValue . T.pack . show $ width)\n",
    "\n",
    "componentB someTxt color =\n",
    "  H.b H.! A.class_ (H.textValue . T.pack $ \"text-\" ++ color) $ someTxt\n",
    "\n",
    "-- then apply to get the main div by using the components:\n",
    "H.div H.! A.class_ \"text-red-400 bg-gray-700\" $ do\n",
    "  componentA 150 \"F6ezdRuWMAAVJfT?format=png&name=900x900\"\n",
    "  componentB \"Hello\" \"orange-200\"\n",
    "\n"
   ]
  },
  {
   "cell_type": "markdown",
   "id": "b521ae93-a443-4d15-9760-7ab08f81e53b",
   "metadata": {},
   "source": [
    "Fairly simple, and at this point you should be able to read most of the code.\n",
    "\n",
    "A few more things are introduced in this example:\n",
    "- the `++` function that concatenates two String values (it is an historical synonym for the more general concatenation function `<>`).\n",
    "- the Data.Text module that provides a `String` to `Text` conversion function, `pack`. The `Text` type is a more C++-like implementation of strings, while the `String` type is a basic list implementation.\n",
    "- the `.` operator, which concatenates functions, so `func1 . func2 $ a` means `func1 (func2 a))`.\n",
    "\n",
    "Previously when using a *string* literal such as `\"something\"` (ie, a constant value that is text), the conversion sequence from a `String` value to a `Text` value to a `Html` value was done automatically by the compiler through the OverloadedStrings mode. But now we're dealing with variables values and the compiler doesn't do the work automatically. We use the form `H.textValue . t.pack $ <something>` that is more typical of *functional* code esthetics than its equivalent `H.textValue (t.pack <something>)`.  "
   ]
  },
  {
   "cell_type": "markdown",
   "id": "b3abc5c7-0941-440f-b003-b98ef8aa98bf",
   "metadata": {},
   "source": [
    "We'll take a break from cool capabilities of the Blaze package and go back to introducing additional important syntaxic constructs."
   ]
  },
  {
   "cell_type": "markdown",
   "id": "48ed73d2-e669-4a01-a397-ab305ca5ac74",
   "metadata": {},
   "source": [
    "The first one is the `case` construct, which is the workhorse of conditional logic. It looks like:"
   ]
  },
  {
   "cell_type": "code",
   "execution_count": 26,
   "id": "6e0f238f-d56a-414a-865b-0cb97af4cc84",
   "metadata": {},
   "outputs": [
    {
     "data": {
      "text/plain": [
       "\"two\""
      ]
     },
     "metadata": {},
     "output_type": "display_data"
    }
   ],
   "source": [
    "aValue = 2\n",
    "\n",
    "case aValue of\n",
    "  1 -> \"one\"\n",
    "  2 -> \"two\"\n",
    "  3 -> \"three\"\n",
    "  _ -> \"something different than 1, 2 or 3\"\n",
    "  "
   ]
  },
  {
   "cell_type": "markdown",
   "id": "b6a2070c-2b2d-4583-9a9b-257c4a5e389e",
   "metadata": {},
   "source": [
    "This kind of construct exists in most modern language, for example the *switch* in C and JS or the *match* in Rust.  The selector is on the right side of the arrow, the code to execute is on the left side of the arrow, and the `_` symbol matches anything so acts as the *default* selector.\n",
    "\n",
    "By the way we're referring to *construct* instead of *statement* because it returns a value (like an expression and unlike a statement)."
   ]
  },
  {
   "cell_type": "markdown",
   "id": "87578ea0-ea03-4477-9743-d4eed1961dd3",
   "metadata": {},
   "source": [
    "Haskell also provides the `if-then-else` construct, which is just a short-hand for writing:\n",
    "\n",
    "    case <condition> of\n",
    "      True -> <then-part>\n",
    "      False -> <else-part>\n",
    "\n",
    "So you can write that as `if <condition> then <then-part> else <else-part>`, and that construct returns either the result of the `<then-part>` or the `<else-part>` based on the True/False value of `<condition>`. Again that `if-then-else` construct will return a value, it is not a statement."
   ]
  },
  {
   "cell_type": "markdown",
   "id": "9aac921d-dc71-46f8-9205-22522fbcb520",
   "metadata": {},
   "source": [
    "The third construct is the `let <something> in <something else>`.  Essentially the `let` construct split logic in multiple variable assignments, and then all these variables are re-assembled into a final result (the `in` part).  Recovering the previous HTML example, we could write: "
   ]
  },
  {
   "cell_type": "code",
   "execution_count": 27,
   "id": "9f891a94-c42e-47aa-8205-3e414e223461",
   "metadata": {},
   "outputs": [
    {
     "data": {
      "text/html": [
       "<style>/* Styles used for the Hoogle display in the pager */\n",
       ".hoogle-doc {\n",
       "display: block;\n",
       "padding-bottom: 1.3em;\n",
       "padding-left: 0.4em;\n",
       "}\n",
       ".hoogle-code {\n",
       "display: block;\n",
       "font-family: monospace;\n",
       "white-space: pre;\n",
       "}\n",
       ".hoogle-text {\n",
       "display: block;\n",
       "}\n",
       ".hoogle-name {\n",
       "color: green;\n",
       "font-weight: bold;\n",
       "}\n",
       ".hoogle-head {\n",
       "font-weight: bold;\n",
       "}\n",
       ".hoogle-sub {\n",
       "display: block;\n",
       "margin-left: 0.4em;\n",
       "}\n",
       ".hoogle-package {\n",
       "font-weight: bold;\n",
       "font-style: italic;\n",
       "}\n",
       ".hoogle-module {\n",
       "font-weight: bold;\n",
       "}\n",
       ".hoogle-class {\n",
       "font-weight: bold;\n",
       "}\n",
       "\n",
       ".get-type {\n",
       "color: green;\n",
       "font-weight: bold;\n",
       "font-family: monospace;\n",
       "display: block;\n",
       "white-space: pre-wrap;\n",
       "}\n",
       ".show-type {\n",
       "color: green;\n",
       "font-weight: bold;\n",
       "font-family: monospace;\n",
       "margin-left: 1em;\n",
       "}\n",
       ".mono {\n",
       "font-family: monospace;\n",
       "display: block;\n",
       "}\n",
       ".err-msg {\n",
       "color: red;\n",
       "font-style: italic;\n",
       "font-family: monospace;\n",
       "white-space: pre;\n",
       "display: block;\n",
       "}\n",
       "#unshowable {\n",
       "color: red;\n",
       "font-weight: bold;\n",
       "}\n",
       ".err-msg.in.collapse {\n",
       "padding-top: 0.7em;\n",
       "}\n",
       "\n",
       ".highlight-code {\n",
       "white-space: pre;\n",
       "font-family: monospace;\n",
       "}\n",
       "\n",
       ".suggestion-warning { \n",
       "font-weight: bold;\n",
       "color: rgb(200, 130, 0);\n",
       "}\n",
       ".suggestion-error { \n",
       "font-weight: bold;\n",
       "color: red;\n",
       "}\n",
       ".suggestion-name {\n",
       "font-weight: bold;\n",
       "}\n",
       "\n",
       "</style><div class=\"text-red-400 bg-gray-700\">\n",
       "    <p>\n",
       "        This is an example of creating DOM elements similarly to JSX or (better) Elm...\n",
       "    </p>\n",
       "    <img src=\"https://pbs.twimg.com/media/F6ezdRuWMAAVJfT?format=png&amp;name=900x900\" width=\"150\">\n",
       "    <b class=\"text-green-500\">\n",
       "        Hello\n",
       "    </b>\n",
       "</div>\n"
      ],
      "text/plain": [
       "<div class=\"text-red-400 bg-gray-700\">\n",
       "    <p>\n",
       "        This is an example of creating DOM elements similarly to JSX or (better) Elm...\n",
       "    </p>\n",
       "    <img src=\"https://pbs.twimg.com/media/F6ezdRuWMAAVJfT?format=png&amp;name=900x900\" width=\"150\">\n",
       "    <b class=\"text-green-500\">\n",
       "        Hello\n",
       "    </b>\n",
       "</div>"
      ]
     },
     "metadata": {},
     "output_type": "display_data"
    }
   ],
   "source": [
    "-- wrap up all the previous code into a new bigger component (function):\n",
    "bigComponent halfWidth =\n",
    "  -- first, compute all params\n",
    "  let\n",
    "    width = 2 * halfWidth\n",
    "    urlPostfix = \"F6ezdRuWMAAVJfT?format=png&name=900x900\"\n",
    "    helloString = \"Hello\"\n",
    "    helloColor = \"green-500\"\n",
    "  in\n",
    "    -- then make the div element and its children:\n",
    "    H.div H.! A.class_ \"text-red-400 bg-gray-700\" $ do\n",
    "      componentA width urlPostfix\n",
    "      componentB helloString helloColor\n",
    "\n",
    "-- Invoke the overall html block:\n",
    "bigComponent 75"
   ]
  },
  {
   "cell_type": "markdown",
   "id": "4a72288a-bcb7-4ed5-b152-e6235b93e05e",
   "metadata": {},
   "source": [
    "The main idea with the `let` construct is that it first provides a way to introduce names for a list of terms.  In an imperative language these would be consider variable declaration/assignements.  The new names are only visible in `let ... in ...` construct. Then these new terms will typically be assembled into a value in the `in` part, which becomes the result of the entire construct, as again we're not dealing with a statement."
   ]
  },
  {
   "cell_type": "markdown",
   "id": "f5240db0-2985-4c3f-98da-44599cf6f3b4",
   "metadata": {},
   "source": [
    "<div class=\"grid justify-center\">\n",
    "  <img class=\"rounded-lg\" src=\"xstatic/img/trumpet_1.png\" width=\"200\">\n",
    "</div>"
   ]
  },
  {
   "cell_type": "markdown",
   "id": "1b5ccb6d-db5d-4851-bfe0-2b19779c901d",
   "metadata": {},
   "source": [
    "<h2>WHAT ABOUT THE TYPES!</h2>\n",
    "\n",
    "Let's take a pause for a moment and note that there has been no explicit use of typing for any of the code except for actually showing off the typing notation.  A significant advantage of the Haskell language is that while it is (very) strongly-typed, the typing system is so powerful that you rarely need to bother with type annotation like one would do in C, Java or Rust. The compiler can figure out the logical typing arrangements and run code (idem for the interpreter); or if something is too vague it can alert the developer that the logic isn't sound and describe what isn't making sense.\n",
    "\n",
    "Reflect on this a bit more...\n",
    "\n",
    "It is a standard complaint about Haskell (and strongly-typed languages in general) that typing is a pain in the lower back to deal with.  It might be so in Java/TypeScript/Rust/etc... but in Haskell, one will be able to write code without typing like in Python and Javascript **AND** without all the errors of mistyped logic (and misspelled stuff).\n",
    "\n",
    "In reality though you'll get use to add types (or let the editor/LSP do it for you) as a good way to document the code. Especially with LSP nowadays it's not so useful but writing types instead of logic just help thinking."
   ]
  },
  {
   "cell_type": "markdown",
   "id": "6cd56e0d-dae3-4b0f-b026-fc85d65cf45c",
   "metadata": {},
   "source": [
    "While you're doing some thinking, I'll borrow some html & css from the **Tailwind** site and make something more visually pleasing that the HTML I've been putting together up to now... Haskell language features used here will be discussed further down."
   ]
  },
  {
   "cell_type": "code",
   "execution_count": 28,
   "id": "8935f6cd-9cc1-49bc-b4ad-98f515887bb9",
   "metadata": {},
   "outputs": [
    {
     "data": {
      "text/html": [
       "<style>/* Styles used for the Hoogle display in the pager */\n",
       ".hoogle-doc {\n",
       "display: block;\n",
       "padding-bottom: 1.3em;\n",
       "padding-left: 0.4em;\n",
       "}\n",
       ".hoogle-code {\n",
       "display: block;\n",
       "font-family: monospace;\n",
       "white-space: pre;\n",
       "}\n",
       ".hoogle-text {\n",
       "display: block;\n",
       "}\n",
       ".hoogle-name {\n",
       "color: green;\n",
       "font-weight: bold;\n",
       "}\n",
       ".hoogle-head {\n",
       "font-weight: bold;\n",
       "}\n",
       ".hoogle-sub {\n",
       "display: block;\n",
       "margin-left: 0.4em;\n",
       "}\n",
       ".hoogle-package {\n",
       "font-weight: bold;\n",
       "font-style: italic;\n",
       "}\n",
       ".hoogle-module {\n",
       "font-weight: bold;\n",
       "}\n",
       ".hoogle-class {\n",
       "font-weight: bold;\n",
       "}\n",
       "\n",
       ".get-type {\n",
       "color: green;\n",
       "font-weight: bold;\n",
       "font-family: monospace;\n",
       "display: block;\n",
       "white-space: pre-wrap;\n",
       "}\n",
       ".show-type {\n",
       "color: green;\n",
       "font-weight: bold;\n",
       "font-family: monospace;\n",
       "margin-left: 1em;\n",
       "}\n",
       ".mono {\n",
       "font-family: monospace;\n",
       "display: block;\n",
       "}\n",
       ".err-msg {\n",
       "color: red;\n",
       "font-style: italic;\n",
       "font-family: monospace;\n",
       "white-space: pre;\n",
       "display: block;\n",
       "}\n",
       "#unshowable {\n",
       "color: red;\n",
       "font-weight: bold;\n",
       "}\n",
       ".err-msg.in.collapse {\n",
       "padding-top: 0.7em;\n",
       "}\n",
       "\n",
       ".highlight-code {\n",
       "white-space: pre;\n",
       "font-family: monospace;\n",
       "}\n",
       "\n",
       ".suggestion-warning { \n",
       "font-weight: bold;\n",
       "color: rgb(200, 130, 0);\n",
       "}\n",
       ".suggestion-error { \n",
       "font-weight: bold;\n",
       "color: red;\n",
       "}\n",
       ".suggestion-name {\n",
       "font-weight: bold;\n",
       "}\n",
       "\n",
       "</style><html>\n",
       "    <head>\n",
       "        <link href=\"https://unpkg.com/tailwindcss@^1.0/dist/tailwind.min.css\" rel=\"stylesheet\">\n",
       "        <link href=\"xstatic/css/pack_1.css\" rel=\"stylesheet\">\n",
       "        <link href=\"xstatic/css/pack_2.css\" rel=\"stylesheet\">\n",
       "    </head>\n",
       "    <body class=\"dark antialiased text-slate-500 dark:text-slate-400 dark:bg-slate-900\">\n",
       "        <div style=\"color: red; background: rgb(115 120 128)\" class=\"lg:col-span-5 xl:col-span-6 flex flex-col\">\n",
       "            <div class=\"relative z-10 rounded-xl bg-white shadow-xl ring-1 ring-slate-900/5 overflow-hidden my-auto xl:mt-18 dark:bg-slate-800\">\n",
       "                <div class=\"container mx-auto p-4\">\n",
       "                    <h1 class=\"text-2xl font-bold mb-4\">\n",
       "                        Just taking a break\n",
       "                    </h1>\n",
       "                    <section>\n",
       "                        <header class=\"bg-white space-y-4 p-4 sm:px-8 sm:py-6 lg:p-4 xl:px-8 xl:py-6\">\n",
       "                            <div class=\"flex items-center justify-between\">\n",
       "                                <h2 class=\"font-semibold text-slate-900\">\n",
       "                                    Projects\n",
       "                                </h2>\n",
       "                                <a href=\"javascript:void()\" class=\"hover:bg-blue-400 group flex items-center rounded-md bg-blue-500 text-white text-sm font-medium pl-2 pr-3 py-2 shadow-sm\">\n",
       "                                    <svg width=\"20\" height=\"20\" fill=\"currentColor\" class=\"mr-2\">\n",
       "                                        <path d=\"M10 5a1 1 0 0 1 1 1v3h3a1 1 0 1 1 0 2h-3v3a1 1 0 1 1-2 0v-3H6a1 1 0 1 1 0-2h3V6a1 1 0 0 1 1-1Z\" />\n",
       "                                    </svg>\n",
       "                                    New\n",
       "                                </a>\n",
       "                            </div>\n",
       "                            <form class=\"group relative\">\n",
       "                                <svg width=\"20\" height=\"20\" fill=\"currentColor\" class=\"absolute left-3 top-1/2 -mt-2.5 text-slate-400 pointer-events-none group-focus-within:text-blue-500\">\n",
       "                                    <path fill-rule=\"evenodd\" clip-rule=\"evenodd\" d=\"M8 4a4 4 0 100 8 4 4 0 000-8zM2 8a6 6 0 1110.89 3.476l4.817 4.817a1 1 0 01-1.414 1.414l-4.816-4.816A6 6 0 012 8z\" />\n",
       "                                </svg>\n",
       "                                <input class=\"focus:ring-2 focus:ring-blue-500 focus:outline-none appearance-none w-full text-sm leading-6 text-slate-900 placeholder-slate-400 rounded-md py-2 pl-10 ring-1 ring-slate-200 shadow-sm\" type=\"text\" placeholder=\"Filter projects...\">\n",
       "                            </form>\n",
       "                        </header>\n",
       "                        <ul class=\"bg-slate-50 p-4 sm:px-8 sm:pt-6 sm:pb-8 lg:p-4 xl:px-8 xl:pt-6 xl:pb-8 grid grid-cols-1 sm:grid-cols-2 lg:grid-cols-1 xl:grid-cols-2 gap-4 text-sm leading-6 dark:bg-slate-900/40 dark:ring-1 dark:ring-white/5\">\n",
       "                            <li class=\"group cursor-pointer rounded-md p-3 bg-white ring-1 ring-slate-200 shadow-sm hover:bg-blue-500 hover:ring-blue-500 hover:shadow-md dark:bg-slate-700 dark:ring-0 dark:highlight-white/10 dark:hover:bg-blue-500 hidden sm:block lg:hidden xl:block\">\n",
       "                                <a href=\"proj_1\" class=\"hover:bg-blue-500 hover:ring-blue-500 hover:shadow-md group rounded-md p-3 bg-white ring-1 ring-slate-200 shadow-sm\">\n",
       "                                    <dl class=\"grid sm:block lg:grid xl:block grid-cols-2 grid-rows-2 items-center\">\n",
       "                                        <div>\n",
       "                                            <dt class=\"sr-only\">\n",
       "                                                Title\n",
       "                                            </dt>\n",
       "                                            <dd class=\"group-hover:text-white font-semibold text-slate-900\">\n",
       "                                                First Project\n",
       "                                            </dd>\n",
       "                                        </div>\n",
       "                                        <div>\n",
       "                                            <dt class=\"sr-only\">\n",
       "                                                Category\n",
       "                                            </dt>\n",
       "                                            <dd class=\"group-hover:text-blue-200\">\n",
       "                                                Testing\n",
       "                                            </dd>\n",
       "                                        </div>\n",
       "                                        <div class=\"col-start-2 row-start-1 row-end-3 sm:mt-4 lg:mt-0 xl:mt-4\">\n",
       "                                            <dt class=\"sr-only\">\n",
       "                                                Users\n",
       "                                            </dt>\n",
       "                                            <dd class=\"flex justify-end sm:justify-start lg:justify-end xl:justify-start -space-x-1.5\">\n",
       "                                                <img src=\"https://images.unsplash.com/photo-1531123897727-8f129e1688ce?auto=format&amp;fit=facearea&amp;facepad=2&amp;w=48&amp;h=48&amp;q=80\" alt=\"Joe A\" class=\"w-6 h-6 rounded-full bg-slate-100 ring-2 ring-white\">\n",
       "                                                <img src=\"https://images.unsplash.com/photo-1494790108377-be9c29b29330?auto=format&amp;fit=facearea&amp;facepad=2&amp;w=48&amp;h=48&amp;q=80\" alt=\"Jane B\" class=\"w-6 h-6 rounded-full bg-slate-100 ring-2 ring-white\">\n",
       "                                            </dd>\n",
       "                                        </div>\n",
       "                                    </dl>\n",
       "                                </a>\n",
       "                            </li>\n",
       "                            <li class=\"group cursor-pointer rounded-md p-3 bg-white ring-1 ring-slate-200 shadow-sm hover:bg-blue-500 hover:ring-blue-500 hover:shadow-md dark:bg-slate-700 dark:ring-0 dark:highlight-white/10 dark:hover:bg-blue-500 hidden sm:block lg:hidden xl:block\">\n",
       "                                <a href=\"proj_2\" class=\"hover:bg-blue-500 hover:ring-blue-500 hover:shadow-md group rounded-md p-3 bg-white ring-1 ring-slate-200 shadow-sm\">\n",
       "                                    <dl class=\"grid sm:block lg:grid xl:block grid-cols-2 grid-rows-2 items-center\">\n",
       "                                        <div>\n",
       "                                            <dt class=\"sr-only\">\n",
       "                                                Title\n",
       "                                            </dt>\n",
       "                                            <dd class=\"group-hover:text-white font-semibold text-slate-900\">\n",
       "                                                Second Project\n",
       "                                            </dd>\n",
       "                                        </div>\n",
       "                                        <div>\n",
       "                                            <dt class=\"sr-only\">\n",
       "                                                Category\n",
       "                                            </dt>\n",
       "                                            <dd class=\"group-hover:text-blue-200\">\n",
       "                                                More testing\n",
       "                                            </dd>\n",
       "                                        </div>\n",
       "                                        <div class=\"col-start-2 row-start-1 row-end-3 sm:mt-4 lg:mt-0 xl:mt-4\">\n",
       "                                            <dt class=\"sr-only\">\n",
       "                                                Users\n",
       "                                            </dt>\n",
       "                                            <dd class=\"flex justify-end sm:justify-start lg:justify-end xl:justify-start -space-x-1.5\">\n",
       "                                                <img src=\"https://images.unsplash.com/photo-1494790108377-be9c29b29330?auto=format&amp;fit=facearea&amp;facepad=2&amp;w=48&amp;h=48&amp;q=80\" alt=\"Achmed A\" class=\"w-6 h-6 rounded-full bg-slate-100 ring-2 ring-white\">\n",
       "                                                <img src=\"https://images.unsplash.com/photo-1506794778202-cad84cf45f1d?auto=format&amp;fit=facearea&amp;facepad=2&amp;w=48&amp;h=48&amp;q=80\" alt=\"Simona B\" class=\"w-6 h-6 rounded-full bg-slate-100 ring-2 ring-white\">\n",
       "                                            </dd>\n",
       "                                        </div>\n",
       "                                    </dl>\n",
       "                                </a>\n",
       "                            </li>\n",
       "                        </ul>\n",
       "                    </section>\n",
       "                </div>\n",
       "            </div>\n",
       "        </div>\n",
       "    </body>\n",
       "</html>\n"
      ],
      "text/plain": [
       "<html>\n",
       "    <head>\n",
       "        <link href=\"https://unpkg.com/tailwindcss@^1.0/dist/tailwind.min.css\" rel=\"stylesheet\">\n",
       "        <link href=\"xstatic/css/pack_1.css\" rel=\"stylesheet\">\n",
       "        <link href=\"xstatic/css/pack_2.css\" rel=\"stylesheet\">\n",
       "    </head>\n",
       "    <body class=\"dark antialiased text-slate-500 dark:text-slate-400 dark:bg-slate-900\">\n",
       "        <div style=\"color: red; background: rgb(115 120 128)\" class=\"lg:col-span-5 xl:col-span-6 flex flex-col\">\n",
       "            <div class=\"relative z-10 rounded-xl bg-white shadow-xl ring-1 ring-slate-900/5 overflow-hidden my-auto xl:mt-18 dark:bg-slate-800\">\n",
       "                <div class=\"container mx-auto p-4\">\n",
       "                    <h1 class=\"text-2xl font-bold mb-4\">\n",
       "                        Just taking a break\n",
       "                    </h1>\n",
       "                    <section>\n",
       "                        <header class=\"bg-white space-y-4 p-4 sm:px-8 sm:py-6 lg:p-4 xl:px-8 xl:py-6\">\n",
       "                            <div class=\"flex items-center justify-between\">\n",
       "                                <h2 class=\"font-semibold text-slate-900\">\n",
       "                                    Projects\n",
       "                                </h2>\n",
       "                                <a href=\"javascript:void()\" class=\"hover:bg-blue-400 group flex items-center rounded-md bg-blue-500 text-white text-sm font-medium pl-2 pr-3 py-2 shadow-sm\">\n",
       "                                    <svg width=\"20\" height=\"20\" fill=\"currentColor\" class=\"mr-2\">\n",
       "                                        <path d=\"M10 5a1 1 0 0 1 1 1v3h3a1 1 0 1 1 0 2h-3v3a1 1 0 1 1-2 0v-3H6a1 1 0 1 1 0-2h3V6a1 1 0 0 1 1-1Z\" />\n",
       "                                    </svg>\n",
       "                                    New\n",
       "                                </a>\n",
       "                            </div>\n",
       "                            <form class=\"group relative\">\n",
       "                                <svg width=\"20\" height=\"20\" fill=\"currentColor\" class=\"absolute left-3 top-1/2 -mt-2.5 text-slate-400 pointer-events-none group-focus-within:text-blue-500\">\n",
       "                                    <path fill-rule=\"evenodd\" clip-rule=\"evenodd\" d=\"M8 4a4 4 0 100 8 4 4 0 000-8zM2 8a6 6 0 1110.89 3.476l4.817 4.817a1 1 0 01-1.414 1.414l-4.816-4.816A6 6 0 012 8z\" />\n",
       "                                </svg>\n",
       "                                <input class=\"focus:ring-2 focus:ring-blue-500 focus:outline-none appearance-none w-full text-sm leading-6 text-slate-900 placeholder-slate-400 rounded-md py-2 pl-10 ring-1 ring-slate-200 shadow-sm\" type=\"text\" placeholder=\"Filter projects...\">\n",
       "                            </form>\n",
       "                        </header>\n",
       "                        <ul class=\"bg-slate-50 p-4 sm:px-8 sm:pt-6 sm:pb-8 lg:p-4 xl:px-8 xl:pt-6 xl:pb-8 grid grid-cols-1 sm:grid-cols-2 lg:grid-cols-1 xl:grid-cols-2 gap-4 text-sm leading-6 dark:bg-slate-900/40 dark:ring-1 dark:ring-white/5\">\n",
       "                            <li class=\"group cursor-pointer rounded-md p-3 bg-white ring-1 ring-slate-200 shadow-sm hover:bg-blue-500 hover:ring-blue-500 hover:shadow-md dark:bg-slate-700 dark:ring-0 dark:highlight-white/10 dark:hover:bg-blue-500 hidden sm:block lg:hidden xl:block\">\n",
       "                                <a href=\"proj_1\" class=\"hover:bg-blue-500 hover:ring-blue-500 hover:shadow-md group rounded-md p-3 bg-white ring-1 ring-slate-200 shadow-sm\">\n",
       "                                    <dl class=\"grid sm:block lg:grid xl:block grid-cols-2 grid-rows-2 items-center\">\n",
       "                                        <div>\n",
       "                                            <dt class=\"sr-only\">\n",
       "                                                Title\n",
       "                                            </dt>\n",
       "                                            <dd class=\"group-hover:text-white font-semibold text-slate-900\">\n",
       "                                                First Project\n",
       "                                            </dd>\n",
       "                                        </div>\n",
       "                                        <div>\n",
       "                                            <dt class=\"sr-only\">\n",
       "                                                Category\n",
       "                                            </dt>\n",
       "                                            <dd class=\"group-hover:text-blue-200\">\n",
       "                                                Testing\n",
       "                                            </dd>\n",
       "                                        </div>\n",
       "                                        <div class=\"col-start-2 row-start-1 row-end-3 sm:mt-4 lg:mt-0 xl:mt-4\">\n",
       "                                            <dt class=\"sr-only\">\n",
       "                                                Users\n",
       "                                            </dt>\n",
       "                                            <dd class=\"flex justify-end sm:justify-start lg:justify-end xl:justify-start -space-x-1.5\">\n",
       "                                                <img src=\"https://images.unsplash.com/photo-1531123897727-8f129e1688ce?auto=format&amp;fit=facearea&amp;facepad=2&amp;w=48&amp;h=48&amp;q=80\" alt=\"Joe A\" class=\"w-6 h-6 rounded-full bg-slate-100 ring-2 ring-white\">\n",
       "                                                <img src=\"https://images.unsplash.com/photo-1494790108377-be9c29b29330?auto=format&amp;fit=facearea&amp;facepad=2&amp;w=48&amp;h=48&amp;q=80\" alt=\"Jane B\" class=\"w-6 h-6 rounded-full bg-slate-100 ring-2 ring-white\">\n",
       "                                            </dd>\n",
       "                                        </div>\n",
       "                                    </dl>\n",
       "                                </a>\n",
       "                            </li>\n",
       "                            <li class=\"group cursor-pointer rounded-md p-3 bg-white ring-1 ring-slate-200 shadow-sm hover:bg-blue-500 hover:ring-blue-500 hover:shadow-md dark:bg-slate-700 dark:ring-0 dark:highlight-white/10 dark:hover:bg-blue-500 hidden sm:block lg:hidden xl:block\">\n",
       "                                <a href=\"proj_2\" class=\"hover:bg-blue-500 hover:ring-blue-500 hover:shadow-md group rounded-md p-3 bg-white ring-1 ring-slate-200 shadow-sm\">\n",
       "                                    <dl class=\"grid sm:block lg:grid xl:block grid-cols-2 grid-rows-2 items-center\">\n",
       "                                        <div>\n",
       "                                            <dt class=\"sr-only\">\n",
       "                                                Title\n",
       "                                            </dt>\n",
       "                                            <dd class=\"group-hover:text-white font-semibold text-slate-900\">\n",
       "                                                Second Project\n",
       "                                            </dd>\n",
       "                                        </div>\n",
       "                                        <div>\n",
       "                                            <dt class=\"sr-only\">\n",
       "                                                Category\n",
       "                                            </dt>\n",
       "                                            <dd class=\"group-hover:text-blue-200\">\n",
       "                                                More testing\n",
       "                                            </dd>\n",
       "                                        </div>\n",
       "                                        <div class=\"col-start-2 row-start-1 row-end-3 sm:mt-4 lg:mt-0 xl:mt-4\">\n",
       "                                            <dt class=\"sr-only\">\n",
       "                                                Users\n",
       "                                            </dt>\n",
       "                                            <dd class=\"flex justify-end sm:justify-start lg:justify-end xl:justify-start -space-x-1.5\">\n",
       "                                                <img src=\"https://images.unsplash.com/photo-1494790108377-be9c29b29330?auto=format&amp;fit=facearea&amp;facepad=2&amp;w=48&amp;h=48&amp;q=80\" alt=\"Achmed A\" class=\"w-6 h-6 rounded-full bg-slate-100 ring-2 ring-white\">\n",
       "                                                <img src=\"https://images.unsplash.com/photo-1506794778202-cad84cf45f1d?auto=format&amp;fit=facearea&amp;facepad=2&amp;w=48&amp;h=48&amp;q=80\" alt=\"Simona B\" class=\"w-6 h-6 rounded-full bg-slate-100 ring-2 ring-white\">\n",
       "                                            </dd>\n",
       "                                        </div>\n",
       "                                    </dl>\n",
       "                                </a>\n",
       "                            </li>\n",
       "                        </ul>\n",
       "                    </section>\n",
       "                </div>\n",
       "            </div>\n",
       "        </div>\n",
       "    </body>\n",
       "</html>"
      ]
     },
     "metadata": {},
     "output_type": "display_data"
    }
   ],
   "source": [
    ":set -XOverloadedRecordDot\n",
    "\n",
    "import Control.Monad (mapM_, forM_)\n",
    "import qualified Text.Blaze.Svg11 as S\n",
    "import qualified Text.Blaze.Svg11.Attributes as Sa\n",
    "\n",
    "data Project = Project {\n",
    "    url :: T.Text\n",
    "    , title :: T.Text\n",
    "    , category :: T.Text\n",
    "    , users :: [ UserPrj ]\n",
    "  }\n",
    "\n",
    "data UserPrj = UserPrj {\n",
    "    name :: T.Text\n",
    "    , unsplID :: T.Text\n",
    "  }\n",
    "\n",
    "projects = [\n",
    "  Project {\n",
    "    url = \"proj_1\"\n",
    "    , title =\"First Project\"\n",
    "    , category = \"Testing\"\n",
    "    , users = [\n",
    "      UserPrj \"Joe A\" \"photo-1531123897727-8f129e1688ce\"\n",
    "      , UserPrj \"Jane B\" \"photo-1494790108377-be9c29b29330\"\n",
    "    ]\n",
    "  }\n",
    "  , Project {\n",
    "    url = \"proj_2\"\n",
    "    , title =\"Second Project\"\n",
    "    , category = \"More testing\"\n",
    "    , users = [\n",
    "      UserPrj \"Achmed A\" \"photo-1494790108377-be9c29b29330\"\n",
    "      , UserPrj \"Simona B\" \"photo-1506794778202-cad84cf45f1d\"\n",
    "    ]\n",
    "  }\n",
    " ]\n",
    "\n",
    "sectionD =\n",
    "  H.section $ do\n",
    "    H.header H.! A.class_ \"bg-white space-y-4 p-4 sm:px-8 sm:py-6 lg:p-4 xl:px-8 xl:py-6\" $ do\n",
    "      H.div H.! A.class_ \"flex items-center justify-between\" $ do\n",
    "        H.h2 H.! A.class_ \"font-semibold text-slate-900\" $ H.toHtml \"Projects\"\n",
    "        H.a H.! A.href \"javascript:void()\" H.! A.class_ \"hover:bg-blue-400 group flex items-center rounded-md bg-blue-500 text-white text-sm font-medium pl-2 pr-3 py-2 shadow-sm\" $ do\n",
    "          S.svg S.! Sa.width \"20\" H.! Sa.height \"20\" H.! Sa.fill \"currentColor\" H.! A.class_ \"mr-2\" $\n",
    "            S.path S.! Sa.d \"M10 5a1 1 0 0 1 1 1v3h3a1 1 0 1 1 0 2h-3v3a1 1 0 1 1-2 0v-3H6a1 1 0 1 1 0-2h3V6a1 1 0 0 1 1-1Z\"\n",
    "          H.toHtml \"New\"\n",
    "      form\n",
    "    projectsD projects\n",
    "\n",
    "form =\n",
    "  H.form H.! A.class_ \"group relative\" $ do\n",
    "      S.svg S.! Sa.width \"20\" S.! Sa.height \"20\" S.! Sa.fill \"currentColor\" S.! \n",
    "            A.class_ \"absolute left-3 top-1/2 -mt-2.5 text-slate-400 pointer-events-none group-focus-within:text-blue-500\" $\n",
    "        S.path S.! Sa.fillRule \"evenodd\" S.! Sa.clipRule \"evenodd\"\n",
    "            S.! Sa.d \"M8 4a4 4 0 100 8 4 4 0 000-8zM2 8a6 6 0 1110.89 3.476l4.817 4.817a1 1 0 01-1.414 1.414l-4.816-4.816A6 6 0 012 8z\"\n",
    "      H.input H.! A.class_ \"focus:ring-2 focus:ring-blue-500 focus:outline-none appearance-none w-full text-sm leading-6 text-slate-900 placeholder-slate-400 rounded-md py-2 pl-10 ring-1 ring-slate-200 shadow-sm\"\n",
    "        H.! A.type_ \"text\" H.! A.placeholder \"Filter projects...\"\n",
    "\n",
    "-- A components for showing projects\n",
    "projectsD projects =\n",
    "  H.ul H.! A.class_ \"bg-slate-50 p-4 sm:px-8 sm:pt-6 sm:pb-8 lg:p-4 xl:px-8 xl:pt-6 xl:pb-8 grid grid-cols-1 sm:grid-cols-2 lg:grid-cols-1 xl:grid-cols-2 gap-4 text-sm leading-6 dark:bg-slate-900/40 dark:ring-1 dark:ring-white/5\" $\n",
    "    mapM_ aProjectD  projects\n",
    "\n",
    "aProjectD aProj =\n",
    "  H.li H.! A.class_ \"group cursor-pointer rounded-md p-3 bg-white ring-1 ring-slate-200 shadow-sm hover:bg-blue-500 hover:ring-blue-500 hover:shadow-md dark:bg-slate-700 dark:ring-0 dark:highlight-white/10 dark:hover:bg-blue-500 hidden sm:block lg:hidden xl:block\" $\n",
    "    H.a H.! A.href (H.textValue aProj.url) H.! A.class_ \"hover:bg-blue-500 hover:ring-blue-500 hover:shadow-md group rounded-md p-3 bg-white ring-1 ring-slate-200 shadow-sm\" $\n",
    "      H.dl H.! A.class_ \"grid sm:block lg:grid xl:block grid-cols-2 grid-rows-2 items-center\" $ do\n",
    "        H.div $ do\n",
    "          H.dt H.! A.class_ \"sr-only\" $ H.toHtml \"Title\"\n",
    "          H.dd H.! A.class_ \"group-hover:text-white font-semibold text-slate-900\" $ H.toHtml aProj.title\n",
    "        H.div $ do\n",
    "          H.dt H.! A.class_ \"sr-only\" $ H.toHtml \"Category\"\n",
    "          H.dd H.! A.class_ \"group-hover:text-blue-200\" $ H.toHtml aProj.category\n",
    "        H.div H.! A.class_ \"col-start-2 row-start-1 row-end-3 sm:mt-4 lg:mt-0 xl:mt-4\" $ do\n",
    "          H.dt H.! A.class_ \"sr-only\" $ H.toHtml \"Users\"\n",
    "          H.dd H.! A.class_ \"flex justify-end sm:justify-start lg:justify-end xl:justify-start -space-x-1.5\" $\n",
    "            forM_ aProj.users (\\u -> H.img H.! A.src (fullUnsplashUrl u.unsplID) H.! A.alt (H.textValue u.name) H.! A.class_ \"w-6 h-6 rounded-full bg-slate-100 ring-2 ring-white\")\n",
    "  where\n",
    "  fullUnsplashUrl anID =\n",
    "    H.textValue $ \"https://images.unsplash.com/\" <> anID <> \"?auto=format&fit=facearea&facepad=2&w=48&h=48&q=80\"\n",
    "\n",
    "demoPage aReason = \n",
    "  H.html $ do\n",
    "    H.head $ do\n",
    "      H.link H.! A.href \"https://unpkg.com/tailwindcss@^1.0/dist/tailwind.min.css\" H.! A.rel \"stylesheet\"\n",
    "      H.link H.! A.href \"xstatic/css/pack_1.css\" H.! A.rel \"stylesheet\"\n",
    "      H.link H.! A.href \"xstatic/css/pack_2.css\" H.! A.rel \"stylesheet\"\n",
    "    H.body H.! A.class_ \"dark antialiased text-slate-500 dark:text-slate-400 dark:bg-slate-900\" $\n",
    "      H.div H.! A.style \"color: red; background: rgb(115 120 128)\" H.! A.class_ \"lg:col-span-5 xl:col-span-6 flex flex-col\" $\n",
    "        H.div H.! A.class_ \"relative z-10 rounded-xl bg-white shadow-xl ring-1 ring-slate-900/5 overflow-hidden my-auto xl:mt-18 dark:bg-slate-800\" $\n",
    "          H.div H.! A.class_ \"container mx-auto p-4\" $ do\n",
    "            H.h1 H.! A.class_ \"text-2xl font-bold mb-4\" $ H.toHtml aReason\n",
    "            sectionD\n",
    "\n",
    "demoPage \"Just taking a break\""
   ]
  },
  {
   "cell_type": "markdown",
   "id": "6e52b8dc-4595-465a-ba7e-8937fd0716c1",
   "metadata": {},
   "source": [
    "Ok, not as good as the original, but still really cool to get that kind of result directly into Jupyter's cells. Doing some thinking of our own, when looking at the CSS classes in the code, we feel spending time understanding Haskell is more rewarding than spending doing the same on stylesheet rules..."
   ]
  },
  {
   "cell_type": "markdown",
   "id": "a79bba25-efa0-41fe-a7c4-a46aab31562d",
   "metadata": {},
   "source": [
    "Introducing new data structures is a typical task of programming; in Haskell the most basic construct for introducing a new structure, which is also a new type, is `data`.  For example, one would define a new structure to track image size in the following way:"
   ]
  },
  {
   "cell_type": "code",
   "execution_count": 29,
   "id": "2dec912a-ffd8-41ab-b5f7-ae45b21bc906",
   "metadata": {},
   "outputs": [],
   "source": [
    "data ImageSize_1 = ImgSz_1 Int Int"
   ]
  },
  {
   "cell_type": "markdown",
   "id": "c817bb04-3541-4f42-8aa9-33d11b11648e",
   "metadata": {},
   "source": [
    "which means that a value of the new type called `ImageSize` is the assembly of two values of type `Int`, and such a `ImageSize_1` value is identified by the _value constructor_ `ImgSz`."
   ]
  },
  {
   "cell_type": "markdown",
   "id": "55e75c98-96be-46ea-bf65-d9939d9b8e0d",
   "metadata": {},
   "source": [
    "In real life the value construtor is normally the same term as the type name, as\n",
    "\n",
    "    data ImageSize_1 = ImageSize_1 Int Int\n",
    "\n",
    "but that's just a convention and it can be anything that starts with an upper-case letter."
   ]
  },
  {
   "cell_type": "markdown",
   "id": "8a7046cd-4b36-4877-8f1d-97eaeb4b39f9",
   "metadata": {},
   "source": [
    "**Note** that using `data` for types instead of `type` is a bit weird; but unfortunately Haskell designers chose the keyword `type` to do type aliasing."
   ]
  },
  {
   "cell_type": "markdown",
   "id": "9c98e98b-ce9f-4325-8572-884bc2b53068",
   "metadata": {},
   "source": [
    "Now to create a value of type `ImageSize_1`, one would write:"
   ]
  },
  {
   "cell_type": "code",
   "execution_count": 30,
   "id": "af67bbb8-9942-42a0-a89f-b5ef56071a7b",
   "metadata": {},
   "outputs": [],
   "source": [
    "isz_1 = ImgSz_1 200 300"
   ]
  },
  {
   "cell_type": "markdown",
   "id": "a10ede3e-2bb9-462c-be6a-b635df47975c",
   "metadata": {},
   "source": [
    "But that's makes rather uninformative code; it would be nicer to know immediately which of the two number is the width and which is the height. To solve this lack of information, we can use the classic record notation.  It's classic, but up to 2021 it wasn't part of Haskell at all (!!), and it still require the *OverloadedRecordDot* mode to be activated:"
   ]
  },
  {
   "cell_type": "code",
   "execution_count": 31,
   "id": "6e3b454e-4310-4973-850f-fb1b25c7ff39",
   "metadata": {},
   "outputs": [],
   "source": [
    ":set -XOverloadedRecordDot\n",
    "\n",
    "data ImageSize_2 = ImgSz_2 { width :: Int, height :: Int }"
   ]
  },
  {
   "cell_type": "markdown",
   "id": "76e1a5a5-ea51-46c0-89b5-adf77ab3241d",
   "metadata": {},
   "source": [
    "And then to create a value of type `ImageSize_2` with more explicit information, one would write:"
   ]
  },
  {
   "cell_type": "code",
   "execution_count": 32,
   "id": "4c4af9bd-8496-4c2a-b85c-a9808efc7b83",
   "metadata": {},
   "outputs": [],
   "source": [
    "isz_2 = ImgSz_2 { width = 200, height = 300 }"
   ]
  },
  {
   "cell_type": "markdown",
   "id": "925c4d81-10c0-4fa8-b287-f28785f14409",
   "metadata": {},
   "source": [
    "With the record notation, recoving components values of the type is standard code:"
   ]
  },
  {
   "cell_type": "code",
   "execution_count": 33,
   "id": "c58ea935-adf1-4703-a93d-fd67972f7281",
   "metadata": {},
   "outputs": [
    {
     "data": {
      "text/plain": [
       "\"No problemo\""
      ]
     },
     "metadata": {},
     "output_type": "display_data"
    }
   ],
   "source": [
    "if isz_2.width < 200 || isz_2.height > 500 then \"Out of bound\" else \"No problemo\""
   ]
  },
  {
   "cell_type": "markdown",
   "id": "a2e0da33-3d35-4b96-ad30-40facb02bf82",
   "metadata": {},
   "source": [
    "We may be old school (Prolog anyone?) and want to use the ImageSize_1 type definition to inspect its content.  We can use pattern matching to do so:"
   ]
  },
  {
   "cell_type": "code",
   "execution_count": 34,
   "id": "01cff019-464d-46cd-8f38-61e17d2f6ef2",
   "metadata": {},
   "outputs": [
    {
     "data": {
      "text/plain": [
       "\"All good\""
      ]
     },
     "metadata": {},
     "output_type": "display_data"
    }
   ],
   "source": [
    "ImgSz_1 width height = isz_1\n",
    "if width < 200 || height > 500 then \"Kaboom\" else \"All good\""
   ]
  },
  {
   "cell_type": "markdown",
   "id": "fde327d4-33de-43b8-b73f-729ce48cd972",
   "metadata": {},
   "source": [
    "What happened just now is that the `ImgSz_1 <v1> <v2>` is a pattern that will match a value of type `ImageSize_1`.  When there's binding between such a pattern and a value, the `<v1>` and `<v2>` terms are also bound to the internal components of the value.\n",
    "\n",
    "While it's old school, it turns out to be an elegant way to write code.  It used to be a big thing for writing expert systems in Prolog, and in Haskell it is a popular way to write conditional code that turns out to be very readable, as we'll see with more complex type definitions."
   ]
  },
  {
   "cell_type": "markdown",
   "id": "dbecf5a7-be45-41a9-b6ef-276b3bc97fde",
   "metadata": {},
   "source": [
    "While we are here, the notation for modifying values from a record structure is:"
   ]
  },
  {
   "cell_type": "code",
   "execution_count": 35,
   "id": "55b55b1b-ab5b-442d-9d39-9b20719908cb",
   "metadata": {},
   "outputs": [
    {
     "ename": "",
     "evalue": "",
     "output_type": "error",
     "traceback": [
      "<interactive>:1:17: error:\n    • ‘height’ is not a record selector\n    • In the expression: isz_2 {height = 500}\n      In an equation for ‘isz_3’: isz_3 = isz_2 {height = 500}"
     ]
    }
   ],
   "source": [
    "isz_3 = isz_2 { height = 500 }\n",
    "\"Width: \" <> show isz_3.width <> \", height: \" <> show isz_3.height"
   ]
  },
  {
   "cell_type": "markdown",
   "id": "5b86e616-d1d1-4e5b-a67c-f73de45871d1",
   "metadata": {},
   "source": [
    "The result of that line of code is a new `ImageSize_2` value with the same `height` as `isz_2` but with a `width` of 500.  As Haskell enforces immutability, `isz_2.width = 500` isn't allowed."
   ]
  },
  {
   "cell_type": "markdown",
   "id": "16cff1a6-806b-46ef-b75a-c780da2a15e8",
   "metadata": {},
   "source": [
    "In the academia the kind of type we have defined with `ImageSize_<x>` is called a multiplicative type; normal people will simply call it a record, or class, or *struct*. It comes from the idea that it spans all possible values of each component, or again, the total amount of values is the multiplication of each quantity of values for each component in the type."
   ]
  },
  {
   "cell_type": "markdown",
   "id": "715a65f3-ae50-40cf-8d1f-e11dedd5e240",
   "metadata": {},
   "source": [
    "By contrast, a summative type presents a serie of alternatives for its definition, and thus the total amount of values for the type is the sum of total values for each alternative definitions.  That's known as an *union* in C, *enum* in Rust, etc.\n",
    "\n",
    "Creating a summative type in Haskell is done by putting a list of type definitions, seperated by `|` symbol (the alternative, *or*):"
   ]
  },
  {
   "cell_type": "code",
   "execution_count": 36,
   "id": "f3c83ad6-9839-4dad-8141-cab0efd87bea",
   "metadata": {},
   "outputs": [],
   "source": [
    "data Sizing =\n",
    "  Image ImageSize_2            -- expressing the size for an image based on previous definition\n",
    "  | Video Int Int Int Double   -- expressing the size based on some video concepts\n",
    "  | Unknown String             -- being able to express some other wild size parameters."
   ]
  },
  {
   "cell_type": "markdown",
   "id": "36be399e-c8f7-4d45-8855-dfb886f30eb9",
   "metadata": {},
   "source": [
    "Then we can create some values of type Sizing by writing:"
   ]
  },
  {
   "cell_type": "code",
   "execution_count": 37,
   "id": "6a46cd59-9315-4cba-9587-53163d7ff0b0",
   "metadata": {},
   "outputs": [],
   "source": [
    "-- Sizing for an image:\n",
    "imgSz = Image isz_2\n",
    "-- Sizing for a video:\n",
    "vidSz = Video 1920 1080 32 29.9\n",
    "-- Sizing somethign we don't know about:\n",
    "unkSz = Unknown \"1,2,3 and 4,5,6, and let's say big, big\""
   ]
  },
  {
   "cell_type": "markdown",
   "id": "0ebe687c-1710-4724-81be-e42409bda118",
   "metadata": {},
   "source": [
    "At that point, let's revisit the `case` construct and see how it's typically used:"
   ]
  },
  {
   "cell_type": "code",
   "execution_count": 38,
   "id": "6a8aff25-8fcf-417c-ab1d-e4a4dacbd57e",
   "metadata": {},
   "outputs": [
    {
     "data": {
      "text/plain": [
       "\"width: 1920, height: 1080\""
      ]
     },
     "metadata": {},
     "output_type": "display_data"
    }
   ],
   "source": [
    "someSize = vidSz\n",
    "\n",
    "case someSize of\n",
    "  Image imgSize -> \"width: \" <> show imgSize.width <> \", height: \" <> show imgSize.height\n",
    "  Video w h _ _ -> \"width: \" <> show w <> \", height: \" <> show h\n",
    "  Unknown _ -> \"Who knows!\""
   ]
  },
  {
   "cell_type": "markdown",
   "id": "93f92d65-d051-49b4-be78-77516255dd10",
   "metadata": {},
   "source": [
    "This shows how pattern matching and summative types makes for readable code (but not necessarely clever or useful code...)."
   ]
  },
  {
   "cell_type": "markdown",
   "id": "d0d05fb1-baa1-462c-9b7b-a9d7a97bd83e",
   "metadata": {},
   "source": [
    "Similarly, pattern matching and function defininition can provide a clearer way of writing code. In the following example function `f1` is defined using pattern matching, and the compiler will be clever enough to assemble all the definitions and get the right one to be selected at runtime."
   ]
  },
  {
   "cell_type": "code",
   "execution_count": 39,
   "id": "e31ff61c-8e51-4f36-b966-48259e404a33",
   "metadata": {},
   "outputs": [
    {
     "data": {
      "text/html": [
       "<style>/* Styles used for the Hoogle display in the pager */\n",
       ".hoogle-doc {\n",
       "display: block;\n",
       "padding-bottom: 1.3em;\n",
       "padding-left: 0.4em;\n",
       "}\n",
       ".hoogle-code {\n",
       "display: block;\n",
       "font-family: monospace;\n",
       "white-space: pre;\n",
       "}\n",
       ".hoogle-text {\n",
       "display: block;\n",
       "}\n",
       ".hoogle-name {\n",
       "color: green;\n",
       "font-weight: bold;\n",
       "}\n",
       ".hoogle-head {\n",
       "font-weight: bold;\n",
       "}\n",
       ".hoogle-sub {\n",
       "display: block;\n",
       "margin-left: 0.4em;\n",
       "}\n",
       ".hoogle-package {\n",
       "font-weight: bold;\n",
       "font-style: italic;\n",
       "}\n",
       ".hoogle-module {\n",
       "font-weight: bold;\n",
       "}\n",
       ".hoogle-class {\n",
       "font-weight: bold;\n",
       "}\n",
       "\n",
       ".get-type {\n",
       "color: green;\n",
       "font-weight: bold;\n",
       "font-family: monospace;\n",
       "display: block;\n",
       "white-space: pre-wrap;\n",
       "}\n",
       ".show-type {\n",
       "color: green;\n",
       "font-weight: bold;\n",
       "font-family: monospace;\n",
       "margin-left: 1em;\n",
       "}\n",
       ".mono {\n",
       "font-family: monospace;\n",
       "display: block;\n",
       "}\n",
       ".err-msg {\n",
       "color: red;\n",
       "font-style: italic;\n",
       "font-family: monospace;\n",
       "white-space: pre;\n",
       "display: block;\n",
       "}\n",
       "#unshowable {\n",
       "color: red;\n",
       "font-weight: bold;\n",
       "}\n",
       ".err-msg.in.collapse {\n",
       "padding-top: 0.7em;\n",
       "}\n",
       "\n",
       ".highlight-code {\n",
       "white-space: pre;\n",
       "font-family: monospace;\n",
       "}\n",
       "\n",
       ".suggestion-warning { \n",
       "font-weight: bold;\n",
       "color: rgb(200, 130, 0);\n",
       "}\n",
       ".suggestion-error { \n",
       "font-weight: bold;\n",
       "color: red;\n",
       "}\n",
       ".suggestion-name {\n",
       "font-weight: bold;\n",
       "}\n",
       "\n",
       "</style><b>\n",
       "    VIDEO\n",
       "</b>\n",
       "<ul>\n",
       "    <li>\n",
       "        width: 1920\n",
       "    </li>\n",
       "    <li>\n",
       "        height: 1080\n",
       "    </li>\n",
       "</ul>\n"
      ],
      "text/plain": [
       "<b>\n",
       "    VIDEO\n",
       "</b>\n",
       "<ul>\n",
       "    <li>\n",
       "        width: 1920\n",
       "    </li>\n",
       "    <li>\n",
       "        height: 1080\n",
       "    </li>\n",
       "</ul>"
      ]
     },
     "metadata": {},
     "output_type": "display_data"
    }
   ],
   "source": [
    "-- create a synonym of the string conversion combined function for more readable code later on:\n",
    "useString = H.toMarkup . T.pack\n",
    "\n",
    "-- define a function that works with Image values:\n",
    "f1 (Image imgSize) = do\n",
    "    H.b \"IMAGE\"\n",
    "    H.ul $ do\n",
    "      H.li $ useString $ \"width: \" <> show imgSize.width\n",
    "      H.li $ useString $ \"height: \" <> show imgSize.height\n",
    "\n",
    "-- define a function that works with Video values:\n",
    "f1 (Video w h _ _) = do\n",
    "    H.b \"VIDEO\"\n",
    "    H.ul $ do\n",
    "      H.li $ useString $ \"width: \" <> show w\n",
    "      H.li $ useString $ \"height: \" <> show h\n",
    "\n",
    "-- define a function that works with Unknown values:\n",
    "f1 (Unknown _) = H.b \"Who knows!\"\n",
    "\n",
    "-- apply the f1 function to a value of type Sizing:\n",
    "f1 vidSz"
   ]
  },
  {
   "cell_type": "markdown",
   "id": "2d193c85-7347-4544-a39f-ae05fc652343",
   "metadata": {},
   "source": [
    "Tricky question: why use\n",
    "\n",
    "    H.li $ useString $ \"width: \" <> show imgSize.width\n",
    "\n",
    "instead of\n",
    "\n",
    "    H.li useString \"width: \" <> show imgSize.width\n",
    "\n",
    "The Haskell language does parameter application left-to-right, so in the second case it uses `useString` as the parameter for `H.li`, and then try to apply the resulf of that to `\"width: \"`, and so on.  So to get the desired result, first we have to combine everything after `H.li` into a single value by inserting a `$`, then combine everything after the useString into a single value by inserting another `$`.  For the rest of the line, we have an infix function (`<>`) that takes 2 arguments, which are `\"width: \"` and `show imgSize.width`, so at that point we're good as they're both `String` values.\n"
   ]
  },
  {
   "cell_type": "markdown",
   "id": "4bcff8d5-a9bb-4b84-8209-6cd0c47ce323",
   "metadata": {},
   "source": [
    "We have so far covered a lot of ground, but we still have managed to stay away from a very important type in programming language: the list!  Haskell being a functional language, the list concept is very important as it's the basis for iteration, which other languages implement as the *for-loop* or *do-while* statements.\n",
    "\n",
    "The very first thing about a list in Haskell is that it's written as array in most other languages:"
   ]
  },
  {
   "cell_type": "code",
   "execution_count": 40,
   "id": "d0c652c1-6df4-4b99-ab39-ac42a06ccc53",
   "metadata": {},
   "outputs": [],
   "source": [
    "aList = [ 1, 2, 3, 4, 5 ]"
   ]
  },
  {
   "cell_type": "markdown",
   "id": "64e75513-02d3-4c1e-8f75-18c2ca4d0b39",
   "metadata": {},
   "source": [
    "but it's not an array, it's a **list**. Think *Lisp*, ie single linked list...\n",
    "That means there's no index to get elements, instead one has to use the [*car : cdr*](https://en.wikipedia.org/wiki/CAR_and_CDR) technique.\n",
    "The `:` function is used to add a new element to an existing list, as in:"
   ]
  },
  {
   "cell_type": "code",
   "execution_count": 41,
   "id": "a0e5ea9c-e6f5-4672-96c9-a6f69437aa65",
   "metadata": {},
   "outputs": [
    {
     "data": {
      "text/plain": [
       "[6,1,2,3,4,5]"
      ]
     },
     "metadata": {},
     "output_type": "display_data"
    }
   ],
   "source": [
    "6 : aList"
   ]
  },
  {
   "cell_type": "markdown",
   "id": "ec7861b5-ca89-4ed7-b28c-c3a4057773a5",
   "metadata": {},
   "source": [
    "And conversely, pattern matching with `:` is used to extract the first element of a list:"
   ]
  },
  {
   "cell_type": "code",
   "execution_count": 42,
   "id": "61cf796d-66fd-4125-8303-1a2414bc94d8",
   "metadata": {},
   "outputs": [
    {
     "data": {
      "text/plain": [
       "1"
      ]
     },
     "metadata": {},
     "output_type": "display_data"
    }
   ],
   "source": [
    "firstElement : restOfList = aList\n",
    "firstElement"
   ]
  },
  {
   "cell_type": "markdown",
   "id": "d39fa781-1c47-4178-8e6c-a2381e975dba",
   "metadata": {},
   "source": [
    "Adding more entries at the end of a list is a concatenation, and as seen before that's done with the `<>` function.  The `String` type is actually just a synonym for the `[Char]` type, ie the basic string is a list of `Char` values (full Unicode supported)."
   ]
  },
  {
   "cell_type": "code",
   "execution_count": 43,
   "id": "a3e3a55b-5a31-44db-b0d5-7ba3becc5181",
   "metadata": {},
   "outputs": [
    {
     "data": {
      "text/plain": [
       "[1,2,3,4,5,6]"
      ]
     },
     "metadata": {},
     "output_type": "display_data"
    },
    {
     "data": {
      "text/plain": [
       "\"allo byebye\""
      ]
     },
     "metadata": {},
     "output_type": "display_data"
    }
   ],
   "source": [
    "aList <> [ 6 ]\n",
    "\"allo\" <> \" byebye\""
   ]
  },
  {
   "cell_type": "markdown",
   "id": "b6604f24-b321-49df-b41e-8f04481706f2",
   "metadata": {},
   "source": [
    "Developers that don't have a formal computer science will find it weird to use lists for all kind of iterative and recursive flow control, but (hopefully) those with the formal background will remember that they used that approach in all kind of algorithms instead of the lowly index scans."
   ]
  },
  {
   "cell_type": "markdown",
   "id": "cb7781a2-dcae-4e08-b642-fca2e7c7f9dc",
   "metadata": {},
   "source": [
    "The typical iterations and recursions on list are done with either the `map` and `fold` family of functions, or using `case` construct with pattern matching on the *car : cdr* values.  For example:"
   ]
  },
  {
   "cell_type": "code",
   "execution_count": 44,
   "id": "4f5ac326-bbb8-491e-ad46-1dd0cfb68382",
   "metadata": {},
   "outputs": [
    {
     "data": {
      "text/html": [
       "<style>/* Styles used for the Hoogle display in the pager */\n",
       ".hoogle-doc {\n",
       "display: block;\n",
       "padding-bottom: 1.3em;\n",
       "padding-left: 0.4em;\n",
       "}\n",
       ".hoogle-code {\n",
       "display: block;\n",
       "font-family: monospace;\n",
       "white-space: pre;\n",
       "}\n",
       ".hoogle-text {\n",
       "display: block;\n",
       "}\n",
       ".hoogle-name {\n",
       "color: green;\n",
       "font-weight: bold;\n",
       "}\n",
       ".hoogle-head {\n",
       "font-weight: bold;\n",
       "}\n",
       ".hoogle-sub {\n",
       "display: block;\n",
       "margin-left: 0.4em;\n",
       "}\n",
       ".hoogle-package {\n",
       "font-weight: bold;\n",
       "font-style: italic;\n",
       "}\n",
       ".hoogle-module {\n",
       "font-weight: bold;\n",
       "}\n",
       ".hoogle-class {\n",
       "font-weight: bold;\n",
       "}\n",
       "\n",
       ".get-type {\n",
       "color: green;\n",
       "font-weight: bold;\n",
       "font-family: monospace;\n",
       "display: block;\n",
       "white-space: pre-wrap;\n",
       "}\n",
       ".show-type {\n",
       "color: green;\n",
       "font-weight: bold;\n",
       "font-family: monospace;\n",
       "margin-left: 1em;\n",
       "}\n",
       ".mono {\n",
       "font-family: monospace;\n",
       "display: block;\n",
       "}\n",
       ".err-msg {\n",
       "color: red;\n",
       "font-style: italic;\n",
       "font-family: monospace;\n",
       "white-space: pre;\n",
       "display: block;\n",
       "}\n",
       "#unshowable {\n",
       "color: red;\n",
       "font-weight: bold;\n",
       "}\n",
       ".err-msg.in.collapse {\n",
       "padding-top: 0.7em;\n",
       "}\n",
       "\n",
       ".highlight-code {\n",
       "white-space: pre;\n",
       "font-family: monospace;\n",
       "}\n",
       "\n",
       ".suggestion-warning { \n",
       "font-weight: bold;\n",
       "color: rgb(200, 130, 0);\n",
       "}\n",
       ".suggestion-error { \n",
       "font-weight: bold;\n",
       "color: red;\n",
       "}\n",
       ".suggestion-name {\n",
       "font-weight: bold;\n",
       "}\n",
       "\n",
       "</style><b>\n",
       "    1\n",
       "</b>\n"
      ],
      "text/plain": [
       "<b>\n",
       "    1\n",
       "</b>"
      ]
     },
     "metadata": {},
     "output_type": "display_data"
    },
    {
     "data": {
      "text/html": [
       "<style>/* Styles used for the Hoogle display in the pager */\n",
       ".hoogle-doc {\n",
       "display: block;\n",
       "padding-bottom: 1.3em;\n",
       "padding-left: 0.4em;\n",
       "}\n",
       ".hoogle-code {\n",
       "display: block;\n",
       "font-family: monospace;\n",
       "white-space: pre;\n",
       "}\n",
       ".hoogle-text {\n",
       "display: block;\n",
       "}\n",
       ".hoogle-name {\n",
       "color: green;\n",
       "font-weight: bold;\n",
       "}\n",
       ".hoogle-head {\n",
       "font-weight: bold;\n",
       "}\n",
       ".hoogle-sub {\n",
       "display: block;\n",
       "margin-left: 0.4em;\n",
       "}\n",
       ".hoogle-package {\n",
       "font-weight: bold;\n",
       "font-style: italic;\n",
       "}\n",
       ".hoogle-module {\n",
       "font-weight: bold;\n",
       "}\n",
       ".hoogle-class {\n",
       "font-weight: bold;\n",
       "}\n",
       "\n",
       ".get-type {\n",
       "color: green;\n",
       "font-weight: bold;\n",
       "font-family: monospace;\n",
       "display: block;\n",
       "white-space: pre-wrap;\n",
       "}\n",
       ".show-type {\n",
       "color: green;\n",
       "font-weight: bold;\n",
       "font-family: monospace;\n",
       "margin-left: 1em;\n",
       "}\n",
       ".mono {\n",
       "font-family: monospace;\n",
       "display: block;\n",
       "}\n",
       ".err-msg {\n",
       "color: red;\n",
       "font-style: italic;\n",
       "font-family: monospace;\n",
       "white-space: pre;\n",
       "display: block;\n",
       "}\n",
       "#unshowable {\n",
       "color: red;\n",
       "font-weight: bold;\n",
       "}\n",
       ".err-msg.in.collapse {\n",
       "padding-top: 0.7em;\n",
       "}\n",
       "\n",
       ".highlight-code {\n",
       "white-space: pre;\n",
       "font-family: monospace;\n",
       "}\n",
       "\n",
       ".suggestion-warning { \n",
       "font-weight: bold;\n",
       "color: rgb(200, 130, 0);\n",
       "}\n",
       ".suggestion-error { \n",
       "font-weight: bold;\n",
       "color: red;\n",
       "}\n",
       ".suggestion-name {\n",
       "font-weight: bold;\n",
       "}\n",
       "\n",
       "</style><b>\n",
       "    2\n",
       "</b>\n"
      ],
      "text/plain": [
       "<b>\n",
       "    2\n",
       "</b>"
      ]
     },
     "metadata": {},
     "output_type": "display_data"
    },
    {
     "data": {
      "text/html": [
       "<style>/* Styles used for the Hoogle display in the pager */\n",
       ".hoogle-doc {\n",
       "display: block;\n",
       "padding-bottom: 1.3em;\n",
       "padding-left: 0.4em;\n",
       "}\n",
       ".hoogle-code {\n",
       "display: block;\n",
       "font-family: monospace;\n",
       "white-space: pre;\n",
       "}\n",
       ".hoogle-text {\n",
       "display: block;\n",
       "}\n",
       ".hoogle-name {\n",
       "color: green;\n",
       "font-weight: bold;\n",
       "}\n",
       ".hoogle-head {\n",
       "font-weight: bold;\n",
       "}\n",
       ".hoogle-sub {\n",
       "display: block;\n",
       "margin-left: 0.4em;\n",
       "}\n",
       ".hoogle-package {\n",
       "font-weight: bold;\n",
       "font-style: italic;\n",
       "}\n",
       ".hoogle-module {\n",
       "font-weight: bold;\n",
       "}\n",
       ".hoogle-class {\n",
       "font-weight: bold;\n",
       "}\n",
       "\n",
       ".get-type {\n",
       "color: green;\n",
       "font-weight: bold;\n",
       "font-family: monospace;\n",
       "display: block;\n",
       "white-space: pre-wrap;\n",
       "}\n",
       ".show-type {\n",
       "color: green;\n",
       "font-weight: bold;\n",
       "font-family: monospace;\n",
       "margin-left: 1em;\n",
       "}\n",
       ".mono {\n",
       "font-family: monospace;\n",
       "display: block;\n",
       "}\n",
       ".err-msg {\n",
       "color: red;\n",
       "font-style: italic;\n",
       "font-family: monospace;\n",
       "white-space: pre;\n",
       "display: block;\n",
       "}\n",
       "#unshowable {\n",
       "color: red;\n",
       "font-weight: bold;\n",
       "}\n",
       ".err-msg.in.collapse {\n",
       "padding-top: 0.7em;\n",
       "}\n",
       "\n",
       ".highlight-code {\n",
       "white-space: pre;\n",
       "font-family: monospace;\n",
       "}\n",
       "\n",
       ".suggestion-warning { \n",
       "font-weight: bold;\n",
       "color: rgb(200, 130, 0);\n",
       "}\n",
       ".suggestion-error { \n",
       "font-weight: bold;\n",
       "color: red;\n",
       "}\n",
       ".suggestion-name {\n",
       "font-weight: bold;\n",
       "}\n",
       "\n",
       "</style><b>\n",
       "    3\n",
       "</b>\n"
      ],
      "text/plain": [
       "<b>\n",
       "    3\n",
       "</b>"
      ]
     },
     "metadata": {},
     "output_type": "display_data"
    },
    {
     "data": {
      "text/html": [
       "<style>/* Styles used for the Hoogle display in the pager */\n",
       ".hoogle-doc {\n",
       "display: block;\n",
       "padding-bottom: 1.3em;\n",
       "padding-left: 0.4em;\n",
       "}\n",
       ".hoogle-code {\n",
       "display: block;\n",
       "font-family: monospace;\n",
       "white-space: pre;\n",
       "}\n",
       ".hoogle-text {\n",
       "display: block;\n",
       "}\n",
       ".hoogle-name {\n",
       "color: green;\n",
       "font-weight: bold;\n",
       "}\n",
       ".hoogle-head {\n",
       "font-weight: bold;\n",
       "}\n",
       ".hoogle-sub {\n",
       "display: block;\n",
       "margin-left: 0.4em;\n",
       "}\n",
       ".hoogle-package {\n",
       "font-weight: bold;\n",
       "font-style: italic;\n",
       "}\n",
       ".hoogle-module {\n",
       "font-weight: bold;\n",
       "}\n",
       ".hoogle-class {\n",
       "font-weight: bold;\n",
       "}\n",
       "\n",
       ".get-type {\n",
       "color: green;\n",
       "font-weight: bold;\n",
       "font-family: monospace;\n",
       "display: block;\n",
       "white-space: pre-wrap;\n",
       "}\n",
       ".show-type {\n",
       "color: green;\n",
       "font-weight: bold;\n",
       "font-family: monospace;\n",
       "margin-left: 1em;\n",
       "}\n",
       ".mono {\n",
       "font-family: monospace;\n",
       "display: block;\n",
       "}\n",
       ".err-msg {\n",
       "color: red;\n",
       "font-style: italic;\n",
       "font-family: monospace;\n",
       "white-space: pre;\n",
       "display: block;\n",
       "}\n",
       "#unshowable {\n",
       "color: red;\n",
       "font-weight: bold;\n",
       "}\n",
       ".err-msg.in.collapse {\n",
       "padding-top: 0.7em;\n",
       "}\n",
       "\n",
       ".highlight-code {\n",
       "white-space: pre;\n",
       "font-family: monospace;\n",
       "}\n",
       "\n",
       ".suggestion-warning { \n",
       "font-weight: bold;\n",
       "color: rgb(200, 130, 0);\n",
       "}\n",
       ".suggestion-error { \n",
       "font-weight: bold;\n",
       "color: red;\n",
       "}\n",
       ".suggestion-name {\n",
       "font-weight: bold;\n",
       "}\n",
       "\n",
       "</style><b>\n",
       "    4\n",
       "</b>\n"
      ],
      "text/plain": [
       "<b>\n",
       "    4\n",
       "</b>"
      ]
     },
     "metadata": {},
     "output_type": "display_data"
    },
    {
     "data": {
      "text/html": [
       "<style>/* Styles used for the Hoogle display in the pager */\n",
       ".hoogle-doc {\n",
       "display: block;\n",
       "padding-bottom: 1.3em;\n",
       "padding-left: 0.4em;\n",
       "}\n",
       ".hoogle-code {\n",
       "display: block;\n",
       "font-family: monospace;\n",
       "white-space: pre;\n",
       "}\n",
       ".hoogle-text {\n",
       "display: block;\n",
       "}\n",
       ".hoogle-name {\n",
       "color: green;\n",
       "font-weight: bold;\n",
       "}\n",
       ".hoogle-head {\n",
       "font-weight: bold;\n",
       "}\n",
       ".hoogle-sub {\n",
       "display: block;\n",
       "margin-left: 0.4em;\n",
       "}\n",
       ".hoogle-package {\n",
       "font-weight: bold;\n",
       "font-style: italic;\n",
       "}\n",
       ".hoogle-module {\n",
       "font-weight: bold;\n",
       "}\n",
       ".hoogle-class {\n",
       "font-weight: bold;\n",
       "}\n",
       "\n",
       ".get-type {\n",
       "color: green;\n",
       "font-weight: bold;\n",
       "font-family: monospace;\n",
       "display: block;\n",
       "white-space: pre-wrap;\n",
       "}\n",
       ".show-type {\n",
       "color: green;\n",
       "font-weight: bold;\n",
       "font-family: monospace;\n",
       "margin-left: 1em;\n",
       "}\n",
       ".mono {\n",
       "font-family: monospace;\n",
       "display: block;\n",
       "}\n",
       ".err-msg {\n",
       "color: red;\n",
       "font-style: italic;\n",
       "font-family: monospace;\n",
       "white-space: pre;\n",
       "display: block;\n",
       "}\n",
       "#unshowable {\n",
       "color: red;\n",
       "font-weight: bold;\n",
       "}\n",
       ".err-msg.in.collapse {\n",
       "padding-top: 0.7em;\n",
       "}\n",
       "\n",
       ".highlight-code {\n",
       "white-space: pre;\n",
       "font-family: monospace;\n",
       "}\n",
       "\n",
       ".suggestion-warning { \n",
       "font-weight: bold;\n",
       "color: rgb(200, 130, 0);\n",
       "}\n",
       ".suggestion-error { \n",
       "font-weight: bold;\n",
       "color: red;\n",
       "}\n",
       ".suggestion-name {\n",
       "font-weight: bold;\n",
       "}\n",
       "\n",
       "</style><b>\n",
       "    5\n",
       "</b>\n"
      ],
      "text/plain": [
       "<b>\n",
       "    5\n",
       "</b>"
      ]
     },
     "metadata": {},
     "output_type": "display_data"
    },
    {
     "data": {
      "text/plain": [
       "240"
      ]
     },
     "metadata": {},
     "output_type": "display_data"
    },
    {
     "data": {
      "text/html": [
       "<style>/* Styles used for the Hoogle display in the pager */\n",
       ".hoogle-doc {\n",
       "display: block;\n",
       "padding-bottom: 1.3em;\n",
       "padding-left: 0.4em;\n",
       "}\n",
       ".hoogle-code {\n",
       "display: block;\n",
       "font-family: monospace;\n",
       "white-space: pre;\n",
       "}\n",
       ".hoogle-text {\n",
       "display: block;\n",
       "}\n",
       ".hoogle-name {\n",
       "color: green;\n",
       "font-weight: bold;\n",
       "}\n",
       ".hoogle-head {\n",
       "font-weight: bold;\n",
       "}\n",
       ".hoogle-sub {\n",
       "display: block;\n",
       "margin-left: 0.4em;\n",
       "}\n",
       ".hoogle-package {\n",
       "font-weight: bold;\n",
       "font-style: italic;\n",
       "}\n",
       ".hoogle-module {\n",
       "font-weight: bold;\n",
       "}\n",
       ".hoogle-class {\n",
       "font-weight: bold;\n",
       "}\n",
       "\n",
       ".get-type {\n",
       "color: green;\n",
       "font-weight: bold;\n",
       "font-family: monospace;\n",
       "display: block;\n",
       "white-space: pre-wrap;\n",
       "}\n",
       ".show-type {\n",
       "color: green;\n",
       "font-weight: bold;\n",
       "font-family: monospace;\n",
       "margin-left: 1em;\n",
       "}\n",
       ".mono {\n",
       "font-family: monospace;\n",
       "display: block;\n",
       "}\n",
       ".err-msg {\n",
       "color: red;\n",
       "font-style: italic;\n",
       "font-family: monospace;\n",
       "white-space: pre;\n",
       "display: block;\n",
       "}\n",
       "#unshowable {\n",
       "color: red;\n",
       "font-weight: bold;\n",
       "}\n",
       ".err-msg.in.collapse {\n",
       "padding-top: 0.7em;\n",
       "}\n",
       "\n",
       ".highlight-code {\n",
       "white-space: pre;\n",
       "font-family: monospace;\n",
       "}\n",
       "\n",
       ".suggestion-warning { \n",
       "font-weight: bold;\n",
       "color: rgb(200, 130, 0);\n",
       "}\n",
       ".suggestion-error { \n",
       "font-weight: bold;\n",
       "color: red;\n",
       "}\n",
       ".suggestion-name {\n",
       "font-weight: bold;\n",
       "}\n",
       "\n",
       "</style><ul>\n",
       "    <li>\n",
       "        1\n",
       "    </li>\n",
       "    <li>\n",
       "        2\n",
       "    </li>\n",
       "    <li>\n",
       "        3\n",
       "    </li>\n",
       "    <li>\n",
       "        4\n",
       "    </li>\n",
       "    <li>\n",
       "        5\n",
       "    </li>\n",
       "</ul>\n"
      ],
      "text/plain": [
       "<ul>\n",
       "    <li>\n",
       "        1\n",
       "    </li>\n",
       "    <li>\n",
       "        2\n",
       "    </li>\n",
       "    <li>\n",
       "        3\n",
       "    </li>\n",
       "    <li>\n",
       "        4\n",
       "    </li>\n",
       "    <li>\n",
       "        5\n",
       "    </li>\n",
       "</ul>"
      ]
     },
     "metadata": {},
     "output_type": "display_data"
    },
    {
     "data": {
      "text/html": [
       "<style>/* Styles used for the Hoogle display in the pager */\n",
       ".hoogle-doc {\n",
       "display: block;\n",
       "padding-bottom: 1.3em;\n",
       "padding-left: 0.4em;\n",
       "}\n",
       ".hoogle-code {\n",
       "display: block;\n",
       "font-family: monospace;\n",
       "white-space: pre;\n",
       "}\n",
       ".hoogle-text {\n",
       "display: block;\n",
       "}\n",
       ".hoogle-name {\n",
       "color: green;\n",
       "font-weight: bold;\n",
       "}\n",
       ".hoogle-head {\n",
       "font-weight: bold;\n",
       "}\n",
       ".hoogle-sub {\n",
       "display: block;\n",
       "margin-left: 0.4em;\n",
       "}\n",
       ".hoogle-package {\n",
       "font-weight: bold;\n",
       "font-style: italic;\n",
       "}\n",
       ".hoogle-module {\n",
       "font-weight: bold;\n",
       "}\n",
       ".hoogle-class {\n",
       "font-weight: bold;\n",
       "}\n",
       "\n",
       ".get-type {\n",
       "color: green;\n",
       "font-weight: bold;\n",
       "font-family: monospace;\n",
       "display: block;\n",
       "white-space: pre-wrap;\n",
       "}\n",
       ".show-type {\n",
       "color: green;\n",
       "font-weight: bold;\n",
       "font-family: monospace;\n",
       "margin-left: 1em;\n",
       "}\n",
       ".mono {\n",
       "font-family: monospace;\n",
       "display: block;\n",
       "}\n",
       ".err-msg {\n",
       "color: red;\n",
       "font-style: italic;\n",
       "font-family: monospace;\n",
       "white-space: pre;\n",
       "display: block;\n",
       "}\n",
       "#unshowable {\n",
       "color: red;\n",
       "font-weight: bold;\n",
       "}\n",
       ".err-msg.in.collapse {\n",
       "padding-top: 0.7em;\n",
       "}\n",
       "\n",
       ".highlight-code {\n",
       "white-space: pre;\n",
       "font-family: monospace;\n",
       "}\n",
       "\n",
       ".suggestion-warning { \n",
       "font-weight: bold;\n",
       "color: rgb(200, 130, 0);\n",
       "}\n",
       ".suggestion-error { \n",
       "font-weight: bold;\n",
       "color: red;\n",
       "}\n",
       ".suggestion-name {\n",
       "font-weight: bold;\n",
       "}\n",
       "\n",
       "</style><b>\n",
       "    -- 0 --\n",
       "</b>\n"
      ],
      "text/plain": [
       "<b>\n",
       "    -- 0 --\n",
       "</b>"
      ]
     },
     "metadata": {},
     "output_type": "display_data"
    }
   ],
   "source": [
    "Prelude.map (H.b . useString . show) aList      -- apply a function to each element of aList\n",
    "\n",
    "Prelude.foldl (*) 2 aList   -- multiply recursively each value of the list and double that.\n",
    "\n",
    "showOff inList = H.ul $ fRecur inList\n",
    "\n",
    "-- Call itself recursively, but operate as an iterator over a list of values.\n",
    "fRecur inList =\n",
    "  case inList of\n",
    "    [] -> H.b \"-- 0 --\"        -- Edge case, the list is empty.\n",
    "    [car] -> itemize car       -- The list is a single element.\n",
    "    car : cdr -> itemize car <> fRecur cdr       -- There are more than 1 element in the list, call itself to iterate over all elements.\n",
    "  where\n",
    "    itemize = H.li . useString . show\n",
    "\n",
    "showOff aList\n",
    "\n",
    "fRecur []"
   ]
  },
  {
   "cell_type": "markdown",
   "id": "421e19cb-2f1e-4d8b-b9af-2a4e93b88a8c",
   "metadata": {},
   "source": [
    "This example introduces the `where` construct, which is kind of a mirror of the `let` construct as it lets us provide a set of definitions **after** the main logic rather than before.  There's no impact of code execution sequencing in comparison to `let`, it's just a convenience for writing a set of expressions after the fact instead of before.\n",
    "Also instead of adding a variable definition, we have a here function definition.  At the end of the day, variables are just functions with 0 argument, so defining functions or variables is exactly the same thing, both in the `let` and `where` syntax."
   ]
  },
  {
   "cell_type": "markdown",
   "id": "5bc6c945-0bab-4dee-86ca-7378384510af",
   "metadata": {},
   "source": [
    "Ok so we've covered a very important part of functional concepts, the list and the iteration and recursion build on it.\n",
    "\n",
    "And except where we explicitely wanted to talk about typing, still no typing to bother with! <span>&#128512;</span>"
   ]
  },
  {
   "cell_type": "markdown",
   "id": "fb0bb199-e620-4638-b4fc-392c696ba395",
   "metadata": {},
   "source": [
    "<h2>Fetching web data</h2>\n",
    "Moving on to more complex computing and Haskell concepts.\n",
    "First, we'll look at HTTP requests, the basic communication protocol of the web.\n",
    "\n",
    "I'll use a simple REST api provider, the USA's [Car Vehicle API](https://vpic.nhtsa.dot.gov/api/), to fetch information about vehicles used in the USA.  The API will return JSON data, which will be upgraded to Haskell data structures automagically by logic from the [Aeson](https://hackage.haskell.org/package/aeson) package.\n",
    "\n",
    "The basic HTTP tool of Haskell, the [Network.HTTP.Client](https://hackage.haskell.org/package/http-client-0.7.14/docs/Network-HTTP-Client.html) package, does the job easily.\n",
    "\n",
    "Also to illustrate a point about monadic stuff, we'll put the logic in a toy function."
   ]
  },
  {
   "cell_type": "code",
   "execution_count": 45,
   "id": "80645a12-756b-448e-8d6d-932f4872ba46",
   "metadata": {},
   "outputs": [
    {
     "data": {
      "text/plain": []
     },
     "metadata": {},
     "output_type": "display_data"
    }
   ],
   "source": [
    "import qualified Network.HTTP.Client as N\n",
    "import qualified Network.HTTP.Client.TLS as N\n",
    "\n",
    "vehicleFetch query =\n",
    "  let\n",
    "    url = \"GET https://vpic.nhtsa.dot.gov/api/vehicles/\" <> query\n",
    "    request = N.setQueryString [(\"format\", Just \"json\")] $ N.parseRequest_ url\n",
    "    settings = N.tlsManagerSettings\n",
    "  in do\n",
    "    reqMgr <- N.newManager settings\n",
    "    N.httpLbs request reqMgr\n",
    " \n",
    "response <- vehicleFetch \"getallmakes\""
   ]
  },
  {
   "cell_type": "markdown",
   "id": "1a3e9fd3-59e0-4cea-b1bd-99230efdd6ba",
   "metadata": {},
   "source": [
    "The function is split in two parts using a `let` construct.  In the first one, the `url`, `req` and `settings` values are specified.\n",
    "In the second part the HTTP fetch happens. Fetching data on the web is far from being a _pure_, always repeatable operation. In Haskell that means computations will be wrapped in one of those famous monads, the `IO`. There is no indication of the `IO` type being used in the code as it is all deduced by the compiler. But the two _impure_ computations need to be performed in a strict order, and that's why the `do` keyword shows up in the `in` part of the the `let` construct.\n",
    "Once results are generated within the `IO` monad, we'll want to get them back to the _pure_ world, which is done by using the `<-` (left-pointing arrow) symbol instead of `=` to extract the values from the `IO` _impure_ *box* to _pure_ world.\n",
    "The first _impure_ operation is the definition of a HTTP communication manager; it is a minor overhead due to using this low-level library that exposes the connection layer.\n",
    "The next operation is the actual fetching of data, done by the `httpLbs` function.  This being the last value encountered in the `vehicleFetch` function, it also become the result it will return. That means that `vehicleFetch` returns _impure_ values embedded in the `IO` monad.\n",
    "\n",
    "If we were to specify typing for that function, it would gain:\n",
    "\n",
    "    vehicleFetch :: String -> IO (N.Response Data.ByteString)\n",
    "\n",
    "meaning that the function takes a `String` parameter, and returns a `ByteString`-based (yet another string implementation!) HTTP `Response` wrapped in the `IO` type.\n",
    "\n",
    "But why bother?\n",
    "\n",
    "Finally to get the data received from the web after invoking the `vehicleFetch` out of the `IO` *box* and back in the _pure_ world, the `<-` symbol is used again.\n",
    "If the Internet is working properly, the `response` value is a 200 HTTP reply with a body full of JSON data.\n",
    "First, we'll take a peek at the status and first 150 characters of the body, just to have an idea of what's inside."
   ]
  },
  {
   "cell_type": "code",
   "execution_count": 46,
   "id": "5aaad563-86d0-4cff-a6d7-0e9a4f551a52",
   "metadata": {},
   "outputs": [
    {
     "data": {
      "text/plain": [
       "\"status: Status {statusCode = 200, statusMessage = \\\"OK\\\"}, body: {\\\"Count\\\":11088,\\\"Message\\\":\\\"Response returned successfully\\\",\\\"SearchCriteria\\\":null,\\\"Results\\\":[{\\\"Make_ID\\\":4877,\\\"Make_Name\\\":\\\"1\\\\/OFF KUSTOMS, LLC\\\"},{\\\"Make_I\""
      ]
     },
     "metadata": {},
     "output_type": "display_data"
    }
   ],
   "source": [
    "import qualified Data.ByteString.Lazy as LBS\n",
    "import qualified Data.Text.Lazy.Encoding as TL\n",
    "import qualified Data.Text.Lazy as TL\n",
    "\n",
    "print $ \"status: \" <> show response.responseStatus <> \", body: \" <> (Prelude.take 150 . TL.unpack . TL.decodeUtf8 $ response.responseBody)"
   ]
  },
  {
   "cell_type": "markdown",
   "id": "64adbb79-9471-426c-9416-f11d964a5749",
   "metadata": {},
   "source": [
    "That last `print` call should show you a 200 status code, and then a body where you can see the beginning of a long JSON payload, with the backslashes escaping quotes in this strings-in-a-string value.\n",
    "That little peek operation turns out to be a typical example of the string conversion work that is frequent in Haskell. Due to the many approaches to encoding string data (for scanning, for compactness, for high-speed string manupilations, etc), there's often string transmutation operations to do. Simple but annoying... the precision at which you can control string management gets the better part of the annoyment and you quickly get used to it. In this case, 3 typical packages are imported and then the `unpack` and `decodeUtf8` functions get the job done."
   ]
  },
  {
   "cell_type": "markdown",
   "id": "95acc6df-94b0-4cee-84f6-4cc2aff19bcd",
   "metadata": {},
   "source": [
    "Assuming the HTTP response is a 200, then we can move to upgrading the JSON string to Haskell data structures.\n",
    "\n",
    "<h2>Using JSON (and meta-programming)</h2>\n",
    "\n",
    "Converting from/to JSON and Haskell values is typically done *automagically*, but it's really worth looking at how it happens, as it is an introduction to Haskell meta-programming.\n",
    "\n",
    "The `GHC.Generics` core Haskell package together with the `DeriveGeneric` and `DeriveAnyClass` modes are the basic setup to manipulate code with code during compilation.\n",
    "While in some modern compilers, such as **Go**, it is possible to transform a JSON string into a `struct` and vice-versa, the mechanics of that are hidden within the compiler itself and some special libraries.  In Haskell, these mechanisms are meta-programming code that can extend or modify at will existing code.  It is a blessing for automatizing the generation of boiler-plate code and doing all kind of further code generation from a few lines provided by the developer.\n",
    "\n",
    "In this case, the very popular JSON package [Aeson](https://hackage.haskell.org/package/aeson) has logic to introspect a type (data structure) and then generate automatically at compile-time the logic to parse JSON strings into a value of that given type, and conversily to generate a JSON representation of from value of that type.\n",
    "\n",
    "For example:"
   ]
  },
  {
   "cell_type": "code",
   "execution_count": 47,
   "id": "11a25973-b4f6-436e-84a5-7304b4d9f05c",
   "metadata": {},
   "outputs": [],
   "source": [
    "{-# LANGUAGE DeriveGeneric #-}\n",
    "{-# LANGUAGE DeriveAnyClass #-}\n",
    "\n",
    "import GHC.Generics\n",
    "import qualified Data.Aeson as J\n",
    "\n",
    "data SimpleThing = ST {\n",
    "    aField :: String\n",
    "    , anotherField :: Int\n",
    "  }\n",
    "  deriving (Show, Generic, J.FromJSON, J.ToJSON)"
   ]
  },
  {
   "cell_type": "markdown",
   "id": "fa58cf1b-3b41-405f-8b62-4c6d9d12d4c9",
   "metadata": {},
   "source": [
    "The `SimpleThing` type is a simple container for a `String` and an `Int`. The interesting part is the `deriving` keyword that follows.\n",
    "That instruts the Haskell compiler to generate all the required code to convert a value into a string reprsentation (`Show`), to create a introspective representation of the type (`Generic`), and finally to create conversion logic to go back and forth between a value of `SimpleThing` and its JSON representation (`FromJSON`, `ToJSON`).\n",
    "None of that generated code shows up, but the compiler will remember it's there and will use it whenever required.\n",
    "\n",
    "Now let's create a value of `SimpleThing` type, then print it and both encode it to and decode it from the JSON representation, a very standard operation in web applications today."
   ]
  },
  {
   "cell_type": "code",
   "execution_count": 48,
   "id": "ba2767ec-5fb4-42ba-a65b-a7ef7e3ee606",
   "metadata": {},
   "outputs": [
    {
     "data": {
      "text/plain": [
       "ST {aField = \"first value\", anotherField = 100}"
      ]
     },
     "metadata": {},
     "output_type": "display_data"
    },
    {
     "data": {
      "text/plain": [
       "\"{\\\"aField\\\":\\\"first value\\\",\\\"anotherField\\\":100}\""
      ]
     },
     "metadata": {},
     "output_type": "display_data"
    },
    {
     "data": {
      "text/plain": [
       "\"Just (ST {aField = \\\"first value\\\", anotherField = 100})\""
      ]
     },
     "metadata": {},
     "output_type": "display_data"
    }
   ],
   "source": [
    "simpleThing = ST { aField = \"first value\", anotherField = 100 }\n",
    "\n",
    "-- Use the Show code to convert the value to a string.\n",
    "print simpleThing\n",
    "\n",
    "-- Use the ToJSON code to get a JSON string out of the value.\n",
    "J.encode simpleThing\n",
    "\n",
    "-- Parse the JSON string to get a SimpleThing value.\n",
    "simpleJson = \"{\\\"aField\\\":\\\"first value\\\",\\\"anotherField\\\":100}\"\n",
    "show (J.decode simpleJson :: Maybe SimpleThing)"
   ]
  },
  {
   "cell_type": "markdown",
   "id": "daed3b5d-50e9-4f4b-b4da-93ffc21d39e9",
   "metadata": {},
   "source": [
    "The `encode` function is simply going to apply the custom-made conversion logic for a `SimpleThing` value, which results in a JSON string as we'd expect.\n",
    "\n",
    "Then the `decode simpleJson` function is asked to be of type `Maybe SimpleThing`.  That instructs the compiler to apply the custom-made conversion logic in the execution of the `decode` to do the JSON string parsing.\n",
    "The `Maybe` type container is Haskell way of managing optional results, similarly to the `?` symbol in **Rust** or **TypeScript**, which does away with the `null` issues of so many other languages.  It is an additive type, which uses two constructors: `Nothing` and `Just <a value>`. So when a function can either emit a result or return a void, we'll define it as a `Maybe <some type>` function.\n",
    "\n",
    "In this example the `decode` function does work and thus returns a `Just SimpleThing` value, which is then shown as a string.\n",
    "\n",
    "The way *Aeson* meta-programming logic is available for extension/modification is especially important. Unfortunately you'll have to discover that on your own later on as we need to keep moving, although we'll do use a bit of that to massage the data we've received."
   ]
  },
  {
   "cell_type": "markdown",
   "id": "a955e48b-7742-4c3e-8864-f414903c2357",
   "metadata": {},
   "source": [
    "Going back to the `vehicleFetch` example, we can now build the `ResponseVehicle` and `CarDescription` structures (types) to hold the data returned in JSON format.\n",
    "\n",
    "In real life use of 3rd party APIs, it's not always neat and simple to parse the JSON fields.  In the case of the *Vehicle API*, the top-level JSON objects fields start with an uppercase letter, and then the individual car description object has a 'Make_' prefix for its fields that's redundant.  On the other side, Haskell fields in a record must start with a lowercase letter, and we don't want to have to carry the 'make_' prefix in our code.\n",
    "\n",
    "To deal with that, we'll inject a few modifications to the default meta-programming logic that deals with the conversion of JSON representations, using the `instance` keyword instead of the `deriving` one for creating the FromJSON code.  And yes, `instance` means *instance of a class* as Haskell as a *class* concept, which isn't object-oriented but means that types can be grouped to use common base logic which can be extended as required for meta-programming purposes.  It's yet another very interesting aspect of Haskell!\n",
    "\n",
    "Here's the code to represent the vehicle info in Haskell as a `ResponseVehicle` and `CarDescription` types, and parse the respective JSON representations:"
   ]
  },
  {
   "cell_type": "code",
   "execution_count": 49,
   "id": "4fe257de-17f2-4c48-9007-5cc65c9ac549",
   "metadata": {},
   "outputs": [],
   "source": [
    "import qualified Data.Char as C\n",
    "\n",
    "-- Specify the structures for holding the API overall reply and each car specification.\n",
    "data ResponseVehicle = ResponseVehicle {\n",
    "    count :: Int\n",
    "    , message :: String\n",
    "    , searchCriteria :: Maybe String\n",
    "    , results :: [ CarDescription ]\n",
    "  }\n",
    "  deriving (Show, Generic)\n",
    "\n",
    "data CarDescription = CarDescription {\n",
    "    uid :: Int\n",
    "    , name :: T.Text\n",
    "  }\n",
    "  deriving (Show, Generic)\n",
    "\n",
    "\n",
    "-- Extend the JSON-conversion logic of Aeson with specific logic for the Vehicle API format:\n",
    "instance J.FromJSON CarDescription where\n",
    "  parseJSON (J.Object obj) = CarDescription <$> obj J..: \"Make_ID\" <*> obj J..: \"Make_Name\"\n",
    "\n",
    "instance J.FromJSON ResponseVehicle where\n",
    "    parseJSON = J.genericParseJSON J.defaultOptions { J.fieldLabelModifier = firstUpper }\n",
    "\n",
    "-- Define a 'make first letter upper-case' helper:\n",
    "firstUpper (c:cs) = C.toUpper c : cs\n",
    "firstUpper [] = []"
   ]
  },
  {
   "cell_type": "markdown",
   "id": "e54f7abf-1a52-4beb-be58-6ca0f1bb449e",
   "metadata": {},
   "source": [
    "The *Aeson* package provides the basic meta-programming for conversion from JSON to a Haskell value in the `parseJSON` function. In the code above, the `instance J.FromJSON CarDescription where` is telling the compiler that we'll add to the existing meta-programming logic of *Aeson*'s `FromJSON` class of logic (thus the use of *instance*, but it's not related to object-oriented programming). Then we provide a definition for `parseJSON` that builds a `CarDescription` value from the `Make_ID` and `Make_Name` fields in the JSON."
   ]
  },
  {
   "cell_type": "markdown",
   "id": "56692e6c-8cfa-4248-bbe8-a35091019ad0",
   "metadata": {},
   "source": [
    "The somewhat cryptic `<$>` and `<*>` symbols are simply helper functions that traverse the *boxes* the JSON values are stored in by *Aeson* logic.  They are worth looking into a bit more.\n",
    "\n",
    "A simple example of using these helpers for doing math with values that are within the `Maybe` container is:"
   ]
  },
  {
   "cell_type": "code",
   "execution_count": 50,
   "id": "46e4759d-a5f4-4ff9-b7dd-3cded02edcf9",
   "metadata": {},
   "outputs": [
    {
     "data": {
      "text/plain": [
       "Just 7"
      ]
     },
     "metadata": {},
     "output_type": "display_data"
    }
   ],
   "source": [
    "(+) <$> Just 2 <*> Just 5"
   ]
  },
  {
   "cell_type": "markdown",
   "id": "2bfe996b-8242-424f-ada7-237a64763c4b",
   "metadata": {},
   "source": [
    "The `<$>` and `<*>` have pushed the addition to the integers that are within a `Just` *box*, and then the result is packaged back into the same kind of box, ie a `Just`.  The neat thing is that those helpers follow the rules of the container, so in the case of:"
   ]
  },
  {
   "cell_type": "code",
   "execution_count": 51,
   "id": "cdb75691-4981-4322-8a6f-c7350d0ceb9a",
   "metadata": {},
   "outputs": [
    {
     "data": {
      "text/plain": [
       "Nothing"
      ]
     },
     "metadata": {},
     "output_type": "display_data"
    }
   ],
   "source": [
    "(+) <$> Just 4 <*> Nothing"
   ]
  },
  {
   "cell_type": "markdown",
   "id": "2dccda22-80d7-4bbb-8f65-c4194d8b56a6",
   "metadata": {},
   "source": [
    "The addition doesn't crash because there's no value to add the 4 with and instead the result is `Nothing`, which makes a lot of sense.  That's because the rules of the `Maybe` type are enforced, something the addition function knows nothing about."
   ]
  },
  {
   "cell_type": "markdown",
   "id": "597f1e7a-1027-4240-a8f2-da68f5f0efab",
   "metadata": {},
   "source": [
    "The weird `J..:` syntax is *Aeson*'s field value extractor function `.:` prefixed the package `J.`.  As noted earlier on, functions are everywhere and there are a just a few syntax rules in Haskell, so exotic function names such as `.:`, or `!` for Blaze, abound. And the decision to use of package prefix everywhere in this notebooks is biting us a bit now.\n",
    "\n",
    "Going back to the `parseJSON` function extended for the `ResponseVehicle` type, the variation applied takes a completely different form. Instead of providing new extraction logic, the configuration parameters of *Aeson*'s built-in `genericParseJSON` function are modified: the `fieldLabelModifier` of the `defaultOptions` value is updated with a function that maps the first character of each field name to an uppercase value. That's it."
   ]
  },
  {
   "cell_type": "markdown",
   "id": "3c584434-6dfd-4af7-9ac0-d6d07d09dbea",
   "metadata": {},
   "source": [
    "Getting the JSON data returned by the Vehicle API converted into proper Haskell values then becomes a simple `J.decode` call; the on-the-fly generated logic takes care of field mapping, sub-objects resolution, array parsing, etc. Further more, if you were to look at the generated code (it's possible to ask the compiler to spit it out), you'd see it is fast and efficient because it's fine-tuned for each kind of JSON conversion required. For example we used the `Text` type for the `name` field in the `CarDescription`, which is a more efficient string implementation than `String`, and thus the generated JSON parsing logic for that perticular kind of string will also be used in the `CarDescription` JSON translation logic.\n",
    "\n",
    "In the next block of code, we bring back Blaze to get HTML beautification around the JSON to Haskell value conversion to show how we typically deal with `Maybe` situations, and how simple it is to preview values of complex types."
   ]
  },
  {
   "cell_type": "code",
   "execution_count": 52,
   "id": "992d2f8e-1781-4a66-a5a3-9b11a071bd8b",
   "metadata": {},
   "outputs": [
    {
     "data": {
      "text/html": [
       "<style>/* Styles used for the Hoogle display in the pager */\n",
       ".hoogle-doc {\n",
       "display: block;\n",
       "padding-bottom: 1.3em;\n",
       "padding-left: 0.4em;\n",
       "}\n",
       ".hoogle-code {\n",
       "display: block;\n",
       "font-family: monospace;\n",
       "white-space: pre;\n",
       "}\n",
       ".hoogle-text {\n",
       "display: block;\n",
       "}\n",
       ".hoogle-name {\n",
       "color: green;\n",
       "font-weight: bold;\n",
       "}\n",
       ".hoogle-head {\n",
       "font-weight: bold;\n",
       "}\n",
       ".hoogle-sub {\n",
       "display: block;\n",
       "margin-left: 0.4em;\n",
       "}\n",
       ".hoogle-package {\n",
       "font-weight: bold;\n",
       "font-style: italic;\n",
       "}\n",
       ".hoogle-module {\n",
       "font-weight: bold;\n",
       "}\n",
       ".hoogle-class {\n",
       "font-weight: bold;\n",
       "}\n",
       "\n",
       ".get-type {\n",
       "color: green;\n",
       "font-weight: bold;\n",
       "font-family: monospace;\n",
       "display: block;\n",
       "white-space: pre-wrap;\n",
       "}\n",
       ".show-type {\n",
       "color: green;\n",
       "font-weight: bold;\n",
       "font-family: monospace;\n",
       "margin-left: 1em;\n",
       "}\n",
       ".mono {\n",
       "font-family: monospace;\n",
       "display: block;\n",
       "}\n",
       ".err-msg {\n",
       "color: red;\n",
       "font-style: italic;\n",
       "font-family: monospace;\n",
       "white-space: pre;\n",
       "display: block;\n",
       "}\n",
       "#unshowable {\n",
       "color: red;\n",
       "font-weight: bold;\n",
       "}\n",
       ".err-msg.in.collapse {\n",
       "padding-top: 0.7em;\n",
       "}\n",
       "\n",
       ".highlight-code {\n",
       "white-space: pre;\n",
       "font-family: monospace;\n",
       "}\n",
       "\n",
       ".suggestion-warning { \n",
       "font-weight: bold;\n",
       "color: rgb(200, 130, 0);\n",
       "}\n",
       ".suggestion-error { \n",
       "font-weight: bold;\n",
       "color: red;\n",
       "}\n",
       ".suggestion-name {\n",
       "font-weight: bold;\n",
       "}\n",
       "\n",
       "</style><div>\n",
       "    <b>\n",
       "        Got 11088 descriptions, the first few ones are:\n",
       "    </b>\n",
       "    <br>\n",
       "    <ul>\n",
       "        <li>\n",
       "            <b>\n",
       "                1/OFF KUSTOMS, LLC\n",
       "            </b>\n",
       "            <i>\n",
       "                 (id: 4877)\n",
       "            </i>\n",
       "        </li>\n",
       "        <li>\n",
       "            <b>\n",
       "                102 IRONWORKS, INC.\n",
       "            </b>\n",
       "            <i>\n",
       "                 (id: 11257)\n",
       "            </i>\n",
       "        </li>\n",
       "        <li>\n",
       "            <b>\n",
       "                12832429 CANADA INC.\n",
       "            </b>\n",
       "            <i>\n",
       "                 (id: 12255)\n",
       "            </i>\n",
       "        </li>\n",
       "        <li>\n",
       "            <b>\n",
       "                17 CREEK ENTERPRISES\n",
       "            </b>\n",
       "            <i>\n",
       "                 (id: 6387)\n",
       "            </i>\n",
       "        </li>\n",
       "        <li>\n",
       "            <b>\n",
       "                1M CUSTOM CAR TRANSPORTS, INC.\n",
       "            </b>\n",
       "            <i>\n",
       "                 (id: 9172)\n",
       "            </i>\n",
       "        </li>\n",
       "    </ul>\n",
       "</div>\n"
      ],
      "text/plain": [
       "<div>\n",
       "    <b>\n",
       "        Got 11088 descriptions, the first few ones are:\n",
       "    </b>\n",
       "    <br>\n",
       "    <ul>\n",
       "        <li>\n",
       "            <b>\n",
       "                1/OFF KUSTOMS, LLC\n",
       "            </b>\n",
       "            <i>\n",
       "                 (id: 4877)\n",
       "            </i>\n",
       "        </li>\n",
       "        <li>\n",
       "            <b>\n",
       "                102 IRONWORKS, INC.\n",
       "            </b>\n",
       "            <i>\n",
       "                 (id: 11257)\n",
       "            </i>\n",
       "        </li>\n",
       "        <li>\n",
       "            <b>\n",
       "                12832429 CANADA INC.\n",
       "            </b>\n",
       "            <i>\n",
       "                 (id: 12255)\n",
       "            </i>\n",
       "        </li>\n",
       "        <li>\n",
       "            <b>\n",
       "                17 CREEK ENTERPRISES\n",
       "            </b>\n",
       "            <i>\n",
       "                 (id: 6387)\n",
       "            </i>\n",
       "        </li>\n",
       "        <li>\n",
       "            <b>\n",
       "                1M CUSTOM CAR TRANSPORTS, INC.\n",
       "            </b>\n",
       "            <i>\n",
       "                 (id: 9172)\n",
       "            </i>\n",
       "        </li>\n",
       "    </ul>\n",
       "</div>"
      ]
     },
     "metadata": {},
     "output_type": "display_data"
    }
   ],
   "source": [
    "showCar aDescription = do\n",
    "  H.b . useString . T.unpack $ aDescription.name\n",
    "  H.i . useString $ \" (id: \" <> show aDescription.uid <> \")\"\n",
    "\n",
    "mbApiResponse = J.decode response.responseBody :: Maybe ResponseVehicle\n",
    "\n",
    "H.div $ case mbApiResponse of\n",
    "  Nothing -> H.b \"No result.\"\n",
    "  Just result ->\n",
    "    let\n",
    "      count = result.count\n",
    "    in\n",
    "      if Prelude.length result.results == 0\n",
    "        then H.b \"Nothing???\"\n",
    "        else do\n",
    "          H.b . useString $ \"Got \" <> show count <> \" descriptions, the first few ones are:\"\n",
    "          H.br\n",
    "          H.ul $ mapM_ (H.li . showCar) (Prelude.take 5 result.results)\n"
   ]
  },
  {
   "cell_type": "markdown",
   "id": "843d9c9b-45ce-4d74-b55a-69780f0c8fc7",
   "metadata": {},
   "source": [
    "You should be able to read that code easily. The only new item is the `mapM_` function, which is a monadic iterator that doesn't return a result. You may wonder how the `li` elements are linked to the parent `ul` given the `mapM_` doesn't return anything (well, you should...).  That's an example of how the monadic types represent a context that can be modified. In this case, you can think of the ongoing invocation of Blaze functions as the ongoing building up of a context. That context is a virtual DOM that gets incrementally loaded with HTML elements.\n",
    "Getting Monads is incredibly useful, but unfortunately it is not simple. You'll have to do some decent learning to go through the basics.  But you should, the concept is very powerful and will give you a much better understanding of computing in general."
   ]
  },
  {
   "cell_type": "markdown",
   "id": "c859e178-414f-43ca-802a-bbc477844e16",
   "metadata": {},
   "source": [
    "But right now instead of digging into monads, we'll look into a very typical web app feature: the HTML template.\n",
    "\n",
    "<h2>Using HTML templates (Jinja2)</h2>\n",
    "\n",
    "In the Haskell ecosysteme, the Ginger package is the go-to for using Jinja2 templates.\n",
    "\n",
    "In the following example, the `DotValue` structure will represent our app-specific information. Ginger logic is extended with meta-programming to `DotValue` for use in the template runtime context.  Then a text file is loaded (it's the template!), it is parsed and finally the Ginger VM runs the template with the data context to generate some HTML.\n",
    "\n",
    "The first test template is using **Tailwind CSS** to add styling to the Jupyter notebook bland look, and it's also using the D3.js library for implementing data visualization. That has nothing to do with Haskell but just using *markdown* gets boring after a while."
   ]
  },
  {
   "cell_type": "markdown",
   "id": "e606982f-1316-4b8e-8634-ad18c5c8af91",
   "metadata": {},
   "source": [
    "First we've buit the `DotValue` type, which will hold 2 terminal values, the string and circle, and two container values, the list and the dictionary.  You can see here the common functional habit of using self-referencing definitions:"
   ]
  },
  {
   "cell_type": "code",
   "execution_count": 53,
   "id": "b2343132-41c2-4b60-b079-7535833889c2",
   "metadata": {},
   "outputs": [],
   "source": [
    "import Control.Monad.Identity (runIdentity)\n",
    "import qualified Data.Map as Mp\n",
    "import qualified Text.Ginger as Gi\n",
    "import qualified Text.Ginger.Html as Gi\n",
    "\n",
    "data DotValue =\n",
    "  StrV T.Text\n",
    "  | DictV (Mp.Map T.Text DotValue)\n",
    "  | ListV [ DotValue ]\n",
    "  | CircleV Int Int Int String  -- quick and dirty way to provide x,y pos, radius and color."
   ]
  },
  {
   "cell_type": "markdown",
   "id": "d273a514-5961-4c8a-9890-a62cf51a4ca8",
   "metadata": {},
   "source": [
    "Then we provide the logic for transforming a `DotValue` value into a *Ginger*'s `GVal` one.  For the first 3 of the 4 kind of values, it's a simple remap already within Ginger default converter. The `CircleV` conversion is not handled by the default converter: it's a matter of mapping each of the record's fields into a named value, which is how the **Javascript** code in the template will know how to pass along the right data to the D3.js functions for getting **SVG** diagrams."
   ]
  },
  {
   "cell_type": "code",
   "execution_count": 54,
   "id": "f9167f6c-c881-4e6d-ab30-dfcef724f3db",
   "metadata": {},
   "outputs": [],
   "source": [
    "-- Enable the use of the \"\\case\" shortcut (f x = case x of ... => f = \\case ...):\n",
    "{-# LANGUAGE LambdaCase #-}\n",
    "\n",
    "instance Gi.ToGVal m DotValue where\n",
    "  toGVal = \\case\n",
    "    StrV aString -> Gi.toGVal aString\n",
    "    DictV aMap -> Gi.toGVal aMap\n",
    "    ListV aList -> Gi.toGVal aList\n",
    "    CircleV cX cY radius color -> Gi.toGVal $\n",
    "            Mp.fromList [\n",
    "              (\"cx\", show cX)  :: (T.Text, String)\n",
    "              , (\"cy\", show cY)\n",
    "              , (\"radius\", show radius)\n",
    "              , (\"color\", color)\n",
    "            ]"
   ]
  },
  {
   "cell_type": "markdown",
   "id": "8c03f158-24fa-4558-8e2c-7d4bdad9bcd3",
   "metadata": {},
   "source": [
    "In this example we use a common Haskell structure, the tuple `(<value>, <value>)`.  Tuples are standard in most modern languages, and I expect they work just like you think they should.\n",
    "The `Map` dictionary is initialized from a list of pairs (2-tuples); we giving typing information for the first element, and that is enough to get all the rest of the typing figured out."
   ]
  },
  {
   "cell_type": "markdown",
   "id": "ce1185e9-c05f-4e8f-8db4-162b8a22e7ae",
   "metadata": {},
   "source": [
    "Then we build some mock data and store it all in the `demoData_1` term.  Note that although we're dealing with complex typing possibilities, the compiler is still able to figure out what is what and we have no typing details for any function to provide.\n",
    "\n",
    "Also let's recycle the data from the Vehicle API if there's some available."
   ]
  },
  {
   "cell_type": "code",
   "execution_count": 55,
   "id": "bcc86940-d4a4-497f-81e3-1f9add9058a4",
   "metadata": {},
   "outputs": [],
   "source": [
    "demoNavList = case mbApiResponse of\n",
    "  Nothing ->\n",
    "    let\n",
    "      nav_1 = Mp.fromList [\n",
    "         (\"url\", StrV \"https://gaga.com/url_1\")\n",
    "       , (\"label\", StrV \"Gaga\")\n",
    "       ]\n",
    "      nav_2 = Mp.fromList [\n",
    "          (\"url\", StrV \"https://gougou.com/url_1\")\n",
    "       , (\"label\", StrV \"Gougou\")\n",
    "       ]\n",
    "    in \n",
    "    ListV [ DictV nav_1, DictV nav_2 ]\n",
    "  Just apiResponse ->\n",
    "    let\n",
    "      subList = Prelude.take 5 apiResponse.results\n",
    "    in\n",
    "      ListV $ Prelude.map carDescToTuple subList\n",
    "  where\n",
    "    carDescToTuple cd =\n",
    "        DictV $ Mp.fromList [\n",
    "            (\"url\", StrV . T.pack $ \"http://https://vpic.nhtsa.dot.gov/api/vehicles/getmake?id=\" <> show cd.uid)\n",
    "            , (\"label\", StrV cd.name)\n",
    "        ]\n",
    "\n",
    "circles = [\n",
    "    CircleV 20 90 40 \"green\"  \n",
    "    , CircleV 50 90 45 \"red\"  \n",
    "    , CircleV 85 90 50 \"blue\"  \n",
    "  ]\n",
    "\n",
    "demoData_1 = Mp.fromList [\n",
    "    (\"title\", StrV \"Haskell, Hidden Gem\")\n",
    "    , (\"navigation\", demoNavList)\n",
    "    , (\"circles\", ListV circles)\n",
    "  ]"
   ]
  },
  {
   "cell_type": "markdown",
   "id": "c4366ada-de84-4ace-92e0-9644e46907d9",
   "metadata": {},
   "source": [
    "As usual, no need to bother with type annotations. But it's worth looking under the hood and find out what was inferred for the `demoData_1` by using the `:t` feature of the notebook, as in:"
   ]
  },
  {
   "cell_type": "code",
   "execution_count": 56,
   "id": "274923e1-a726-483a-bbf2-62678f431981",
   "metadata": {},
   "outputs": [
    {
     "data": {
      "text/html": [
       "<style>/* Styles used for the Hoogle display in the pager */\n",
       ".hoogle-doc {\n",
       "display: block;\n",
       "padding-bottom: 1.3em;\n",
       "padding-left: 0.4em;\n",
       "}\n",
       ".hoogle-code {\n",
       "display: block;\n",
       "font-family: monospace;\n",
       "white-space: pre;\n",
       "}\n",
       ".hoogle-text {\n",
       "display: block;\n",
       "}\n",
       ".hoogle-name {\n",
       "color: green;\n",
       "font-weight: bold;\n",
       "}\n",
       ".hoogle-head {\n",
       "font-weight: bold;\n",
       "}\n",
       ".hoogle-sub {\n",
       "display: block;\n",
       "margin-left: 0.4em;\n",
       "}\n",
       ".hoogle-package {\n",
       "font-weight: bold;\n",
       "font-style: italic;\n",
       "}\n",
       ".hoogle-module {\n",
       "font-weight: bold;\n",
       "}\n",
       ".hoogle-class {\n",
       "font-weight: bold;\n",
       "}\n",
       "\n",
       ".get-type {\n",
       "color: green;\n",
       "font-weight: bold;\n",
       "font-family: monospace;\n",
       "display: block;\n",
       "white-space: pre-wrap;\n",
       "}\n",
       ".show-type {\n",
       "color: green;\n",
       "font-weight: bold;\n",
       "font-family: monospace;\n",
       "margin-left: 1em;\n",
       "}\n",
       ".mono {\n",
       "font-family: monospace;\n",
       "display: block;\n",
       "}\n",
       ".err-msg {\n",
       "color: red;\n",
       "font-style: italic;\n",
       "font-family: monospace;\n",
       "white-space: pre;\n",
       "display: block;\n",
       "}\n",
       "#unshowable {\n",
       "color: red;\n",
       "font-weight: bold;\n",
       "}\n",
       ".err-msg.in.collapse {\n",
       "padding-top: 0.7em;\n",
       "}\n",
       "\n",
       ".highlight-code {\n",
       "white-space: pre;\n",
       "font-family: monospace;\n",
       "}\n",
       "\n",
       ".suggestion-warning { \n",
       "font-weight: bold;\n",
       "color: rgb(200, 130, 0);\n",
       "}\n",
       ".suggestion-error { \n",
       "font-weight: bold;\n",
       "color: red;\n",
       "}\n",
       ".suggestion-name {\n",
       "font-weight: bold;\n",
       "}\n",
       "\n",
       "</style><span class='get-type'>demoData_1 :: forall {k}. (Ord k, IsString k) => Map k DotValue</span>"
      ],
      "text/plain": [
       "demoData_1 :: forall {k}. (Ord k, IsString k) => Map k DotValue"
      ]
     },
     "metadata": {},
     "output_type": "display_data"
    }
   ],
   "source": [
    ":t demoData_1"
   ]
  },
  {
   "cell_type": "markdown",
   "id": "63d3d0ee-7524-4cb3-b98a-140c55ace3d8",
   "metadata": {},
   "source": [
    "This means the compiler can infer there's a `Map` of `DotValue` values involved (that's the dictionary and its values). Yet for the keys the only possible inference is on polymorphic constraints (`Ord k` means be ordered, and `IsString k` means must be able to be shown as a string). Even if the inference is only partial, it's enough to move forward. Furter use of that `demoData_1` function will resolve what kind of string variation the keys are.\n",
    "\n",
    "While it may be convenient to let the compiler do all the type management, it is a good habit to lock in some of the types, so a more prudent approach of writing the `demoData` definition would be to specify:\n",
    "\n",
    "    demoData_1 :: Mp.Map T.Text DotValue\n",
    "\n",
    "if we want to make sure that the `Text` implementation of strings is used."
   ]
  },
  {
   "cell_type": "markdown",
   "id": "b1cac00b-82e8-42e2-b599-00cb109ed0c9",
   "metadata": {},
   "source": [
    "The `readFile` function takes care of loading data from a file, nothing special here.  But as this is an *impure* operation, we use the `<-` symbol to extract the result back into the *pure* context.\n",
    "If the file doesn't exist, the `readFile` function will throw an exception (yes, Haskell uses that) and stop the execution of the logic."
   ]
  },
  {
   "cell_type": "code",
   "execution_count": 57,
   "id": "ff66df01-b67f-493d-80d8-2fdd66d7eb42",
   "metadata": {},
   "outputs": [],
   "source": [
    "template_1 <- Prelude.readFile \"xstatic/templates/templ_1.html\""
   ]
  },
  {
   "cell_type": "markdown",
   "id": "3e0a72b5-baeb-42b3-b7fd-e178491993c0",
   "metadata": {},
   "source": [
    "To handle included templates and errors that can occur during the parsing of the text just loaded up, the creation of the executable context is a bit more complex than just calling the `parseGinger' function:"
   ]
  },
  {
   "cell_type": "code",
   "execution_count": 58,
   "id": "add5f898-c97f-4ebf-881b-1db5e40c7918",
   "metadata": {},
   "outputs": [],
   "source": [
    "loadTemplate aTemplate = do\n",
    "  either (error . show) id . runIdentity $\n",
    "    Gi.parseGinger (const $ return Nothing) Nothing aTemplate"
   ]
  },
  {
   "cell_type": "markdown",
   "id": "7a183276-ebd3-4b35-9828-404f683ba9b7",
   "metadata": {},
   "source": [
    "The first parameter of `parseGinger` is a file resolver to handle included templates; it is a function that will receive a path and figure out how to fetch additional content. In our case, we pass a do-nothing function, `const $ return Nothing`.  Note that `return` is not a keyword, but a function that does the opposite of the `<-` extractor used in monadic context: it embeds a *pure* value into the monadic container. In the case of **IO** monad, it makes the `Nothing` become the equivalent of an IO operation that didn't produce anything."
   ]
  },
  {
   "cell_type": "markdown",
   "id": "a5c0865f-684e-4172-8592-22f2dba3bff7",
   "metadata": {},
   "source": [
    "The Ginger VM needs a way to dereference values during the template execution. The `lookup` function does that: it simply gets the variable name as parameter (`needle`) and finds that in the `demoData` dictionary.\n",
    "Then the logic provided in the instance of `ToGVal` for `DotValue` will do the rest of the work in getting the end result into the constructed HTML."
   ]
  },
  {
   "cell_type": "code",
   "execution_count": 59,
   "id": "083e67fa-0d8b-40f8-9a40-ba476d5821e0",
   "metadata": {},
   "outputs": [
    {
     "data": {
      "text/html": [
       "<style>/* Styles used for the Hoogle display in the pager */\n",
       ".hoogle-doc {\n",
       "display: block;\n",
       "padding-bottom: 1.3em;\n",
       "padding-left: 0.4em;\n",
       "}\n",
       ".hoogle-code {\n",
       "display: block;\n",
       "font-family: monospace;\n",
       "white-space: pre;\n",
       "}\n",
       ".hoogle-text {\n",
       "display: block;\n",
       "}\n",
       ".hoogle-name {\n",
       "color: green;\n",
       "font-weight: bold;\n",
       "}\n",
       ".hoogle-head {\n",
       "font-weight: bold;\n",
       "}\n",
       ".hoogle-sub {\n",
       "display: block;\n",
       "margin-left: 0.4em;\n",
       "}\n",
       ".hoogle-package {\n",
       "font-weight: bold;\n",
       "font-style: italic;\n",
       "}\n",
       ".hoogle-module {\n",
       "font-weight: bold;\n",
       "}\n",
       ".hoogle-class {\n",
       "font-weight: bold;\n",
       "}\n",
       "\n",
       ".get-type {\n",
       "color: green;\n",
       "font-weight: bold;\n",
       "font-family: monospace;\n",
       "display: block;\n",
       "white-space: pre-wrap;\n",
       "}\n",
       ".show-type {\n",
       "color: green;\n",
       "font-weight: bold;\n",
       "font-family: monospace;\n",
       "margin-left: 1em;\n",
       "}\n",
       ".mono {\n",
       "font-family: monospace;\n",
       "display: block;\n",
       "}\n",
       ".err-msg {\n",
       "color: red;\n",
       "font-style: italic;\n",
       "font-family: monospace;\n",
       "white-space: pre;\n",
       "display: block;\n",
       "}\n",
       "#unshowable {\n",
       "color: red;\n",
       "font-weight: bold;\n",
       "}\n",
       ".err-msg.in.collapse {\n",
       "padding-top: 0.7em;\n",
       "}\n",
       "\n",
       ".highlight-code {\n",
       "white-space: pre;\n",
       "font-family: monospace;\n",
       "}\n",
       "\n",
       ".suggestion-warning { \n",
       "font-weight: bold;\n",
       "color: rgb(200, 130, 0);\n",
       "}\n",
       ".suggestion-error { \n",
       "font-weight: bold;\n",
       "color: red;\n",
       "}\n",
       ".suggestion-name {\n",
       "font-weight: bold;\n",
       "}\n",
       "\n",
       "</style><!DOCTYPE html>\n",
       "<html>\n",
       "    <head>\n",
       "      <meta charset=\"UTF-8\">\n",
       "      <meta name=\"viewport\" content=\"width=device-width, initial-scale=1.0\">\n",
       "      <link href=\"https://unpkg.com/tailwindcss@^1.0/dist/tailwind.min.css\" rel=\"stylesheet\">\n",
       "      <title>Haskell, Hidden Gem</title>\n",
       "      <script src=\"https://unpkg.com/d3@7.8.5/dist/d3.min.js\" cross-origin=\"anonymous\" type=\"text/javascript\"></script>\n",
       "\n",
       "    </head>\n",
       "    \n",
       "    <body>\n",
       "      <div class=\"container bg-gray-500 mx-auto p-4\">\n",
       "        <h1 class=\"text-2xl text-red-900 font-bold mb-4\">Haskell, Hidden Gem</h1>\n",
       "        <table class=\"min-w-full bg-orange-500 border border-gray-300\">\n",
       "          <thead>\n",
       "            <tr>\n",
       "              <th class=\"px-6 py-3 text-left text-xs font-medium text-gray-100 uppercase tracking-wider border-b\">Name</th>\n",
       "              <th class=\"px-6 py-3 text-left text-xs font-medium text-gray-100 uppercase tracking-wider border-b\">Destination</th>\n",
       "            </tr>\n",
       "          </thead>\n",
       "          <tbody>\n",
       "                          <tr>\n",
       "                <td class=\"text-blue-800\">1/OFF KUSTOMS, LLC</td>\n",
       "                <td class=\"text-green-600\"><a href=\"http://https://vpic.nhtsa.dot.gov/api/vehicles/getmake?id=4877\">1/OFF KUSTOMS, LLC</td>\n",
       "              </tr>\n",
       "                          <tr>\n",
       "                <td class=\"text-blue-800\">102 IRONWORKS, INC.</td>\n",
       "                <td class=\"text-green-600\"><a href=\"http://https://vpic.nhtsa.dot.gov/api/vehicles/getmake?id=11257\">102 IRONWORKS, INC.</td>\n",
       "              </tr>\n",
       "                          <tr>\n",
       "                <td class=\"text-blue-800\">12832429 CANADA INC.</td>\n",
       "                <td class=\"text-green-600\"><a href=\"http://https://vpic.nhtsa.dot.gov/api/vehicles/getmake?id=12255\">12832429 CANADA INC.</td>\n",
       "              </tr>\n",
       "                          <tr>\n",
       "                <td class=\"text-blue-800\">17 CREEK ENTERPRISES</td>\n",
       "                <td class=\"text-green-600\"><a href=\"http://https://vpic.nhtsa.dot.gov/api/vehicles/getmake?id=6387\">17 CREEK ENTERPRISES</td>\n",
       "              </tr>\n",
       "                          <tr>\n",
       "                <td class=\"text-blue-800\">1M CUSTOM CAR TRANSPORTS, INC.</td>\n",
       "                <td class=\"text-green-600\"><a href=\"http://https://vpic.nhtsa.dot.gov/api/vehicles/getmake?id=9172\">1M CUSTOM CAR TRANSPORTS, INC.</td>\n",
       "              </tr>\n",
       "                       </tbody>\n",
       "        </table>\n",
       "        \n",
       "      </div>\n",
       "      <div id=\"d3 demo\" class=\"flex p-5 justify-center\">\n",
       "        <svg id=\"dataviz_area\" height=200 width=450></svg>\n",
       "\n",
       "        <script>\n",
       "          var svg = d3.select(\"#dataviz_area\")\n",
       "          var x = d3.scaleLinear()\n",
       "            .domain([0, 100])         // This is the min and the max of the data: 0 to 100 if percentages\n",
       "            .range([0, 400]);       // This is the corresponding value I want in Pixel\n",
       "\n",
       "          // Show the axis that corresponds to this scale\n",
       "          svg.call(d3.axisBottom(x));\n",
       "\n",
       "                      svg.append(\"circle\").attr(\"cx\", x(20))\n",
       "              .attr(\"cy\", 90).attr(\"r\", 40 )\n",
       "              .style(\"fill\", \"green\");\n",
       "                      svg.append(\"circle\").attr(\"cx\", x(50))\n",
       "              .attr(\"cy\", 90).attr(\"r\", 45 )\n",
       "              .style(\"fill\", \"red\");\n",
       "                      svg.append(\"circle\").attr(\"cx\", x(85))\n",
       "              .attr(\"cy\", 90).attr(\"r\", 50 )\n",
       "              .style(\"fill\", \"blue\");\n",
       "          \n",
       "        </script>\n",
       "\n",
       "      </div>\n",
       "    </body>\n",
       "</html>\n"
      ]
     },
     "metadata": {},
     "output_type": "display_data"
    }
   ],
   "source": [
    "derefLabel needle =\n",
    "  Gi.toGVal $ Mp.lookup needle demoData_1\n",
    "\n",
    "tmplDemo =\n",
    "  Gi.runGinger (Gi.makeContextHtml derefLabel) (loadTemplate template_1)\n",
    "\n",
    "Gi.htmlSource tmplDemo"
   ]
  },
  {
   "cell_type": "markdown",
   "id": "d1daed75-1959-4e81-bcc5-9e01c3f0ac6b",
   "metadata": {},
   "source": [
    "The `htmlSource` function simply converts the internal representation of HTML produced by the `runGinger` function into the one required by the notebook."
   ]
  },
  {
   "cell_type": "markdown",
   "id": "829c1339-e76d-4083-aef1-2c26946e0c0b",
   "metadata": {},
   "source": [
    "At this poing we've covered how to deal with JSON, fetch data from the web, create HTML dom from within Haskell code and using Jinja2 templates.\n",
    "\n",
    "The next typical features a web app developer is working with are database operations and HTTP endpoint servicing. Just before moving forward, have a quick reflection on, if you want to do quick iteration on developing a good looking HTML page, how much simpler it is to use template-based HTML generation vs going through interpreted Blaze logic... You may find templates aren't that useful anymore..."
   ]
  },
  {
   "cell_type": "markdown",
   "id": "fc7d13ae-7197-40df-a13d-fd7ab7033728",
   "metadata": {},
   "source": [
    "<h2>Domain Specific Language and DB access</h2>\n",
    "\n",
    "The Domain Specific Language (DSL) is a very cool feature of Haskell that is somewhat at odds with it.  Haskell is promoting simple syntax, a functional approach and such... and then suddenly with DSL the door opens to pretty much any syntax you can come up with.\n",
    "\n",
    "DSLs syntax are brought in by doing the relevant package import and then using the *QuasiQuotes* blocks to switch between Haskell and a DSL syntax.  This also requires to enable the *QuasiQuotes* mode with:"
   ]
  },
  {
   "cell_type": "code",
   "execution_count": 60,
   "id": "90f61a21-471d-4916-a674-87a28d0f9d4d",
   "metadata": {
    "scrolled": true
   },
   "outputs": [],
   "source": [
    "{-# LANGUAGE QuasiQuotes #-}"
   ]
  },
  {
   "cell_type": "markdown",
   "id": "4c92aa15-9588-43a5-a029-0563f6f2e797",
   "metadata": {},
   "source": [
    "We'll tackle DB access to showcase the benefits of DSLs. No matter how many ORM packages people come up with in their favorite ecosystem, you'll eventually conclude that SQL is the way to go when dealing with manipulations over large datasets. But normally that means you end up writing SQL statements as string constant with a bunch of question marks for parameter holes, invoke some exec functions, map out the results, etc.  It's error prone, it's very error prone, it's incredibly error prone and even awkward.  If only you could write SQL as a first-class citizen in the rest of the logic you can express with your favorite syntax.\n",
    "\n",
    "The solution is *embedded SQL*, ie the ability to use your preferred language and insert SQL statements that will be analyzed, syntax-verified, type-impedence resolved, and that will be executed transparently at runtime.  And you want that in the latest version of the compiling toolchain at your disposition (Pro*C anyone?).\n",
    "\n",
    "This is exactly what we can achieve with a SQL *DSL* in the GHC compiler, which means Haskell instantly becomes your favorite programming language."
   ]
  },
  {
   "cell_type": "markdown",
   "id": "4b4cb582-1d04-4d61-987c-43a68145953d",
   "metadata": {},
   "source": [
    "The [Hasql-th](https://hackage.haskell.org/package/hasql-th) package provides the SQL syntax as a DSL as part of the excellent [Hasql](https://hackage.haskell.org/package/hasql) family of facilities for Postgresql operations. In other words, you get a great embedding of SQL in Haskell code."
   ]
  },
  {
   "cell_type": "markdown",
   "id": "4337955b-ea67-44f5-a03a-4c390ee5a7e1",
   "metadata": {},
   "source": [
    "Rather than doing function calls that pass SQL statements as string, we can instead do SQL queries that are syntax- and type-checked at compile time.  So much for code breaks at runtime because you wrote `slect a from ...` instead of `select a from ...`.\n",
    "\n",
    "To get started, a bunch of packages are brought into the namespace."
   ]
  },
  {
   "cell_type": "code",
   "execution_count": 61,
   "id": "f7487cc8-b757-4b0f-9c4d-db0ab494b56b",
   "metadata": {
    "scrolled": true
   },
   "outputs": [],
   "source": [
    "import Data.ByteString\n",
    "\n",
    "import qualified Hasql.Connection as DbC\n",
    "import qualified Hasql.Session as Se\n",
    "import Hasql.TH as Th\n",
    "\n",
    "-- import GHC.Word (Word16)\n",
    "-- import qualified Data.Time.Clock as Clk\n",
    "import qualified Data.Vector as Vc"
   ]
  },
  {
   "cell_type": "markdown",
   "id": "8efce9b7-a4ca-4ca9-9c16-2a96a86858ea",
   "metadata": {},
   "source": [
    "First, to connect, the proper way to get DB credentials should be to get them from *outside* the notebook, eg from the Jupyter process' environment. If there's a `DBINFO` env var that contains the connection params separated by ':' symbol, it would be a matter of spliting that var value into 4 entries and then use that to define the `dbSettings`:"
   ]
  },
  {
   "cell_type": "code",
   "execution_count": 62,
   "id": "26808fac-d78c-4d03-8cae-de701a5b2623",
   "metadata": {},
   "outputs": [],
   "source": [
    "import qualified System.Environment as SE\n",
    "import qualified Data.Text.Encoding as T\n",
    "\n",
    "dbInfo <- SE.getEnv \"DBINFO\"\n",
    "\n",
    "[ host, db, user, paswd] = Prelude.map T.encodeUtf8 $ T.splitOn \":\" (T.pack dbInfo)"
   ]
  },
  {
   "cell_type": "markdown",
   "id": "6ebc33c8-43e8-450a-ba1e-ab0fb92ebd8f",
   "metadata": {},
   "source": [
    "**Note** that we get the env var values as a `String`, then convert that into a `Text` to use the `splitOn` function (`String` has no such feature) and get an array of values, and finally we convert each value to a `ByteString` with the `encodeUtf8`.  Always fun to do some string conversion gymnastics."
   ]
  },
  {
   "cell_type": "markdown",
   "id": "8b42f169-6233-4ed2-bab4-6221238d50ab",
   "metadata": {},
   "source": [
    "But to make things simpler we use a free-tier demo db from SupaBase, and thus hiding the connection information isn't worth it:"
   ]
  },
  {
   "cell_type": "code",
   "execution_count": 63,
   "id": "eb8c4c30-004d-4dd2-8219-4d7d8f7e34cd",
   "metadata": {},
   "outputs": [],
   "source": [
    "dbSettings = DbC.settings \"db.dyqmhgvkpvltnfibeuyh.supabase.co\" 5432 \"demoa\" \"justForDemo\" \"demoha\""
   ]
  },
  {
   "cell_type": "markdown",
   "id": "7b3fe49d-25e2-4c56-8708-8ca96475af2a",
   "metadata": {},
   "source": [
    "Our demo database provides basic information about the top starred and forked GitHub repos for the last 5 years that I've extracted and normalized from the CSV files compiled in [GitHub Top 100](https://github.com/EvanLi/Github-Ranking).\n",
    "\n",
    "Within the Haskell execution context the `GhProject` structure will provide a way to hold the de-normalized data, and our DB access example will simply do a *select/join* over all normalized tables to create the data in very similarly to its original format."
   ]
  },
  {
   "cell_type": "code",
   "execution_count": 64,
   "id": "96a2426e-c677-4a45-a06f-2ffc029f89ef",
   "metadata": {},
   "outputs": [],
   "source": [
    "import qualified Data.Time.LocalTime as Lt\n",
    "import qualified Data.Int as DI\n",
    "\n",
    "data GhProject = GhProject {\n",
    "    rank :: DI.Int32\n",
    "    , section :: T.Text\n",
    "    , repo :: T.Text\n",
    "    , stars :: DI.Int32\n",
    "    , forks :: DI.Int32\n",
    "    , language :: Maybe T.Text\n",
    "    , url :: Maybe T.Text\n",
    "    , uname :: T.Text\n",
    "    , issues :: DI.Int32\n",
    "    , lastCommit :: Lt.LocalTime\n",
    "    , description :: Maybe T.Text\n",
    "  }\n",
    "\n",
    "data TopGithubCtxt = TopGithubCtxt {\n",
    "    headColumns :: [ T.Text ]\n",
    "    , rows :: GhProject\n",
    "  }"
   ]
  },
  {
   "cell_type": "markdown",
   "id": "f030141f-571e-4690-a5c0-26e8ad7ecbdf",
   "metadata": {},
   "source": [
    "Now we're getting to the real stuff: write a SQL statement to extract rows from the DB.\n",
    "\n",
    "First, note that the syntax switch between Haskell and SQL is done using the `[<context>| <statements ]` *QuasiQuoter* block.\n",
    "\n",
    "Second, we use the `[Th.vectorStatement|... |]` block to express that the SQL statement will return a vector of values. Then we provide the query using almost standard SQL; that code will go through a proper SQL parser to produce (internally) the code which will execute on the DB server.  Additionally the compiler will create glue code to pass values to the query from the Haskell world, and convert the raw data returned by the DB into a `Vector` of Haskell values.\n",
    "\n",
    "To retrieve a bunch of rows from our GitHub dataset, we define the `simpleQuery` function with embedded SQL:"
   ]
  },
  {
   "cell_type": "code",
   "execution_count": 65,
   "id": "c03efb3e-c110-44c0-bbfa-c7a2afea892a",
   "metadata": {},
   "outputs": [],
   "source": [
    "import qualified Data.Profunctor as Pf\n",
    "import qualified Data.Tuple.Curry as Tc\n",
    "\n",
    "simpleQuery repoName =\n",
    "  Se.statement (repoName) $ Pf.dimap matcherFromString toGhProject\n",
    "    [Th.vectorStatement|\n",
    "        select\n",
    "            o.rank::int4, ta.label::text, tb.label::text, o.stars::int4, o.forks::int4\n",
    "            , tc.label::text?, td.label::text?\n",
    "            , te.label::text, o.issues::int4, o.last_commit::timestamp, o.description::text?\n",
    "        from GithubTop100 o\n",
    "            left join itemu ta on o.itemfk = ta.id\n",
    "            left join RepoNameU tb on o.reponamefk = tb.id\n",
    "            left join LanguageU tc on o.languagefk = tc.id\n",
    "            left join UrlU td on o.urlfk = td.id\n",
    "            left join UserU te on o.unamefk = te.id\n",
    "        where tb.label ilike $1::text\n",
    "        order by date_trunc('day', o.last_commit) desc\n",
    "            , itemfk, rank\n",
    "        limit 10\n",
    "    |]\n",
    "  where\n",
    "  matcherFromString n = \"%\" <> n <> \"%\"\n",
    "  toGhProject = fmap (Tc.uncurryN GhProject)"
   ]
  },
  {
   "cell_type": "markdown",
   "id": "0a89631a-3e99-4915-b863-2f7c59664bd3",
   "metadata": {},
   "source": [
    "By *almost standard SQL*, I meant that the standard SQL syntax is expanded with some type-annotations so that fields in the `select` statement are typed to both check consistency and specify SQL-to-Haskell value conversion.\n",
    "\n",
    "The `statement` function's first argument specifies parameters to use as dynamic values in the SQL statement: in this case we pass `fromDate` to have an _earliest commit date_ filter for the results. The 2nd argument of the `statement` function can be either the *QuasiQuoter* block by itself or together with some conversion logic for parameters and results through a `dimap` association. Detailing the [ProFunctor](https://hackage.haskell.org/package/profunctors/docs/Data-Profunctor.html) package that provides `dimap` is beyond the scope of this notebook, but you can figure out that it uses an *encoder* function `dateFromString` which simply converts a string to a `Data.Time.LocalTime` value to be used in the `select` statement, and a *decoder* function `toGhProject` which simply converts raw tuples of values returned by the select into `GhProject` values through the application of the `uncurryN` helper (```uncurryN aFct (a1, a2, a3) = aFct a1 a2 a3```).\n",
    "\n",
    "Parameters passed to the SQL block are positional, ie the `$1::<type>` notation is used.  Note that the implementator of *Hasql* preferred to use positional referencing and so this example uses this approach, but Haskell DSL supports named params in *QuasiQuoter* blocks and adding the [Hasql-Interpolate](https://hackage.haskell.org/package/hasql-interpolate/docs/Hasql-Interpolate.html) package will let you use `#{fromDate}` notation instead of `$1::<type>`. The Haskell-to-SQL conversion is automatic or uses the meta-programming when Haskell values are complex.\n",
    "\n",
    "Now that there's a `simpleQuery` function with embedded SQL defined, the next thing is to execute it within a DB session to get a `Vector` of `GhProject` values (or an error)."
   ]
  },
  {
   "cell_type": "markdown",
   "id": "8f77311a-6fd9-4367-b2ba-c902d7aa7e1f",
   "metadata": {},
   "source": [
    "Enough blah-blah, let's get a connection to the DB server:"
   ]
  },
  {
   "cell_type": "code",
   "execution_count": 66,
   "id": "8eb0ff3a-f59e-408e-a96a-92fd3a83e421",
   "metadata": {},
   "outputs": [
    {
     "data": {
      "text/plain": []
     },
     "metadata": {},
     "output_type": "display_data"
    }
   ],
   "source": [
    "dbConn <- DbC.acquire dbSettings"
   ]
  },
  {
   "cell_type": "markdown",
   "id": "d450444d-5e51-4cef-9fc3-c8e073e12fbc",
   "metadata": {},
   "source": [
    "Going out over a socket to a DB server through internet is definitely not *pure*, so we use the `<-` to bring back the result from the `acquire` call in *pure* form."
   ]
  },
  {
   "cell_type": "markdown",
   "id": "c1298f2d-d247-4432-8596-1ef398391b69",
   "metadata": {},
   "source": [
    "The next step is to execute the query, and then continue based on the correct or broken SQL result.\n",
    "\n",
    "It's actually now just a matter to invoke *Hasql*'s `run` function, but we wrap that call with the error management that will catch any anomaly.  It's always a very good approach to put a maximum of runtime checking around remote data operations.\n",
    "\n",
    "Note that we're passing a string version of the filter date to `simpleQuery`; internally the `read` function will take care of converting a string value into the appropriate type, which in this case is `Data.Time.LocalTime`. But who cares about typing details, right?\n",
    "\n",
    "And rather than just calling the `simpleQuery`, we use first principles and provide full error-checking:"
   ]
  },
  {
   "cell_type": "code",
   "execution_count": 67,
   "id": "8c457ce0-1a35-45ce-880c-d7f67c9e0169",
   "metadata": {},
   "outputs": [
    {
     "data": {
      "text/plain": []
     },
     "metadata": {},
     "output_type": "display_data"
    }
   ],
   "source": [
    "dbVal <- case dbConn of\n",
    "  Right conn -> do\n",
    "    rezA <- Se.run (simpleQuery \"bootcamp\") conn\n",
    "    case rezA of\n",
    "      Left err -> pure . Left $ show err\n",
    "      Right mbVal -> pure $ Right mbVal\n",
    "  Left err -> pure . Left $ show err"
   ]
  },
  {
   "cell_type": "markdown",
   "id": "d6c6cb27-15d3-4c60-8475-893ced6a6b6d",
   "metadata": {},
   "source": [
    "At this point either the DB server executed the SQL statement and `dbVal` is a vector for `GhProject` values, or it is an error. The no-error/error situation is indicated with the [Either](https://hackage.haskell.org/package/base/docs/Data-Either.html) monadic type, which uses `Right` and `Left` as container meaning *no-error* and *error* respectively.\n",
    "\n",
    "To look at the data received from the DB, we'll format using HTML. It's just nicer than a bland *print*...\n",
    "\n",
    "At this stage we go the Jinja HTML template way and build a `GVal` instance of `GhProject` as a dictionnary of fields that will be used to populate the template.  Note that using *Generics* it's possible to do that just by derivation, but hopefully you find it more instructive to see a bunch of fields mapped to the *Ginger* template execution context."
   ]
  },
  {
   "cell_type": "markdown",
   "id": "19003f14-7955-4cf9-acca-95eca16b1c64",
   "metadata": {},
   "source": [
    "The last line runs the template engine and the dataset received from the DB is shown (if available, the DB query may take a while to complete) in a HTML format:"
   ]
  },
  {
   "cell_type": "code",
   "execution_count": 68,
   "id": "fb2d9852-94d8-4d4b-b61f-eb9b30e08eeb",
   "metadata": {},
   "outputs": [
    {
     "data": {
      "text/html": [
       "<style>/* Styles used for the Hoogle display in the pager */\n",
       ".hoogle-doc {\n",
       "display: block;\n",
       "padding-bottom: 1.3em;\n",
       "padding-left: 0.4em;\n",
       "}\n",
       ".hoogle-code {\n",
       "display: block;\n",
       "font-family: monospace;\n",
       "white-space: pre;\n",
       "}\n",
       ".hoogle-text {\n",
       "display: block;\n",
       "}\n",
       ".hoogle-name {\n",
       "color: green;\n",
       "font-weight: bold;\n",
       "}\n",
       ".hoogle-head {\n",
       "font-weight: bold;\n",
       "}\n",
       ".hoogle-sub {\n",
       "display: block;\n",
       "margin-left: 0.4em;\n",
       "}\n",
       ".hoogle-package {\n",
       "font-weight: bold;\n",
       "font-style: italic;\n",
       "}\n",
       ".hoogle-module {\n",
       "font-weight: bold;\n",
       "}\n",
       ".hoogle-class {\n",
       "font-weight: bold;\n",
       "}\n",
       "\n",
       ".get-type {\n",
       "color: green;\n",
       "font-weight: bold;\n",
       "font-family: monospace;\n",
       "display: block;\n",
       "white-space: pre-wrap;\n",
       "}\n",
       ".show-type {\n",
       "color: green;\n",
       "font-weight: bold;\n",
       "font-family: monospace;\n",
       "margin-left: 1em;\n",
       "}\n",
       ".mono {\n",
       "font-family: monospace;\n",
       "display: block;\n",
       "}\n",
       ".err-msg {\n",
       "color: red;\n",
       "font-style: italic;\n",
       "font-family: monospace;\n",
       "white-space: pre;\n",
       "display: block;\n",
       "}\n",
       "#unshowable {\n",
       "color: red;\n",
       "font-weight: bold;\n",
       "}\n",
       ".err-msg.in.collapse {\n",
       "padding-top: 0.7em;\n",
       "}\n",
       "\n",
       ".highlight-code {\n",
       "white-space: pre;\n",
       "font-family: monospace;\n",
       "}\n",
       "\n",
       ".suggestion-warning { \n",
       "font-weight: bold;\n",
       "color: rgb(200, 130, 0);\n",
       "}\n",
       ".suggestion-error { \n",
       "font-weight: bold;\n",
       "color: red;\n",
       "}\n",
       ".suggestion-name {\n",
       "font-weight: bold;\n",
       "}\n",
       "\n",
       "</style><div style=\"width: 150em\" class=\"overflow-x-auto shadow-md sm:rounded-lg\">\n",
       "  <table class=\"w-full text-sm text-left rtl:text-right text-gray-500 dark:text-gray-400\">\n",
       "    <caption class=\"p-5 text-lg font-semibold text-left rtl:text-right text-gray-900 bg-white dark:text-white dark:bg-gray-800\">\n",
       "      GitHub TOP 100\n",
       "      <p class=\"mt-1 text-sm font-normal text-gray-500 dark:text-gray-400\">\n",
       "      A embellished presentation the top starred and/or forked repos of GitHub for the last 5 years.\n",
       "      </p>\n",
       "    </caption>\n",
       "    <thead class=\"text-xs text-white uppercase bg-blue-600 dark:text-white\">\n",
       "      <tr>\n",
       "                <th scope=\"col\" class=\"px-6 py-3\">Rank</th>\n",
       "                <th scope=\"col\" class=\"px-6 py-3\">Section</th>\n",
       "                <th scope=\"col\" class=\"px-6 py-3\">Repo</th>\n",
       "                <th scope=\"col\" class=\"px-6 py-3\">Stars</th>\n",
       "                <th scope=\"col\" class=\"px-6 py-3\">Forks</th>\n",
       "                <th scope=\"col\" class=\"px-6 py-3\">Language</th>\n",
       "                <th scope=\"col\" class=\"px-6 py-3\">Url</th>\n",
       "                <th scope=\"col\" class=\"px-6 py-3\">User</th>\n",
       "                <th scope=\"col\" class=\"px-6 py-3\">Issues</th>\n",
       "                <th scope=\"col\" class=\"px-6 py-3\">Latest</th>\n",
       "                <th style=\"width: 50em\" scope=\"col\" class=\"px-6\">Description</th>\n",
       "      </tr>\n",
       "    </thead>\n",
       "    <tbody>\n",
       "              <tr>\n",
       "          <td scope=\"col\" class=\"px-6 py-3\">7</td>\n",
       "          <td scope=\"col\" class=\"px-6 py-3\">top-100-forks</td>\n",
       "          <td scope=\"col\" class=\"px-6 py-3\">Complete-Python-3-Bootcamp</td>\n",
       "          <td class=\"px-6 py-4 font-medium text-gray-900 whitespace-nowrap dark:text-white\">25333</td>\n",
       "          <td class=\"px-6 py-4 font-medium text-gray-900 whitespace-nowrap dark:text-white\">81862</td>\n",
       "          <td scope=\"col\" class=\"px-6 py-3\">Jupyter Notebook</td>\n",
       "          <td>\n",
       "            <a href=\"https://github.com/Pierian-Data/Complete-Python-3-Bootcamp\">Complete-Python-3-Bootcamp</a>\n",
       "          </td>\n",
       "          <td scope=\"col\" class=\"px-6 py-3\">Pierian-Data</td>\n",
       "          <td class=\"px-6 py-4 font-medium text-gray-900 whitespace-nowrap dark:text-white\">120</td>\n",
       "          <td scope=\"col\" class=\"px-6 py-3\">2023-11-24 14:21:32</td>\n",
       "          <td scope=\"col\" class=\"px-6 py-3\">Course Files for Complete Python 3 Bootcamp Course on Udemy</td>\n",
       "        </tr>\n",
       "              <tr>\n",
       "          <td scope=\"col\" class=\"px-6 py-3\">7</td>\n",
       "          <td scope=\"col\" class=\"px-6 py-3\">top-100-forks</td>\n",
       "          <td scope=\"col\" class=\"px-6 py-3\">Complete-Python-3-Bootcamp</td>\n",
       "          <td class=\"px-6 py-4 font-medium text-gray-900 whitespace-nowrap dark:text-white\">25267</td>\n",
       "          <td class=\"px-6 py-4 font-medium text-gray-900 whitespace-nowrap dark:text-white\">81756</td>\n",
       "          <td scope=\"col\" class=\"px-6 py-3\">Jupyter Notebook</td>\n",
       "          <td>\n",
       "            <a href=\"https://github.com/Pierian-Data/Complete-Python-3-Bootcamp\">Complete-Python-3-Bootcamp</a>\n",
       "          </td>\n",
       "          <td scope=\"col\" class=\"px-6 py-3\">Pierian-Data</td>\n",
       "          <td class=\"px-6 py-4 font-medium text-gray-900 whitespace-nowrap dark:text-white\">119</td>\n",
       "          <td scope=\"col\" class=\"px-6 py-3\">2023-11-24 14:21:32</td>\n",
       "          <td scope=\"col\" class=\"px-6 py-3\">Course Files for Complete Python 3 Bootcamp Course on Udemy</td>\n",
       "        </tr>\n",
       "              <tr>\n",
       "          <td scope=\"col\" class=\"px-6 py-3\">7</td>\n",
       "          <td scope=\"col\" class=\"px-6 py-3\">top-100-forks</td>\n",
       "          <td scope=\"col\" class=\"px-6 py-3\">Complete-Python-3-Bootcamp</td>\n",
       "          <td class=\"px-6 py-4 font-medium text-gray-900 whitespace-nowrap dark:text-white\">25313</td>\n",
       "          <td class=\"px-6 py-4 font-medium text-gray-900 whitespace-nowrap dark:text-white\">81832</td>\n",
       "          <td scope=\"col\" class=\"px-6 py-3\">Jupyter Notebook</td>\n",
       "          <td>\n",
       "            <a href=\"https://github.com/Pierian-Data/Complete-Python-3-Bootcamp\">Complete-Python-3-Bootcamp</a>\n",
       "          </td>\n",
       "          <td scope=\"col\" class=\"px-6 py-3\">Pierian-Data</td>\n",
       "          <td class=\"px-6 py-4 font-medium text-gray-900 whitespace-nowrap dark:text-white\">120</td>\n",
       "          <td scope=\"col\" class=\"px-6 py-3\">2023-11-24 14:21:32</td>\n",
       "          <td scope=\"col\" class=\"px-6 py-3\">Course Files for Complete Python 3 Bootcamp Course on Udemy</td>\n",
       "        </tr>\n",
       "              <tr>\n",
       "          <td scope=\"col\" class=\"px-6 py-3\">7</td>\n",
       "          <td scope=\"col\" class=\"px-6 py-3\">top-100-forks</td>\n",
       "          <td scope=\"col\" class=\"px-6 py-3\">Complete-Python-3-Bootcamp</td>\n",
       "          <td class=\"px-6 py-4 font-medium text-gray-900 whitespace-nowrap dark:text-white\">25276</td>\n",
       "          <td class=\"px-6 py-4 font-medium text-gray-900 whitespace-nowrap dark:text-white\">81774</td>\n",
       "          <td scope=\"col\" class=\"px-6 py-3\">Jupyter Notebook</td>\n",
       "          <td>\n",
       "            <a href=\"https://github.com/Pierian-Data/Complete-Python-3-Bootcamp\">Complete-Python-3-Bootcamp</a>\n",
       "          </td>\n",
       "          <td scope=\"col\" class=\"px-6 py-3\">Pierian-Data</td>\n",
       "          <td class=\"px-6 py-4 font-medium text-gray-900 whitespace-nowrap dark:text-white\">119</td>\n",
       "          <td scope=\"col\" class=\"px-6 py-3\">2023-11-24 14:21:32</td>\n",
       "          <td scope=\"col\" class=\"px-6 py-3\">Course Files for Complete Python 3 Bootcamp Course on Udemy</td>\n",
       "        </tr>\n",
       "              <tr>\n",
       "          <td scope=\"col\" class=\"px-6 py-3\">7</td>\n",
       "          <td scope=\"col\" class=\"px-6 py-3\">top-100-forks</td>\n",
       "          <td scope=\"col\" class=\"px-6 py-3\">Complete-Python-3-Bootcamp</td>\n",
       "          <td class=\"px-6 py-4 font-medium text-gray-900 whitespace-nowrap dark:text-white\">25328</td>\n",
       "          <td class=\"px-6 py-4 font-medium text-gray-900 whitespace-nowrap dark:text-white\">81847</td>\n",
       "          <td scope=\"col\" class=\"px-6 py-3\">Jupyter Notebook</td>\n",
       "          <td>\n",
       "            <a href=\"https://github.com/Pierian-Data/Complete-Python-3-Bootcamp\">Complete-Python-3-Bootcamp</a>\n",
       "          </td>\n",
       "          <td scope=\"col\" class=\"px-6 py-3\">Pierian-Data</td>\n",
       "          <td class=\"px-6 py-4 font-medium text-gray-900 whitespace-nowrap dark:text-white\">120</td>\n",
       "          <td scope=\"col\" class=\"px-6 py-3\">2023-11-24 14:21:32</td>\n",
       "          <td scope=\"col\" class=\"px-6 py-3\">Course Files for Complete Python 3 Bootcamp Course on Udemy</td>\n",
       "        </tr>\n",
       "              <tr>\n",
       "          <td scope=\"col\" class=\"px-6 py-3\">7</td>\n",
       "          <td scope=\"col\" class=\"px-6 py-3\">top-100-forks</td>\n",
       "          <td scope=\"col\" class=\"px-6 py-3\">Complete-Python-3-Bootcamp</td>\n",
       "          <td class=\"px-6 py-4 font-medium text-gray-900 whitespace-nowrap dark:text-white\">25280</td>\n",
       "          <td class=\"px-6 py-4 font-medium text-gray-900 whitespace-nowrap dark:text-white\">81786</td>\n",
       "          <td scope=\"col\" class=\"px-6 py-3\">Jupyter Notebook</td>\n",
       "          <td>\n",
       "            <a href=\"https://github.com/Pierian-Data/Complete-Python-3-Bootcamp\">Complete-Python-3-Bootcamp</a>\n",
       "          </td>\n",
       "          <td scope=\"col\" class=\"px-6 py-3\">Pierian-Data</td>\n",
       "          <td class=\"px-6 py-4 font-medium text-gray-900 whitespace-nowrap dark:text-white\">120</td>\n",
       "          <td scope=\"col\" class=\"px-6 py-3\">2023-11-24 14:21:32</td>\n",
       "          <td scope=\"col\" class=\"px-6 py-3\">Course Files for Complete Python 3 Bootcamp Course on Udemy</td>\n",
       "        </tr>\n",
       "              <tr>\n",
       "          <td scope=\"col\" class=\"px-6 py-3\">7</td>\n",
       "          <td scope=\"col\" class=\"px-6 py-3\">top-100-forks</td>\n",
       "          <td scope=\"col\" class=\"px-6 py-3\">Complete-Python-3-Bootcamp</td>\n",
       "          <td class=\"px-6 py-4 font-medium text-gray-900 whitespace-nowrap dark:text-white\">25304</td>\n",
       "          <td class=\"px-6 py-4 font-medium text-gray-900 whitespace-nowrap dark:text-white\">81816</td>\n",
       "          <td scope=\"col\" class=\"px-6 py-3\">Jupyter Notebook</td>\n",
       "          <td>\n",
       "            <a href=\"https://github.com/Pierian-Data/Complete-Python-3-Bootcamp\">Complete-Python-3-Bootcamp</a>\n",
       "          </td>\n",
       "          <td scope=\"col\" class=\"px-6 py-3\">Pierian-Data</td>\n",
       "          <td class=\"px-6 py-4 font-medium text-gray-900 whitespace-nowrap dark:text-white\">120</td>\n",
       "          <td scope=\"col\" class=\"px-6 py-3\">2023-11-24 14:21:32</td>\n",
       "          <td scope=\"col\" class=\"px-6 py-3\">Course Files for Complete Python 3 Bootcamp Course on Udemy</td>\n",
       "        </tr>\n",
       "              <tr>\n",
       "          <td scope=\"col\" class=\"px-6 py-3\">7</td>\n",
       "          <td scope=\"col\" class=\"px-6 py-3\">top-100-forks</td>\n",
       "          <td scope=\"col\" class=\"px-6 py-3\">Complete-Python-3-Bootcamp</td>\n",
       "          <td class=\"px-6 py-4 font-medium text-gray-900 whitespace-nowrap dark:text-white\">25318</td>\n",
       "          <td class=\"px-6 py-4 font-medium text-gray-900 whitespace-nowrap dark:text-white\">81840</td>\n",
       "          <td scope=\"col\" class=\"px-6 py-3\">Jupyter Notebook</td>\n",
       "          <td>\n",
       "            <a href=\"https://github.com/Pierian-Data/Complete-Python-3-Bootcamp\">Complete-Python-3-Bootcamp</a>\n",
       "          </td>\n",
       "          <td scope=\"col\" class=\"px-6 py-3\">Pierian-Data</td>\n",
       "          <td class=\"px-6 py-4 font-medium text-gray-900 whitespace-nowrap dark:text-white\">120</td>\n",
       "          <td scope=\"col\" class=\"px-6 py-3\">2023-11-24 14:21:32</td>\n",
       "          <td scope=\"col\" class=\"px-6 py-3\">Course Files for Complete Python 3 Bootcamp Course on Udemy</td>\n",
       "        </tr>\n",
       "              <tr>\n",
       "          <td scope=\"col\" class=\"px-6 py-3\">7</td>\n",
       "          <td scope=\"col\" class=\"px-6 py-3\">top-100-forks</td>\n",
       "          <td scope=\"col\" class=\"px-6 py-3\">Complete-Python-3-Bootcamp</td>\n",
       "          <td class=\"px-6 py-4 font-medium text-gray-900 whitespace-nowrap dark:text-white\">25274</td>\n",
       "          <td class=\"px-6 py-4 font-medium text-gray-900 whitespace-nowrap dark:text-white\">81761</td>\n",
       "          <td scope=\"col\" class=\"px-6 py-3\">Jupyter Notebook</td>\n",
       "          <td>\n",
       "            <a href=\"https://github.com/Pierian-Data/Complete-Python-3-Bootcamp\">Complete-Python-3-Bootcamp</a>\n",
       "          </td>\n",
       "          <td scope=\"col\" class=\"px-6 py-3\">Pierian-Data</td>\n",
       "          <td class=\"px-6 py-4 font-medium text-gray-900 whitespace-nowrap dark:text-white\">119</td>\n",
       "          <td scope=\"col\" class=\"px-6 py-3\">2023-11-24 14:21:32</td>\n",
       "          <td scope=\"col\" class=\"px-6 py-3\">Course Files for Complete Python 3 Bootcamp Course on Udemy</td>\n",
       "        </tr>\n",
       "              <tr>\n",
       "          <td scope=\"col\" class=\"px-6 py-3\">7</td>\n",
       "          <td scope=\"col\" class=\"px-6 py-3\">top-100-forks</td>\n",
       "          <td scope=\"col\" class=\"px-6 py-3\">Complete-Python-3-Bootcamp</td>\n",
       "          <td class=\"px-6 py-4 font-medium text-gray-900 whitespace-nowrap dark:text-white\">25295</td>\n",
       "          <td class=\"px-6 py-4 font-medium text-gray-900 whitespace-nowrap dark:text-white\">81802</td>\n",
       "          <td scope=\"col\" class=\"px-6 py-3\">Jupyter Notebook</td>\n",
       "          <td>\n",
       "            <a href=\"https://github.com/Pierian-Data/Complete-Python-3-Bootcamp\">Complete-Python-3-Bootcamp</a>\n",
       "          </td>\n",
       "          <td scope=\"col\" class=\"px-6 py-3\">Pierian-Data</td>\n",
       "          <td class=\"px-6 py-4 font-medium text-gray-900 whitespace-nowrap dark:text-white\">120</td>\n",
       "          <td scope=\"col\" class=\"px-6 py-3\">2023-11-24 14:21:32</td>\n",
       "          <td scope=\"col\" class=\"px-6 py-3\">Course Files for Complete Python 3 Bootcamp Course on Udemy</td>\n",
       "        </tr>\n",
       "          </tbody>\n",
       "  </table>\n",
       "</div>\n"
      ]
     },
     "metadata": {},
     "output_type": "display_data"
    }
   ],
   "source": [
    "import qualified Data.Maybe as Mb\n",
    "\n",
    "template_2 <- Prelude.readFile \"xstatic/templates/templ_5.html\"\n",
    "\n",
    "\n",
    "instance Gi.ToGVal m GhProject where\n",
    "  toGVal p = Gi.toGVal $ Mp.fromList [\n",
    "        (\"rank\", T.pack $ show p.rank) :: (T.Text, T.Text), (\"section\", p.section), (\"repo\", p.repo), (\"stars\", T.pack $ show p.stars)\n",
    "        , (\"forks\", T.pack $ show p.forks), (\"language\", Mb.fromMaybe \"<nil>\" p.language), (\"url\", Mb.fromMaybe \"<nil>\" p.url)\n",
    "        , (\"uname\", p.uname), (\"issues\", T.pack $ show p.issues), (\"last_commit\", T.pack $ show p.lastCommit)\n",
    "        , (\"description\", Mb.fromMaybe \"<nil>\" p.description)\n",
    "    ]\n",
    "\n",
    "derefGhProj context needle =\n",
    "  case needle of\n",
    "    \"columns\" ->\n",
    "      Gi.toGVal [\n",
    "          \"Rank\" :: String, \"Section\", \"Repo\", \"Stars\", \"Forks\", \"Language\"\n",
    "          , \"Url\", \"User\", \"Issues\", \"Latest\"\n",
    "        ]\n",
    "    \"results\" -> case context of\n",
    "      Left _ -> Gi.toGVal (\"error\" :: T.Text)\n",
    "      Right vcProjs -> Gi.toGVal $ Vc.toList vcProjs\n",
    "    _ -> Gi.toGVal (\"error\" :: T.Text)\n",
    "\n",
    "\n",
    "Gi.htmlSource $ Gi.runGinger (Gi.makeContextHtml (derefGhProj dbVal)) (loadTemplate template_2)"
   ]
  },
  {
   "cell_type": "markdown",
   "id": "07f34f95-00c1-4058-80dd-66c8652ca4a9",
   "metadata": {},
   "source": [
    "That's it, we can interact with a SQL server in a safe and efficient way, it's easy to convert data back and forth between Haskell structures and DB tables, and it's also easy to create HTML out of datasets from Jinja templates."
   ]
  },
  {
   "cell_type": "markdown",
   "id": "cd577aeb-2bf5-41c8-a3c7-3401b3235c84",
   "metadata": {},
   "source": [
    "For fun, let's look at another DSL: Javascript.\n",
    "Yep, it's possible to write JS code as part of the Haskell code, have it syntax-checked and then sent to a **Node.js** engine for processing."
   ]
  },
  {
   "cell_type": "code",
   "execution_count": 69,
   "id": "818e1d43-8e46-4dfc-a23d-71b01aa8c89e",
   "metadata": {},
   "outputs": [],
   "source": [
    "{-# LANGUAGE DerivingVia #-}\n",
    "{-# LANGUAGE TemplateHaskell #-}\n",
    "{-# LANGUAGE TypeApplications #-}\n",
    "{-# LANGUAGE DeriveGeneric #-}\n",
    "{-# LANGUAGE DeriveAnyClass #-}\n",
    "{-# LANGUAGE ViewPatterns #-}"
   ]
  },
  {
   "cell_type": "code",
   "execution_count": 70,
   "id": "39697417-e035-42f7-9cb6-67ebaf109228",
   "metadata": {},
   "outputs": [],
   "source": [
    "import Control.Exception (try, SomeException, evaluate)\n",
    "import Control.Concurrent (threadDelay)\n",
    "\n",
    "import Data.Aeson ( FromJSON )\n",
    "import GHC.Generics ( Generic )\n",
    "import Language.JavaScript.Inline\n",
    "import Language.JavaScript.Inline.Core\n",
    "import qualified Data.ByteString.Lazy as LBS\n",
    "import Data.Text (Text, unpack)\n",
    "\n",
    "import Control.Monad (ap)\n",
    "import GHC.TypeLits (KnownSymbol)\n",
    "import Data.Text.Array (run)\n",
    "import Data.Vector.Generic.Mutable (set)"
   ]
  },
  {
   "cell_type": "code",
   "execution_count": 71,
   "id": "5ecd8551-52c9-4943-9ec3-d256759a42d9",
   "metadata": {},
   "outputs": [],
   "source": [
    "newtype JSReturn = JSReturn {\n",
    "    result :: String\n",
    "  } \n",
    "  deriving (Generic, Show, FromJSON)\n",
    "  deriving FromJS via (Aeson JSReturn)"
   ]
  },
  {
   "cell_type": "code",
   "execution_count": 72,
   "id": "d984af9f-de6a-4e5f-8497-48c754cfaf2e",
   "metadata": {},
   "outputs": [],
   "source": [
    "runJSTest :: IO JSReturn\n",
    "runJSTest = do\n",
    "  session <- newSession defaultConfig\n",
    "  putStrLn \"@[runJSTest] starting.\"\n",
    "  rezA <- eval session [js|\n",
    "    console.warn(\"@[runJSTest] JS starting.\")\n",
    "    let a = \"allo\"\n",
    "    let b = \"byebye\"\n",
    "\n",
    "    doTest = async () => {\n",
    "      console.warn(\"@[runElmTest] JS doTest start.\")\n",
    "      setTimeout(() => console.warn(\"timeout!\"), 5 * 1000)\n",
    "      console.warn(\"@[runElmTest] JS doTest end.\")\n",
    "      return { \"result\": \"run_JS_1: \" + a + \", \" + b}\n",
    "    }\n",
    "    finalRez = await doTest()\n",
    "    console.warn(\"@[runJSTest] JS ending.\")\n",
    "    return finalRez\n",
    "   |]\n",
    "  closeSession session\n",
    "  putStrLn \"@[runJSTest] finishing.\"\n",
    "  pure rezA"
   ]
  },
  {
   "cell_type": "code",
   "execution_count": 73,
   "id": "2bb29bf2-7f2d-4622-91dd-d12aa284d84e",
   "metadata": {},
   "outputs": [
    {
     "data": {
      "text/plain": [
       "@[runJSTest] starting.\n",
       "@[runJSTest] JS starting.\n",
       "@[newSession] msg : JSEvalResponse {jsE@[runElmTest] JS doTest start.\n",
       "valResponseId = 2761, js@[runElmTest] JS doTest end.\n",
       "EvalResponseContent = Righ@[runJSTest] JS ending.\n",
       "t \"{\\\"result\\\":\\\"run_JS_1: allo, byebye\\\"}\"}\n",
       "timeout!\n",
       "@[runJSTest] finishing.\n",
       "JSReturn {result = \"run_JS_1: allo, byebye\"}"
      ]
     },
     "metadata": {},
     "output_type": "display_data"
    }
   ],
   "source": [
    "runJSTest"
   ]
  },
  {
   "cell_type": "code",
   "execution_count": 74,
   "id": "f210b29c-b5be-4af6-afbc-7a856afeb219",
   "metadata": {},
   "outputs": [],
   "source": [
    "runJS_B :: IO JSReturn\n",
    "runJS_B = do\n",
    "  session <- newSession defaultConfig\n",
    "  rezA <- eval session [js|\n",
    "    console.warn(\"@[runJSTest] JS starting.\")\n",
    "\n",
    "    console.warn(\"@[runJSTest] JS ending.\")\n",
    "    return { \"result\": \"JS_B: pwd = \" + process.cwd() }\n",
    "   |]\n",
    "  closeSession session\n",
    "  pure rezA"
   ]
  },
  {
   "cell_type": "code",
   "execution_count": 75,
   "id": "cf6c1bcd-b4ee-488b-a70d-3a3152c166ca",
   "metadata": {},
   "outputs": [
    {
     "data": {
      "text/plain": [
       "@[runJSTest] JS starting.\n",
       "@[newSession] msg : JSEvalResponse {jsEvalResponseId @[runJSTest] JS ending.\n",
       "= 2832, jsEvalResponseContent = Right \"{\\\"result\\\":\\\"JS_B: pwd = /home/lhugo/Projets/Fudd/IHaskell/IHaskell/notebooks_2\\\"}\"}\n",
       "JSReturn {result = \"JS_B: pwd = /home/lhugo/Projets/Fudd/IHaskell/IHaskell/notebooks_2\"}"
      ]
     },
     "metadata": {},
     "output_type": "display_data"
    }
   ],
   "source": [
    "runJS_B"
   ]
  },
  {
   "cell_type": "markdown",
   "id": "b0d0ac38-f37b-4bec-834a-cf7eb0134f95",
   "metadata": {},
   "source": [
    "<h2>Serving some Web endpoints: the very basics</h2>"
   ]
  },
  {
   "cell_type": "markdown",
   "id": "52b2da90-2de8-4a70-bd1f-6bed3d11a4ba",
   "metadata": {},
   "source": [
    "The Haskell ecosystem has defined a long time ago a standard Web Application Interface (WAI) for building up web services. The [Wai](https://hackage.haskell.org/package/wai) package provides the basic layer for handling and responding to HTTP requests.\n",
    "\n",
    "Then on top of that came a fast, light-weight web server as the [Warp](https://hackage.haskell.org/package/warp) package. Together WAI and Warp provide a simple way to prototype very quickly a web service.\n",
    "\n",
    "First let's use the WAI/Warp pair to build a quick-and-dirty web handler, as one does for quick prototyping of an idea while testing stuff in the interpreter."
   ]
  },
  {
   "cell_type": "markdown",
   "id": "9c49738e-6862-4adf-bf12-68cd7de139c8",
   "metadata": {},
   "source": [
    "As usual, a few packages need to be brought into the namespace to move forward."
   ]
  },
  {
   "cell_type": "code",
   "execution_count": 76,
   "id": "2917708c-18e5-40d0-96c1-a20b5ad9f540",
   "metadata": {},
   "outputs": [],
   "source": [
    "import qualified Control.Concurrent as Cc\n",
    "import qualified Network.Wai as W\n",
    "import qualified Network.Wai.Handler.Warp as Wr\n",
    "import qualified Network.HTTP.Types as Ht"
   ]
  },
  {
   "cell_type": "markdown",
   "id": "2a561865-39a0-445e-af72-ef4d705d2811",
   "metadata": {},
   "source": [
    "Then we create a basic HTTP handler called `waiDemoServer`, which we'll *hook* in the _marco_ path of the requesting URL, and that we'll use as a unconditional responder of the Jinja template content we loaded some time ago."
   ]
  },
  {
   "cell_type": "code",
   "execution_count": 77,
   "id": "34c157d9-060f-43b2-99c6-4cb16721febc",
   "metadata": {},
   "outputs": [],
   "source": [
    "waiDemoServer request sendFct =\n",
    "  sendFct $ W.responseLBS\n",
    "    Ht.status200\n",
    "    (case Prelude.lookup \"marco\" $ W.requestHeaders request of\n",
    "       Nothing -> []\n",
    "       Just val -> [(\"Polo\", val)])\n",
    "    (LBS.fromStrict . T.encodeUtf8 . Gi.htmlSource $ tmplDemo)"
   ]
  },
  {
   "cell_type": "markdown",
   "id": "6516d32c-ae47-4eaf-afe2-dfd29589303d",
   "metadata": {},
   "source": [
    "The arguments for `waiDemoServer` are the request received from the HTTP client and a responder function; that is standard stuff defined by WAI.\n",
    "\n",
    "The behavior will be to reply with a 200 (OK) status code, and if the /marco path has been requested to send a `Polo` value in the headers of the response, together with the main body which is our filled template.\n",
    "\n",
    "The service is started with a `run <port> <service-function>`, that's it.  In this example, we'll fork the service to a sub-process that we can kill later:"
   ]
  },
  {
   "cell_type": "code",
   "execution_count": 78,
   "id": "4833c94a-1718-4767-8dbf-2087785577b6",
   "metadata": {},
   "outputs": [
    {
     "data": {
      "text/plain": [
       "ThreadId 5214"
      ]
     },
     "metadata": {},
     "output_type": "display_data"
    },
    {
     "data": {
      "text/plain": [
       "Sat Dec  9 10:49:14 PM +04 2023"
      ]
     },
     "metadata": {},
     "output_type": "display_data"
    }
   ],
   "source": [
    "tid <- Cc.forkIO (Wr.run 3001 waiDemoServer)\n",
    "print tid\n",
    ":! date"
   ]
  },
  {
   "cell_type": "markdown",
   "id": "dda9c924-cf05-4c00-8593-40ea124e6a4d",
   "metadata": {},
   "source": [
    "As this may end up running in a private port on a virtual server, the following function can be used to do a HTTP GET on the service and visualize the HTML from the response (here we're simply reusing the basic HTTP client introduced previously)."
   ]
  },
  {
   "cell_type": "code",
   "execution_count": 79,
   "id": "a90618be-7e32-4160-9ac4-a64425734af8",
   "metadata": {},
   "outputs": [
    {
     "data": {
      "text/html": [
       "<!DOCTYPE html>\n",
       "<html>\n",
       "    <head>\n",
       "      <meta charset=\"UTF-8\">\n",
       "      <meta name=\"viewport\" content=\"width=device-width, initial-scale=1.0\">\n",
       "      <link href=\"https://unpkg.com/tailwindcss@^1.0/dist/tailwind.min.css\" rel=\"stylesheet\">\n",
       "      <title>Haskell, Hidden Gem</title>\n",
       "      <script src=\"https://unpkg.com/d3@7.8.5/dist/d3.min.js\" cross-origin=\"anonymous\" type=\"text/javascript\"></script>\n",
       "\n",
       "    </head>\n",
       "    \n",
       "    <body>\n",
       "      <div class=\"container bg-gray-500 mx-auto p-4\">\n",
       "        <h1 class=\"text-2xl text-red-900 font-bold mb-4\">Haskell, Hidden Gem</h1>\n",
       "        <table class=\"min-w-full bg-orange-500 border border-gray-300\">\n",
       "          <thead>\n",
       "            <tr>\n",
       "              <th class=\"px-6 py-3 text-left text-xs font-medium text-gray-100 uppercase tracking-wider border-b\">Name</th>\n",
       "              <th class=\"px-6 py-3 text-left text-xs font-medium text-gray-100 uppercase tracking-wider border-b\">Destination</th>\n",
       "            </tr>\n",
       "          </thead>\n",
       "          <tbody>\n",
       "                          <tr>\n",
       "                <td class=\"text-blue-800\">1/OFF KUSTOMS, LLC</td>\n",
       "                <td class=\"text-green-600\"><a href=\"http://https://vpic.nhtsa.dot.gov/api/vehicles/getmake?id=4877\">1/OFF KUSTOMS, LLC</td>\n",
       "              </tr>\n",
       "                          <tr>\n",
       "                <td class=\"text-blue-800\">102 IRONWORKS, INC.</td>\n",
       "                <td class=\"text-green-600\"><a href=\"http://https://vpic.nhtsa.dot.gov/api/vehicles/getmake?id=11257\">102 IRONWORKS, INC.</td>\n",
       "              </tr>\n",
       "                          <tr>\n",
       "                <td class=\"text-blue-800\">12832429 CANADA INC.</td>\n",
       "                <td class=\"text-green-600\"><a href=\"http://https://vpic.nhtsa.dot.gov/api/vehicles/getmake?id=12255\">12832429 CANADA INC.</td>\n",
       "              </tr>\n",
       "                          <tr>\n",
       "                <td class=\"text-blue-800\">17 CREEK ENTERPRISES</td>\n",
       "                <td class=\"text-green-600\"><a href=\"http://https://vpic.nhtsa.dot.gov/api/vehicles/getmake?id=6387\">17 CREEK ENTERPRISES</td>\n",
       "              </tr>\n",
       "                          <tr>\n",
       "                <td class=\"text-blue-800\">1M CUSTOM CAR TRANSPORTS, INC.</td>\n",
       "                <td class=\"text-green-600\"><a href=\"http://https://vpic.nhtsa.dot.gov/api/vehicles/getmake?id=9172\">1M CUSTOM CAR TRANSPORTS, INC.</td>\n",
       "              </tr>\n",
       "                       </tbody>\n",
       "        </table>\n",
       "        \n",
       "      </div>\n",
       "      <div id=\"d3 demo\" class=\"flex p-5 justify-center\">\n",
       "        <svg id=\"dataviz_area\" height=200 width=450></svg>\n",
       "\n",
       "        <script>\n",
       "          var svg = d3.select(\"#dataviz_area\")\n",
       "          var x = d3.scaleLinear()\n",
       "            .domain([0, 100])         // This is the min and the max of the data: 0 to 100 if percentages\n",
       "            .range([0, 400]);       // This is the corresponding value I want in Pixel\n",
       "\n",
       "          // Show the axis that corresponds to this scale\n",
       "          svg.call(d3.axisBottom(x));\n",
       "\n",
       "                      svg.append(\"circle\").attr(\"cx\", x(20))\n",
       "              .attr(\"cy\", 90).attr(\"r\", 40 )\n",
       "              .style(\"fill\", \"green\");\n",
       "                      svg.append(\"circle\").attr(\"cx\", x(50))\n",
       "              .attr(\"cy\", 90).attr(\"r\", 45 )\n",
       "              .style(\"fill\", \"red\");\n",
       "                      svg.append(\"circle\").attr(\"cx\", x(85))\n",
       "              .attr(\"cy\", 90).attr(\"r\", 50 )\n",
       "              .style(\"fill\", \"blue\");\n",
       "          \n",
       "        </script>\n",
       "\n",
       "      </div>\n",
       "    </body>\n",
       "</html>\n"
      ]
     },
     "metadata": {},
     "output_type": "display_data"
    }
   ],
   "source": [
    "fetchDemo =\n",
    "  let\n",
    "    url = \"GET http://localhost:3001/marco\"\n",
    "    request = N.setQueryString [(\"arg\", Just \"123\")] $ N.parseRequest_ url\n",
    "  in do\n",
    "    reqMgr <- N.newManager N.defaultManagerSettings\n",
    "    N.httpLbs request reqMgr\n",
    "\n",
    "reply <- fetchDemo\n",
    "ID.html . TL.unpack . TL.decodeUtf8 $ reply.responseBody"
   ]
  },
  {
   "cell_type": "markdown",
   "id": "882e33e9-b492-4c5f-a7ae-b281ae0dc0ec",
   "metadata": {},
   "source": [
    "When you have done the request (and hopefully you can actually do a HTTP GET from your device directly), kill the background process to keep the execution space clean. By the way I've noticed there's a bug in Jupyter and sometimes the SVG from the page fetched doesn't show up... Anyways, you still get the idea whether it does or not."
   ]
  },
  {
   "cell_type": "code",
   "execution_count": 80,
   "id": "e64990be-b453-4dd1-8bbd-243b9f39ffac",
   "metadata": {},
   "outputs": [
    {
     "data": {
      "text/plain": [
       "Sat Dec  9 10:49:15 PM +04 2023"
      ]
     },
     "metadata": {},
     "output_type": "display_data"
    }
   ],
   "source": [
    "Cc.killThread tid\n",
    ":! date"
   ]
  },
  {
   "cell_type": "markdown",
   "id": "cdf9d242-915e-4ec5-9b30-9c3afbe75c50",
   "metadata": {},
   "source": [
    "<h2>Our objective: creating production grade modern web apps</h2>\n",
    "\n",
    "This is finally the conclusion of this whole notebook: being able to produce a _normal, modern, efficient_ web app, based on HTMX and Tailwind in the frontend, and with server-side rendering of templates filled with data provided by SQL queries and with websocket low-latency communications. That plus authentication, security, distributed computing, 3rd party APIs, Javascript/C++/Python ecosystems integration, ie the usual stuff.\n",
    "\n",
    "You've already seen how to deal with JSON, how to render HTML from either server-side DOM (Blaze) or Jinja templates (Ginger), how to query a Postgresql database using embedded SQL, and how to do HTTP operations (client & handler).\n",
    "\n",
    "And hopefully you have reached this cell in a _short_ amount of time.\n",
    "\n",
    "To do the final part, you'll finally encounter the power of the Haskell type system. This is because the wrap-up of everthing covered so far will happen using the [Servant](https://hackage.haskell.org/package/servant) package, a powerful web app server based on type combinators.\n",
    "\n",
    "The core idea of Servant is to enable us to use type equations to specify the API of our web service. By doing so, all kind of logic can be applied to automatically deduce the way endpoint routes are managed, how security is applied, how middleware modify the request & reply behaviors, how client-side code can be generated, how compliance code can be produced, etc."
   ]
  },
  {
   "cell_type": "markdown",
   "id": "1abb58a3-47f5-49a7-8017-59923c92dad5",
   "metadata": {},
   "source": [
    "In order to implement all the functionality in the notebook, we'll have to deal with a few limitations of the environment.  For some reason, I can't get the local module import to work if the module hasn't been implemented within the notebook, so you'll see the `WebServer.CorsPolicy` and `WebServer.JWT` modules in the coming cells, although that kind of helper logic should just be imported from local files.\n",
    "\n",
    "I put the language mode settings, the long list of imported packages and the 2 modules as collapsed cells.  You can have a look at the code if you want to, but it's really not necessary for getting in the main part of the implementation.\n",
    "\n",
    "Then to document the code with *markdown* cells I also had to define every symbol (function, type) before it is used.  That ended up putting the code in the opposite way I'd normally write it, eg I'd normally go top-down and write the main logic (`listen`) first then define more and more of the details used by the main logic. Hopefully it's an order that you can live with. Probably that some blocks will seem pretty abstract when they show up, and you'll have to wait for the code that uses what they define to better understand how the Servant system works."
   ]
  },
  {
   "cell_type": "code",
   "execution_count": 81,
   "id": "6609c5c4-c52f-423b-ae31-315f32fb3c11",
   "metadata": {
    "jupyter": {
     "source_hidden": true
    }
   },
   "outputs": [],
   "source": [
    "{-# LANGUAGE DataKinds #-}\n",
    "{-# LANGUAGE TypeApplications #-}\n",
    "{-# LANGUAGE TypeOperators #-}\n",
    "{-# LANGUAGE TypeFamilies #-}\n",
    "{-# LANGUAGE MultiParamTypeClasses #-}\n",
    "{-# LANGUAGE DeriveGeneric #-}\n",
    "{-# LANGUAGE DerivingStrategies #-}\n",
    "{-# LANGUAGE DeriveAnyClass #-}\n",
    "{-# LANGUAGE GeneralizedNewtypeDeriving #-}"
   ]
  },
  {
   "cell_type": "code",
   "execution_count": 82,
   "id": "c63ef626-d5cf-439a-9c34-ebc1bcbf5a9a",
   "metadata": {
    "jupyter": {
     "source_hidden": true
    }
   },
   "outputs": [],
   "source": [
    "import Control.Concurrent.Async (concurrently_)\n",
    "import Control.Exception (bracket)\n",
    "import Control.Monad (forever, void)\n",
    "import Control.Monad.Catch (MonadCatch, MonadMask, MonadThrow)\n",
    "import Control.Monad.Cont (runContT, ContT (..), Cont)\n",
    "import Control.Monad.Except (ExceptT, MonadError, withExceptT)\n",
    "import Control.Monad.IO.Class (MonadIO, liftIO)\n",
    "import Control.Monad.Reader (ReaderT, MonadReader, runReaderT, asks)\n",
    "import Control.Exception.Safe (tryAny)\n",
    "\n",
    "import Data.List.NonEmpty (NonEmpty (..))\n",
    "import qualified Data.Int as DI\n",
    "\n",
    "import Data.Aeson (FromJSON (..), ToJSON (..), Value (Object), (.:), (.:?), eitherDecode)\n",
    "\n",
    "import Network.Wai.Handler.Warp as Wr\n",
    "import Network.Wai.Parse (setMaxRequestKeyLength, defaultParseRequestBodyOptions)\n",
    "import Network.HTTP.Media ((//), (/:))\n",
    "import Network.Wai.Middleware.RequestLogger (logStdout)\n",
    "import Network.Wai.Middleware.Servant.Errors (errorMw)\n",
    "import qualified Network.WebSockets as Ws\n",
    "\n",
    "import GHC.Stack (HasCallStack)\n",
    "import Servant as Srv\n",
    "import Servant.API.Generic\n",
    "import Servant.API.ContentTypes (FormUrlEncoded)\n",
    "import Servant.Auth.Server (Auth, AuthResult (..), BasicAuth, BasicAuthCfg, CookieSettings (CookieSettings, cookieIsSecure)\n",
    "                  , IsSecure (NotSecure), FromBasicAuthData, JWT, JWTSettings, FromJWT (..), ToJWT (..), cookieIsSecure\n",
    "                  , defaultCookieSettings, defaultJWTSettings )\n",
    "import qualified Servant.Auth.Server as Sauth\n",
    "import Servant.Multipart (defaultMultipartOptions, MultipartOptions (..), Tmp)\n",
    "import Servant.Server.Generic (AsServerT, genericServerT)\n",
    "import Servant.API.WebSocket (WebSocket)\n",
    "import Web.FormUrlEncoded (FromForm (..))\n",
    "\n",
    "import System.Posix.Signals as Sgnl\n",
    "\n",
    "import qualified Text.Blaze.Htmx as A\n",
    "import qualified Text.Blaze.Html.Renderer.Utf8 as H\n",
    "import qualified Text.Blaze.Htmx as X\n",
    "import qualified Text.Blaze.Htmx.WebSockets as X\n"
   ]
  },
  {
   "cell_type": "markdown",
   "id": "e84b10cb-f38f-4bd9-9826-4e884ae02747",
   "metadata": {},
   "source": [
    "In a normal coding environment, the helper logic would just be brought into a the main definintions, like this:"
   ]
  },
  {
   "cell_type": "code",
   "execution_count": 83,
   "id": "b8911079-e26f-4290-93c6-f5573d628fe9",
   "metadata": {},
   "outputs": [],
   "source": [
    "-- Bring in the Cors Policy & JWT helpers to configure the HTTP handler.\n",
    "\n",
    "import WebServer.CorsPolicy (setCorsPolicy)\n",
    "import WebServer.JWT (generateKeyPairIO, readJWK)\n",
    "\n",
    "import qualified Options.Runtime as Ropt"
   ]
  },
  {
   "cell_type": "markdown",
   "id": "24b10c47-5ea2-4c84-9810-1941a59a8afe",
   "metadata": {},
   "source": [
    "Here are some structures and logic extensions that we'll use throughout the endpoint handlers."
   ]
  },
  {
   "cell_type": "markdown",
   "id": "d25153b1-fd7b-4ba8-92e5-7a394e37846d",
   "metadata": {},
   "source": [
    "The `AppEnv` structure will be used to represent a global state for the web server, and hold:\n",
    "\n",
    "- the JWT settings used most importantly to handle the encoding/decoding of JW tokens in HTTP requests\n",
    "- the global DB context to pass to handlers so they can do SQL operations,\n",
    "- the execution options that control the setup of the web server (we'll only use a port value)."
   ]
  },
  {
   "cell_type": "code",
   "execution_count": 84,
   "id": "0f8d09d3-9015-4a91-b20a-6cb758d8eb91",
   "metadata": {},
   "outputs": [],
   "source": [
    "data AppEnv = AppEnv {\n",
    "    jwtSettings :: JWTSettings\n",
    "  , rtOptions :: Ropt.RunOptions\n",
    "  , dbCtxt :: Maybe DbC.Connection\n",
    "  }"
   ]
  },
  {
   "cell_type": "markdown",
   "id": "c98c1a13-35cf-4d26-9c4e-c10439ea64c8",
   "metadata": {},
   "source": [
    "The `HTML` type is a place holder to tag the result of an endpoint handler with a MIME type (text/html) to be returned to the requesting client.\n",
    "The `RawHtml` is a demo of how to pass results back up the responder chain; in this case we'll only use it to hold some textual data, eg a long string that is a HTML page that needs to be sent back to the client.  But in real-life you could see a more complex kind of definition where the `instance MimeRender HTML RawHtml` logic extension could do all kind of post-processing to compute the data actually sent back to the client."
   ]
  },
  {
   "cell_type": "code",
   "execution_count": 85,
   "id": "817557f7-14a8-4487-a494-12f96ca8a7b4",
   "metadata": {},
   "outputs": [],
   "source": [
    "data HTML = HTML\n",
    "newtype RawHtml = RawHtml { rawContent :: LBS.ByteString }\n",
    "\n",
    "instance Accept HTML where\n",
    "  contentType _ = \"text\" // \"html\" /: (\"charset\", \"utf-8\")\n",
    "\n",
    "instance MimeRender HTML RawHtml where\n",
    "  mimeRender _ = rawContent"
   ]
  },
  {
   "cell_type": "markdown",
   "id": "1d82604d-933e-4aa3-b129-824ec5e72c61",
   "metadata": {},
   "source": [
    "By the way instead of defining the `RawHtml` type with the `data` keyword, here the alternative `newtype` keyword is used instead. A `newtype` still creates a type, but it's a more constraint kind of structure with less runtime overhead; for example, it contains only one value in a record.  Using `data` would also work fine but doing so gets the compiler to complain that a `newtype` is better...\n",
    "\n",
    "To handle secure data exchange between client and server we pass a JWT, which will contain securely the `SessionContext` structure. The conversion from/to JSON and the encryption/decryption are implemented by doing a derivation of the `FromJSON`, `ToJSON`, `FromJWT` and `ToJWT` classes (which aren't OO classes!), which automagically makes everything work. "
   ]
  },
  {
   "cell_type": "code",
   "execution_count": 86,
   "id": "58ae58a1-2698-4f71-9c4a-0f7944e9cbc6",
   "metadata": {},
   "outputs": [],
   "source": [
    "newtype SessionContext = SessionContext {\n",
    "    sessionID :: DI.Int32\n",
    "  }\n",
    "  deriving stock Generic\n",
    "  deriving anyclass (FromJSON, ToJSON, FromJWT, ToJWT)"
   ]
  },
  {
   "cell_type": "markdown",
   "id": "2497ed0e-82d6-422a-a90e-0ca688b459b0",
   "metadata": {},
   "source": [
    "To authenticate itself, the client will send a simple JSON block with a `identity` and `trust` values, which the `LoginForm` structure provides. If the authentication succeeds, the client will receive a JSON block with a context and an encrypted JWT, which is provided by the `LoginResult` structure.  Same thing here, the `FromJSON` and `ToJSON` derivation take core of the conversion process automagically."
   ]
  },
  {
   "cell_type": "code",
   "execution_count": 87,
   "id": "3e39ea78-dc51-4a3b-8aa0-14edef1190b4",
   "metadata": {},
   "outputs": [],
   "source": [
    "data LoginForm = LoginForm {\n",
    "  identity :: T.Text\n",
    "  , trust :: T.Text\n",
    "  }\n",
    "  deriving stock (Eq, Show, Generic)\n",
    "  deriving anyclass (ToJSON, FromJSON)\n",
    "\n",
    "data LoginResult = LoginResult {\n",
    "    context :: SessionContext\n",
    "    , jwt :: T.Text\n",
    "  }\n",
    "  deriving stock Generic\n",
    "  deriving anyclass (ToJSON)"
   ]
  },
  {
   "cell_type": "markdown",
   "id": "7fc76242-7fcd-41a5-b2f9-19b9462a1220",
   "metadata": {},
   "source": [
    "One endpoint provides a search feature.  The client will use a *HTML* `form` element to implement the capture and transmission of the needle to find; the `SearchContent` structure represents that and it is derived with `FromForm` to trigger automatically the conversion from the HTTP request *application/x-www-form-urlencoded* data into a Haskell `Text` value. "
   ]
  },
  {
   "cell_type": "code",
   "execution_count": 88,
   "id": "54c19424-c861-4e87-920c-98ff99ce1df6",
   "metadata": {},
   "outputs": [],
   "source": [
    "newtype SearchContent = SearchContent {\n",
    "    needle :: T.Text\n",
    "  }\n",
    "  deriving stock (Eq, Show, Generic)\n",
    "  deriving anyclass (FromForm)"
   ]
  },
  {
   "cell_type": "markdown",
   "id": "572230b8-7691-4501-928a-53d14a999f1c",
   "metadata": {},
   "source": [
    "We finally get to an important part of the web server implementation: the route definitions. Using Servant combinators, the routes are explained as a set of structure definitions, the top-level one being `ServerRoutes`.\n",
    "\n",
    "Servant routing specification is great for large-scale systems. To demo that point, we split the routing at the top-level into two branches: the `anonymous` and `authenticated` ones.  Nothing special happens for the `anonymous` branch and the definition just continues at the `AnonymousRoutes` type, but you can already see some processing specification that happens for the `authenticated` branch.\n",
    "\n",
    "The\n",
    "\n",
    " ```route :- Auth '[JWT, Sauth.BasicAuth] SessionContext :> ToServantApi AuthenticatedRoutes```\n",
    "\n",
    "type equation means that first the request handling logic will extract authentication and session information before it is passed to the next level, defined in the `AuthenticatedRoutes` type. The `'[...]`, `:-` and `:>` symbols are functions, and further more they happen to be type-level functions (the Servant **combinators**), ie they operate with types rather than values (for the heavy-duty functional folks: that's 2nd order logic).\n",
    "\n",
    "The end-result of Servant advanced type operations is that we can name routes easily, we can group routes in logical groups, we can assemble route definitions, and we can specify formally the data structures that will come in and out of the HTTP request processing and handling. For the API that grows, this leads to serious time saving during refactoring, cleaning and testing."
   ]
  },
  {
   "cell_type": "code",
   "execution_count": 89,
   "id": "fbe27ed2-4990-4858-a530-70a37a8d3cf8",
   "metadata": {},
   "outputs": [],
   "source": [
    "data ServerRoutes route = ServerRoutes {\n",
    "    anonymous :: route :- ToServantApi AnonymousRoutes\n",
    "    , authenticated :: route :- Auth '[JWT, Sauth.BasicAuth] SessionContext :> ToServantApi AuthenticatedRoutes\n",
    "  }\n",
    "  deriving (Generic)\n",
    "\n",
    "\n",
    "data AnonymousRoutes route = AnonymousRoutes { \n",
    "    login :: route :- \"inlogin\" :> ReqBody '[JSON] LoginForm :> Post '[JSON] LoginResult\n",
    "    , staticLink :: route :- \"xstatic\" :> CaptureAll \"path\" String :> Get '[HTML] RawHtml\n",
    "    , stream :: route :- \"stream\" :> WebSocket\n",
    "    , search :: route :- \"xsearch\" :> ReqBody '[FormUrlEncoded] SearchContent :> Post '[HTML] RawHtml\n",
    "    , homePage :: route :- Get '[HTML] RawHtml\n",
    "  }\n",
    "  deriving (Generic)\n",
    "\n",
    "\n",
    "newtype AuthenticatedRoutes route = AuthenticatedRoutes { \n",
    "    privateAccess :: route :- \"private\" :> ToServantApi PrivateRoutes\n",
    "  }\n",
    "  deriving (Generic)\n",
    "\n",
    "\n",
    "newtype PrivateRoutes route = PrivateRoutes { \n",
    "    getPage :: route :- \"static\" :> Capture \"path\" String :> Get '[HTML] RawHtml\n",
    "  }\n",
    "  deriving (Generic)"
   ]
  },
  {
   "cell_type": "markdown",
   "id": "1816b1a6-808c-4f7e-858e-b1d9c43d4e5f",
   "metadata": {},
   "source": [
    "The `AnonymousRoutes` then specify 5 routes; you can probably guess what is going already if you read those 5 definitions:\n",
    "\n",
    "- the `login` route is at _/inlogin_ (first part), it expects a JSON block from the client in the form of `LoginForm` (`ReqBody ...`), it comes in as a POST request and the handler will provide a `LoginResult` that will sent back as a JSON block (`Post ...`).  That's the route a client uses to authenticate itself.\n",
    "- the `staticLink` route is at _/xstatic_, it expects more segments in the URL and that will be globbed up as a list of strings (`CaptureAll ...`; the `path` identifier is just a place-holder), it comes as a GET request and the handler will return some long text that the client will get as *text/html* content (` '[HTML] RawHtml`).\n",
    "- the `stream` route is at _/stream_, and it's going to operate as a websocket connection.\n",
    "- the `search` route is at _/xsearch_, it expects a *urlencoded* form in the URL in the form of `SearchContent`, it comes in as a POST request and the handler will return some long text that the client (it's starting to be repetitive).\n",
    "- the `homePage` route is _/_, it simply comes in as GET request and returns *text/html*, ie a the HTML for the home page."
   ]
  },
  {
   "cell_type": "markdown",
   "id": "7eda1671-6345-445e-9586-641c068cdfe3",
   "metadata": {},
   "source": [
    "The `AuthenticatedRoutes is simply a grouping that prefixes the authenticated routes to _/private_ and forwards to `PrivateRoutes` definitions, again some overhead just to show the convenient structuring of route definitions in Servant.\n",
    "\n",
    "Finally the `PrivatesRoutes` defines a `getPage` route located at _/private/static_, which will glob the rest of the URL, comes in as a GET and for which the handler will return a HTML page, just like the anonymous static handler."
   ]
  },
  {
   "cell_type": "markdown",
   "id": "37c70676-aaf8-4623-bf65-11dfb9e89003",
   "metadata": {},
   "source": [
    "That will be it for the routes of our web service.  Now that these are specified as types, the entire conformance and meta-programming power of Haskell is available to analyse the specifications, and generate all kind of further results.  There's no extra description file required, no pre-processing or boiler-plate code generation required.\n",
    "\n",
    "Also the meta-programming power of Haskell is available to create these routes from other specifications, for example the [Morpheus](https://hackage.haskell.org/package/morpheus-graphql) package provide you with the ability to read a GraphQL spec file during compilation and deduce the entire API within the compilation pass, ie there's no boiler-plate code or temp files to deal with. No pre-compilation, no transpilation, no post-tweaking."
   ]
  },
  {
   "cell_type": "markdown",
   "id": "e3a4e5b6-6dd3-4753-9fc3-33201b119e8e",
   "metadata": {},
   "source": [
    "The `DemoServiceError` structure provides a specific error management for our handlers, ie during processing the handlers can throw these kind of errors and the Servant logic will glue them back into a response for the client's request.  The `asHttpError` function does the conversion from our web service error system to standard HTTP results."
   ]
  },
  {
   "cell_type": "code",
   "execution_count": 90,
   "id": "c0f46963-05b6-4d6d-83ee-2d8fdecd7e96",
   "metadata": {},
   "outputs": [],
   "source": [
    "data DemoServiceError\n",
    "  = NotImplemented\n",
    "  | UnexpectedError T.Text\n",
    "  | NotAuthorized T.Text\n",
    "  | Unaccessible\n",
    "  | NotFound T.Text\n",
    "  deriving stock (Generic, Show, Eq)\n",
    "  deriving anyclass (ToJSON, FromJSON)\n",
    "\n",
    "\n",
    "asHttpError :: DemoServiceError -> ServerError\n",
    "asHttpError err =\n",
    "  case err of\n",
    "    Unaccessible -> err401 { errBody = \"Resource not accessible.\" }\n",
    "    NotImplemented -> err500 { errBody = \"Not Implemented.\" }\n",
    "    UnexpectedError x -> err500 { errBody = textToLBS x }\n",
    "    NotAuthorized x -> err401 { errBody = textToLBS x }\n",
    "    NotFound x -> err404 { errBody = textToLBS x }\n",
    "  where\n",
    "    textToLBS = LBS.fromStrict . T.encodeUtf8"
   ]
  },
  {
   "cell_type": "markdown",
   "id": "d59f9519-504e-493f-bcdc-64fea5e40016",
   "metadata": {},
   "source": [
    "Finally we define the *glue* type `WebApp` that will give an execution context to the all the handlers (monad stuff) in Servant main control logic. The important thing here is to specify the global data context `AppEnv` and the error management we use, `DemoServiceError`. Note that the `WebApp` type is parametrized as the return structure used by each route handler is specific to the route."
   ]
  },
  {
   "cell_type": "code",
   "execution_count": 91,
   "id": "50cb2d2f-cde5-4d7d-ac78-06fe20c8d925",
   "metadata": {},
   "outputs": [],
   "source": [
    "newtype WebApp a = WebApp { \n",
    "    runApp :: ReaderT AppEnv (ExceptT DemoServiceError IO) a\n",
    "  }\n",
    "  deriving newtype (\n",
    "    Functor, Applicative, Monad, MonadMask, MonadCatch, MonadThrow\n",
    "    , MonadReader AppEnv, MonadIO, MonadError DemoServiceError\n",
    "  )"
   ]
  },
  {
   "cell_type": "markdown",
   "id": "b1964652-ac1a-4b1b-add2-c02922736ef4",
   "metadata": {},
   "source": [
    "Then comes a first route handler, `loginHandler`, which will get a LoginForm as a parameter and will return a LoginResult. Remembering the route definintions, this will be attached a bit further down in the *handler associations* section to take care of the _/inlogin_ endpoint (I definitely prefer a top-down than bottom-up approach).\n",
    "\n",
    "As this is a demo without a real authentification system, the `loginHandler` simply pulls out JWT stuff with:\n",
    "\n",
    "   ```asks jwtSettings```\n",
    "\n",
    "which extracts the info from the `jwtSettings` field in the `AppEnv` value that represents the global runtime context (here's part of Haskell monad magic at work). If there's no problem dong so, it builds a new encrypted token with a fake `SessionContext` and puts that into a `LoginResult` value that is the result of the `loginHandler` call.  If there's a problem, an `UnexpectedError` is thrown.\n",
    "\n",
    "In a production environment, the authentication system would be provided in the `AppEnv` value, and it would be used to assess the validity of the login data; or alternatively a 3rd-party authentication system would have already provided a JWT for the client and it would simply be verified by loginHandler, ie there would be no `LoginForm` at play and instead the route definition would specify how the JWT shows up (in headers, as a URL parameter, etc)."
   ]
  },
  {
   "cell_type": "code",
   "execution_count": 92,
   "id": "68a63fe2-d8fa-4cf3-bc27-5005a75b0cfb",
   "metadata": {},
   "outputs": [],
   "source": [
    "loginHandler :: LoginForm -> WebApp LoginResult\n",
    "loginHandler form = do\n",
    "  settings <- asks jwtSettings\n",
    "  jwtRez <- liftIO $ Sauth.makeJWT (SessionContext 1) settings Nothing\n",
    "  case jwtRez of\n",
    "    Left err ->\n",
    "      throwError . UnexpectedError . T.pack $ show err\n",
    "    Right jwtValue ->\n",
    "      pure $ LoginResult {\n",
    "          context = SessionContext 1\n",
    "          , jwt = T.decodeUtf8 . LBS.toStrict $ jwtValue\n",
    "        }"
   ]
  },
  {
   "cell_type": "markdown",
   "id": "655564cb-cd74-416c-b42b-1574b286c7dd",
   "metadata": {},
   "source": [
    "Our `homePage` handler is picking up a Jinja template, putting some values in its render context from the DB without any caching or pooling to keep it simple, and sends that back as the result to the client."
   ]
  },
  {
   "cell_type": "code",
   "execution_count": 93,
   "id": "2733c98b-3e79-4219-bd9d-e6000a1a88d6",
   "metadata": {},
   "outputs": [],
   "source": [
    "derefLabelB needle =\n",
    "  Gi.toGVal $ Mp.lookup needle demoData_1\n",
    "\n",
    "loadTemplateB aTemplate = do\n",
    "  either (error . show) id . runIdentity $\n",
    "    Gi.parseGinger (const $ return Nothing) Nothing aTemplate\n",
    "\n",
    "homePageHandler :: WebApp RawHtml\n",
    "homePageHandler = do\n",
    "  template <- liftIO $ Prelude.readFile \"xstatic/templates/templ_4.html\"\n",
    "  let\n",
    "    genHtml = Gi.htmlSource $ Gi.runGinger (Gi.makeContextHtml derefLabelB) (loadTemplateB template)\n",
    "  pure . RawHtml . LBS.fromStrict . T.encodeUtf8  $ genHtml\n"
   ]
  },
  {
   "cell_type": "markdown",
   "id": "fb4a5599-b362-4afa-a79d-ca3edb26066d",
   "metadata": {},
   "source": [
    "The `searchHandler` is intended to respond to a HTMX request, so it will reply with HTML-formatted content where the initial values are fetched from the DB:"
   ]
  },
  {
   "cell_type": "code",
   "execution_count": 94,
   "id": "05d310e0-8e37-4b3b-80fe-9bc877ca4fb2",
   "metadata": {},
   "outputs": [],
   "source": [
    "searchHandler :: SearchContent -> WebApp RawHtml\n",
    "searchHandler searchContent = do\n",
    "  mbDbCtxt <- asks dbCtxt\n",
    "  dbVal <- case mbDbCtxt of\n",
    "    Just conn -> do\n",
    "      rezA <- liftIO $ Se.run (simpleQuery searchContent.needle) conn\n",
    "      case rezA of\n",
    "        Left err -> pure . Left $ show err\n",
    "        Right mbVal -> pure $ Right mbVal\n",
    "    Nothing -> throwError . UnexpectedError $ \"No database available.\"\n",
    "  let\n",
    "    genHtml = Gi.htmlSource $ Gi.runGinger (Gi.makeContextHtml (derefGhProj dbVal)) (loadTemplate template_2)\n",
    "  pure . RawHtml . LBS.fromStrict . T.encodeUtf8  $ genHtml"
   ]
  },
  {
   "cell_type": "markdown",
   "id": "1226610f-36d4-4d73-a940-17191300dd74",
   "metadata": {},
   "source": [
    "The `anonStaticHandler` simply loads up files from the *xstatic/assets* local notebook directory and sends that data back to the client as a *text/html* reply."
   ]
  },
  {
   "cell_type": "code",
   "execution_count": 95,
   "id": "0712c699-6642-4161-b0aa-e1d6ad007482",
   "metadata": {},
   "outputs": [],
   "source": [
    "anonStaticHandler :: [ String ] -> WebApp RawHtml\n",
    "anonStaticHandler pageUrls = do\n",
    "  let\n",
    "    fullPath = Prelude.foldl (\\accum segment -> accum <> \"/\" <> segment) \"xstatic\" pageUrls\n",
    "  pageContent <- liftIO $ LBS.readFile fullPath\n",
    "  pure . RawHtml $ pageContent"
   ]
  },
  {
   "cell_type": "markdown",
   "id": "d672344b-c044-4579-a24c-d317fcaad1c9",
   "metadata": {},
   "source": [
    "The `prvStaticHandler` does the same job as the `anonStaticHandler`, but it gets authentication and session information so it can allow/block or modify content access based on that. But for the sake of simplicity in this demo it's not dealing with that information."
   ]
  },
  {
   "cell_type": "code",
   "execution_count": 96,
   "id": "3408357f-ecd3-4ad2-9fc4-0d754706b360",
   "metadata": {},
   "outputs": [],
   "source": [
    "prvStaticHandler :: AuthResult SessionContext -> String -> WebApp RawHtml\n",
    "prvStaticHandler authResult pageUrl =\n",
    "  case authResult of\n",
    "    Authenticated context ->\n",
    "      -- TODO: fetch an interesting piece of information in HTML.\n",
    "      let\n",
    "        content = H.renderHtml $ H.div $ H.toHtml $ T.pack . show $ context.sessionID\n",
    "      in\n",
    "        pure $ RawHtml content\n",
    "    _ ->\n",
    "      throwError . NotAuthorized . T.pack $ pageUrl"
   ]
  },
  {
   "cell_type": "markdown",
   "id": "e3e7253f-36e8-464a-b4cf-6e2483128339",
   "metadata": {},
   "source": [
    "Finally we have the `streamHandler`, which will receive to requests over a websocket connection with a client and will reply on the same connection with HTML-formatted data, as it is intented to be use by a HTMX-enabled element."
   ]
  },
  {
   "cell_type": "code",
   "execution_count": 97,
   "id": "9aa76418-5130-4643-92ad-8fa2508462a7",
   "metadata": {},
   "outputs": [],
   "source": [
    "streamHandler :: MonadIO m => Ws.Connection -> m ()\n",
    "streamHandler conn = do\n",
    "  liftIO $ Ws.withPingThread conn 30 (pure ()) $ do\n",
    "    -- liftIO $ Ws.sendTextData conn (\"<div id=\\\"notifications\\\" hx-swap-oob=\\\"beforeend\\\">Some message</div?\" :: ByteString)\n",
    "    handleClient\n",
    "  where\n",
    "    handleClient = do\n",
    "      rezA <- tryAny $ forever receiveStream\n",
    "      case rezA of\n",
    "        Left err -> do\n",
    "          liftIO . putStrLn $ \"@[streamHandler] situation: \" <> show err\n",
    "          closeConnection\n",
    "        Right _ -> do\n",
    "          liftIO $ putStrLn \"@[streamHandler] client disconnected.\"\n",
    "          pure ()\n",
    "\n",
    "    receiveStream = do\n",
    "      rezA <- Ws.receiveDataMessage conn\n",
    "      case rezA of\n",
    "        Ws.Text msg decodedMsg ->\n",
    "          let\n",
    "            hxMsg = eitherDecode msg :: Either String HxWsMessage\n",
    "          in\n",
    "          case hxMsg of\n",
    "            Left err -> do\n",
    "              putStrLn $ \"@[receiveStream] invalid HxWsMessage: \" <> (T.unpack . T.decodeUtf8 . LBS.toStrict) msg\n",
    "              putStrLn $ \"@[receiveStream] error: \" <> show err\n",
    "            Right hxMsg ->\n",
    "              Ws.sendTextData conn $ H.renderHtml $ htmxReply hxMsg.wsMessage\n",
    "        Ws.Binary msg ->\n",
    "          putStrLn \"@[receiveStream] received binary.\"\n",
    "    \n",
    "    closeConnection = do\n",
    "      Ws.sendClose conn (\"Bye\" :: ByteString)\n",
    "      void $ Ws.receiveDataMessage conn\n",
    "\n",
    "    htmxReply aMessage =\n",
    "      H.tbody H.! A.id \"notifications\" H.! X.hxSwapOob \"beforeend\" $ do\n",
    "        H.tr $ do\n",
    "          H.td H.! A.class_ \"px-6 py-4 whitespace-nowrap text-sm text-slate-900\" $ H.toHtml aMessage\n",
    "                \n",
    "\n",
    "data HxWsHeaders = HxWsHeaders {\n",
    "    request :: T.Text\n",
    "    , trigger :: T.Text\n",
    "    , triggerName :: Maybe T.Text\n",
    "    , target :: T.Text\n",
    "    , currentURL :: T.Text\n",
    "  }\n",
    "  deriving stock (Show, Generic)\n",
    "\n",
    "instance FromJSON HxWsHeaders where\n",
    "  parseJSON (Object obj) = HxWsHeaders <$>\n",
    "    obj .: \"HX-Request\"\n",
    "    <*> obj .: \"HX-Trigger\"\n",
    "    <*> obj .:? \"HX-Trigger-Name\"\n",
    "    <*> obj .: \"HX-Target\"\n",
    "    <*> obj .: \"HX-Current-URL\"\n",
    "\n",
    "\n",
    "data HxWsMessage = HxWsMessage {\n",
    "    wsMessage :: T.Text\n",
    "    , headers :: HxWsHeaders\n",
    "  }\n",
    "  deriving (Show, Generic)\n",
    "\n",
    "\n",
    "instance FromJSON HxWsMessage where\n",
    "  parseJSON (Object obj) = HxWsMessage <$>\n",
    "    obj .: \"ws-message\"\n",
    "    <*> obj .: \"HEADERS\""
   ]
  },
  {
   "cell_type": "markdown",
   "id": "6cb4fe5d-84f1-4d4c-8e50-8495a7b800a8",
   "metadata": {},
   "source": [
    "The HTMX logic on the client is using a JSON block to encapsulate the request from the client, so we build the `hxWsMessage` and `HxWsHeaders` structures to take care of that, extending the `FromJSON` logic to match the format used by HTMX. In this case, the `instance FromJSON HxWsHeaders` function isn't as simple as for example the **Go** annotation, but if one does a bit of research there's a camel-case formating function in some Haskell package that can implement automatic field name rewriting and that would be more efficient to use."
   ]
  },
  {
   "cell_type": "markdown",
   "id": "ff4ad6fa-2c14-4d6d-a447-7c993a5e2e91",
   "metadata": {},
   "source": [
    "We're almost done! After having defined the routes and handlers, we connect them together in the next block of code by specifying functions that use Servant's `genericServerT` connector and creating a value for each of the route types we've created a few cells ago and associating the handler function that implement the endpoint.\n",
    "\n",
    "The ultimate glue point for all these specifications to Servant general request handling logic is the weird looking\n",
    "\n",
    "    serverApiProxy :: Proxy (ToServantApi ServerRoutes)\n",
    "    serverApiProxy = Proxy\n",
    "\n",
    "It's a typing trick of Haskell, where the important part is the type definition `Proxy (ToServantApi ServerRoutes)` for the function `serverApiProxy`.  That will be analyzed by the compiler to figure out all kind of futher logic expansion using the definitions of `ServerRoutes`. The actual implementation is just providing a generic value of that type, using the constant `Proxy` value constructor, and has no real use."
   ]
  },
  {
   "cell_type": "code",
   "execution_count": 98,
   "id": "0c5b1a60-38c9-4967-9119-164413b76de0",
   "metadata": {},
   "outputs": [],
   "source": [
    "-- Handler associations:\n",
    "serverApiProxy :: Proxy (ToServantApi ServerRoutes)\n",
    "serverApiProxy = Proxy\n",
    "\n",
    "\n",
    "serverApiT :: ToServant ServerRoutes (AsServerT WebApp)\n",
    "serverApiT =\n",
    "  genericServerT $ ServerRoutes {\n",
    "    anonymous = anonHandlers\n",
    "    , authenticated = authHandlers\n",
    "  }\n",
    "\n",
    "\n",
    "anonHandlers :: ToServant AnonymousRoutes (AsServerT WebApp)\n",
    "anonHandlers =\n",
    "  genericServerT $ AnonymousRoutes {\n",
    "    login = loginHandler\n",
    "    , staticLink = anonStaticHandler\n",
    "    , stream = streamHandler\n",
    "    , homePage = homePageHandler\n",
    "    , search = searchHandler\n",
    "  }\n",
    "\n",
    "\n",
    "authHandlers :: AuthResult SessionContext -> ToServant AuthenticatedRoutes (AsServerT WebApp)\n",
    "authHandlers authResult =\n",
    "  genericServerT $ AuthenticatedRoutes {\n",
    "    privateAccess = prvStaticHandler authResult\n",
    "  }"
   ]
  },
  {
   "cell_type": "markdown",
   "id": "79fb191b-2fe2-494c-be50-3845f77ae9fe",
   "metadata": {},
   "source": [
    "As the web service uses *form/url-encoded* authentication, there's a logic extension provided for our `SessionContext` structure which could do some validation and book-keeping, but in this demo, it will just pass on the logic to the default validation function supplied, `authCheckFun`."
   ]
  },
  {
   "cell_type": "code",
   "execution_count": 99,
   "id": "a3b1b8f7-deed-48a3-b9e4-d968448eb8f1",
   "metadata": {},
   "outputs": [],
   "source": [
    "type instance BasicAuthCfg = Srv.BasicAuthData -> IO (AuthResult SessionContext)\n",
    "instance FromBasicAuthData SessionContext where\n",
    "  fromBasicAuthData authData authCheckFun = authCheckFun authData"
   ]
  },
  {
   "cell_type": "markdown",
   "id": "c0bb1854-5558-4c1f-9818-06b391169f28",
   "metadata": {},
   "source": [
    "We have reached the operation side of running a web service! First, the WAI control is defined, where the listen port, the pre-processing logic (`showBanner`!) and the process interruption management are defined."
   ]
  },
  {
   "cell_type": "code",
   "execution_count": 100,
   "id": "b37dc21d-e7d6-4cb5-8718-3900b8fbb147",
   "metadata": {},
   "outputs": [],
   "source": [
    "setupWai :: Int -> IO () -> Settings\n",
    "setupWai port shutdownCallback =\n",
    "  Wr.setPort port . Wr.setGracefulShutdownTimeout (Just 5) . Wr.setInstallShutdownHandler shutdownHandler\n",
    "    . setBeforeMainLoop showBanner\n",
    "    $ Wr.defaultSettings\n",
    "  where\n",
    "    showBanner =\n",
    "      putStrLn $ \"@[setupWai] using port: \" <> show port\n",
    "    shutdownHandler closeSocket = do\n",
    "      void $ installHandler Sgnl.sigTERM (Catch $ shutdownCallback >> closeSocket) Nothing\n",
    "      void $ installHandler Sgnl.sigINT (Catch $ shutdownCallback >> closeSocket) Nothing\n",
    "      void $ installHandler Sgnl.sigQUIT (Catch $ shutdownCallback >> closeSocket) Nothing\n",
    "      void $ installHandler Sgnl.sigHUP (Catch $ shutdownCallback >> closeSocket) Nothing"
   ]
  },
  {
   "cell_type": "markdown",
   "id": "fd5e3c00-3ad4-4484-9f99-980ef5faef00",
   "metadata": {},
   "source": [
    "Then the `runAPI` is the overall bootstrap logic for the servicing. It takes care of setting up the JWT encryption components, the DB connection, it puts the middlewares in place (logging, multi-part requests handler, CORS policy handlers), creates the global context `appEnv` that each handler will work with, "
   ]
  },
  {
   "cell_type": "code",
   "execution_count": 101,
   "id": "734c1054-e939-4a20-b8cc-7ddcb562a967",
   "metadata": {},
   "outputs": [],
   "source": [
    "runAPI ::  Ropt.RunOptions -> IO Application\n",
    "runAPI rtOpts = do\n",
    "  -- Initialize the JWT parameters:\n",
    "  myKey <- case rtOpts.jwkConfFile of\n",
    "    Nothing ->\n",
    "      generateKeyPairIO \"/tmp/jwk.json\"\n",
    "    Just aPath ->\n",
    "      readJWK aPath\n",
    "\n",
    "  -- Initialize the DB parameters:\n",
    "  eiConn <- DbC.acquire $ DbC.settings \"db.dyqmhgvkpvltnfibeuyh.supabase.co\" 5432 \"demoa\" \"justForDemo\" \"demoha\"\n",
    "  case eiConn of\n",
    "    Left err ->\n",
    "      putStrLn $ \"@[runAPI] db connection err: \" <> show err\n",
    "    Right _ -> pure ()\n",
    "\n",
    "  -- pure computations:\n",
    "  let\n",
    "    cookieCfg = defaultCookieSettings { cookieIsSecure = NotSecure }\n",
    "    jwtDefSettings  = Sauth.defaultJWTSettings myKey\n",
    "    -- For file upload support, will be used in next demo:\n",
    "    multipartOpts = (defaultMultipartOptions (Proxy :: Proxy Tmp)) { \n",
    "          generalOptions = setMaxRequestKeyLength 512 defaultParseRequestBodyOptions\n",
    "      }\n",
    "\n",
    "    -- Define the overall Servant pre-processing required on requests:\n",
    "    runContext = cookieCfg :. jwtDefSettings :. fakeSessionValidation :. multipartOpts :. EmptyContext\n",
    "    runCtxtProxy = Proxy :: Proxy '[CookieSettings, JWTSettings, BasicAuthCfg]\n",
    "\n",
    "    -- activate some middlewares for loggin, CORS, standardized error handling:\n",
    "    middlewares = linkUp $ id :| case rtOpts.corsPolicy of\n",
    "      Nothing -> [ logStdout, errorMw @JSON @'[\"message\", \"status\" ] ]\n",
    "      Just aPolicy -> [ logStdout, setCorsPolicy aPolicy, errorMw @JSON @'[\"message\", \"status\" ] ]\n",
    "\n",
    "    mbDbConn = case eiConn of Left _ -> Nothing ; Right aConn -> Just aConn\n",
    "    -- define the global runtime context for handlers:\n",
    "    appEnv = AppEnv { jwtSettings = jwtDefSettings, rtOptions = rtOpts, dbCtxt = mbDbConn }\n",
    "    -- link all that stuff in Servant magic:\n",
    "    server = hoistServerWithContext serverApiProxy runCtxtProxy (toHandler appEnv) serverApiT\n",
    "\n",
    "  -- launch the servicing:\n",
    "  pure $ middlewares $ serveWithContext serverApiProxy runContext server\n",
    "  where\n",
    "    linkUp :: NonEmpty (a -> a) -> a -> a\n",
    "    linkUp = Prelude.foldr1 (.)\n",
    "\n",
    "    -- | Boilerplate transformation between our service structures and Servant's 'Handler' monad:\n",
    "    toHandler :: AppEnv -> WebApp a -> Srv.Handler a\n",
    "    toHandler e =\n",
    "      Handler . withExceptT asHttpError . flip runReaderT e . runApp\n",
    "\n",
    "    fakeSessionValidation :: BasicAuthData -> IO (AuthResult SessionContext)\n",
    "    fakeSessionValidation _ =\n",
    "      pure $ Authenticated $ SessionContext 1"
   ]
  },
  {
   "cell_type": "markdown",
   "id": "611a734f-be45-418b-8c89-027ee568b86d",
   "metadata": {},
   "source": [
    "Finally here's the main function for executing the service: `listen`. It's using the [Continuations](https://hackage.haskell.org/package/mtl-2.3.1/docs/Control-Monad-Cont.html) package, which is Haskell ecosystem main formalization for for high-level complex processing environments where there will be multiple processes, interruptions, initialization and cleanup requirements, and etc.  The function is most importantly a call to `runContT` which in turn will invoke:\n",
    "\n",
    "    webHandling <- runAPI rtOpts\n",
    "\n",
    "that sets up all the servicing logic for execution, and then\n",
    "\n",
    "    runSettings settings webHandling\n",
    "\n",
    "that will create the WAI HTTP listener and starts Servant main request processing logic.\n",
    "\n",
    "Additionally it defines what happens before, after, how to gracefully shutdown the process, etc, which in this demo is all mock logic."
   ]
  },
  {
   "cell_type": "code",
   "execution_count": 102,
   "id": "c0c68ab8-e79e-4f51-92cb-2105886bf472",
   "metadata": {},
   "outputs": [],
   "source": [
    "listen :: Ropt.RunOptions -> IO ()\n",
    "listen rtOpts = do\n",
    "  let\n",
    "    fakeContT = ContT $ bracket (fakeContFct \"dummy.\") fakeEndFct\n",
    "  runContT fakeContT finalAction\n",
    "  where\n",
    "  finalAction dummy = do\n",
    "    let shutdownCallback = putStrLn \"@[finalAction] empty termination callback.\"\n",
    "        settings = setupWai rtOpts.webServer.port shutdownCallback\n",
    "    webHandling <- runAPI rtOpts\n",
    "    Wr.runSettings settings webHandling\n",
    "\n",
    "  fakeContFct :: [a] -> IO Int\n",
    "  fakeContFct l = return (Prelude.length l)\n",
    "\n",
    "  fakeEndFct :: Int -> IO ()\n",
    "  fakeEndFct aNum = pure ()"
   ]
  },
  {
   "cell_type": "markdown",
   "id": "0e1fb0f9-8b01-4507-9431-8bf4c3a92a58",
   "metadata": {},
   "source": [
    "Like for the WAI/Warp example before, running the web service is done in a sub-thread with a call to the `forkIO` function.  The next line will spawn a full blown web server that is a realistic template for advanced and modern web app implementation:"
   ]
  },
  {
   "cell_type": "code",
   "execution_count": 244,
   "id": "d06cef6b-9b4c-4b3f-9b3d-1e42cb8ebdcd",
   "metadata": {},
   "outputs": [
    {
     "data": {
      "text/plain": [
       "Thu Dec  7 06:39:56 AM +04 2023"
      ]
     },
     "metadata": {},
     "output_type": "display_data"
    }
   ],
   "source": [
    "tid <- Cc.forkIO (listen defaultRun)\n",
    ":! date"
   ]
  },
  {
   "cell_type": "code",
   "execution_count": null,
   "id": "8081e5c6-1271-4fec-bfa1-f7a4c88b0d4a",
   "metadata": {},
   "outputs": [
    {
     "data": {
      "text/html": [
       "<style>/* Styles used for the Hoogle display in the pager */\n",
       ".hoogle-doc {\n",
       "display: block;\n",
       "padding-bottom: 1.3em;\n",
       "padding-left: 0.4em;\n",
       "}\n",
       ".hoogle-code {\n",
       "display: block;\n",
       "font-family: monospace;\n",
       "white-space: pre;\n",
       "}\n",
       ".hoogle-text {\n",
       "display: block;\n",
       "}\n",
       ".hoogle-name {\n",
       "color: green;\n",
       "font-weight: bold;\n",
       "}\n",
       ".hoogle-head {\n",
       "font-weight: bold;\n",
       "}\n",
       ".hoogle-sub {\n",
       "display: block;\n",
       "margin-left: 0.4em;\n",
       "}\n",
       ".hoogle-package {\n",
       "font-weight: bold;\n",
       "font-style: italic;\n",
       "}\n",
       ".hoogle-module {\n",
       "font-weight: bold;\n",
       "}\n",
       ".hoogle-class {\n",
       "font-weight: bold;\n",
       "}\n",
       "\n",
       ".get-type {\n",
       "color: green;\n",
       "font-weight: bold;\n",
       "font-family: monospace;\n",
       "display: block;\n",
       "white-space: pre-wrap;\n",
       "}\n",
       ".show-type {\n",
       "color: green;\n",
       "font-weight: bold;\n",
       "font-family: monospace;\n",
       "margin-left: 1em;\n",
       "}\n",
       ".mono {\n",
       "font-family: monospace;\n",
       "display: block;\n",
       "}\n",
       ".err-msg {\n",
       "color: red;\n",
       "font-style: italic;\n",
       "font-family: monospace;\n",
       "white-space: pre;\n",
       "display: block;\n",
       "}\n",
       "#unshowable {\n",
       "color: red;\n",
       "font-weight: bold;\n",
       "}\n",
       ".err-msg.in.collapse {\n",
       "padding-top: 0.7em;\n",
       "}\n",
       "\n",
       ".highlight-code {\n",
       "white-space: pre;\n",
       "font-family: monospace;\n",
       "}\n",
       "\n",
       ".suggestion-warning { \n",
       "font-weight: bold;\n",
       "color: rgb(200, 130, 0);\n",
       "}\n",
       ".suggestion-error { \n",
       "font-weight: bold;\n",
       "color: red;\n",
       "}\n",
       ".suggestion-name {\n",
       "font-weight: bold;\n",
       "}\n",
       "\n",
       "</style><div class=\"suggestion-name\" style=\"clear:both;\">Eta reduce</div><div class=\"suggestion-row\" style=\"float: left;\"><div class=\"suggestion-warning\">Found:</div><div class=\"highlight-code\" id=\"haskell\">hoistClientMonad _ _ f ma = f ma</div></div><div class=\"suggestion-row\" style=\"float: left;\"><div class=\"suggestion-warning\">Why Not:</div><div class=\"highlight-code\" id=\"haskell\">hoistClientMonad _ _ f = f</div></div>"
      ],
      "text/plain": [
       "Line 7: Eta reduce\n",
       "Found:\n",
       "hoistClientMonad _ _ f ma = f ma\n",
       "Why not:\n",
       "hoistClientMonad _ _ f = f"
      ]
     },
     "metadata": {},
     "output_type": "display_data"
    },
    {
     "ename": "",
     "evalue": "",
     "output_type": "error",
     "traceback": [
      "<interactive>:1:1: error:\n    Not in scope: data constructor ‘Servant.Client.Core.Request’\n    NB: no module named ‘Servant.Client.Core’ is imported."
     ]
    }
   ],
   "source": [
    "import Servant.Client\n",
    "Servant.Client.Core.Request\n",
    "\n",
    "instance HasClient ClientM WebSocket where\n",
    "  type Client m (Stream method status framing ct (Headers hs a)) = m (Headers hs a)\n",
    "\n",
    "  hoistClientMonad _ _ f ma = f ma\n",
    "\n",
    "  clientWithRoute _pm Proxy req = withStreamingRequest req' $ \\gres -> do\n",
    "      let mimeUnrender'    = mimeUnrender (Proxy :: Proxy ct) :: LBS.ByteString -> Either String chunk\n",
    "          framingUnrender' = framingUnrender (Proxy :: Proxy framing) mimeUnrender'\n",
    "      val <- fromSourceIO $ framingUnrender' $ responseBody gres\n",
    "      return $ Headers\n",
    "        { getResponse = val\n",
    "        , getHeadersHList = buildHeadersTo . toList $ responseHeaders gres\n",
    "        }\n",
    "\n",
    "    where\n",
    "      req' = req\n",
    "          { requestAccept = fromList [contentType (Proxy :: Proxy ct)]\n",
    "          , requestMethod = reflectMethod (Proxy :: Proxy method)\n",
    "          }\n",
    "\n",
    "loginC :<|> staticC :<|> streamC :<|> homeC :<|> searchC :<|> privStaticC = client serverApiProxy"
   ]
  },
  {
   "cell_type": "code",
   "execution_count": 243,
   "id": "f51bf345-a67e-42c4-a486-c59e162101df",
   "metadata": {},
   "outputs": [
    {
     "data": {
      "text/plain": [
       "Thu Dec  7 06:39:54 AM +04 2023"
      ]
     },
     "metadata": {},
     "output_type": "display_data"
    }
   ],
   "source": [
    "Cc.killThread tid\n",
    ":! date"
   ]
  },
  {
   "cell_type": "markdown",
   "id": "e9b6e542-2e88-44fa-80a2-736d5f2fa384",
   "metadata": {},
   "source": [
    "<h1>References</h1>\n",
    "\n",
    "- [GitHub Top 100](https://github.com/EvanLi/Github-Ranking)\n",
    "- [Youtube Embedding](https://codepen.io/orvilleChomer/pen/mYBJzE)\n",
    "- [IHaskell Kernel for Jupyter](https://github.com/IHaskell/IHaskell)\n"
   ]
  },
  {
   "cell_type": "code",
   "execution_count": null,
   "id": "e0eb885e-f4b1-45a4-b74a-4567edd98fc9",
   "metadata": {},
   "outputs": [
    {
     "data": {
      "text/plain": [
       "/home/lhugo/.ghcup/ghc/9.4.7/lib/ghc-9.4.7/lib/package.conf.d\n",
       "    Cabal-3.8.1.0\n",
       "    Cabal-syntax-3.8.1.0\n",
       "    array-0.5.4.0\n",
       "    base-4.17.2.0\n",
       "    binary-0.8.9.1\n",
       "    bytestring-0.11.5.2\n",
       "    containers-0.6.7\n",
       "    deepseq-1.4.8.0\n",
       "    directory-1.3.7.1\n",
       "    exceptions-0.10.5\n",
       "    filepath-1.4.2.2\n",
       "    (ghc-9.4.7)\n",
       "    ghc-bignum-1.3\n",
       "    ghc-boot-9.4.7\n",
       "    ghc-boot-th-9.4.7\n",
       "    ghc-compact-0.1.0.0\n",
       "    ghc-heap-9.4.7\n",
       "    ghc-prim-0.9.1\n",
       "    ghci-9.4.7\n",
       "    haskeline-0.8.2\n",
       "    hpc-0.6.1.0\n",
       "    integer-gmp-1.1\n",
       "    libiserv-9.4.7\n",
       "    mtl-2.2.2\n",
       "    parsec-3.1.16.1\n",
       "    pretty-1.1.3.6\n",
       "    process-1.6.17.0\n",
       "    rts-1.0.2\n",
       "    stm-2.5.1.0\n",
       "    system-cxx-std-lib-1.0\n",
       "    template-haskell-2.19.0.0\n",
       "    terminfo-0.4.1.5\n",
       "    text-2.0.2\n",
       "    time-1.12.2\n",
       "    transformers-0.5.6.2\n",
       "    unix-2.7.3\n",
       "    xhtml-3000.2.2.1\n",
       "\n",
       "/home/lhugo/.stack/snapshots/x86_64-linux/52afe022a4e59431047a60c11d79bb1dc9fbfc3a67433381371f26c641869296/9.4.7/pkgdb\n",
       "    Boolean-0.2.4\n",
       "    Chart-1.9.4\n",
       "    Chart-cairo-1.9.3\n",
       "    HUnit-1.6.2.0\n",
       "    HaTeX-3.22.4.0\n",
       "    JuicyPixels-3.3.8\n",
       "    MemoTrie-0.6.11\n",
       "    MonadRandom-0.6\n",
       "    NumInstances-1.4\n",
       "    OneTuple-0.4.1.1\n",
       "    QuickCheck-2.14.3\n",
       "    SHA-1.6.4.4\n",
       "    StateVar-1.2.2\n",
       "    active-0.2.0.18\n",
       "    adjunctions-4.4.2\n",
       "    aeson-2.1.2.1\n",
       "    aeson-pretty-0.8.9\n",
       "    ansi-terminal-0.11.5\n",
       "    ansi-terminal-types-0.11.5\n",
       "    ansi-wl-pprint-0.6.9\n",
       "    appar-0.1.8\n",
       "    asn1-encoding-0.9.6\n",
       "    asn1-parse-0.9.5\n",
       "    asn1-types-0.3.4\n",
       "    assoc-1.1\n",
       "    async-2.2.4\n",
       "    attoparsec-0.14.4\n",
       "    (z-attoparsec-z-attoparsec-internal-0.14.4)\n",
       "    attoparsec-iso8601-1.1.0.0\n",
       "    auto-update-0.1.6\n",
       "    base-compat-0.12.3\n",
       "    base-compat-batteries-0.12.3\n",
       "    base-orphans-0.9.1\n",
       "    base-unicode-symbols-0.2.4.2\n",
       "    base64-bytestring-1.2.1.0\n",
       "    basement-0.0.16\n",
       "    bibtex-0.1.0.7\n",
       "    bifunctors-5.5.15\n",
       "    binary-orphans-1.0.4.1\n",
       "    binary-parser-0.5.7.4\n",
       "    bitvec-1.1.5.0\n",
       "    blaze-builder-0.4.2.3\n",
       "    blaze-html-0.9.1.2\n",
       "    blaze-htmx-0.1.0.0\n",
       "    blaze-markup-0.8.3.0\n",
       "    blaze-svg-0.3.7\n",
       "    boring-0.2.1\n",
       "    bsb-http-chunked-0.0.0.4\n",
       "    byteorder-1.0.4\n",
       "    bytes-0.17.3\n",
       "    bytestring-builder-0.10.8.2.0\n",
       "    bytestring-strict-builder-0.4.5.7\n",
       "    cabal-doctest-1.0.9\n",
       "    cairo-0.13.10.0\n",
       "    call-stack-0.4.0\n",
       "    case-insensitive-1.2.1.0\n",
       "    cereal-0.5.8.3\n",
       "    charset-0.3.10\n",
       "    circle-packing-0.1.0.6\n",
       "    clock-0.8.4\n",
       "    cmdargs-0.10.22\n",
       "    colour-2.3.6\n",
       "    comonad-5.0.8\n",
       "    concise-0.1.0.1\n",
       "    conduit-1.3.5\n",
       "    connection-0.3.1\n",
       "    constraints-0.13.4\n",
       "    contravariant-1.5.5\n",
       "    cookie-0.4.6\n",
       "    cpphs-1.20.9.1\n",
       "    cryptohash-md5-0.11.101.0\n",
       "    cryptohash-sha1-0.11.101.0\n",
       "    crypton-0.32\n",
       "    cryptonite-0.30\n",
       "    cubicbezier-0.6.0.7\n",
       "    data-accessor-0.2.3.1\n",
       "    data-accessor-transformers-0.2.1.8\n",
       "    data-bword-0.1.0.2\n",
       "    data-checked-0.3\n",
       "    data-default-0.7.1.1\n",
       "    data-default-class-0.1.2.0\n",
       "    data-default-instances-containers-0.0.1\n",
       "    data-default-instances-dlist-0.0.1\n",
       "    data-default-instances-old-locale-0.0.1\n",
       "    data-dword-0.3.2.1\n",
       "    data-endian-0.1.1\n",
       "    data-fix-0.3.2\n",
       "    data-serializer-0.3.5\n",
       "    data-textual-0.3.0.3\n",
       "    dec-0.0.5\n",
       "    deferred-folds-0.9.18.5\n",
       "    deriving-aeson-0.2.9\n",
       "    diagrams-1.4.1\n",
       "    diagrams-cairo-1.4.2.1\n",
       "    diagrams-contrib-1.4.5.1\n",
       "    diagrams-core-1.5.1\n",
       "    diagrams-lib-1.4.6\n",
       "    diagrams-solve-0.1.3\n",
       "    diagrams-svg-1.4.3.1\n",
       "    distributive-0.6.2.1\n",
       "    dlist-1.0\n",
       "    dual-tree-0.2.3.1\n",
       "    easy-file-0.2.5\n",
       "    enclosed-exceptions-1.0.3\n",
       "    entropy-0.4.1.10\n",
       "    extra-1.7.14\n",
       "    fail-4.9.0.0\n",
       "    fast-logger-3.2.2\n",
       "    fast-math-1.0.2\n",
       "    file-embed-0.0.15.0\n",
       "    filepattern-0.1.3\n",
       "    fingertree-0.1.5.0\n",
       "    foldable1-classes-compat-0.1\n",
       "    foldl-1.4.15\n",
       "    force-layout-0.4.0.6\n",
       "    free-5.1.10\n",
       "    fsnotify-0.4.1.0\n",
       "    generically-0.1.1\n",
       "    (ghc-lib-parser-9.4.7.20230826)\n",
       "    ghc-lib-parser-ex-9.4.0.0\n",
       "    ghc-paths-0.1.0.12\n",
       "    ghc-syntax-highlighter-0.0.9.0\n",
       "    ginger-0.10.5.2\n",
       "    glib-0.13.10.0\n",
       "    gnuplot-0.5.7\n",
       "    groups-0.5.3\n",
       "    gtk2hs-buildtools-0.13.10.0\n",
       "    hashable-1.4.3.0\n",
       "    hashtables-1.3.1\n",
       "    haskell-src-exts-1.23.1\n",
       "    haskell-src-meta-0.8.12\n",
       "    hasql-1.6.3.3\n",
       "    hasql-pool-0.9.0.1\n",
       "    hasql-th-0.4.0.18\n",
       "    headed-megaparsec-0.2.1.2\n",
       "    here-1.2.14\n",
       "    hinotify-0.4.1\n",
       "    hlint-3.5\n",
       "    hmatrix-0.20.2\n",
       "    hourglass-0.2.12\n",
       "    hscolour-1.24.4\n",
       "    http-api-data-0.5\n",
       "    http-client-0.7.14\n",
       "    http-client-tls-0.3.6.1\n",
       "    http-date-0.0.11\n",
       "    http-media-0.8.1.1\n",
       "    http-types-0.12.3\n",
       "    http2-4.1.4\n",
       "    indexed-traversable-0.1.3\n",
       "    indexed-traversable-instances-0.1.1.2\n",
       "    integer-logarithms-1.0.3.1\n",
       "    integration-0.2.1\n",
       "    intervals-0.9.2\n",
       "    invariant-0.6.2\n",
       "    iproute-1.7.12\n",
       "    isomorphism-class-0.1.0.11\n",
       "    jose-0.10\n",
       "    kan-extensions-5.2.5\n",
       "    latex-0.1.0.4\n",
       "    lens-5.2.3\n",
       "    libyaml-0.1.2\n",
       "    lifted-async-0.10.2.4\n",
       "    lifted-base-0.2.3.12\n",
       "    linear-1.22\n",
       "    loop-0.3.0\n",
       "    magic-1.1\n",
       "    matrices-0.5.0\n",
       "    matrix-0.3.6.1\n",
       "    megaparsec-9.3.1\n",
       "    memory-0.18.0\n",
       "    mfsolve-0.3.2.2\n",
       "    microlens-0.4.13.1\n",
       "    microlens-mtl-0.2.0.3\n",
       "    microlens-th-0.4.3.14\n",
       "    mime-types-0.1.2.0\n",
       "    mmorph-1.2.0\n",
       "    monad-control-1.0.3.1\n",
       "    monad-time-0.4.0.0\n",
       "    mono-traversable-1.0.15.3\n",
       "    monoid-extras-0.6.2\n",
       "    mtl-compat-0.2.2\n",
       "    network-3.1.4.0\n",
       "    network-byte-order-0.1.7\n",
       "    network-info-0.2.1\n",
       "    network-ip-0.3.0.3\n",
       "    network-uri-2.6.4.2\n",
       "    newtype-generics-0.6.2\n",
       "    old-locale-1.0.0.7\n",
       "    old-time-1.1.0.3\n",
       "    operational-0.2.4.2\n",
       "    optparse-applicative-0.17.1.0\n",
       "    ordered-containers-0.2.3\n",
       "    pango-0.13.10.0\n",
       "    parallel-3.2.2.0\n",
       "    parser-combinators-1.3.0\n",
       "    parsers-0.12.11\n",
       "    pem-0.2.4\n",
       "    plot-0.2.3.11\n",
       "    polyparse-1.13\n",
       "    postgresql-binary-0.13.1.1\n",
       "    postgresql-libpq-0.9.5.0\n",
       "    postgresql-syntax-0.4.1\n",
       "    prettyprinter-1.7.1\n",
       "    primitive-0.8.0.0\n",
       "    profunctors-5.6.2\n",
       "    psqueues-0.2.7.3\n",
       "    random-1.2.1.1\n",
       "    recv-0.1.0\n",
       "    refact-0.3.0.2\n",
       "    reflection-2.1.7\n",
       "    regex-base-0.94.0.2\n",
       "    regex-tdfa-1.3.2.2\n",
       "    resourcet-1.2.6\n",
       "    rio-0.1.22.0\n",
       "    safe-0.3.19\n",
       "    safe-exceptions-0.1.7.4\n",
       "    scientific-0.3.7.0\n",
       "    selective-0.7\n",
       "    semialign-1.3\n",
       "    semigroupoids-5.3.7\n",
       "    semigroups-0.20\n",
       "    servant-0.19.1\n",
       "    servant-auth-0.4.1.0\n",
       "    servant-auth-server-0.4.8.0\n",
       "    servant-client-0.19\n",
       "    servant-client-core-0.19\n",
       "    servant-docs-0.12\n",
       "    servant-foreign-0.15.4\n",
       "    servant-multipart-0.12.1\n",
       "    servant-multipart-api-0.12.1\n",
       "    servant-server-0.19.2\n",
       "    servant-websockets-2.0.0\n",
       "    shelly-1.12.1\n",
       "    simple-sendfile-0.2.32\n",
       "    singleton-bool-0.1.6\n",
       "    singletons-3.0.2\n",
       "    singletons-base-3.1.1\n",
       "    singletons-th-3.1.1\n",
       "    socks-0.6.1\n",
       "    some-1.0.4.1\n",
       "    sop-core-0.5.0.2\n",
       "    split-0.2.3.5\n",
       "    splitmix-0.1.0.5\n",
       "    statestack-0.3.1.1\n",
       "    storable-complex-0.2.3.0\n",
       "    streaming-commons-0.2.2.6\n",
       "    strict-0.5\n",
       "    string-conversions-0.4.0.1\n",
       "    svg-builder-0.1.1\n",
       "    syb-0.7.2.4\n",
       "    tagged-0.8.7\n",
       "    template-haskell-compat-v0208-0.1.9.3\n",
       "    temporary-1.3\n",
       "    text-builder-0.6.7\n",
       "    text-builder-dev-0.3.3.2\n",
       "    text-latin1-0.3.1\n",
       "    text-printer-0.5.0.2\n",
       "    text-short-0.1.5\n",
       "    th-abstraction-0.4.5.0\n",
       "    th-compat-0.1.4\n",
       "    th-desugar-1.14\n",
       "    th-expand-syns-0.4.11.0\n",
       "    th-lift-0.8.4\n",
       "    th-orphans-0.13.14\n",
       "    th-reify-many-0.1.10\n",
       "    these-1.2\n",
       "    time-compat-1.9.6.1\n",
       "    time-manager-0.0.1\n",
       "    tls-1.6.0\n",
       "    transformers-base-0.4.6\n",
       "    transformers-compat-0.7.2\n",
       "    tuple-0.3.0.2\n",
       "    type-equality-1\n",
       "    type-hint-0.1\n",
       "    typed-process-0.2.11.1\n",
       "    uniplate-1.6.13\n",
       "    universe-base-1.1.3.1\n",
       "    unix-compat-0.7\n",
       "    unix-time-0.4.11\n",
       "    unliftio-0.2.25.0\n",
       "    unliftio-core-0.2.1.0\n",
       "    unordered-containers-0.2.19.1\n",
       "    utf8-string-1.0.2\n",
       "    utility-ht-0.0.17\n",
       "    uuid-1.3.15\n",
       "    uuid-types-1.0.5.1\n",
       "    vault-0.3.1.5\n",
       "    vector-0.13.1.0\n",
       "    vector-algorithms-0.9.0.1\n",
       "    vector-space-0.16\n",
       "    vector-stream-0.1.0.0\n",
       "    vinyl-0.14.3\n",
       "    void-0.7.3\n",
       "    wai-3.2.3\n",
       "    wai-app-static-3.1.8\n",
       "    wai-cors-0.2.7\n",
       "    wai-extra-3.1.13.0\n",
       "    wai-logger-2.4.0\n",
       "    wai-websockets-3.0.1.2\n",
       "    warp-3.3.25\n",
       "    websockets-0.12.7.3\n",
       "    witherable-0.4.2\n",
       "    word8-0.1.3\n",
       "    x509-1.7.7\n",
       "    x509-store-1.6.9\n",
       "    x509-system-1.6.7\n",
       "    x509-validation-1.6.12\n",
       "    yaml-0.11.11.2\n",
       "    zeromq4-haskell-0.8.0\n",
       "    zlib-0.6.3.0\n",
       "\n",
       "/home/lhugo/Projets/Fudd/IHaskell/IHaskell/.stack-work/install/x86_64-linux/52afe022a4e59431047a60c11d79bb1dc9fbfc3a67433381371f26c641869296/9.4.7/pkgdb\n",
       "    ghc-parser-0.2.5.0\n",
       "    ihaskell-0.10.4.0\n",
       "    ihaskell-aeson-0.3.0.1\n",
       "    ihaskell-blaze-0.3.0.1\n",
       "    ihaskell-charts-0.3.0.1\n",
       "    ihaskell-diagrams-0.3.2.1\n",
       "    ihaskell-gnuplot-0.1.0.1\n",
       "    ihaskell-graphviz-0.1.0.0\n",
       "    ihaskell-hatex-0.2.1.1\n",
       "    ihaskell-juicypixels-1.1.0.1\n",
       "    ihaskell-magic-0.3.0.1\n",
       "    ihaskell-plot-0.3.0.1\n",
       "    ihaskell-widgets-0.3.1.0\n",
       "    inline-js-0.0.1.0\n",
       "    inline-js-core-0.0.1.0\n",
       "    ipython-kernel-0.10.3.0\n",
       "    servant-errors-0.1.7.1"
      ]
     },
     "metadata": {},
     "output_type": "display_data"
    }
   ],
   "source": [
    ":!ghc-pkg list"
   ]
  },
  {
   "cell_type": "code",
   "execution_count": null,
   "id": "8ace9e76-8686-4ec0-94aa-83ac319c86ed",
   "metadata": {},
   "outputs": [],
   "source": []
  }
 ],
 "metadata": {
  "kernelspec": {
   "display_name": "Haskell",
   "language": "haskell",
   "name": "haskell"
  },
  "language_info": {
   "codemirror_mode": "ihaskell",
   "file_extension": ".hs",
   "mimetype": "text/x-haskell",
   "name": "haskell",
   "pygments_lexer": "Haskell",
   "version": "9.4.7"
  }
 },
 "nbformat": 4,
 "nbformat_minor": 5
}
