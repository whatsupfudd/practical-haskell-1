{
 "cells": [
  {
   "cell_type": "markdown",
   "id": "bf302a87-2e65-4f72-9d21-8ba9a62dd062",
   "metadata": {},
   "source": [
    "<b style=\"color: red\">Run these 4 minimized cells to load the styles & scripts to pimp the notebook and execute the full demo.</b>\n"
   ]
  },
  {
   "cell_type": "code",
   "execution_count": 2,
   "id": "74373fc5-3da7-4e5c-bfd6-8a45ff8d521e",
   "metadata": {
    "jupyter": {
     "source_hidden": true
    }
   },
   "outputs": [
    {
     "data": {
      "text/html": [
       "<script src=\"xstatic/js/components.js\" cross-origin=\"anonymous\" type=\"module\"></script>"
      ]
     },
     "metadata": {},
     "output_type": "display_data"
    }
   ],
   "source": [
    "import qualified IHaskell.Display as ID\n",
    "ID.Display [\n",
    "    ID.html \"<link href=\\\"https://unpkg.com/tailwindcss@^1.0/dist/tailwind.min.css\\\" rel=\\\"stylesheet\\\">\"\n",
    "    , ID.html \"<link href=\\\"xstatic/css/pimping.css\\\" rel=\\\"stylesheet\\\">\"\n",
    "    , ID.html \"<script src=\\\"xstatic/js/components.js\\\" cross-origin=\\\"anonymous\\\" type=\\\"module\\\"></script>\"\n",
    "  ]"
   ]
  },
  {
   "cell_type": "code",
   "execution_count": 3,
   "id": "cfab07ce-619a-4101-ab1f-9800806e7d07",
   "metadata": {
    "jupyter": {
     "source_hidden": true
    }
   },
   "outputs": [],
   "source": [
    "-- Basic CORS parameter definitions\n",
    "\n",
    "{-# LANGUAGE OverloadedRecordDot #-}\n",
    "{-# LANGUAGE RecordWildCards #-}\n",
    "{-# LANGUAGE DerivingStrategies #-}\n",
    "{-# LANGUAGE DeriveGeneric #-}\n",
    "{-# LANGUAGE DeriveAnyClass #-}\n",
    "{-# LANGUAGE OverloadedStrings #-}\n",
    "\n",
    "module WebServer.CorsPolicy where\n",
    "\n",
    "import Data.Aeson (FromJSON, ToJSON)\n",
    "import Data.CaseInsensitive as CI\n",
    "import Data.List (elem, lookup)\n",
    "import Data.Maybe (fromMaybe)\n",
    "import Data.Text (Text)\n",
    "import qualified Data.Text as DT\n",
    "import Data.Text.Encoding (encodeUtf8)\n",
    "import GHC.Generics (Generic)\n",
    "import Network.HTTP.Types.Header (hOrigin)\n",
    "import Network.Wai\n",
    "import Network.Wai.Middleware.Cors\n",
    "\n",
    "\n",
    "data CorsConfig = CorsConfig {\n",
    "   allowedOrigins :: [ Text ]\n",
    "  , publicPrefixes :: [ Text ]\n",
    "  , maxAge :: Maybe Int\n",
    "  }\n",
    "  deriving stock (Generic, Show)\n",
    "  deriving anyclass (ToJSON, FromJSON)\n",
    "\n",
    "\n",
    "defaultCorsPolicy = CorsConfig {\n",
    "   allowedOrigins = [ \"http://localhost\", \"http://localhost:8080\" ]\n",
    "  , publicPrefixes = [ \"inlogin\", \"site\", \"/\" ]\n",
    "  , maxAge = Nothing\n",
    "  }\n",
    "\n",
    "\n",
    "setCorsPolicy :: CorsConfig -> Middleware\n",
    "setCorsPolicy cConfig = cors $ \\request ->\n",
    "  if isSwaggerRequest request || isPublicApi request\n",
    "  then Just $ simpleCorsResourcePolicy { \n",
    "    corsMethods = simpleMethods <> [ \"OPTIONS\" ]\n",
    "    , corsRequestHeaders = simpleHeaders <> [\"Authorization\", \"Content-Type\"]\n",
    "    }\n",
    "  else Just $ CorsResourcePolicy { \n",
    "    corsOrigins = matchHostOrigin request\n",
    "    , corsMethods = simpleMethods <> [ \"DELETE\", \"OPTIONS\" ]\n",
    "    , corsRequestHeaders = [\"Authorization\", \"Content-Type\"]\n",
    "    , corsExposedHeaders = Nothing\n",
    "    , corsMaxAge = cConfig.maxAge\n",
    "    , corsVaryOrigin = True\n",
    "    , corsRequireOrigin = True\n",
    "    , corsIgnoreFailures = False\n",
    "    }\n",
    "    where\n",
    "      matchHostOrigin request = Just . fromMaybe ([], False) $ do\n",
    "        origin <- lookup hOrigin (requestHeaders request)\n",
    "\n",
    "        if CI.mk origin `elem` (mk . encodeUtf8 <$> cConfig.allowedOrigins)\n",
    "        then return ([origin], True)\n",
    "        else Nothing\n",
    "\n",
    "      isSwaggerRequest request = case pathInfo request of\n",
    "        []    -> False\n",
    "        (x:_) -> \"swagger\" `DT.isPrefixOf` x\n",
    "\n",
    "      isPublicApi request = case pathInfo request of\n",
    "        []    -> False\n",
    "        (x:_) -> any (`DT.isPrefixOf` x) cConfig.publicPrefixes\n"
   ]
  },
  {
   "cell_type": "code",
   "execution_count": 4,
   "id": "bb947a9f-e11a-47ac-ab25-42b533ef0a30",
   "metadata": {
    "jupyter": {
     "source_hidden": true
    }
   },
   "outputs": [],
   "source": [
    "-- Wrap Json Web Keys for JWT in easy-to-use functions for main logic.\n",
    "\n",
    "{-# LANGUAGE FlexibleContexts #-}\n",
    "\n",
    "module WebServer.JWT (generateKeyPairIO, readJWK) where\n",
    "\n",
    "import Control.Lens ((?~), (^.))\n",
    "import Control.Monad.Except\n",
    "import Crypto.JOSE.JWA.JWS (Alg (ES256))\n",
    "import Crypto.JOSE.JWK (AsPublicKey (asPublicKey), Crv (P_256),\n",
    "                                       JWK, JWKAlg (JWSAlg),\n",
    "                                       KeyMaterialGenParam (ECGenParam),\n",
    "                                       KeyOp (Sign, Verify), KeyUse (Sig),\n",
    "                                       MonadRandom, genJWK, jwkAlg, jwkKeyOps,\n",
    "                                       jwkUse)\n",
    "import Crypto.JWT\n",
    "import qualified Crypto.JWT as Jose\n",
    "import Data.Aeson (eitherDecodeFileStrict, encodeFile)\n",
    "import qualified Data.ByteString as BS\n",
    "import qualified Data.ByteString.Lazy as BSL\n",
    "import Data.Function ((&))\n",
    "import Data.Text (Text)\n",
    "import qualified Data.Text as DT\n",
    "\n",
    "import Servant.Auth.Server (Auth, AuthResult (..), BasicAuth, BasicAuthCfg, CookieSettings (CookieSettings, cookieIsSecure)\n",
    "                  , IsSecure (NotSecure), FromBasicAuthData, JWT, JWTSettings (validationKeys, audienceMatches), FromJWT (..), ToJWT (..), cookieIsSecure\n",
    "                  , defaultCookieSettings, defaultJWTSettings, IsMatch (Matches, DoesNotMatch, Matches))\n",
    "\n",
    "\n",
    "generateKeyPair :: MonadRandom m => m JWK\n",
    "generateKeyPair = do\n",
    "  k <- genJWK . ECGenParam $ P_256\n",
    "  return $\n",
    "    k\n",
    "      & jwkAlg ?~ JWSAlg ES256\n",
    "      & jwkKeyOps ?~ [Sign, Verify]\n",
    "      & jwkUse ?~ Sig\n",
    "\n",
    "\n",
    "-- | Generate jwk and public version according to kyrosid specs.\n",
    "generateKeyPairIO :: FilePath -> IO JWK\n",
    "generateKeyPairIO path = do\n",
    "  jwk <- generateKeyPair\n",
    "  let mbPubJWK = jwk ^. asPublicKey\n",
    "  case mbPubJWK of\n",
    "    Nothing -> fail \"Public JWK generation error\"\n",
    "    Just pubJWK ->\n",
    "      encodeFile (path <> \".pub\") pubJWK\n",
    "  encodeFile path jwk\n",
    "  pure jwk\n",
    "\n",
    "\n",
    "-- | Read JWK from file\n",
    "readJWK :: FilePath -> IO JWK\n",
    "readJWK path = do\n",
    "  eJWK <- eitherDecodeFileStrict path\n",
    "  case eJWK of\n",
    "    Left e -> fail e\n",
    "    Right jwk -> pure jwk\n",
    "\n",
    "\n",
    "verifyJWT' :: (FromJWT a, VerificationKeyStore (ExceptT JWTError IO) (JWSHeader ()) ClaimsSet (IO JWKSet)) => JWTSettings -> BS.ByteString -> IO (Either Text a)\n",
    "verifyJWT' jwtCfg input = do\n",
    "  verifiedJWT <- liftIO $ runExceptT . withExceptT formJWTError $ do\n",
    "    unverifiedJWT <- Jose.decodeCompact (BSL.fromStrict input)\n",
    "    Jose.verifyClaims\n",
    "      (jwtSettingsToJwtValidationSettings jwtCfg)\n",
    "      (validationKeys jwtCfg)\n",
    "      unverifiedJWT\n",
    "\n",
    "  let eitherResult = verifiedJWT >>= decodeJWT\n",
    "\n",
    "  return eitherResult\n",
    "  where\n",
    "    formJWTError :: JWTError -> Text\n",
    "    formJWTError = DT.pack . show\n",
    "\n",
    "\n",
    "jwtSettingsToJwtValidationSettings :: JWTSettings -> Jose.JWTValidationSettings\n",
    "jwtSettingsToJwtValidationSettings s =\n",
    "  defaultJWTValidationSettings (toBool <$> audienceMatches s)\n",
    "  where\n",
    "    toBool Matches = True\n",
    "    toBool DoesNotMatch = False\n"
   ]
  },
  {
   "cell_type": "code",
   "execution_count": 5,
   "id": "a7932e4d-1837-4f50-9454-035c4083d9a2",
   "metadata": {
    "jupyter": {
     "source_hidden": true
    }
   },
   "outputs": [],
   "source": [
    "-- Create some Runtime parameters for neater main logic.\n",
    "\n",
    "module Options.Runtime (RunOptions (..), WebServerOptions (..)) where\n",
    "\n",
    "import Data.Text (Text)\n",
    "\n",
    "import WebServer.CorsPolicy (CorsConfig, defaultCorsPolicy)\n",
    "\n",
    "data WebServerOptions = WebServerOptions {\n",
    "    port :: Int\n",
    "    , host :: Text\n",
    "  }\n",
    "  deriving (Show)\n",
    "\n",
    "data RunOptions = RunOptions {\n",
    "    debug :: Int\n",
    "    , webServer :: WebServerOptions\n",
    "    , jwkConfFile :: Maybe FilePath\n",
    "    , corsPolicy :: Maybe CorsConfig\n",
    "  }\n",
    "  deriving (Show)"
   ]
  },
  {
   "cell_type": "markdown",
   "id": "c0becb75-e545-44fc-a75d-6f2e5a4f3daf",
   "metadata": {},
   "source": [
    "<link href=\"https://unpkg.com/tailwindcss@^1.0/dist/tailwind.min.css\" rel=\"stylesheet\">\n",
    "<div>\n",
    "<h1>\n",
    "Full Stack Deep Dive: What's the deal with Haskell?    \n",
    "</h1>\n",
    "</div>\n",
    "\n",
    "<div class=\"content flex py-2\">\n",
    "<div>\n",
    "<p><span style=\"float: left; padding: 5px 10px 0px 0px;\"><img class=\"rounded\" src=\"https://www.haskell.org/img/haskell-logo.svg\" width=\"200\"></span>\n",
    "is one of those languages that senior developers will have heard mysterious tales of. But as most stuff of legends, there are few people that can confirm or contradict the tales based on practical experience with Haskell. That is unfortunate: it makes a lot of sense for full-stack developers and CTO to count Haskell familiarity as part of their standard skillset.\n",
    "</p>\n",
    "<p>Why Haskell now? Simpler parts of software development projects are today primarely implemented by hoards of junior and mid-range coders that use Javascript, Python, Java and C#, together with their respective frameworks. Overall scarcity of programmers influence the rest of the application architecture, forcing it to match closely the same ecosystems. The significant change coming is <b>statistical programming</b> by large language models (LLMs), that will soon generate automatically most of the simpler code. Thus simple code is about to disappear from human developers sight, and at the same time a significant part of the coding community is about to disappear! Very likely this will remove a lot of the constraints on the ecosystems to develop in. Yet LLMs are not likely to solve the design of complex applications and the code evolution over projects lifespan for quite some time. Typical key issues software developers will still need to deal with in the foreseable future are:\n",
    "<ul>\n",
    "<li>bug-free logic,</li>\n",
    "<li>assessable information security,</li>\n",
    "<li>distributed execution</li>\n",
    "<li>efficient evolution of complex data structures,</li>\n",
    "<li>continuous integration of evolving code</li>\n",
    "</ul>\n",
    "These complex problems call for tools that aren't popular because they are <i>easily accessed</i> but rather because they are absolutely optimal no matter their learning curve. Senior developers and CTOs will be free from having to work with and support current simplistic ecosystems and instead apply their efforts and skills at mastering the powerful but currently exoteric solutions such as Elixir, Haskell, OCaml, Rust, etc.  I expect Javascript, Python and the other <i>beginner friendly</i> ecosystems to transition to runtime environment for AI-generated code by tools like <a href=\"v0.dev\">Vercel's V0</a>, until AI-optimized runtime environments come along.\n",
    "</p>\n",
    "<p>\n",
    "That's why I believe Haskell's moment to shine is coming up.  In my experience, it's THE tool to reach the Zen of programming, to get a balance between theory and real-life implementations, to achieve quick prototyping and long-term software designs, to use time-tested techniques and innovative ideas. I've not come to that reflection overnight... I have over 40 years of software development experience under my belt, during which I've worked with many many programming ecosystems in many many kind of software development projects with many many types of people. I got curious about Haskell over 10 years ago, slowly integrated its ecosystem into my daily workflow and especially over the last 5 years I've been able to use it efficiently for modern web application development.\n",
    "</p>\n",
    "<div class=\"float-right rounded\"><img class=\"rounded-full shadow-md shadow-gray-700\" style=\"float: right; margin: 0px 10px 0px 10px;\" src=\"xstatic/img/lib_1.png\" width=\"300\" height=\"400\"></div>\n",
    "<div><p>Hopefully you are now curious about Haskell... I wrote this Jupyter notebook to help you bootstrap, to get a feel for the applicability of the Haskell ecosystem in modern software development as quickly as possible. My goal is to show you that this is not wishful thinking, but that if you do spend time learning Haskell you'll be able to apply this knowledge in daily situations for getting the job done efficiently.</p>\n",
    "\n",
    "<p>This introduction to Haskell in a Jupyter notebook does away with the need to set up a development environment, to compile and run a first simple piece of code. Instead the notebook is loaded with code that  works using a Haskell interpreter <i>kernel</i> for Jupyter. That gives you the quickest path to experiencing interactively the Haskell ecosystem to implement a <em>normal, modern, efficient</em> web app based, using HTMX and Tailwind on the frontend, server-side rendering of templates filled with data provided by SQL queries, and low-latency websocket communications on the backend.  Plus security, distributed computing, 3rd party APIs, Javascript/C++/Python integration, etc.\n",
    "</p>\n",
    "<p>Using a Jupyter notebook also means that <b style=\"color: red\">you need to run all cells in order to get code to work out</b>, and that some issues may happen with CSS styling, HTML rendering and sub-process port management. You will get a better experience by using <a href=\"https://hub.docker.com/repository/docker/whatsupfudd/demo1/general\"> a Docker image containing all notebook resources</a> on your own environment.\n",
    "</p>\n",
    "<p>If I manage to get you interested in Haskell with this notebook, your next step will be to develop in your own environment. It is actually easy to get the Haskell ecosystem on your local machine, read some of the many resources to learn how to write Haskell code with <a href=\"https://github.com/haskell/haskell-language-server\"><i>language server</i></a> and <i>Copilot</i> support. You'll quickly be creating software through the <code>edit -- compile -- run -- observe</code> loop and reap the benefits of the ecosystem. Further more I hope to grow the <b><a href=\"https://www.whatsupfudd.com\">What's up, FUDD?</a></b> community as a group focused on improving the Haskell ecosystem for web applications.</p>\n",
    "</div>\n",
    "</div>\n",
    "</div>"
   ]
  },
  {
   "cell_type": "markdown",
   "id": "c3c673a6-0580-49f6-80e3-b9684946d13d",
   "metadata": {},
   "source": [
    "<div class=\"grid justify-items-stretch bg-gray-700 hover:bg-orange-100 transition ease-in-out duration-150 rounded-md\" style=\"margin: 0em 0em 2em 0em;\">\n",
    "  <img class=\"rounded-full justify-self-center animation-bounce\" style=\"display: block; margin-left: auto; margin-right: auto; width: 50%\" src=\"xstatic/img/lib_2.png\" width=\"250\">\n",
    "</div>\n",
    "<div>"
   ]
  },
  {
   "cell_type": "markdown",
   "id": "c94f265a-f1c4-4bf2-b96f-421b41d22138",
   "metadata": {},
   "source": [
    "<h1>Basic ideas about Haskell</h1>\n",
    "The following elements of the Haskell programming language influence the design of libraries and how one codes in its ecosystem:\n",
    "\n",
    "- it has a simple and clean syntax: quick to learn with little decorations and high readability.\n",
    "- it is properly functional: Haskell guts are based on [System F](!https://en.wikipedia.org/wiki/System_F), the foundation of high-order functional logic,\n",
    "- it enforces immutability: a variable is assigned only once (or as the functional people would say: *a term is bound to a name once only*),\n",
    "- it has a strong support for pure logic without side effects: logic provided with the same inputs will always produce the same results, as theoritical computing would have it,\n",
    "- it has a consistent support for practical computing: breaking the principles just mentioned for real-life software is cleverly integrated in the framework,\n",
    "- it has a very powerful typing system that is also strongly enforced: anything is typed (even types themselves!), type matching must be exact for code to be valid, there are types of types, type manipulations, etc,\n",
    "- the typing system is powerful enough that it disappears from normal use: you write your code without types (a la JS) and still everything turns out to be consistant and mostly bug-free (unlike JS!),\n",
    "- meta-programming is easily accessed: the GHC compiler contains a VM and can execute some code while it compiles some other code, leading to on-the-fly code generation, value derivation, interaction with the outside world, etc,\n",
    "- it is extendable: the compiler is introspective and open to express domain-specific ideas, eg embedded SQL,\n",
    "- it is opened to other languages: a powerful FFI provides an easy integration of existing C/C++ code,\n",
    "- it is optimizable: all kind of directives are available to tune the compiler to produce efficient machine code, and Linear Types can define very performant memory management like in Rust."
   ]
  },
  {
   "cell_type": "markdown",
   "id": "4eaf2afa-dbad-4e7d-b35b-c83f8188ee01",
   "metadata": {},
   "source": [
    "Additionally the GHC runtime system brings the following to the table:\n",
    "- it puts an emphasis on compiled binaries, but you'll see with this notebook that it works just fine in interpreted mode,\n",
    "- it provides a memory-management support (a garbage collector) that is very configurable,\n",
    "- it is lazy: by default functions are not executed if they don't need to; on the upside this can provide significant optimizations, and on the downside it can create significant memory requirements,\n",
    "- it is parallel: the concept of multi-threading is built-in, and thread-safe code execution can happen in all kind of levels of parallelism depending on the underlying hardware,\n",
    "- it is debuggable: the interpreter is the main way of debugging Haskell code, but GDB is also able to step through logic execution, \n",
    "- it is observable: execution performance is recordable, with statistics providing valuable insights on optimizing execution time and/or resources utilisation, and the heap can be introspected by a socket-connected debugger,\n",
    "- it is self-contained: binaries can be statically linked, so a single executable file is all that's needed to run an application."
   ]
  },
  {
   "cell_type": "markdown",
   "id": "fedd09b6-2ab5-493b-9d45-3d37e373aa80",
   "metadata": {},
   "source": [
    "<h1>Reading Haskell code</h1>\n",
    "Ok, enough with the overview, let's get practical. But before writing a minmal web app, you'll need to be able to read some Haskell code:\n",
    "\n",
    "<div class=\"grid justify-items bg-gray-700 hover:bg-orange-100 rounded-md\" style=\"padding:10px 0px 10px 0px\">\n",
    "  <img class=\"rounded-full justify-self-center\" style=\"display: block; margin-left: auto; margin-right: auto; width: 70%\" src=\"xstatic/img/soft_linlog_1.png\" >\n",
    "</div>"
   ]
  },
  {
   "cell_type": "markdown",
   "id": "13739829-213b-43c4-b477-6fecd353f5d1",
   "metadata": {},
   "source": [
    "Just kidding, it's pretty simple. The main idea with Haskell syntax is that in general you write code in the following forms:\n",
    "* function applications: ```functionX argA argB```\n",
    "* bindings: ```left_hand_side = right_hand_side```\n",
    "* access to existing logic (packages): ```import AGreatPackage.BestModule (fctA, fctB)```\n",
    "* name space creation (modules): ```module TopNamespace.SubNameSpace (exportA, exportB)```"
   ]
  },
  {
   "cell_type": "markdown",
   "id": "6c561a85-3820-4a26-8504-5aced0296aef",
   "metadata": {},
   "source": [
    "Let's start with some baby code. Here is a infix function application:"
   ]
  },
  {
   "cell_type": "code",
   "execution_count": null,
   "id": "fb1dcd9f-b25e-4fb1-8cb8-3323f192cdc6",
   "metadata": {},
   "outputs": [],
   "source": [
    "1 + 2"
   ]
  },
  {
   "cell_type": "markdown",
   "id": "e15f8719-7df1-4f3f-8ee1-8cdc6e8b4dad",
   "metadata": {},
   "source": [
    "This is what one expects: the `+` function is applied to 1 and 2.  In other language the `+` character may be a reserved symbol, but in Haskell it's just another function that has been defined in a core library. You'll see that some developers really enjoy this freedom of expression and come up with very original names, like `.:.:` or `:>>:`."
   ]
  },
  {
   "cell_type": "markdown",
   "id": "c078576e-273b-488a-9d0e-c4a7e85446d1",
   "metadata": {},
   "source": [
    "Any function can be called in prefix or infix mode, so the previous line is equivalent to:"
   ]
  },
  {
   "cell_type": "code",
   "execution_count": 2,
   "id": "1f0b031c-fedf-4742-8133-98a2e5ff30c9",
   "metadata": {},
   "outputs": [
    {
     "data": {
      "text/plain": [
       "5"
      ]
     },
     "metadata": {},
     "output_type": "display_data"
    }
   ],
   "source": [
    "(+) 2 3"
   ]
  },
  {
   "cell_type": "markdown",
   "id": "2c6d2910-2ffb-437c-9c19-6e394e2eda60",
   "metadata": {},
   "source": [
    "Another typical example of baby code is the function application of the <i>is-equal</i> function:"
   ]
  },
  {
   "cell_type": "code",
   "execution_count": 8,
   "id": "796aa74b-1bef-4962-8acc-92f66602ab14",
   "metadata": {},
   "outputs": [
    {
     "data": {
      "text/plain": [
       "False"
      ]
     },
     "metadata": {},
     "output_type": "display_data"
    }
   ],
   "source": [
    "1 == 2"
   ]
  },
  {
   "cell_type": "markdown",
   "id": "c1134775-9345-43c9-8284-1ec02d631ef0",
   "metadata": {},
   "source": [
    "That function returned the Boolean literal `False`."
   ]
  },
  {
   "cell_type": "markdown",
   "id": "bbda1447-aa06-4578-9d4c-fe6992f19bcf",
   "metadata": {},
   "source": [
    "Moving on, there's the right side binding to the left side, which in other languages is typically an assignment statmement.  The baby code version of that is:"
   ]
  },
  {
   "cell_type": "code",
   "execution_count": 9,
   "id": "c7057ce9-d1c9-4027-8be8-ef9a0fa55bdb",
   "metadata": {},
   "outputs": [],
   "source": [
    "x1 = 2 + 3"
   ]
  },
  {
   "cell_type": "markdown",
   "id": "eb6e95c5-b1cb-4237-a577-4ff742bfaf88",
   "metadata": {},
   "source": [
    "That simply says that `x1` takes the value of the `+` function applied to values `2` and `3`.  It's almost really simple, and in a non-lazy language you'll expect this to be converted to 6.  But Haskell is lazy, so deep down in the execution system it means that `x1` is going to be stay the unevaluated term `2 + 3` until `x1` needs to be used. Based on this example you may think it is completely useless, but if instead the code of `x1` takes hour of CPU time to return a value or terabytes of RAM to perform, it's great that none of these resources gets utilized until it's necessary to have a resulting value.  And as laziness is not always welcomed, it is possible to get immediate evaluation on an expression basis.\n",
    "\n",
    "As Haskell is a functional language, remember that `x1 = 2 + 3` is actually a function definition where `x1` takes no argument and works with constants.  In a pure immutable functional language, there are no variables, just function applications and term bindings..."
   ]
  },
  {
   "cell_type": "markdown",
   "id": "eba1e52a-430a-47ab-a11e-c287f3ab9aa8",
   "metadata": {},
   "source": [
    "The non-functional programmer will be more comfortable with the following function definition:"
   ]
  },
  {
   "cell_type": "code",
   "execution_count": 10,
   "id": "74083c34-91f6-4ce5-8acc-b7baf0d6706d",
   "metadata": {},
   "outputs": [],
   "source": [
    "incByOne arg_1 = 1 + arg_1"
   ]
  },
  {
   "cell_type": "markdown",
   "id": "ee972a64-acf5-4c66-8cf9-3508ddbdb0e5",
   "metadata": {},
   "source": [
    "This code defines a function called `incByOne` which takes one argument.  When executed, it will add 1 to the `arg_1` argument, no surprise here.\n",
    "\n",
    "In Haskell the function's arguments are simply listed one after the other. There is no need for other decoration in the syntax. Here's a function that takes 2 arguments, and adds them together:"
   ]
  },
  {
   "cell_type": "code",
   "execution_count": 11,
   "id": "93edcabc-5ed6-412d-81a7-131400ecfc8a",
   "metadata": {},
   "outputs": [],
   "source": [
    "yetAnotherAdd arg_1 arg_2 = arg_1 + arg_2"
   ]
  },
  {
   "cell_type": "markdown",
   "id": "cebf1436-ec7f-46b5-a90c-445450212894",
   "metadata": {},
   "source": [
    "Using that function is also baby code:"
   ]
  },
  {
   "cell_type": "code",
   "execution_count": 12,
   "id": "636b8d5b-6fa0-4505-ad40-46d4438c6ce9",
   "metadata": {},
   "outputs": [
    {
     "data": {
      "text/plain": [
       "3"
      ]
     },
     "metadata": {},
     "output_type": "display_data"
    }
   ],
   "source": [
    "yetAnotherAdd 1 2"
   ]
  },
  {
   "cell_type": "markdown",
   "id": "3ee46340-1685-4b67-8a46-e6f842798f33",
   "metadata": {},
   "source": [
    "Lambda notation is bread and butter in Haskell, so that function can be rewritten with the following syntax:"
   ]
  },
  {
   "cell_type": "code",
   "execution_count": 13,
   "id": "bde894f8-0701-4c4a-970b-b7c0fd62bba3",
   "metadata": {},
   "outputs": [
    {
     "data": {
      "text/html": [
       "<style>/* Styles used for the Hoogle display in the pager */\n",
       ".hoogle-doc {\n",
       "display: block;\n",
       "padding-bottom: 1.3em;\n",
       "padding-left: 0.4em;\n",
       "}\n",
       ".hoogle-code {\n",
       "display: block;\n",
       "font-family: monospace;\n",
       "white-space: pre;\n",
       "}\n",
       ".hoogle-text {\n",
       "display: block;\n",
       "}\n",
       ".hoogle-name {\n",
       "color: green;\n",
       "font-weight: bold;\n",
       "}\n",
       ".hoogle-head {\n",
       "font-weight: bold;\n",
       "}\n",
       ".hoogle-sub {\n",
       "display: block;\n",
       "margin-left: 0.4em;\n",
       "}\n",
       ".hoogle-package {\n",
       "font-weight: bold;\n",
       "font-style: italic;\n",
       "}\n",
       ".hoogle-module {\n",
       "font-weight: bold;\n",
       "}\n",
       ".hoogle-class {\n",
       "font-weight: bold;\n",
       "}\n",
       "\n",
       ".get-type {\n",
       "color: green;\n",
       "font-weight: bold;\n",
       "font-family: monospace;\n",
       "display: block;\n",
       "white-space: pre-wrap;\n",
       "}\n",
       ".show-type {\n",
       "color: green;\n",
       "font-weight: bold;\n",
       "font-family: monospace;\n",
       "margin-left: 1em;\n",
       "}\n",
       ".mono {\n",
       "font-family: monospace;\n",
       "display: block;\n",
       "}\n",
       ".err-msg {\n",
       "color: red;\n",
       "font-style: italic;\n",
       "font-family: monospace;\n",
       "white-space: pre;\n",
       "display: block;\n",
       "}\n",
       "#unshowable {\n",
       "color: red;\n",
       "font-weight: bold;\n",
       "}\n",
       ".err-msg.in.collapse {\n",
       "padding-top: 0.7em;\n",
       "}\n",
       "\n",
       ".highlight-code {\n",
       "white-space: pre;\n",
       "font-family: monospace;\n",
       "}\n",
       "\n",
       ".suggestion-warning { \n",
       "font-weight: bold;\n",
       "color: rgb(200, 130, 0);\n",
       "}\n",
       ".suggestion-error { \n",
       "font-weight: bold;\n",
       "color: red;\n",
       "}\n",
       ".suggestion-name {\n",
       "font-weight: bold;\n",
       "}\n",
       "\n",
       "</style><div class=\"suggestion-name\" style=\"clear:both;\">Redundant lambda</div><div class=\"suggestion-row\" style=\"float: left;\"><div class=\"suggestion-warning\">Found:</div><div class=\"highlight-code\" id=\"haskell\">aLambdaVersion = \\ arg_1 arg_2 -> arg_1 + arg_2</div></div><div class=\"suggestion-row\" style=\"float: left;\"><div class=\"suggestion-warning\">Why Not:</div><div class=\"highlight-code\" id=\"haskell\">aLambdaVersion arg_1 arg_2 = arg_1 + arg_2</div></div><div class=\"suggestion-name\" style=\"clear:both;\">Avoid lambda</div><div class=\"suggestion-row\" style=\"float: left;\"><div class=\"suggestion-warning\">Found:</div><div class=\"highlight-code\" id=\"haskell\">\\ arg_1 arg_2 -> arg_1 + arg_2</div></div><div class=\"suggestion-row\" style=\"float: left;\"><div class=\"suggestion-warning\">Why Not:</div><div class=\"highlight-code\" id=\"haskell\">(+)</div></div>"
      ],
      "text/plain": [
       "Line 1: Redundant lambda\n",
       "Found:\n",
       "aLambdaVersion = \\ arg_1 arg_2 -> arg_1 + arg_2\n",
       "Why not:\n",
       "aLambdaVersion arg_1 arg_2 = arg_1 + arg_2Line 1: Avoid lambda\n",
       "Found:\n",
       "\\ arg_1 arg_2 -> arg_1 + arg_2\n",
       "Why not:\n",
       "(+)"
      ]
     },
     "metadata": {},
     "output_type": "display_data"
    }
   ],
   "source": [
    "aLambdaVersion = \\arg_1 arg_2 -> arg_1 + arg_2"
   ]
  },
  {
   "cell_type": "markdown",
   "id": "139076e4-1a0a-4898-b8e3-57d2225b828d",
   "metadata": {},
   "source": [
    "You should see some message from GHC suggesting you avoid lambda. That's because defining a named function with the lambda notation is not as clear to read, so the wise men managing Haskell elegance will let you know you're better using the first form."
   ]
  },
  {
   "cell_type": "markdown",
   "id": "e5402906-4a71-4194-bd46-068871a642eb",
   "metadata": {},
   "source": [
    "Finally Haskell does all the expected tricks with curryfication:"
   ]
  },
  {
   "cell_type": "code",
   "execution_count": 14,
   "id": "d42fae99-87fe-4fe0-995e-ddd8937fbf51",
   "metadata": {},
   "outputs": [
    {
     "data": {
      "text/plain": [
       "5"
      ]
     },
     "metadata": {},
     "output_type": "display_data"
    },
    {
     "data": {
      "text/plain": [
       "5"
      ]
     },
     "metadata": {},
     "output_type": "display_data"
    }
   ],
   "source": [
    "addSynonym = (+)\n",
    "addTwo = (+ 2)\n",
    "\n",
    "addSynonym 2 3\n",
    "addTwo 3"
   ]
  },
  {
   "cell_type": "markdown",
   "id": "d27ad65d-53ec-4b77-9efb-29022757a520",
   "metadata": {},
   "source": [
    "Here `addSynonym` is a function with two implied arguments as it calls the `+` function (in prefix mode). The `addTwo` function has one implied argument, since the `+` function is provided with a value. Advanced Haskell programmers will often use the curryfication as in `addTwo` to remove redundancy in code, but I often find that it makes it harder to read and I prefer some redundancy."
   ]
  },
  {
   "cell_type": "markdown",
   "id": "318d2000-9718-4f37-a6e5-f55b359084e7",
   "metadata": {},
   "source": [
    "Note that up to now we haven't seen any typing anywhere, just like in Javascript.  Given Haskell is strongly-typed and has a very powerful typing system, where are all the types?"
   ]
  },
  {
   "cell_type": "markdown",
   "id": "88b14894-4eca-4d64-8299-3af76be1bfc3",
   "metadata": {},
   "source": [
    "Ok, let's introduce some typing notation.  First, a term can be given a specific type. Taking a previous example, we can specify that the `2 + 3` calculation will result in an `Int` value (the `::` mean <i>of type</i>):"
   ]
  },
  {
   "cell_type": "code",
   "execution_count": 15,
   "id": "3b412cd9-bc05-4af2-be4b-90be2ae49f13",
   "metadata": {},
   "outputs": [],
   "source": [
    "x1 = 2 + 3 :: Int"
   ]
  },
  {
   "cell_type": "markdown",
   "id": "03d79176-8e6d-4ef3-a79c-1279d50ef1d6",
   "metadata": {},
   "source": [
    "That tells the compiler that the right-hand-side value is of type `Int`.  The compiler will check that the `+` function and the `2` and `3` values all make sense, and then also give `Int` type to `x1`.  This is pretty obvious to anyone who has experience with typed languages. But given that Haskell typing system supports polymorphism, it means that `+` may exist for many different types (and it does!), and `2` and `3` literals may be representing different kind of intergers (16 bits, 32 bits, unbounded, ...). It is possible that in the first definition of `x1`, the resulting type was a more general kind of integer. Adding `:: Int` will lock in the meaning of `x1` and force its uses to be limited to `Int` applications.\n",
    "\n",
    "**Important Note** Haskell enforces that type names must start with an upper-case letter, while variable and function names must start with a lower-case letter or a non-letter symbol such as `+`."
   ]
  },
  {
   "cell_type": "markdown",
   "id": "f314e90b-f398-4933-a92d-34601a55e1e1",
   "metadata": {},
   "source": [
    "Programmers usually prefer to provide the typing information for the right-hand-side, as in:"
   ]
  },
  {
   "cell_type": "code",
   "execution_count": 16,
   "id": "995b5a62-413d-47c9-823e-894620d46c14",
   "metadata": {},
   "outputs": [],
   "source": [
    "x1 :: Int\n",
    "x1 = 2 + 3"
   ]
  },
  {
   "cell_type": "markdown",
   "id": "3dcbdddb-8bd1-4bc5-89f2-4a5abf6a5aec",
   "metadata": {},
   "source": [
    "That looks more like a good old C or Java variable definition, where the variable is first declared together with a type, and the value that it represents is provided later and must be of the same type."
   ]
  },
  {
   "cell_type": "markdown",
   "id": "92ae60bb-8d7d-41e1-9f4c-20b416914994",
   "metadata": {},
   "source": [
    "While we can often disregard typing information, typically Haskell programmers will specify the typing of functions as a way to documentent the intent of the code as well as locking in certain constraints on the arguments.\n",
    "\n",
    "For example the following piece of code starts by clearly stating the intent of the developer on what the `showOneMore` function is expecting to work with: an `Int` argument (we know it's an argument because it's before the `->`). The `String` part specifies that it will return a `String` value. When reading code, that's often all the information required to move on and the logic of the function can be skipped.  Most popular languages these days have typing information as part of its argument specification, but if you think about it, the Haskell approach is simpler and more consistent in a typing-is-optional situation..."
   ]
  },
  {
   "cell_type": "code",
   "execution_count": 17,
   "id": "0b73db10-09cb-4532-950f-43bdcd3fe3aa",
   "metadata": {},
   "outputs": [],
   "source": [
    "showOneMore :: Int -> String\n",
    "showOneMore arg_1 = show (1 + arg_1)"
   ]
  },
  {
   "cell_type": "markdown",
   "id": "319521b7-1f0a-4ab9-bbe2-8010cf701d9f",
   "metadata": {},
   "source": [
    "The typing for a function with two arguments is simply going to list them all, separated by arrows:"
   ]
  },
  {
   "cell_type": "code",
   "execution_count": 18,
   "id": "19a61354-f60e-4bc3-8a71-55191e7f396c",
   "metadata": {},
   "outputs": [],
   "source": [
    "yetAnotherAdd :: Int -> Int -> Int\n",
    "yetAnotherAdd arg_1 arg_2 = arg_1 + arg_2"
   ]
  },
  {
   "cell_type": "markdown",
   "id": "ec0b830c-01d7-4ee1-b4ce-0159595caceb",
   "metadata": {},
   "source": [
    "Why the arrows as separator and the lack of difference between arguments and the result in the typing syntax? The arrows are from the deep theoritical foundations of Haskell: lambda calculus has used that notation for ... [a long time](https://en.wikipedia.org/wiki/Lambda_calculus).  The lack of difference between arguments and result is again consistency and simplicity of syntax: a function that takes no argument is types as `:: Result_Type` (like the `x1` seend before), a function that takes an argument will add a type and arrow before that, which looks like `Arg_Type -> Result_Type`, and more arguments will add more `Arg_Type ->`. Note that curryfication goes the other way: for each value passed to a function, there's one less `Arg_Type ->` to deal with."
   ]
  },
  {
   "cell_type": "markdown",
   "id": "61e02914-03e2-4a5e-a14e-d1ea2de3ce7f",
   "metadata": {},
   "source": [
    "<h2 class=\"year\">The <i>Hello World</i> example.</h2>"
   ]
  },
  {
   "cell_type": "markdown",
   "id": "f2567e67-5da7-43d0-85a6-016b1ec0c571",
   "metadata": {},
   "source": [
    "At this point there's more than enough syntax knownledge to move on to the proverbial 'Hello World' example.  First, here's the code:"
   ]
  },
  {
   "cell_type": "code",
   "execution_count": 19,
   "id": "0244dce1-3725-48c3-9405-d51db5d28563",
   "metadata": {},
   "outputs": [],
   "source": [
    "main =\n",
    "  putStrLn \"Hello World!!\""
   ]
  },
  {
   "cell_type": "markdown",
   "id": "ffe60828-6ddb-48f7-8661-0292efc557dc",
   "metadata": {},
   "source": [
    "Haskell runtime follows the long tradition of the `main` function being the entry point for an application.\n",
    "\n",
    "The `putStrLn` function is part of the basic Haskell library; it takes a string (which is provided in literal form by using the double-quote character), and sends it to the _stdout_ of the running program.\n",
    "\n",
    "In the Jupyter Notebook, we can simply call the function and the Haskell kernel will redirect its *stdout* to be the output in the result cell:"
   ]
  },
  {
   "cell_type": "code",
   "execution_count": 20,
   "id": "e08ad2c3-6432-440d-b956-6af226439494",
   "metadata": {},
   "outputs": [
    {
     "data": {
      "text/plain": [
       "Hello World!!"
      ]
     },
     "metadata": {},
     "output_type": "display_data"
    }
   ],
   "source": [
    "main"
   ]
  },
  {
   "cell_type": "markdown",
   "id": "4ef195fc-8779-4974-931e-dd126075b7ea",
   "metadata": {},
   "source": [
    "<h2 class=\"year\">Accessing existing logic</h2>"
   ]
  },
  {
   "cell_type": "markdown",
   "id": "5b31ed7e-2a73-4379-8cf0-cffb09482917",
   "metadata": {},
   "source": [
    "Moving forward, let's introduce syntax to access existing code units: the `import` statement.  It instructs the compiler to go fetch code from some other place.  That was a simple concept in the good old days, but today it means resolving lots of sources and constraints.  In Haskell, a unit of code is called a **module**, and it is a hierchical concept. Modules are stored in **packages**, which is the equivalent of libraries for C++, crates for Rust, packages (yeah!) for Javascript, and so on.  The GHC compiler provided some package management tools early on (*ghc-pkg*); then more and more features have come up in that area over the years (*cabal*, *stack*, ...).  [Stackage](https://stackage.org) is the main site for curated package distributions and [Hackage](https://hackage.haskell.org) is the largest site. There are much less efforts in Hackage to curate the quality and stability of its content.\n",
    "\n",
    "**Important Note** Haskell enforces that module names start with an upper-case letter, just like types."
   ]
  },
  {
   "cell_type": "markdown",
   "id": "bf1aa00d-9ce5-42c3-8c6d-982238cde568",
   "metadata": {},
   "source": [
    "Bringing in the entire content of a module in the current code namespace is the simplest form of `import`:"
   ]
  },
  {
   "cell_type": "code",
   "execution_count": 21,
   "id": "d4becc71-8004-4e92-a746-8ae408215c8b",
   "metadata": {},
   "outputs": [],
   "source": [
    "import Data.Char"
   ]
  },
  {
   "cell_type": "markdown",
   "id": "82e0240c-9fb3-4cb5-8fb6-6057f663ab50",
   "metadata": {},
   "source": [
    "That code means that everything defined in the `Data.Char` package is now part of the current code namespace. Of course that leads to collisions and conflicts, so it is typical to control what is brought in the namespace and also add some prefix to what is imported, as in:"
   ]
  },
  {
   "cell_type": "code",
   "execution_count": 22,
   "id": "9c8790df-43cc-49f6-9904-fb310e1deb51",
   "metadata": {},
   "outputs": [],
   "source": [
    "import qualified Text.Blaze.Html5 as H\n",
    "import qualified Text.Blaze.Html5.Attributes as A"
   ]
  },
  {
   "cell_type": "markdown",
   "id": "f694e365-54e3-4f49-9362-6838ef54ec1e",
   "metadata": {},
   "source": [
    "This code adds two modules to the current code namespace but we must use the prefix *H* and *A* to access whatever is defined within these two modules.\n",
    "\n",
    "It turns out that these two modules are part of the [Blaze](https://hackage.haskell.org/package/blaze-html) package, which provides all elements and attributes of HTML as functions of the same name.  That's useful in web application development, so let's use that package."
   ]
  },
  {
   "cell_type": "markdown",
   "id": "10f97f0c-2b63-49cc-9232-50b32f6b4afb",
   "metadata": {},
   "source": [
    "Wait, I forgot two other syntax elements that you must know about.  First, the oh-so-powerful **comment**!  Same-line comments are written by prefixing them with two dashes, while the curly brackets and dashes provide multi-line comments, as in:"
   ]
  },
  {
   "cell_type": "code",
   "execution_count": 23,
   "id": "72d647fb-2b46-4cda-ad00-6881a8103af8",
   "metadata": {},
   "outputs": [],
   "source": [
    "-- Nothing impacts the compiler here...\n",
    "{- and\n",
    "  same\n",
    "  here\n",
    "-}"
   ]
  },
  {
   "cell_type": "markdown",
   "id": "d493a4b8-1389-404c-ab86-3327a857999e",
   "metadata": {},
   "source": [
    "The second syntax element to know of is for providing compiler directives (pragmas): the GHC compiler has adopted a special version of curly-bracket comment, and we'll use that right now to turn on a processing mode that unfortunately isn't on by default, the *Overloaded String* mode:"
   ]
  },
  {
   "cell_type": "code",
   "execution_count": 24,
   "id": "896aa65f-01e7-4eaa-ae2b-a789b56a8af7",
   "metadata": {},
   "outputs": [],
   "source": [
    "{-# LANGUAGE OverloadedStrings #-}"
   ]
  },
  {
   "cell_type": "markdown",
   "id": "996a3c36-88e1-46e8-ac43-a787a95b6813",
   "metadata": {},
   "source": [
    "Adding processing modes when using the interpreter can also be done with an internal command:"
   ]
  },
  {
   "cell_type": "code",
   "execution_count": 25,
   "id": "44748885-b625-4b00-8b3d-5661b08ab4f8",
   "metadata": {},
   "outputs": [],
   "source": [
    ":set -XOverloadedStrings"
   ]
  },
  {
   "cell_type": "markdown",
   "id": "867028bf-d85d-45a4-a125-ec3629dd4efb",
   "metadata": {},
   "source": [
    "The `OverloadedStrings` mode means that the compiler will do polymorphism resolution of string literals.  In practical terms it means we can let the compiler figure out the right logic to transform a string literal into a `Html` value that Blaze wants for most of its DOM building functions."
   ]
  },
  {
   "cell_type": "markdown",
   "id": "283d2b82-f073-477d-88a5-53d9b5390005",
   "metadata": {},
   "source": [
    "Ok, now let's use Blaze functions to send some HTML into the notebook cells (remember, the **H** and **A** prefix are required by choice):"
   ]
  },
  {
   "cell_type": "code",
   "execution_count": 26,
   "id": "1bedd5c5-fa7e-4139-8943-a93f8c91fd37",
   "metadata": {},
   "outputs": [
    {
     "data": {
      "text/html": [
       "<style>/* Styles used for the Hoogle display in the pager */\n",
       ".hoogle-doc {\n",
       "display: block;\n",
       "padding-bottom: 1.3em;\n",
       "padding-left: 0.4em;\n",
       "}\n",
       ".hoogle-code {\n",
       "display: block;\n",
       "font-family: monospace;\n",
       "white-space: pre;\n",
       "}\n",
       ".hoogle-text {\n",
       "display: block;\n",
       "}\n",
       ".hoogle-name {\n",
       "color: green;\n",
       "font-weight: bold;\n",
       "}\n",
       ".hoogle-head {\n",
       "font-weight: bold;\n",
       "}\n",
       ".hoogle-sub {\n",
       "display: block;\n",
       "margin-left: 0.4em;\n",
       "}\n",
       ".hoogle-package {\n",
       "font-weight: bold;\n",
       "font-style: italic;\n",
       "}\n",
       ".hoogle-module {\n",
       "font-weight: bold;\n",
       "}\n",
       ".hoogle-class {\n",
       "font-weight: bold;\n",
       "}\n",
       "\n",
       ".get-type {\n",
       "color: green;\n",
       "font-weight: bold;\n",
       "font-family: monospace;\n",
       "display: block;\n",
       "white-space: pre-wrap;\n",
       "}\n",
       ".show-type {\n",
       "color: green;\n",
       "font-weight: bold;\n",
       "font-family: monospace;\n",
       "margin-left: 1em;\n",
       "}\n",
       ".mono {\n",
       "font-family: monospace;\n",
       "display: block;\n",
       "}\n",
       ".err-msg {\n",
       "color: red;\n",
       "font-style: italic;\n",
       "font-family: monospace;\n",
       "white-space: pre;\n",
       "display: block;\n",
       "}\n",
       "#unshowable {\n",
       "color: red;\n",
       "font-weight: bold;\n",
       "}\n",
       ".err-msg.in.collapse {\n",
       "padding-top: 0.7em;\n",
       "}\n",
       "\n",
       ".highlight-code {\n",
       "white-space: pre;\n",
       "font-family: monospace;\n",
       "}\n",
       "\n",
       ".suggestion-warning { \n",
       "font-weight: bold;\n",
       "color: rgb(200, 130, 0);\n",
       "}\n",
       ".suggestion-error { \n",
       "font-weight: bold;\n",
       "color: red;\n",
       "}\n",
       ".suggestion-name {\n",
       "font-weight: bold;\n",
       "}\n",
       "\n",
       "</style><div class=\"text-red-400 bg-gray-700\" style=\"border-style: groove; border-color: red\">\n",
       "    <p>\n",
       "        This is an example of creating DOM elements similarly to JSX or (better) Elm...\n",
       "    </p>\n",
       "    <div style=\"display: block; margin-left: auto; margin-right: auto; width: 30%\">\n",
       "        <img src=\"https://pbs.twimg.com/media/F6ezdRuWMAAVJfT?format=png&amp;name=900x900\">\n",
       "    </div>\n",
       "    <b>\n",
       "        Hello\n",
       "    </b>\n",
       "</div>\n"
      ],
      "text/plain": [
       "<div class=\"text-red-400 bg-gray-700\" style=\"border-style: groove; border-color: red\">\n",
       "    <p>\n",
       "        This is an example of creating DOM elements similarly to JSX or (better) Elm...\n",
       "    </p>\n",
       "    <div style=\"display: block; margin-left: auto; margin-right: auto; width: 30%\">\n",
       "        <img src=\"https://pbs.twimg.com/media/F6ezdRuWMAAVJfT?format=png&amp;name=900x900\">\n",
       "    </div>\n",
       "    <b>\n",
       "        Hello\n",
       "    </b>\n",
       "</div>"
      ]
     },
     "metadata": {},
     "output_type": "display_data"
    }
   ],
   "source": [
    "H.div H.! A.class_ \"text-red-400 bg-gray-700\" H.! A.style \"border-style: groove; border-color: red\" $ do\n",
    "    H.p \"This is an example of creating DOM elements similarly to JSX or (better) Elm...\"\n",
    "    H.div H.! A.style \"display: block; margin-left: auto; margin-right: auto; width: 30%\" $ H.img H.! A.src \"https://pbs.twimg.com/media/F6ezdRuWMAAVJfT?format=png&name=900x900\"\n",
    "    H.b \"Hello\""
   ]
  },
  {
   "cell_type": "markdown",
   "id": "428bd933-cf02-4834-8058-197bba8f4f54",
   "metadata": {},
   "source": [
    "**Note:** having CSS styling to work as expected in the Jupyter notebook is still magic to me. You need to make sure that you executed the first cell at the very beginning of the notebook to import TailwindCSS. But there are some issues in Jupyter and your mileage will vary on all the CSS working out (eg for me dark mode has never properly rendered within a cell)."
   ]
  },
  {
   "cell_type": "markdown",
   "id": "eb961113-e58a-49a0-a602-d890726d6b2b",
   "metadata": {},
   "source": [
    "There are two more syntax elements introduced in this example that need to be covered before looking at the code in details."
   ]
  },
  {
   "cell_type": "markdown",
   "id": "4457a367-8d5a-4eac-9ab0-ede895687554",
   "metadata": {},
   "source": [
    "The first one is used constantly: the `$` symbol. It is a short-code for putting the rest of an expression in parenthesis. It is like writing a `(` and not bothering with the matching `)`...\n",
    "\n",
    "So `f1 $ 1 + 2` is the same as `f1 (1 + 2)`, and `f1 $ f2 $ 1 + 2` is the same as `f1 (f2 (1 + 2))`."
   ]
  },
  {
   "cell_type": "markdown",
   "id": "0c58684c-6e2e-4946-8755-aa98f519e90f",
   "metadata": {},
   "source": [
    "The second one is another classic: the `do` term. It is a short-hand notation for sequencing of a block of functions.  Function sequencing is a very long topic that brings in the famous *Monad* type, so we'll stick to using it rather than explaining it.\n",
    "\n",
    "So the code:\n",
    "\n",
    "    do\n",
    "      f1\n",
    "      ...\n",
    "      fN\n",
    "\n",
    "means that first `f1` function will be called, and then `f2` will be called, and so on, and finally the result of `fN` will be passed as the result of the whole `do` block.\n",
    "\n",
    "Remember than parallelism of logic is implied in Haskell and without enforcing a given sequencing the DOM elements could show up in any order based on optimization, as they have no relationship between each other. In a `do` block, the textual order is the execution order.\n",
    "\n",
    "**Note** that while *monads* are better known as a scare tactic associated with Haskell, they are just a computing pattern that is universal to programming. In fact the `Promise` of Javascript is exactly a *monad* construct! But unlike Haskell, Javascript has no generalized *monad* system and there's specialized syntax, like `await`, `async` and `.then(...)` to work with it."
   ]
  },
  {
   "cell_type": "markdown",
   "id": "c39560bc-0bb1-4923-b89d-3646e3e7143f",
   "metadata": {},
   "source": [
    "Now let's inspect the code that generated HTML in the cell. First note that all the HTML elements have an equivalent function in Blaze. Elements-replicating functions take a `Html` value and returns a `Html` value, while attributes-replicating functions take additional parameters and return a `Html` value.  The IHaskell kernel has a trick to automatically merge the DOM elements from a resulting `Html` value into the notebook's cell, and that's why we see rendered HTML rather than some other form of representation.  Without that trick, we could see:\n",
    "\n",
    "    <div class='text-red-400 bg-gray-700' style=\"border-style: groove; border-color: red\"><p>This ...\n",
    "\n",
    "as a text literal, or maybe a JSON representation with lots of escaped characters.\n",
    "\n",
    "Second, note this is a typical Haskell *learning curve* situation.  The Blaze package is very efficient and simple to use, two great qualities that usually don't go together. But to accomplish that it uses advanced concepts (Monad, combinators, ...) and you'll stay a basic user of the package unless you go through the learning curve of monoids, semigroups, functors, and so on to properly understand how to get all the juice of Blaze or to add new feature to it.\n",
    "\n",
    "Let's now look at the code: a `div` function from the `Text.Blaze.Html5` module will generate the enclosing DOM element.  Further more a `style` function creates the attribute specification (red color), and the `!` function links `div` and `style`, and then receives the result of the `do` block. The `!` function? Yes, that's a valid function name in Haskell, and the Blaze programmers have used it...\n",
    "\n",
    "In that block, each line calls a function that respectively generates *img*, *p* and *b* DOM elements, with some attributes (`!` calls) and content (string literals). Using Blaze functions is very similar from writing template code for backend HTML generation.  But with all the advantages of Haskell language."
   ]
  },
  {
   "cell_type": "markdown",
   "id": "97dc2e88-54eb-405a-bd27-5a1d4ecd4513",
   "metadata": {},
   "source": [
    "**Note:** Rewriting this code without the module prefix gives:\n",
    "\n",
    "    div ! class_ \"text-red-400 bg-gray-700\" $ do\n",
    "    p \"This is an example of creating DOM elements similarly to JSX or (better) Elm...\"\n",
    "    div ! class_ \"rounded-md pb-3 pl-3\" $ img ! src \"https://pbs.twimg.com/...\" ! width \"150\"\n",
    "        b \"Hello\"\n",
    "\n",
    "\n",
    "which is much more comfortable to read. In real-life you'll use an IDE with Haskell language server (HLS) and drop all that prefixing... but in this notebook we'll continue to use the prefixes to explicitely show the origin of functions.\n"
   ]
  },
  {
   "cell_type": "markdown",
   "id": "20ac4a60-8678-47e5-88bc-caede55ace1f",
   "metadata": {},
   "source": [
    "Now let's say we want to make some components a la React to build up a HTML page section in a modular fashion.  We'd go with something like:"
   ]
  },
  {
   "cell_type": "code",
   "execution_count": 27,
   "id": "23872b4e-8668-4410-8251-3a6f66b7d90d",
   "metadata": {},
   "outputs": [
    {
     "data": {
      "text/html": [
       "<style>/* Styles used for the Hoogle display in the pager */\n",
       ".hoogle-doc {\n",
       "display: block;\n",
       "padding-bottom: 1.3em;\n",
       "padding-left: 0.4em;\n",
       "}\n",
       ".hoogle-code {\n",
       "display: block;\n",
       "font-family: monospace;\n",
       "white-space: pre;\n",
       "}\n",
       ".hoogle-text {\n",
       "display: block;\n",
       "}\n",
       ".hoogle-name {\n",
       "color: green;\n",
       "font-weight: bold;\n",
       "}\n",
       ".hoogle-head {\n",
       "font-weight: bold;\n",
       "}\n",
       ".hoogle-sub {\n",
       "display: block;\n",
       "margin-left: 0.4em;\n",
       "}\n",
       ".hoogle-package {\n",
       "font-weight: bold;\n",
       "font-style: italic;\n",
       "}\n",
       ".hoogle-module {\n",
       "font-weight: bold;\n",
       "}\n",
       ".hoogle-class {\n",
       "font-weight: bold;\n",
       "}\n",
       "\n",
       ".get-type {\n",
       "color: green;\n",
       "font-weight: bold;\n",
       "font-family: monospace;\n",
       "display: block;\n",
       "white-space: pre-wrap;\n",
       "}\n",
       ".show-type {\n",
       "color: green;\n",
       "font-weight: bold;\n",
       "font-family: monospace;\n",
       "margin-left: 1em;\n",
       "}\n",
       ".mono {\n",
       "font-family: monospace;\n",
       "display: block;\n",
       "}\n",
       ".err-msg {\n",
       "color: red;\n",
       "font-style: italic;\n",
       "font-family: monospace;\n",
       "white-space: pre;\n",
       "display: block;\n",
       "}\n",
       "#unshowable {\n",
       "color: red;\n",
       "font-weight: bold;\n",
       "}\n",
       ".err-msg.in.collapse {\n",
       "padding-top: 0.7em;\n",
       "}\n",
       "\n",
       ".highlight-code {\n",
       "white-space: pre;\n",
       "font-family: monospace;\n",
       "}\n",
       "\n",
       ".suggestion-warning { \n",
       "font-weight: bold;\n",
       "color: rgb(200, 130, 0);\n",
       "}\n",
       ".suggestion-error { \n",
       "font-weight: bold;\n",
       "color: red;\n",
       "}\n",
       ".suggestion-name {\n",
       "font-weight: bold;\n",
       "}\n",
       "\n",
       "</style><div class=\"text-red-400 bg-gray-700\">\n",
       "    <p>\n",
       "        This is an example of creating DOM elements similarly to JSX or (better) Elm...\n",
       "    </p>\n",
       "    <img src=\"https://pbs.twimg.com/media/F6ezdRuWMAAVJfT?format=png&amp;name=900x900\" style=\"display: block; margin-left: auto; margin-right: auto;\" width=\"150\">\n",
       "    <b class=\"text-orange-200\">\n",
       "        Hello\n",
       "    </b>\n",
       "</div>\n"
      ],
      "text/plain": [
       "<div class=\"text-red-400 bg-gray-700\">\n",
       "    <p>\n",
       "        This is an example of creating DOM elements similarly to JSX or (better) Elm...\n",
       "    </p>\n",
       "    <img src=\"https://pbs.twimg.com/media/F6ezdRuWMAAVJfT?format=png&amp;name=900x900\" style=\"display: block; margin-left: auto; margin-right: auto;\" width=\"150\">\n",
       "    <b class=\"text-orange-200\">\n",
       "        Hello\n",
       "    </b>\n",
       "</div>"
      ]
     },
     "metadata": {},
     "output_type": "display_data"
    }
   ],
   "source": [
    "import qualified Data.Text as T\n",
    "\n",
    "-- define two components that take some parameters:\n",
    "componentA width postfix = do\n",
    "  H.p \"This is an example of creating DOM elements similarly to JSX or (better) Elm...\"\n",
    "  H.img H.! A.src (H.textValue . T.pack $ \"https://pbs.twimg.com/media/\" ++ postfix) H.! A.style \"display: block; margin-left: auto; margin-right: auto;\" H.! A.width (H.textValue . T.pack . show $ width)\n",
    "\n",
    "componentB someTxt color =\n",
    "  H.b H.! A.class_ (H.textValue . T.pack $ \"text-\" ++ color) $ someTxt\n",
    "\n",
    "-- then apply to get the main div by using the components:\n",
    "H.div H.! A.class_ \"text-red-400 bg-gray-700\" $ do\n",
    "  componentA 150 \"F6ezdRuWMAAVJfT?format=png&name=900x900\"\n",
    "  componentB \"Hello\" \"orange-200\"\n",
    "\n"
   ]
  },
  {
   "cell_type": "markdown",
   "id": "b521ae93-a443-4d15-9760-7ab08f81e53b",
   "metadata": {},
   "source": [
    "Fairly simple, and at this point you should be able to read most of the code.\n",
    "\n",
    "A few more things are introduced in this example:\n",
    "- the `++` function that concatenates two String values (it is an historical synonym for the more general concatenation function `<>`).\n",
    "- the Data.Text module that provides the `pack` function to convert `String` to `Text` values. The `Text` type is a more C++-like implementation of strings, while the `String` type is a basic list implementation.\n",
    "- the `.` operator, which concatenates functions, so `func1 . func2 $ a` means `func1 (func2 a)`.\n",
    "\n",
    "Previously when using a *string* literal such as `\"something\"`, the conversion from a `String` value to a `Text` value to a `Html` value was done automatically by the compiler through the *OverloadedStrings* mode. But the compiler doesn't do the work automatically when we're using variables. We must then specify the conversion, and  `H.textValue . t.pack $ <something>` is more consistent with *functional* code esthetics than `H.textValue (t.pack <something>)`."
   ]
  },
  {
   "cell_type": "markdown",
   "id": "b3abc5c7-0941-440f-b003-b98ef8aa98bf",
   "metadata": {},
   "source": [
    "We'll take a break from cool capabilities of the Blaze package and go back to introducing three more important syntaxic constructs."
   ]
  },
  {
   "cell_type": "markdown",
   "id": "48ed73d2-e669-4a01-a397-ab305ca5ac74",
   "metadata": {},
   "source": [
    "The first one is the `case` construct, which is the workhorse of conditional logic. It looks like:"
   ]
  },
  {
   "cell_type": "code",
   "execution_count": 28,
   "id": "6e0f238f-d56a-414a-865b-0cb97af4cc84",
   "metadata": {},
   "outputs": [
    {
     "data": {
      "text/plain": [
       "\"two\""
      ]
     },
     "metadata": {},
     "output_type": "display_data"
    }
   ],
   "source": [
    "aValue = 2\n",
    "\n",
    "case aValue of\n",
    "  1 -> \"one\"\n",
    "  2 -> \"two\"\n",
    "  3 -> \"three\"\n",
    "  _ -> \"something different than 1, 2 or 3\"\n",
    "  "
   ]
  },
  {
   "cell_type": "markdown",
   "id": "b6a2070c-2b2d-4583-9a9b-257c4a5e389e",
   "metadata": {},
   "source": [
    "This kind of construct exists in most modern language, for example the *switch* in C and JS or the *match* in Rust.  The selector is on the right side of the arrow and the code to execute is on the left side of the arrow. The first matching selector for a given value in the `case` part becomes the code that executes. The  `_` symbol matches anything so it acts as the *default* selector. The value of the entire construct is the value returned by the code that executed.\n",
    "\n",
    "By the way we're referring to *construct* instead of *statement* because it returns a value (like an expression and unlike a statement)."
   ]
  },
  {
   "cell_type": "markdown",
   "id": "87578ea0-ea03-4477-9743-d4eed1961dd3",
   "metadata": {},
   "source": [
    "Secondly, Haskell also provides the `if-then-else` construct, which is just a short-hand for writing:\n",
    "\n",
    "    case <condition> of\n",
    "      True -> <then-part>\n",
    "      False -> <else-part>\n",
    "\n",
    "So you can write that as `if <condition> then <then-part> else <else-part>`, and that construct returns either the result of the `<then-part>` or the `<else-part>` based on the True/False value of `<condition>`. Again, the `if-then-else` construct will return a value, it is not a statement."
   ]
  },
  {
   "cell_type": "markdown",
   "id": "9aac921d-dc71-46f8-9205-22522fbcb520",
   "metadata": {},
   "source": [
    "The third construct is the `let <something> in <something else>`.  Essentially the `let` construct split logic in multiple assignments, and then all these values are re-assembled in the `in` part to give a result.  Recovering the previous HTML example, we could write: "
   ]
  },
  {
   "cell_type": "code",
   "execution_count": 29,
   "id": "9f891a94-c42e-47aa-8205-3e414e223461",
   "metadata": {},
   "outputs": [
    {
     "data": {
      "text/html": [
       "<style>/* Styles used for the Hoogle display in the pager */\n",
       ".hoogle-doc {\n",
       "display: block;\n",
       "padding-bottom: 1.3em;\n",
       "padding-left: 0.4em;\n",
       "}\n",
       ".hoogle-code {\n",
       "display: block;\n",
       "font-family: monospace;\n",
       "white-space: pre;\n",
       "}\n",
       ".hoogle-text {\n",
       "display: block;\n",
       "}\n",
       ".hoogle-name {\n",
       "color: green;\n",
       "font-weight: bold;\n",
       "}\n",
       ".hoogle-head {\n",
       "font-weight: bold;\n",
       "}\n",
       ".hoogle-sub {\n",
       "display: block;\n",
       "margin-left: 0.4em;\n",
       "}\n",
       ".hoogle-package {\n",
       "font-weight: bold;\n",
       "font-style: italic;\n",
       "}\n",
       ".hoogle-module {\n",
       "font-weight: bold;\n",
       "}\n",
       ".hoogle-class {\n",
       "font-weight: bold;\n",
       "}\n",
       "\n",
       ".get-type {\n",
       "color: green;\n",
       "font-weight: bold;\n",
       "font-family: monospace;\n",
       "display: block;\n",
       "white-space: pre-wrap;\n",
       "}\n",
       ".show-type {\n",
       "color: green;\n",
       "font-weight: bold;\n",
       "font-family: monospace;\n",
       "margin-left: 1em;\n",
       "}\n",
       ".mono {\n",
       "font-family: monospace;\n",
       "display: block;\n",
       "}\n",
       ".err-msg {\n",
       "color: red;\n",
       "font-style: italic;\n",
       "font-family: monospace;\n",
       "white-space: pre;\n",
       "display: block;\n",
       "}\n",
       "#unshowable {\n",
       "color: red;\n",
       "font-weight: bold;\n",
       "}\n",
       ".err-msg.in.collapse {\n",
       "padding-top: 0.7em;\n",
       "}\n",
       "\n",
       ".highlight-code {\n",
       "white-space: pre;\n",
       "font-family: monospace;\n",
       "}\n",
       "\n",
       ".suggestion-warning { \n",
       "font-weight: bold;\n",
       "color: rgb(200, 130, 0);\n",
       "}\n",
       ".suggestion-error { \n",
       "font-weight: bold;\n",
       "color: red;\n",
       "}\n",
       ".suggestion-name {\n",
       "font-weight: bold;\n",
       "}\n",
       "\n",
       "</style><div class=\"text-red-400 bg-gray-700\">\n",
       "    <p>\n",
       "        This is an example of creating DOM elements similarly to JSX or (better) Elm...\n",
       "    </p>\n",
       "    <img src=\"https://pbs.twimg.com/media/F6ezdRuWMAAVJfT?format=png&amp;name=900x900\" style=\"display: block; margin-left: auto; margin-right: auto;\" width=\"150\">\n",
       "    <b class=\"text-green-500\">\n",
       "        Hello\n",
       "    </b>\n",
       "</div>\n"
      ],
      "text/plain": [
       "<div class=\"text-red-400 bg-gray-700\">\n",
       "    <p>\n",
       "        This is an example of creating DOM elements similarly to JSX or (better) Elm...\n",
       "    </p>\n",
       "    <img src=\"https://pbs.twimg.com/media/F6ezdRuWMAAVJfT?format=png&amp;name=900x900\" style=\"display: block; margin-left: auto; margin-right: auto;\" width=\"150\">\n",
       "    <b class=\"text-green-500\">\n",
       "        Hello\n",
       "    </b>\n",
       "</div>"
      ]
     },
     "metadata": {},
     "output_type": "display_data"
    }
   ],
   "source": [
    "-- wrap up all the previous code into a new bigger component (function):\n",
    "bigComponent halfWidth =\n",
    "  -- first, compute all params\n",
    "  let\n",
    "    width = 2 * halfWidth\n",
    "    urlPostfix = \"F6ezdRuWMAAVJfT?format=png&name=900x900\"\n",
    "    helloString = \"Hello\"\n",
    "    helloColor = \"green-500\"\n",
    "  in\n",
    "    -- then make the div element and its children:\n",
    "    H.div H.! A.class_ \"text-red-400 bg-gray-700\" $ do\n",
    "      componentA width urlPostfix\n",
    "      componentB helloString helloColor\n",
    "\n",
    "-- Invoke the overall html block:\n",
    "bigComponent 75"
   ]
  },
  {
   "cell_type": "markdown",
   "id": "4a72288a-bcb7-4ed5-b152-e6235b93e05e",
   "metadata": {},
   "source": [
    "The main idea with the `let ... in ...` construct is that it first provides a way to introduce names for a list of terms in a *small* namespace.  In an imperative language these would be consider variable declaration/assignements. Second it provides a way to break down logic in short sequences that can be assembled at will in the `in` part to provide a result. The implied esthetic of this construct isn't apparent immediately but after using for a little while it becomes dearly missed when using languages that don't provide it."
   ]
  },
  {
   "cell_type": "markdown",
   "id": "f5240db0-2985-4c3f-98da-44599cf6f3b4",
   "metadata": {},
   "source": [
    "<div class=\"grid justify-center\">\n",
    "  <img class=\"rounded-lg\" style=\"display: block; margin-left: auto; margin-right: auto; width: 30%\" src=\"xstatic/img/trumpet_1.png\" width=\"200\">\n",
    "</div>"
   ]
  },
  {
   "cell_type": "markdown",
   "id": "1b5ccb6d-db5d-4851-bfe0-2b19779c901d",
   "metadata": {},
   "source": [
    "<h2>WHAT ABOUT THE TYPES?!?</h2>\n",
    "\n",
    "Let's pause for a moment and note that so far there's been barely any explicit use of typing.  A significant advantage of the Haskell language is that the typing system is so powerful that you rarely need to bother with type annotation like one would do in C, Java or Rust. The compiler can figure out the logical typing arrangements and run code (idem for the interpreter); or if something is too vague it can alert the developer that the logic isn't sound and describe what isn't making sense.\n",
    "\n",
    "Take a moment to reflect on this a bit more...\n",
    "\n",
    "The popularity of Javascript and Python is very much related to the idea that strongly-typed languages are just a major pain in the lower back to deal with.  It might be so in Java/TypeScript/Rust/etc. But in Haskell the argument falls apart: one can write *simpler* code like with Python and Javascript, yet still benefit from all the advantages of stronly-typed logic.\n",
    "\n",
    "What happens when you have a stronly-typed language that doesn't bother you with typing syntax as in Javascript? Interestingly in real life you find yourself enjoying to add type information, or to let the editor/LSP do it for you! Types end up being a powerful way to document your logic... having a typing system that is subtle rather than shoved down your throat turns out to be a fantastic way to code."
   ]
  },
  {
   "cell_type": "markdown",
   "id": "6cd56e0d-dae3-4b0f-b026-fc85d65cf45c",
   "metadata": {},
   "source": [
    "While you're doing some thinking about all of these type-related ideas, I'll borrow some HTML & CSS from the **Tailwind** site and make something more visually pleasing that what I've been putting together up to now... Haskell language features used here will be discussed further down."
   ]
  },
  {
   "cell_type": "code",
   "execution_count": 30,
   "id": "8935f6cd-9cc1-49bc-b4ad-98f515887bb9",
   "metadata": {
    "scrolled": true
   },
   "outputs": [
    {
     "data": {
      "text/html": [
       "<style>/* Styles used for the Hoogle display in the pager */\n",
       ".hoogle-doc {\n",
       "display: block;\n",
       "padding-bottom: 1.3em;\n",
       "padding-left: 0.4em;\n",
       "}\n",
       ".hoogle-code {\n",
       "display: block;\n",
       "font-family: monospace;\n",
       "white-space: pre;\n",
       "}\n",
       ".hoogle-text {\n",
       "display: block;\n",
       "}\n",
       ".hoogle-name {\n",
       "color: green;\n",
       "font-weight: bold;\n",
       "}\n",
       ".hoogle-head {\n",
       "font-weight: bold;\n",
       "}\n",
       ".hoogle-sub {\n",
       "display: block;\n",
       "margin-left: 0.4em;\n",
       "}\n",
       ".hoogle-package {\n",
       "font-weight: bold;\n",
       "font-style: italic;\n",
       "}\n",
       ".hoogle-module {\n",
       "font-weight: bold;\n",
       "}\n",
       ".hoogle-class {\n",
       "font-weight: bold;\n",
       "}\n",
       "\n",
       ".get-type {\n",
       "color: green;\n",
       "font-weight: bold;\n",
       "font-family: monospace;\n",
       "display: block;\n",
       "white-space: pre-wrap;\n",
       "}\n",
       ".show-type {\n",
       "color: green;\n",
       "font-weight: bold;\n",
       "font-family: monospace;\n",
       "margin-left: 1em;\n",
       "}\n",
       ".mono {\n",
       "font-family: monospace;\n",
       "display: block;\n",
       "}\n",
       ".err-msg {\n",
       "color: red;\n",
       "font-style: italic;\n",
       "font-family: monospace;\n",
       "white-space: pre;\n",
       "display: block;\n",
       "}\n",
       "#unshowable {\n",
       "color: red;\n",
       "font-weight: bold;\n",
       "}\n",
       ".err-msg.in.collapse {\n",
       "padding-top: 0.7em;\n",
       "}\n",
       "\n",
       ".highlight-code {\n",
       "white-space: pre;\n",
       "font-family: monospace;\n",
       "}\n",
       "\n",
       ".suggestion-warning { \n",
       "font-weight: bold;\n",
       "color: rgb(200, 130, 0);\n",
       "}\n",
       ".suggestion-error { \n",
       "font-weight: bold;\n",
       "color: red;\n",
       "}\n",
       ".suggestion-name {\n",
       "font-weight: bold;\n",
       "}\n",
       "\n",
       "</style><html>\n",
       "    <head>\n",
       "        <link href=\"https://unpkg.com/tailwindcss@^1.0/dist/tailwind.min.css\" rel=\"stylesheet\">\n",
       "        <link href=\"xstatic/css/pack_1.css\" rel=\"stylesheet\">\n",
       "        <link href=\"xstatic/css/pack_2.css\" rel=\"stylesheet\">\n",
       "    </head>\n",
       "    <body class=\"dark antialiased text-slate-500 dark:text-slate-400 dark:bg-slate-900\">\n",
       "        <div style=\"color: red; background: rgb(115 120 128)\" class=\"lg:col-span-5 xl:col-span-6 flex flex-col\">\n",
       "            <div class=\"relative z-10 rounded-xl bg-white shadow-xl ring-1 ring-slate-900/5 overflow-hidden my-auto xl:mt-18 dark:bg-slate-800\">\n",
       "                <div class=\"container mx-auto p-4\">\n",
       "                    <h1 class=\"text-2xl font-bold mb-4\">\n",
       "                        Just taking a break\n",
       "                    </h1>\n",
       "                    <section>\n",
       "                        <header class=\"bg-white space-y-4 p-4 sm:px-8 sm:py-6 lg:p-4 xl:px-8 xl:py-6\">\n",
       "                            <div class=\"flex items-center justify-between\">\n",
       "                                <h2 class=\"font-semibold text-slate-900\">\n",
       "                                    Projects\n",
       "                                </h2>\n",
       "                                <a href=\"javascript:void()\" class=\"hover:bg-blue-400 group flex items-center rounded-md bg-blue-500 text-white text-sm font-medium pl-2 pr-3 py-2 shadow-sm\">\n",
       "                                    <svg width=\"20\" height=\"20\" fill=\"currentColor\" class=\"mr-2\">\n",
       "                                        <path d=\"M10 5a1 1 0 0 1 1 1v3h3a1 1 0 1 1 0 2h-3v3a1 1 0 1 1-2 0v-3H6a1 1 0 1 1 0-2h3V6a1 1 0 0 1 1-1Z\" />\n",
       "                                    </svg>\n",
       "                                    New\n",
       "                                </a>\n",
       "                            </div>\n",
       "                            <form class=\"group relative\">\n",
       "                                <svg width=\"20\" height=\"20\" fill=\"currentColor\" class=\"absolute left-3 top-1/2 -mt-2.5 text-slate-400 pointer-events-none group-focus-within:text-blue-500\">\n",
       "                                    <path fill-rule=\"evenodd\" clip-rule=\"evenodd\" d=\"M8 4a4 4 0 100 8 4 4 0 000-8zM2 8a6 6 0 1110.89 3.476l4.817 4.817a1 1 0 01-1.414 1.414l-4.816-4.816A6 6 0 012 8z\" />\n",
       "                                </svg>\n",
       "                                <input class=\"focus:ring-2 focus:ring-blue-500 focus:outline-none appearance-none w-full text-sm leading-6 text-slate-900 placeholder-slate-400 rounded-md py-2 pl-10 ring-1 ring-slate-200 shadow-sm\" type=\"text\" placeholder=\"Filter projects...\">\n",
       "                            </form>\n",
       "                        </header>\n",
       "                        <ul class=\"bg-slate-50 p-4 sm:px-8 sm:pt-6 sm:pb-8 lg:p-4 xl:px-8 xl:pt-6 xl:pb-8 grid grid-cols-1 sm:grid-cols-2 lg:grid-cols-1 xl:grid-cols-2 gap-4 text-sm leading-6 dark:bg-slate-900/40 dark:ring-1 dark:ring-white/5\">\n",
       "                            <li class=\"group cursor-pointer rounded-md p-3 bg-white ring-1 ring-slate-200 shadow-sm hover:bg-blue-500 hover:ring-blue-500 hover:shadow-md dark:bg-slate-700 dark:ring-0 dark:highlight-white/10 dark:hover:bg-blue-500 hidden sm:block lg:hidden xl:block\">\n",
       "                                <a href=\"proj_1\" class=\"hover:bg-blue-500 hover:ring-blue-500 hover:shadow-md group rounded-md p-3 bg-white ring-1 ring-slate-200 shadow-sm\">\n",
       "                                    <dl class=\"grid sm:block lg:grid xl:block grid-cols-2 grid-rows-2 items-center\">\n",
       "                                        <div>\n",
       "                                            <dt class=\"sr-only\">\n",
       "                                                Title\n",
       "                                            </dt>\n",
       "                                            <dd class=\"group-hover:text-white font-semibold text-slate-900\">\n",
       "                                                First Project\n",
       "                                            </dd>\n",
       "                                        </div>\n",
       "                                        <div>\n",
       "                                            <dt class=\"sr-only\">\n",
       "                                                Category\n",
       "                                            </dt>\n",
       "                                            <dd class=\"group-hover:text-blue-200\">\n",
       "                                                Testing\n",
       "                                            </dd>\n",
       "                                        </div>\n",
       "                                        <div class=\"col-start-2 row-start-1 row-end-3 sm:mt-4 lg:mt-0 xl:mt-4\">\n",
       "                                            <dt class=\"sr-only\">\n",
       "                                                Users\n",
       "                                            </dt>\n",
       "                                            <dd class=\"flex justify-end sm:justify-start lg:justify-end xl:justify-start -space-x-1.5\">\n",
       "                                                <img src=\"https://images.unsplash.com/photo-1531123897727-8f129e1688ce?auto=format&amp;fit=facearea&amp;facepad=2&amp;w=48&amp;h=48&amp;q=80\" alt=\"Joe A\" class=\"w-6 h-6 rounded-full bg-slate-100 ring-2 ring-white\">\n",
       "                                                <img src=\"https://images.unsplash.com/photo-1494790108377-be9c29b29330?auto=format&amp;fit=facearea&amp;facepad=2&amp;w=48&amp;h=48&amp;q=80\" alt=\"Jane B\" class=\"w-6 h-6 rounded-full bg-slate-100 ring-2 ring-white\">\n",
       "                                            </dd>\n",
       "                                        </div>\n",
       "                                    </dl>\n",
       "                                </a>\n",
       "                            </li>\n",
       "                            <li class=\"group cursor-pointer rounded-md p-3 bg-white ring-1 ring-slate-200 shadow-sm hover:bg-blue-500 hover:ring-blue-500 hover:shadow-md dark:bg-slate-700 dark:ring-0 dark:highlight-white/10 dark:hover:bg-blue-500 hidden sm:block lg:hidden xl:block\">\n",
       "                                <a href=\"proj_2\" class=\"hover:bg-blue-500 hover:ring-blue-500 hover:shadow-md group rounded-md p-3 bg-white ring-1 ring-slate-200 shadow-sm\">\n",
       "                                    <dl class=\"grid sm:block lg:grid xl:block grid-cols-2 grid-rows-2 items-center\">\n",
       "                                        <div>\n",
       "                                            <dt class=\"sr-only\">\n",
       "                                                Title\n",
       "                                            </dt>\n",
       "                                            <dd class=\"group-hover:text-white font-semibold text-slate-900\">\n",
       "                                                Second Project\n",
       "                                            </dd>\n",
       "                                        </div>\n",
       "                                        <div>\n",
       "                                            <dt class=\"sr-only\">\n",
       "                                                Category\n",
       "                                            </dt>\n",
       "                                            <dd class=\"group-hover:text-blue-200\">\n",
       "                                                More testing\n",
       "                                            </dd>\n",
       "                                        </div>\n",
       "                                        <div class=\"col-start-2 row-start-1 row-end-3 sm:mt-4 lg:mt-0 xl:mt-4\">\n",
       "                                            <dt class=\"sr-only\">\n",
       "                                                Users\n",
       "                                            </dt>\n",
       "                                            <dd class=\"flex justify-end sm:justify-start lg:justify-end xl:justify-start -space-x-1.5\">\n",
       "                                                <img src=\"https://images.unsplash.com/photo-1494790108377-be9c29b29330?auto=format&amp;fit=facearea&amp;facepad=2&amp;w=48&amp;h=48&amp;q=80\" alt=\"Achmed A\" class=\"w-6 h-6 rounded-full bg-slate-100 ring-2 ring-white\">\n",
       "                                                <img src=\"https://images.unsplash.com/photo-1506794778202-cad84cf45f1d?auto=format&amp;fit=facearea&amp;facepad=2&amp;w=48&amp;h=48&amp;q=80\" alt=\"Simona B\" class=\"w-6 h-6 rounded-full bg-slate-100 ring-2 ring-white\">\n",
       "                                            </dd>\n",
       "                                        </div>\n",
       "                                    </dl>\n",
       "                                </a>\n",
       "                            </li>\n",
       "                        </ul>\n",
       "                    </section>\n",
       "                </div>\n",
       "            </div>\n",
       "        </div>\n",
       "    </body>\n",
       "</html>\n"
      ],
      "text/plain": [
       "<html>\n",
       "    <head>\n",
       "        <link href=\"https://unpkg.com/tailwindcss@^1.0/dist/tailwind.min.css\" rel=\"stylesheet\">\n",
       "        <link href=\"xstatic/css/pack_1.css\" rel=\"stylesheet\">\n",
       "        <link href=\"xstatic/css/pack_2.css\" rel=\"stylesheet\">\n",
       "    </head>\n",
       "    <body class=\"dark antialiased text-slate-500 dark:text-slate-400 dark:bg-slate-900\">\n",
       "        <div style=\"color: red; background: rgb(115 120 128)\" class=\"lg:col-span-5 xl:col-span-6 flex flex-col\">\n",
       "            <div class=\"relative z-10 rounded-xl bg-white shadow-xl ring-1 ring-slate-900/5 overflow-hidden my-auto xl:mt-18 dark:bg-slate-800\">\n",
       "                <div class=\"container mx-auto p-4\">\n",
       "                    <h1 class=\"text-2xl font-bold mb-4\">\n",
       "                        Just taking a break\n",
       "                    </h1>\n",
       "                    <section>\n",
       "                        <header class=\"bg-white space-y-4 p-4 sm:px-8 sm:py-6 lg:p-4 xl:px-8 xl:py-6\">\n",
       "                            <div class=\"flex items-center justify-between\">\n",
       "                                <h2 class=\"font-semibold text-slate-900\">\n",
       "                                    Projects\n",
       "                                </h2>\n",
       "                                <a href=\"javascript:void()\" class=\"hover:bg-blue-400 group flex items-center rounded-md bg-blue-500 text-white text-sm font-medium pl-2 pr-3 py-2 shadow-sm\">\n",
       "                                    <svg width=\"20\" height=\"20\" fill=\"currentColor\" class=\"mr-2\">\n",
       "                                        <path d=\"M10 5a1 1 0 0 1 1 1v3h3a1 1 0 1 1 0 2h-3v3a1 1 0 1 1-2 0v-3H6a1 1 0 1 1 0-2h3V6a1 1 0 0 1 1-1Z\" />\n",
       "                                    </svg>\n",
       "                                    New\n",
       "                                </a>\n",
       "                            </div>\n",
       "                            <form class=\"group relative\">\n",
       "                                <svg width=\"20\" height=\"20\" fill=\"currentColor\" class=\"absolute left-3 top-1/2 -mt-2.5 text-slate-400 pointer-events-none group-focus-within:text-blue-500\">\n",
       "                                    <path fill-rule=\"evenodd\" clip-rule=\"evenodd\" d=\"M8 4a4 4 0 100 8 4 4 0 000-8zM2 8a6 6 0 1110.89 3.476l4.817 4.817a1 1 0 01-1.414 1.414l-4.816-4.816A6 6 0 012 8z\" />\n",
       "                                </svg>\n",
       "                                <input class=\"focus:ring-2 focus:ring-blue-500 focus:outline-none appearance-none w-full text-sm leading-6 text-slate-900 placeholder-slate-400 rounded-md py-2 pl-10 ring-1 ring-slate-200 shadow-sm\" type=\"text\" placeholder=\"Filter projects...\">\n",
       "                            </form>\n",
       "                        </header>\n",
       "                        <ul class=\"bg-slate-50 p-4 sm:px-8 sm:pt-6 sm:pb-8 lg:p-4 xl:px-8 xl:pt-6 xl:pb-8 grid grid-cols-1 sm:grid-cols-2 lg:grid-cols-1 xl:grid-cols-2 gap-4 text-sm leading-6 dark:bg-slate-900/40 dark:ring-1 dark:ring-white/5\">\n",
       "                            <li class=\"group cursor-pointer rounded-md p-3 bg-white ring-1 ring-slate-200 shadow-sm hover:bg-blue-500 hover:ring-blue-500 hover:shadow-md dark:bg-slate-700 dark:ring-0 dark:highlight-white/10 dark:hover:bg-blue-500 hidden sm:block lg:hidden xl:block\">\n",
       "                                <a href=\"proj_1\" class=\"hover:bg-blue-500 hover:ring-blue-500 hover:shadow-md group rounded-md p-3 bg-white ring-1 ring-slate-200 shadow-sm\">\n",
       "                                    <dl class=\"grid sm:block lg:grid xl:block grid-cols-2 grid-rows-2 items-center\">\n",
       "                                        <div>\n",
       "                                            <dt class=\"sr-only\">\n",
       "                                                Title\n",
       "                                            </dt>\n",
       "                                            <dd class=\"group-hover:text-white font-semibold text-slate-900\">\n",
       "                                                First Project\n",
       "                                            </dd>\n",
       "                                        </div>\n",
       "                                        <div>\n",
       "                                            <dt class=\"sr-only\">\n",
       "                                                Category\n",
       "                                            </dt>\n",
       "                                            <dd class=\"group-hover:text-blue-200\">\n",
       "                                                Testing\n",
       "                                            </dd>\n",
       "                                        </div>\n",
       "                                        <div class=\"col-start-2 row-start-1 row-end-3 sm:mt-4 lg:mt-0 xl:mt-4\">\n",
       "                                            <dt class=\"sr-only\">\n",
       "                                                Users\n",
       "                                            </dt>\n",
       "                                            <dd class=\"flex justify-end sm:justify-start lg:justify-end xl:justify-start -space-x-1.5\">\n",
       "                                                <img src=\"https://images.unsplash.com/photo-1531123897727-8f129e1688ce?auto=format&amp;fit=facearea&amp;facepad=2&amp;w=48&amp;h=48&amp;q=80\" alt=\"Joe A\" class=\"w-6 h-6 rounded-full bg-slate-100 ring-2 ring-white\">\n",
       "                                                <img src=\"https://images.unsplash.com/photo-1494790108377-be9c29b29330?auto=format&amp;fit=facearea&amp;facepad=2&amp;w=48&amp;h=48&amp;q=80\" alt=\"Jane B\" class=\"w-6 h-6 rounded-full bg-slate-100 ring-2 ring-white\">\n",
       "                                            </dd>\n",
       "                                        </div>\n",
       "                                    </dl>\n",
       "                                </a>\n",
       "                            </li>\n",
       "                            <li class=\"group cursor-pointer rounded-md p-3 bg-white ring-1 ring-slate-200 shadow-sm hover:bg-blue-500 hover:ring-blue-500 hover:shadow-md dark:bg-slate-700 dark:ring-0 dark:highlight-white/10 dark:hover:bg-blue-500 hidden sm:block lg:hidden xl:block\">\n",
       "                                <a href=\"proj_2\" class=\"hover:bg-blue-500 hover:ring-blue-500 hover:shadow-md group rounded-md p-3 bg-white ring-1 ring-slate-200 shadow-sm\">\n",
       "                                    <dl class=\"grid sm:block lg:grid xl:block grid-cols-2 grid-rows-2 items-center\">\n",
       "                                        <div>\n",
       "                                            <dt class=\"sr-only\">\n",
       "                                                Title\n",
       "                                            </dt>\n",
       "                                            <dd class=\"group-hover:text-white font-semibold text-slate-900\">\n",
       "                                                Second Project\n",
       "                                            </dd>\n",
       "                                        </div>\n",
       "                                        <div>\n",
       "                                            <dt class=\"sr-only\">\n",
       "                                                Category\n",
       "                                            </dt>\n",
       "                                            <dd class=\"group-hover:text-blue-200\">\n",
       "                                                More testing\n",
       "                                            </dd>\n",
       "                                        </div>\n",
       "                                        <div class=\"col-start-2 row-start-1 row-end-3 sm:mt-4 lg:mt-0 xl:mt-4\">\n",
       "                                            <dt class=\"sr-only\">\n",
       "                                                Users\n",
       "                                            </dt>\n",
       "                                            <dd class=\"flex justify-end sm:justify-start lg:justify-end xl:justify-start -space-x-1.5\">\n",
       "                                                <img src=\"https://images.unsplash.com/photo-1494790108377-be9c29b29330?auto=format&amp;fit=facearea&amp;facepad=2&amp;w=48&amp;h=48&amp;q=80\" alt=\"Achmed A\" class=\"w-6 h-6 rounded-full bg-slate-100 ring-2 ring-white\">\n",
       "                                                <img src=\"https://images.unsplash.com/photo-1506794778202-cad84cf45f1d?auto=format&amp;fit=facearea&amp;facepad=2&amp;w=48&amp;h=48&amp;q=80\" alt=\"Simona B\" class=\"w-6 h-6 rounded-full bg-slate-100 ring-2 ring-white\">\n",
       "                                            </dd>\n",
       "                                        </div>\n",
       "                                    </dl>\n",
       "                                </a>\n",
       "                            </li>\n",
       "                        </ul>\n",
       "                    </section>\n",
       "                </div>\n",
       "            </div>\n",
       "        </div>\n",
       "    </body>\n",
       "</html>"
      ]
     },
     "metadata": {},
     "output_type": "display_data"
    }
   ],
   "source": [
    ":set -XOverloadedRecordDot\n",
    "\n",
    "import Control.Monad (mapM_, forM_)\n",
    "import qualified Text.Blaze.Svg11 as S\n",
    "import qualified Text.Blaze.Svg11.Attributes as Sa\n",
    "\n",
    "data Project = Project {\n",
    "    url :: T.Text\n",
    "    , title :: T.Text\n",
    "    , category :: T.Text\n",
    "    , users :: [ UserPrj ]\n",
    "  }\n",
    "\n",
    "data UserPrj = UserPrj {\n",
    "    name :: T.Text\n",
    "    , unsplID :: T.Text\n",
    "  }\n",
    "\n",
    "projects = [\n",
    "  Project {\n",
    "    url = \"proj_1\"\n",
    "    , title =\"First Project\"\n",
    "    , category = \"Testing\"\n",
    "    , users = [\n",
    "      UserPrj \"Joe A\" \"photo-1531123897727-8f129e1688ce\"\n",
    "      , UserPrj \"Jane B\" \"photo-1494790108377-be9c29b29330\"\n",
    "    ]\n",
    "  }\n",
    "  , Project {\n",
    "    url = \"proj_2\"\n",
    "    , title =\"Second Project\"\n",
    "    , category = \"More testing\"\n",
    "    , users = [\n",
    "      UserPrj \"Achmed A\" \"photo-1494790108377-be9c29b29330\"\n",
    "      , UserPrj \"Simona B\" \"photo-1506794778202-cad84cf45f1d\"\n",
    "    ]\n",
    "  }\n",
    " ]\n",
    "\n",
    "sectionD =\n",
    "  H.section $ do\n",
    "    H.header H.! A.class_ \"bg-white space-y-4 p-4 sm:px-8 sm:py-6 lg:p-4 xl:px-8 xl:py-6\" $ do\n",
    "      H.div H.! A.class_ \"flex items-center justify-between\" $ do\n",
    "        H.h2 H.! A.class_ \"font-semibold text-slate-900\" $ H.toHtml \"Projects\"\n",
    "        H.a H.! A.href \"javascript:void()\" H.! A.class_ \"hover:bg-blue-400 group flex items-center rounded-md bg-blue-500 text-white text-sm font-medium pl-2 pr-3 py-2 shadow-sm\" $ do\n",
    "          S.svg S.! Sa.width \"20\" H.! Sa.height \"20\" H.! Sa.fill \"currentColor\" H.! A.class_ \"mr-2\" $\n",
    "            S.path S.! Sa.d \"M10 5a1 1 0 0 1 1 1v3h3a1 1 0 1 1 0 2h-3v3a1 1 0 1 1-2 0v-3H6a1 1 0 1 1 0-2h3V6a1 1 0 0 1 1-1Z\"\n",
    "          H.toHtml \"New\"\n",
    "      form\n",
    "    projectsD projects\n",
    "\n",
    "form =\n",
    "  H.form H.! A.class_ \"group relative\" $ do\n",
    "      S.svg S.! Sa.width \"20\" S.! Sa.height \"20\" S.! Sa.fill \"currentColor\" S.! \n",
    "            A.class_ \"absolute left-3 top-1/2 -mt-2.5 text-slate-400 pointer-events-none group-focus-within:text-blue-500\" $\n",
    "        S.path S.! Sa.fillRule \"evenodd\" S.! Sa.clipRule \"evenodd\"\n",
    "            S.! Sa.d \"M8 4a4 4 0 100 8 4 4 0 000-8zM2 8a6 6 0 1110.89 3.476l4.817 4.817a1 1 0 01-1.414 1.414l-4.816-4.816A6 6 0 012 8z\"\n",
    "      H.input H.! A.class_ \"focus:ring-2 focus:ring-blue-500 focus:outline-none appearance-none w-full text-sm leading-6 text-slate-900 placeholder-slate-400 rounded-md py-2 pl-10 ring-1 ring-slate-200 shadow-sm\"\n",
    "        H.! A.type_ \"text\" H.! A.placeholder \"Filter projects...\"\n",
    "\n",
    "-- A components for showing projects\n",
    "projectsD projects =\n",
    "  H.ul H.! A.class_ \"bg-slate-50 p-4 sm:px-8 sm:pt-6 sm:pb-8 lg:p-4 xl:px-8 xl:pt-6 xl:pb-8 grid grid-cols-1 sm:grid-cols-2 lg:grid-cols-1 xl:grid-cols-2 gap-4 text-sm leading-6 dark:bg-slate-900/40 dark:ring-1 dark:ring-white/5\" $\n",
    "    mapM_ aProjectD  projects\n",
    "\n",
    "aProjectD aProj =\n",
    "  H.li H.! A.class_ \"group cursor-pointer rounded-md p-3 bg-white ring-1 ring-slate-200 shadow-sm hover:bg-blue-500 hover:ring-blue-500 hover:shadow-md dark:bg-slate-700 dark:ring-0 dark:highlight-white/10 dark:hover:bg-blue-500 hidden sm:block lg:hidden xl:block\" $\n",
    "    H.a H.! A.href (H.textValue aProj.url) H.! A.class_ \"hover:bg-blue-500 hover:ring-blue-500 hover:shadow-md group rounded-md p-3 bg-white ring-1 ring-slate-200 shadow-sm\" $\n",
    "      H.dl H.! A.class_ \"grid sm:block lg:grid xl:block grid-cols-2 grid-rows-2 items-center\" $ do\n",
    "        H.div $ do\n",
    "          H.dt H.! A.class_ \"sr-only\" $ H.toHtml \"Title\"\n",
    "          H.dd H.! A.class_ \"group-hover:text-white font-semibold text-slate-900\" $ H.toHtml aProj.title\n",
    "        H.div $ do\n",
    "          H.dt H.! A.class_ \"sr-only\" $ H.toHtml \"Category\"\n",
    "          H.dd H.! A.class_ \"group-hover:text-blue-200\" $ H.toHtml aProj.category\n",
    "        H.div H.! A.class_ \"col-start-2 row-start-1 row-end-3 sm:mt-4 lg:mt-0 xl:mt-4\" $ do\n",
    "          H.dt H.! A.class_ \"sr-only\" $ H.toHtml \"Users\"\n",
    "          H.dd H.! A.class_ \"flex justify-end sm:justify-start lg:justify-end xl:justify-start -space-x-1.5\" $\n",
    "            forM_ aProj.users (\\u -> H.img H.! A.src (fullUnsplashUrl u.unsplID) H.! A.alt (H.textValue u.name) H.! A.class_ \"w-6 h-6 rounded-full bg-slate-100 ring-2 ring-white\")\n",
    "  where\n",
    "  fullUnsplashUrl anID =\n",
    "    H.textValue $ \"https://images.unsplash.com/\" <> anID <> \"?auto=format&fit=facearea&facepad=2&w=48&h=48&q=80\"\n",
    "\n",
    "demoPage aReason = \n",
    "  H.html $ do\n",
    "    H.head $ do\n",
    "      H.link H.! A.href \"https://unpkg.com/tailwindcss@^1.0/dist/tailwind.min.css\" H.! A.rel \"stylesheet\"\n",
    "      H.link H.! A.href \"xstatic/css/pack_1.css\" H.! A.rel \"stylesheet\"\n",
    "      H.link H.! A.href \"xstatic/css/pack_2.css\" H.! A.rel \"stylesheet\"\n",
    "    H.body H.! A.class_ \"dark antialiased text-slate-500 dark:text-slate-400 dark:bg-slate-900\" $\n",
    "      H.div H.! A.style \"color: red; background: rgb(115 120 128)\" H.! A.class_ \"lg:col-span-5 xl:col-span-6 flex flex-col\" $\n",
    "        H.div H.! A.class_ \"relative z-10 rounded-xl bg-white shadow-xl ring-1 ring-slate-900/5 overflow-hidden my-auto xl:mt-18 dark:bg-slate-800\" $\n",
    "          H.div H.! A.class_ \"container mx-auto p-4\" $ do\n",
    "            H.h1 H.! A.class_ \"text-2xl font-bold mb-4\" $ H.toHtml aReason\n",
    "            sectionD\n",
    "\n",
    "demoPage \"Just taking a break\""
   ]
  },
  {
   "cell_type": "markdown",
   "id": "6e52b8dc-4595-465a-ba7e-8937fd0716c1",
   "metadata": {},
   "source": [
    "Ok, not as good as the original, but still really cool to get that kind of result directly into Jupyter's cells. Doing some thinking of my own while looking at the CSS classes in the code, I feel that spending time understanding how Haskell helps me discover so many computational concepts ends up being much more rewarding than spending time on learning stylesheet rules..."
   ]
  },
  {
   "cell_type": "markdown",
   "id": "a79bba25-efa0-41fe-a7c4-a46aab31562d",
   "metadata": {},
   "source": [
    "<h2>Data Structures</h2>\n",
    "\n",
    "The definition of data structures is an essential part of software development. The most basic construct for introducing a new structure in Haskell is the `data` construct.  For example, one would define a new structure to keep track of the width and height of a raster image in the following way:"
   ]
  },
  {
   "cell_type": "code",
   "execution_count": 31,
   "id": "2dec912a-ffd8-41ab-b5f7-ae45b21bc906",
   "metadata": {},
   "outputs": [],
   "source": [
    "data ImageSize_1 = ImgSz_1 Int Int"
   ]
  },
  {
   "cell_type": "markdown",
   "id": "c817bb04-3541-4f42-8aa9-33d11b11648e",
   "metadata": {},
   "source": [
    "which means that a value of the new structure called `ImageSize_1` is the assembly of two values of type `Int`, and that an `ImageSize_1` value is introduced by using the _value constructor_ `ImgSz_1`.\n",
    "\n",
    "And if you haven't guessed it already, a new data structure is a new type!"
   ]
  },
  {
   "cell_type": "markdown",
   "id": "55e75c98-96be-46ea-bf65-d9939d9b8e0d",
   "metadata": {},
   "source": [
    "**Note** that in real life programmers prefer to the same name for the _value constructor_ as for the structure name, as in:\n",
    "\n",
    "    data ImageSize_1 = ImageSize_1 Int Int\n",
    "\n",
    "but that's just a convention and it can be anything that starts with an upper-case letter."
   ]
  },
  {
   "cell_type": "markdown",
   "id": "8a7046cd-4b36-4877-8f1d-97eaeb4b39f9",
   "metadata": {},
   "source": [
    "Why is Haskell using the keyword `data` for types instead of the more logical keyword `type`? It seems the aliasing concepts the language designers first early on for the keyword `type` weren't broad enough, and when the more powerful features came along there was already too many things dependant on the `type` keyword for a refactoring so the `data` keyword came about."
   ]
  },
  {
   "cell_type": "markdown",
   "id": "9c98e98b-ce9f-4325-8572-884bc2b53068",
   "metadata": {},
   "source": [
    "To create a value of type `ImageSize_1`, one would write:"
   ]
  },
  {
   "cell_type": "code",
   "execution_count": 32,
   "id": "af67bbb8-9942-42a0-a89f-b5ef56071a7b",
   "metadata": {},
   "outputs": [],
   "source": [
    "isz_1 = ImgSz_1 200 300"
   ]
  },
  {
   "cell_type": "markdown",
   "id": "a10ede3e-2bb9-462c-be6a-b635df47975c",
   "metadata": {},
   "source": [
    "It is valid, but it makes for rather uninformative code. It would be much better if we could immediately identify which of the two numbers is the width and which is the height. To solve this lack of information, we can use the classic `Value.field` record notation.  It's classic but up to 2021 it wasn't part of Haskell at all (!!), and still today it requires the *OverloadedRecordDot* mode to be activated:"
   ]
  },
  {
   "cell_type": "code",
   "execution_count": 33,
   "id": "6e3b454e-4310-4973-850f-fb1b25c7ff39",
   "metadata": {},
   "outputs": [],
   "source": [
    ":set -XOverloadedRecordDot\n",
    "\n",
    "data ImageSize_2 = ImgSz_2 { length :: Int, depth :: Int }"
   ]
  },
  {
   "cell_type": "markdown",
   "id": "76e1a5a5-ea51-46c0-89b5-adf77ab3241d",
   "metadata": {},
   "source": [
    "Now we have essentially the same structure as `ImageSize_1` but it is better documented. To create a value of type `ImageSize_2` with more explicit information, one can write:"
   ]
  },
  {
   "cell_type": "code",
   "execution_count": 34,
   "id": "4c4af9bd-8496-4c2a-b85c-a9808efc7b83",
   "metadata": {},
   "outputs": [],
   "source": [
    "isz_2 = ImgSz_2 { length = 200, depth = 300 }\n",
    "\n",
    "-- the first syntax for is also valid:\n",
    "isz_2_alt = ImgSz_2 200 300"
   ]
  },
  {
   "cell_type": "markdown",
   "id": "925c4d81-10c0-4fa8-b287-f28785f14409",
   "metadata": {},
   "source": [
    "With the record notation, the code for accessing field values in a data structure is as expected:"
   ]
  },
  {
   "cell_type": "code",
   "execution_count": 35,
   "id": "c58ea935-adf1-4703-a93d-fd67972f7281",
   "metadata": {},
   "outputs": [
    {
     "data": {
      "text/plain": [
       "\"No problemo\""
      ]
     },
     "metadata": {},
     "output_type": "display_data"
    }
   ],
   "source": [
    "if isz_2.length < 200 || isz_2.depth > 500 then \"Out of bound\" else \"No problemo\""
   ]
  },
  {
   "cell_type": "markdown",
   "id": "a2e0da33-3d35-4b96-ad30-40facb02bf82",
   "metadata": {},
   "source": [
    "Haskell also uses an old school technique: pattern matching (**Prolog** anyone?). So to inspect the content of a ImageSize_1 value, we can use pattern matching to do so:"
   ]
  },
  {
   "cell_type": "code",
   "execution_count": 36,
   "id": "01cff019-464d-46cd-8f38-61e17d2f6ef2",
   "metadata": {},
   "outputs": [
    {
     "data": {
      "text/plain": [
       "\"All good\""
      ]
     },
     "metadata": {},
     "output_type": "display_data"
    }
   ],
   "source": [
    "ImgSz_1 nw nh = isz_1\n",
    "if nw < 200 || nh > 500 then \"Kaboom\" else \"All good\""
   ]
  },
  {
   "cell_type": "markdown",
   "id": "fde327d4-33de-43b8-b73f-729ce48cd972",
   "metadata": {},
   "source": [
    "The `ImgSz_1 <v1> <v2>` syntax on the left-hand side provides a pattern that will match a value of type `ImageSize_1`.  If the right-hand side is of the same type, there is a binding for the `<v1>` and `<v2>` terms to the internal components of the value.\n",
    "\n",
    "While it's old school, it turns out to be an elegant way to write code.  Back in the days of expert systems and **Prolog**, it was a big thing. The syntax turns out to be very readable, especially when dealing with more complex definitions, so it makes it is still in use today."
   ]
  },
  {
   "cell_type": "markdown",
   "id": "dbecf5a7-be45-41a9-b6ef-276b3bc97fde",
   "metadata": {},
   "source": [
    "Ok we can read fields, but how about modifying values of a record structure? Given the immutability of variables, we use a copy-on-write kind of approach:"
   ]
  },
  {
   "cell_type": "code",
   "execution_count": 37,
   "id": "55b55b1b-ab5b-442d-9d39-9b20719908cb",
   "metadata": {},
   "outputs": [
    {
     "data": {
      "text/plain": [
       "\"Length: 500, depth: 300\""
      ]
     },
     "metadata": {},
     "output_type": "display_data"
    }
   ],
   "source": [
    "isz_3 = isz_2 { length = 500 }\n",
    "\"Length: \" <> show isz_3.length <> \", depth: \" <> show isz_3.depth"
   ]
  },
  {
   "cell_type": "markdown",
   "id": "5b86e616-d1d1-4e5b-a67c-f73de45871d1",
   "metadata": {},
   "source": [
    "As we can't modify the `isz_2` content, ie `isz_2.length = 500` isn't allowed, we create a new `ImageSize_2` value with the same `depth` as `isz_2` but with a `length` of 500.\n",
    "\n",
    "The newcomer's reaction to this approach of creating new values instead of mutating existing values is often that Haskell code is wasting a lot of memory. But as the underlying mechanism for the value creation use copy-on-write, Haskell immutability constraint effect on memory consumption is the essentially the same as with other garbage-collected languages like Javascript, Python or Java. The real impact of this approach is that more variable names that may appear in the code as structure values are modified over the length of a function, and that is a good thing from a code clarity perspective. Computer memory isn't wasted, and in fact given the overall set of features in Haskell the memory consumption can end up to be equivalent to a **C** or **Rust** program. "
   ]
  },
  {
   "cell_type": "markdown",
   "id": "715a65f3-ae50-40cf-8d1f-e11dedd5e240",
   "metadata": {},
   "source": [
    "The kind of structure we have defined with `ImageSize_<x>` is a [product type](https://en.wikipedia.org/wiki/Algebraic_data_type). By contrast, a sum type represents a choice amongst alternatives provided in the structure definition. That's known as an *union* in C, *enum* in Rust, etc.\n",
    "\n",
    "A sum type is defined by putting a list of type definitions seperated by the `|` symbol, ie giving the alternatives (think of the `|` symbol as a _or_ keyword):"
   ]
  },
  {
   "cell_type": "code",
   "execution_count": 38,
   "id": "f3c83ad6-9839-4dad-8141-cab0efd87bea",
   "metadata": {},
   "outputs": [],
   "source": [
    "data Sizing =\n",
    "  Image ImageSize_2            -- expressing the size for an image based on previous definition\n",
    "  | Video Int Int Int Double   -- expressing the size based on some video concepts (width, height, duration, resolution)\n",
    "  | Unknown String             -- an escape route to express some other size parameters."
   ]
  },
  {
   "cell_type": "markdown",
   "id": "36be399e-c8f7-4d45-8855-dfb886f30eb9",
   "metadata": {},
   "source": [
    "Then we can create some values of type Sizing by writing:"
   ]
  },
  {
   "cell_type": "code",
   "execution_count": 39,
   "id": "6a46cd59-9315-4cba-9587-53163d7ff0b0",
   "metadata": {},
   "outputs": [],
   "source": [
    "-- Sizing for an image:\n",
    "imgSz = Image isz_2\n",
    "-- Sizing for a video:\n",
    "vidSz = Video 1920 1080 32 29.9\n",
    "-- Sizing somethign we don't know about:\n",
    "unkSz = Unknown \"1,2,3 and 4,5,6, and let's say big, big\""
   ]
  },
  {
   "cell_type": "markdown",
   "id": "0ebe687c-1710-4724-81be-e42409bda118",
   "metadata": {},
   "source": [
    "It is now a good time to revisit the `case` construct and see how it's used with sum types:"
   ]
  },
  {
   "cell_type": "code",
   "execution_count": 40,
   "id": "6a8aff25-8fcf-417c-ab1d-e4a4dacbd57e",
   "metadata": {},
   "outputs": [
    {
     "data": {
      "text/plain": [
       "\"width: 1920, height: 1080\""
      ]
     },
     "metadata": {},
     "output_type": "display_data"
    }
   ],
   "source": [
    "someSize = vidSz\n",
    "\n",
    "case someSize of\n",
    "  Image imgSize -> \"length: \" <> show imgSize.length <> \", depth: \" <> show imgSize.depth\n",
    "  Video w h _ _ -> \"width: \" <> show w <> \", height: \" <> show h\n",
    "  Unknown _ -> \"Who knows!\""
   ]
  },
  {
   "cell_type": "markdown",
   "id": "93f92d65-d051-49b4-be78-77516255dd10",
   "metadata": {},
   "source": [
    "This code shows both the pattern matching and sum types in action to give readable code (but not necessarely clever or useful code...)."
   ]
  },
  {
   "cell_type": "markdown",
   "id": "d0d05fb1-baa1-462c-9b7b-a9d7a97bd83e",
   "metadata": {},
   "source": [
    "The combination of pattern matching with function definition is another way to provide readable code. In the following example, the function `f1` is defined using pattern matching. The compiler is in charge of collecting all definitions of `f1` and then verifying the argument at runtime to launch the execution of the right version of the function. This looks like:"
   ]
  },
  {
   "cell_type": "code",
   "execution_count": 41,
   "id": "e31ff61c-8e51-4f36-b966-48259e404a33",
   "metadata": {},
   "outputs": [
    {
     "data": {
      "text/html": [
       "<style>/* Styles used for the Hoogle display in the pager */\n",
       ".hoogle-doc {\n",
       "display: block;\n",
       "padding-bottom: 1.3em;\n",
       "padding-left: 0.4em;\n",
       "}\n",
       ".hoogle-code {\n",
       "display: block;\n",
       "font-family: monospace;\n",
       "white-space: pre;\n",
       "}\n",
       ".hoogle-text {\n",
       "display: block;\n",
       "}\n",
       ".hoogle-name {\n",
       "color: green;\n",
       "font-weight: bold;\n",
       "}\n",
       ".hoogle-head {\n",
       "font-weight: bold;\n",
       "}\n",
       ".hoogle-sub {\n",
       "display: block;\n",
       "margin-left: 0.4em;\n",
       "}\n",
       ".hoogle-package {\n",
       "font-weight: bold;\n",
       "font-style: italic;\n",
       "}\n",
       ".hoogle-module {\n",
       "font-weight: bold;\n",
       "}\n",
       ".hoogle-class {\n",
       "font-weight: bold;\n",
       "}\n",
       "\n",
       ".get-type {\n",
       "color: green;\n",
       "font-weight: bold;\n",
       "font-family: monospace;\n",
       "display: block;\n",
       "white-space: pre-wrap;\n",
       "}\n",
       ".show-type {\n",
       "color: green;\n",
       "font-weight: bold;\n",
       "font-family: monospace;\n",
       "margin-left: 1em;\n",
       "}\n",
       ".mono {\n",
       "font-family: monospace;\n",
       "display: block;\n",
       "}\n",
       ".err-msg {\n",
       "color: red;\n",
       "font-style: italic;\n",
       "font-family: monospace;\n",
       "white-space: pre;\n",
       "display: block;\n",
       "}\n",
       "#unshowable {\n",
       "color: red;\n",
       "font-weight: bold;\n",
       "}\n",
       ".err-msg.in.collapse {\n",
       "padding-top: 0.7em;\n",
       "}\n",
       "\n",
       ".highlight-code {\n",
       "white-space: pre;\n",
       "font-family: monospace;\n",
       "}\n",
       "\n",
       ".suggestion-warning { \n",
       "font-weight: bold;\n",
       "color: rgb(200, 130, 0);\n",
       "}\n",
       ".suggestion-error { \n",
       "font-weight: bold;\n",
       "color: red;\n",
       "}\n",
       ".suggestion-name {\n",
       "font-weight: bold;\n",
       "}\n",
       "\n",
       "</style><b>\n",
       "    VIDEO\n",
       "</b>\n",
       "<ul>\n",
       "    <li>\n",
       "        width: 1920\n",
       "    </li>\n",
       "    <li>\n",
       "        height: 1080\n",
       "    </li>\n",
       "</ul>\n"
      ],
      "text/plain": [
       "<b>\n",
       "    VIDEO\n",
       "</b>\n",
       "<ul>\n",
       "    <li>\n",
       "        width: 1920\n",
       "    </li>\n",
       "    <li>\n",
       "        height: 1080\n",
       "    </li>\n",
       "</ul>"
      ]
     },
     "metadata": {},
     "output_type": "display_data"
    }
   ],
   "source": [
    "-- create a synonym of the string conversion combined function for more readable code later on:\n",
    "useString = H.toMarkup . T.pack\n",
    "\n",
    "-- define a function that works with Image values:\n",
    "f1 (Image imgSize) = do\n",
    "    H.b \"IMAGE\"\n",
    "    H.ul $ do\n",
    "      H.li $ useString $ \"length: \" <> show imgSize.length\n",
    "      H.li $ useString $ \"depth: \" <> show imgSize.depth\n",
    "\n",
    "-- define a function that works with Video values:\n",
    "f1 (Video w h _ _) = do\n",
    "    H.b \"VIDEO\"\n",
    "    H.ul $ do\n",
    "      H.li $ useString $ \"width: \" <> show w\n",
    "      H.li $ useString $ \"height: \" <> show h\n",
    "\n",
    "-- define a function that works with Unknown values:\n",
    "f1 (Unknown _) = H.b \"Who knows!\"\n",
    "\n",
    "-- apply the f1 function to a value of type Sizing:\n",
    "f1 vidSz"
   ]
  },
  {
   "cell_type": "markdown",
   "id": "2d193c85-7347-4544-a39f-ae05fc652343",
   "metadata": {},
   "source": [
    "**Note** that this code uses\n",
    "\n",
    "    H.li $ useString $ \"length: \" <> show imgSize.length\n",
    "\n",
    "instead of\n",
    "\n",
    "    H.li useString \"length: \" <> show imgSize.length\n",
    "\n",
    "Why is that? We don't bother with parenthesis or commas to delimit the parameters of a function in Haskell. But in return, there's a basic rule to disambiguate which parameters are part of which function call, and that is left-to-right precedence.\n",
    "\n",
    "If we used the second version of the code instead of the first one, the left-to-right precedence rule means that the `H.li` function, which takes a single parameter, will use the `useString` function and thus it doesn't compute! So we must tell the compiler that the right parameter to use is the result of the `useString` application to the rest of the line, and that's what the first `$` symbol indicates. Then we have a similar issue with `\"length: \"` not being the right parameter for `useString`, so we put another `$` to group the rest of the line into a string value. But then why isn't there a `$` to group the `show imgSize.length` function call? That's because the left-to-right rule has level of precedence for each function, and it turns out that `<>` precendence is lower than normal. So unlike the two previous situation, the `show imgSize.length` will be executed first, and that will become the 2nd parameter of the `<>` function call, `\"length: \"` being the first parameter."
   ]
  },
  {
   "cell_type": "markdown",
   "id": "4bcff8d5-a9bb-4b84-8209-6cd0c47ce323",
   "metadata": {},
   "source": [
    "<h2>Looking at lists</h2>\n",
    "\n",
    "We have so far covered a lot of ground, but we still have managed to stay away from a very important structure of programming languages: the **list**!  Lists are especially important in functional languages as they normally constitute the basis for iteration. It is an essence of functional programming to use the *scan* and *accumulate* concept as a better way of doing of what other languages implement with the *for-loop* or *do-while* statements, and a central point of debate for the functional vs non-functional discussions.\n",
    "\n",
    "The very first thing about a list in Haskell is that it's written with the same syntax that most other popular languages use for arrays:"
   ]
  },
  {
   "cell_type": "code",
   "execution_count": 42,
   "id": "d0c652c1-6df4-4b99-ab39-ac42a06ccc53",
   "metadata": {},
   "outputs": [],
   "source": [
    "aList = [ 1, 2, 3, 4, 5 ]"
   ]
  },
  {
   "cell_type": "markdown",
   "id": "64e75513-02d3-4c1e-8f75-18c2ca4d0b39",
   "metadata": {},
   "source": [
    "\n",
    "But that's not an array, it's a **list**. As in \"think *Lisp*\", ie singly linked list...\n",
    "That means there's no index to get elements and instead you have to use the head and tail or [*car : cdr*](https://en.wikipedia.org/wiki/CAR_and_CDR) technique.\n",
    "Haskell uses the `:` function to put a new element at the head of an existing list, as in:"
   ]
  },
  {
   "cell_type": "code",
   "execution_count": 43,
   "id": "a0e5ea9c-e6f5-4672-96c9-a6f69437aa65",
   "metadata": {},
   "outputs": [
    {
     "data": {
      "text/plain": [
       "[6,1,2,3,4,5]"
      ]
     },
     "metadata": {},
     "output_type": "display_data"
    }
   ],
   "source": [
    "6 : aList"
   ]
  },
  {
   "cell_type": "markdown",
   "id": "ec7861b5-ca89-4ed7-b28c-c3a4057773a5",
   "metadata": {},
   "source": [
    "And conversely, pattern matching with `:` is used to extract the first element of a list:"
   ]
  },
  {
   "cell_type": "code",
   "execution_count": 44,
   "id": "61cf796d-66fd-4125-8303-1a2414bc94d8",
   "metadata": {},
   "outputs": [
    {
     "data": {
      "text/plain": [
       "1"
      ]
     },
     "metadata": {},
     "output_type": "display_data"
    }
   ],
   "source": [
    "firstElement : restOfList = aList\n",
    "firstElement"
   ]
  },
  {
   "cell_type": "markdown",
   "id": "d39fa781-1c47-4178-8e6c-a2381e975dba",
   "metadata": {},
   "source": [
    "Adding more entries at the end of a list is a concatenation, and that's done with the `<>` function as seen before."
   ]
  },
  {
   "cell_type": "code",
   "execution_count": 45,
   "id": "a3e3a55b-5a31-44db-b0d5-7ba3becc5181",
   "metadata": {},
   "outputs": [
    {
     "data": {
      "text/plain": [
       "[1,2,3,4,5,6]"
      ]
     },
     "metadata": {},
     "output_type": "display_data"
    },
    {
     "data": {
      "text/plain": [
       "\"allo byebye\""
      ]
     },
     "metadata": {},
     "output_type": "display_data"
    }
   ],
   "source": [
    "aList <> [ 6 ]\n",
    "\"allo\" <> \" byebye\""
   ]
  },
  {
   "cell_type": "markdown",
   "id": "0689af52-54bc-410b-a87b-57f6e8692d39",
   "metadata": {},
   "source": [
    "Developers that don't have a formal computer science will find it weird to use lists for all kind of iterative and recursive flow control, but hopefully those with the formal background will remember that they used that approach in all kind of algorithms instead of the lowly index scans."
   ]
  },
  {
   "cell_type": "markdown",
   "id": "63bbf12e-bf15-4261-8d86-b0ecf68eea4e",
   "metadata": {},
   "source": [
    "**Note** that the `String` type is defined simply as a synonym for the list of `Char` type, or again `[Char]`. There is an important consequence to this definition: the basic string in Haskell is a singly linked list of Unicode characters! That is not necessarely the most efficient string implementation there is, and as we'll see soon it is a popular hobby amongst Haskell programmers to use alternative types for optimal string operations."
   ]
  },
  {
   "cell_type": "markdown",
   "id": "cb7781a2-dcae-4e08-b642-fca2e7c7f9dc",
   "metadata": {},
   "source": [
    "The typical iterations and recursions on list are done with either the `map` and `fold` family of functions, or using `case` construct with pattern matching on the *car : cdr* values.  For example:"
   ]
  },
  {
   "cell_type": "code",
   "execution_count": 46,
   "id": "93869f9c-0c3f-435e-947a-d06b083f190f",
   "metadata": {},
   "outputs": [
    {
     "data": {
      "text/html": [
       "<style>/* Styles used for the Hoogle display in the pager */\n",
       ".hoogle-doc {\n",
       "display: block;\n",
       "padding-bottom: 1.3em;\n",
       "padding-left: 0.4em;\n",
       "}\n",
       ".hoogle-code {\n",
       "display: block;\n",
       "font-family: monospace;\n",
       "white-space: pre;\n",
       "}\n",
       ".hoogle-text {\n",
       "display: block;\n",
       "}\n",
       ".hoogle-name {\n",
       "color: green;\n",
       "font-weight: bold;\n",
       "}\n",
       ".hoogle-head {\n",
       "font-weight: bold;\n",
       "}\n",
       ".hoogle-sub {\n",
       "display: block;\n",
       "margin-left: 0.4em;\n",
       "}\n",
       ".hoogle-package {\n",
       "font-weight: bold;\n",
       "font-style: italic;\n",
       "}\n",
       ".hoogle-module {\n",
       "font-weight: bold;\n",
       "}\n",
       ".hoogle-class {\n",
       "font-weight: bold;\n",
       "}\n",
       "\n",
       ".get-type {\n",
       "color: green;\n",
       "font-weight: bold;\n",
       "font-family: monospace;\n",
       "display: block;\n",
       "white-space: pre-wrap;\n",
       "}\n",
       ".show-type {\n",
       "color: green;\n",
       "font-weight: bold;\n",
       "font-family: monospace;\n",
       "margin-left: 1em;\n",
       "}\n",
       ".mono {\n",
       "font-family: monospace;\n",
       "display: block;\n",
       "}\n",
       ".err-msg {\n",
       "color: red;\n",
       "font-style: italic;\n",
       "font-family: monospace;\n",
       "white-space: pre;\n",
       "display: block;\n",
       "}\n",
       "#unshowable {\n",
       "color: red;\n",
       "font-weight: bold;\n",
       "}\n",
       ".err-msg.in.collapse {\n",
       "padding-top: 0.7em;\n",
       "}\n",
       "\n",
       ".highlight-code {\n",
       "white-space: pre;\n",
       "font-family: monospace;\n",
       "}\n",
       "\n",
       ".suggestion-warning { \n",
       "font-weight: bold;\n",
       "color: rgb(200, 130, 0);\n",
       "}\n",
       ".suggestion-error { \n",
       "font-weight: bold;\n",
       "color: red;\n",
       "}\n",
       ".suggestion-name {\n",
       "font-weight: bold;\n",
       "}\n",
       "\n",
       "</style><b>\n",
       "    1\n",
       "</b>\n"
      ],
      "text/plain": [
       "<b>\n",
       "    1\n",
       "</b>"
      ]
     },
     "metadata": {},
     "output_type": "display_data"
    },
    {
     "data": {
      "text/html": [
       "<style>/* Styles used for the Hoogle display in the pager */\n",
       ".hoogle-doc {\n",
       "display: block;\n",
       "padding-bottom: 1.3em;\n",
       "padding-left: 0.4em;\n",
       "}\n",
       ".hoogle-code {\n",
       "display: block;\n",
       "font-family: monospace;\n",
       "white-space: pre;\n",
       "}\n",
       ".hoogle-text {\n",
       "display: block;\n",
       "}\n",
       ".hoogle-name {\n",
       "color: green;\n",
       "font-weight: bold;\n",
       "}\n",
       ".hoogle-head {\n",
       "font-weight: bold;\n",
       "}\n",
       ".hoogle-sub {\n",
       "display: block;\n",
       "margin-left: 0.4em;\n",
       "}\n",
       ".hoogle-package {\n",
       "font-weight: bold;\n",
       "font-style: italic;\n",
       "}\n",
       ".hoogle-module {\n",
       "font-weight: bold;\n",
       "}\n",
       ".hoogle-class {\n",
       "font-weight: bold;\n",
       "}\n",
       "\n",
       ".get-type {\n",
       "color: green;\n",
       "font-weight: bold;\n",
       "font-family: monospace;\n",
       "display: block;\n",
       "white-space: pre-wrap;\n",
       "}\n",
       ".show-type {\n",
       "color: green;\n",
       "font-weight: bold;\n",
       "font-family: monospace;\n",
       "margin-left: 1em;\n",
       "}\n",
       ".mono {\n",
       "font-family: monospace;\n",
       "display: block;\n",
       "}\n",
       ".err-msg {\n",
       "color: red;\n",
       "font-style: italic;\n",
       "font-family: monospace;\n",
       "white-space: pre;\n",
       "display: block;\n",
       "}\n",
       "#unshowable {\n",
       "color: red;\n",
       "font-weight: bold;\n",
       "}\n",
       ".err-msg.in.collapse {\n",
       "padding-top: 0.7em;\n",
       "}\n",
       "\n",
       ".highlight-code {\n",
       "white-space: pre;\n",
       "font-family: monospace;\n",
       "}\n",
       "\n",
       ".suggestion-warning { \n",
       "font-weight: bold;\n",
       "color: rgb(200, 130, 0);\n",
       "}\n",
       ".suggestion-error { \n",
       "font-weight: bold;\n",
       "color: red;\n",
       "}\n",
       ".suggestion-name {\n",
       "font-weight: bold;\n",
       "}\n",
       "\n",
       "</style><b>\n",
       "    2\n",
       "</b>\n"
      ],
      "text/plain": [
       "<b>\n",
       "    2\n",
       "</b>"
      ]
     },
     "metadata": {},
     "output_type": "display_data"
    },
    {
     "data": {
      "text/html": [
       "<style>/* Styles used for the Hoogle display in the pager */\n",
       ".hoogle-doc {\n",
       "display: block;\n",
       "padding-bottom: 1.3em;\n",
       "padding-left: 0.4em;\n",
       "}\n",
       ".hoogle-code {\n",
       "display: block;\n",
       "font-family: monospace;\n",
       "white-space: pre;\n",
       "}\n",
       ".hoogle-text {\n",
       "display: block;\n",
       "}\n",
       ".hoogle-name {\n",
       "color: green;\n",
       "font-weight: bold;\n",
       "}\n",
       ".hoogle-head {\n",
       "font-weight: bold;\n",
       "}\n",
       ".hoogle-sub {\n",
       "display: block;\n",
       "margin-left: 0.4em;\n",
       "}\n",
       ".hoogle-package {\n",
       "font-weight: bold;\n",
       "font-style: italic;\n",
       "}\n",
       ".hoogle-module {\n",
       "font-weight: bold;\n",
       "}\n",
       ".hoogle-class {\n",
       "font-weight: bold;\n",
       "}\n",
       "\n",
       ".get-type {\n",
       "color: green;\n",
       "font-weight: bold;\n",
       "font-family: monospace;\n",
       "display: block;\n",
       "white-space: pre-wrap;\n",
       "}\n",
       ".show-type {\n",
       "color: green;\n",
       "font-weight: bold;\n",
       "font-family: monospace;\n",
       "margin-left: 1em;\n",
       "}\n",
       ".mono {\n",
       "font-family: monospace;\n",
       "display: block;\n",
       "}\n",
       ".err-msg {\n",
       "color: red;\n",
       "font-style: italic;\n",
       "font-family: monospace;\n",
       "white-space: pre;\n",
       "display: block;\n",
       "}\n",
       "#unshowable {\n",
       "color: red;\n",
       "font-weight: bold;\n",
       "}\n",
       ".err-msg.in.collapse {\n",
       "padding-top: 0.7em;\n",
       "}\n",
       "\n",
       ".highlight-code {\n",
       "white-space: pre;\n",
       "font-family: monospace;\n",
       "}\n",
       "\n",
       ".suggestion-warning { \n",
       "font-weight: bold;\n",
       "color: rgb(200, 130, 0);\n",
       "}\n",
       ".suggestion-error { \n",
       "font-weight: bold;\n",
       "color: red;\n",
       "}\n",
       ".suggestion-name {\n",
       "font-weight: bold;\n",
       "}\n",
       "\n",
       "</style><b>\n",
       "    3\n",
       "</b>\n"
      ],
      "text/plain": [
       "<b>\n",
       "    3\n",
       "</b>"
      ]
     },
     "metadata": {},
     "output_type": "display_data"
    },
    {
     "data": {
      "text/html": [
       "<style>/* Styles used for the Hoogle display in the pager */\n",
       ".hoogle-doc {\n",
       "display: block;\n",
       "padding-bottom: 1.3em;\n",
       "padding-left: 0.4em;\n",
       "}\n",
       ".hoogle-code {\n",
       "display: block;\n",
       "font-family: monospace;\n",
       "white-space: pre;\n",
       "}\n",
       ".hoogle-text {\n",
       "display: block;\n",
       "}\n",
       ".hoogle-name {\n",
       "color: green;\n",
       "font-weight: bold;\n",
       "}\n",
       ".hoogle-head {\n",
       "font-weight: bold;\n",
       "}\n",
       ".hoogle-sub {\n",
       "display: block;\n",
       "margin-left: 0.4em;\n",
       "}\n",
       ".hoogle-package {\n",
       "font-weight: bold;\n",
       "font-style: italic;\n",
       "}\n",
       ".hoogle-module {\n",
       "font-weight: bold;\n",
       "}\n",
       ".hoogle-class {\n",
       "font-weight: bold;\n",
       "}\n",
       "\n",
       ".get-type {\n",
       "color: green;\n",
       "font-weight: bold;\n",
       "font-family: monospace;\n",
       "display: block;\n",
       "white-space: pre-wrap;\n",
       "}\n",
       ".show-type {\n",
       "color: green;\n",
       "font-weight: bold;\n",
       "font-family: monospace;\n",
       "margin-left: 1em;\n",
       "}\n",
       ".mono {\n",
       "font-family: monospace;\n",
       "display: block;\n",
       "}\n",
       ".err-msg {\n",
       "color: red;\n",
       "font-style: italic;\n",
       "font-family: monospace;\n",
       "white-space: pre;\n",
       "display: block;\n",
       "}\n",
       "#unshowable {\n",
       "color: red;\n",
       "font-weight: bold;\n",
       "}\n",
       ".err-msg.in.collapse {\n",
       "padding-top: 0.7em;\n",
       "}\n",
       "\n",
       ".highlight-code {\n",
       "white-space: pre;\n",
       "font-family: monospace;\n",
       "}\n",
       "\n",
       ".suggestion-warning { \n",
       "font-weight: bold;\n",
       "color: rgb(200, 130, 0);\n",
       "}\n",
       ".suggestion-error { \n",
       "font-weight: bold;\n",
       "color: red;\n",
       "}\n",
       ".suggestion-name {\n",
       "font-weight: bold;\n",
       "}\n",
       "\n",
       "</style><b>\n",
       "    4\n",
       "</b>\n"
      ],
      "text/plain": [
       "<b>\n",
       "    4\n",
       "</b>"
      ]
     },
     "metadata": {},
     "output_type": "display_data"
    },
    {
     "data": {
      "text/html": [
       "<style>/* Styles used for the Hoogle display in the pager */\n",
       ".hoogle-doc {\n",
       "display: block;\n",
       "padding-bottom: 1.3em;\n",
       "padding-left: 0.4em;\n",
       "}\n",
       ".hoogle-code {\n",
       "display: block;\n",
       "font-family: monospace;\n",
       "white-space: pre;\n",
       "}\n",
       ".hoogle-text {\n",
       "display: block;\n",
       "}\n",
       ".hoogle-name {\n",
       "color: green;\n",
       "font-weight: bold;\n",
       "}\n",
       ".hoogle-head {\n",
       "font-weight: bold;\n",
       "}\n",
       ".hoogle-sub {\n",
       "display: block;\n",
       "margin-left: 0.4em;\n",
       "}\n",
       ".hoogle-package {\n",
       "font-weight: bold;\n",
       "font-style: italic;\n",
       "}\n",
       ".hoogle-module {\n",
       "font-weight: bold;\n",
       "}\n",
       ".hoogle-class {\n",
       "font-weight: bold;\n",
       "}\n",
       "\n",
       ".get-type {\n",
       "color: green;\n",
       "font-weight: bold;\n",
       "font-family: monospace;\n",
       "display: block;\n",
       "white-space: pre-wrap;\n",
       "}\n",
       ".show-type {\n",
       "color: green;\n",
       "font-weight: bold;\n",
       "font-family: monospace;\n",
       "margin-left: 1em;\n",
       "}\n",
       ".mono {\n",
       "font-family: monospace;\n",
       "display: block;\n",
       "}\n",
       ".err-msg {\n",
       "color: red;\n",
       "font-style: italic;\n",
       "font-family: monospace;\n",
       "white-space: pre;\n",
       "display: block;\n",
       "}\n",
       "#unshowable {\n",
       "color: red;\n",
       "font-weight: bold;\n",
       "}\n",
       ".err-msg.in.collapse {\n",
       "padding-top: 0.7em;\n",
       "}\n",
       "\n",
       ".highlight-code {\n",
       "white-space: pre;\n",
       "font-family: monospace;\n",
       "}\n",
       "\n",
       ".suggestion-warning { \n",
       "font-weight: bold;\n",
       "color: rgb(200, 130, 0);\n",
       "}\n",
       ".suggestion-error { \n",
       "font-weight: bold;\n",
       "color: red;\n",
       "}\n",
       ".suggestion-name {\n",
       "font-weight: bold;\n",
       "}\n",
       "\n",
       "</style><b>\n",
       "    5\n",
       "</b>\n"
      ],
      "text/plain": [
       "<b>\n",
       "    5\n",
       "</b>"
      ]
     },
     "metadata": {},
     "output_type": "display_data"
    },
    {
     "data": {
      "text/plain": [
       "240"
      ]
     },
     "metadata": {},
     "output_type": "display_data"
    }
   ],
   "source": [
    "Prelude.map (H.b . useString . show) aList      -- apply a function to each element of aList\n",
    "\n",
    "Prelude.foldl (*) 2 aList   -- multiply recursively each value of the list and double that."
   ]
  },
  {
   "cell_type": "markdown",
   "id": "72450677-e1bd-47bd-abad-982b4ef94683",
   "metadata": {},
   "source": [
    "Basic stuff...\n",
    "\n",
    "For a bit more advanced list processing:"
   ]
  },
  {
   "cell_type": "code",
   "execution_count": 47,
   "id": "fcca4a55-1090-4f74-a11b-5ed9154a3453",
   "metadata": {},
   "outputs": [
    {
     "data": {
      "text/html": [
       "<style>/* Styles used for the Hoogle display in the pager */\n",
       ".hoogle-doc {\n",
       "display: block;\n",
       "padding-bottom: 1.3em;\n",
       "padding-left: 0.4em;\n",
       "}\n",
       ".hoogle-code {\n",
       "display: block;\n",
       "font-family: monospace;\n",
       "white-space: pre;\n",
       "}\n",
       ".hoogle-text {\n",
       "display: block;\n",
       "}\n",
       ".hoogle-name {\n",
       "color: green;\n",
       "font-weight: bold;\n",
       "}\n",
       ".hoogle-head {\n",
       "font-weight: bold;\n",
       "}\n",
       ".hoogle-sub {\n",
       "display: block;\n",
       "margin-left: 0.4em;\n",
       "}\n",
       ".hoogle-package {\n",
       "font-weight: bold;\n",
       "font-style: italic;\n",
       "}\n",
       ".hoogle-module {\n",
       "font-weight: bold;\n",
       "}\n",
       ".hoogle-class {\n",
       "font-weight: bold;\n",
       "}\n",
       "\n",
       ".get-type {\n",
       "color: green;\n",
       "font-weight: bold;\n",
       "font-family: monospace;\n",
       "display: block;\n",
       "white-space: pre-wrap;\n",
       "}\n",
       ".show-type {\n",
       "color: green;\n",
       "font-weight: bold;\n",
       "font-family: monospace;\n",
       "margin-left: 1em;\n",
       "}\n",
       ".mono {\n",
       "font-family: monospace;\n",
       "display: block;\n",
       "}\n",
       ".err-msg {\n",
       "color: red;\n",
       "font-style: italic;\n",
       "font-family: monospace;\n",
       "white-space: pre;\n",
       "display: block;\n",
       "}\n",
       "#unshowable {\n",
       "color: red;\n",
       "font-weight: bold;\n",
       "}\n",
       ".err-msg.in.collapse {\n",
       "padding-top: 0.7em;\n",
       "}\n",
       "\n",
       ".highlight-code {\n",
       "white-space: pre;\n",
       "font-family: monospace;\n",
       "}\n",
       "\n",
       ".suggestion-warning { \n",
       "font-weight: bold;\n",
       "color: rgb(200, 130, 0);\n",
       "}\n",
       ".suggestion-error { \n",
       "font-weight: bold;\n",
       "color: red;\n",
       "}\n",
       ".suggestion-name {\n",
       "font-weight: bold;\n",
       "}\n",
       "\n",
       "</style><ul>\n",
       "    <li>\n",
       "        1\n",
       "    </li>\n",
       "    <li>\n",
       "        2\n",
       "    </li>\n",
       "    <li>\n",
       "        3\n",
       "    </li>\n",
       "    <li>\n",
       "        4\n",
       "    </li>\n",
       "    <li>\n",
       "        5\n",
       "    </li>\n",
       "</ul>\n"
      ],
      "text/plain": [
       "<ul>\n",
       "    <li>\n",
       "        1\n",
       "    </li>\n",
       "    <li>\n",
       "        2\n",
       "    </li>\n",
       "    <li>\n",
       "        3\n",
       "    </li>\n",
       "    <li>\n",
       "        4\n",
       "    </li>\n",
       "    <li>\n",
       "        5\n",
       "    </li>\n",
       "</ul>"
      ]
     },
     "metadata": {},
     "output_type": "display_data"
    },
    {
     "data": {
      "text/html": [
       "<style>/* Styles used for the Hoogle display in the pager */\n",
       ".hoogle-doc {\n",
       "display: block;\n",
       "padding-bottom: 1.3em;\n",
       "padding-left: 0.4em;\n",
       "}\n",
       ".hoogle-code {\n",
       "display: block;\n",
       "font-family: monospace;\n",
       "white-space: pre;\n",
       "}\n",
       ".hoogle-text {\n",
       "display: block;\n",
       "}\n",
       ".hoogle-name {\n",
       "color: green;\n",
       "font-weight: bold;\n",
       "}\n",
       ".hoogle-head {\n",
       "font-weight: bold;\n",
       "}\n",
       ".hoogle-sub {\n",
       "display: block;\n",
       "margin-left: 0.4em;\n",
       "}\n",
       ".hoogle-package {\n",
       "font-weight: bold;\n",
       "font-style: italic;\n",
       "}\n",
       ".hoogle-module {\n",
       "font-weight: bold;\n",
       "}\n",
       ".hoogle-class {\n",
       "font-weight: bold;\n",
       "}\n",
       "\n",
       ".get-type {\n",
       "color: green;\n",
       "font-weight: bold;\n",
       "font-family: monospace;\n",
       "display: block;\n",
       "white-space: pre-wrap;\n",
       "}\n",
       ".show-type {\n",
       "color: green;\n",
       "font-weight: bold;\n",
       "font-family: monospace;\n",
       "margin-left: 1em;\n",
       "}\n",
       ".mono {\n",
       "font-family: monospace;\n",
       "display: block;\n",
       "}\n",
       ".err-msg {\n",
       "color: red;\n",
       "font-style: italic;\n",
       "font-family: monospace;\n",
       "white-space: pre;\n",
       "display: block;\n",
       "}\n",
       "#unshowable {\n",
       "color: red;\n",
       "font-weight: bold;\n",
       "}\n",
       ".err-msg.in.collapse {\n",
       "padding-top: 0.7em;\n",
       "}\n",
       "\n",
       ".highlight-code {\n",
       "white-space: pre;\n",
       "font-family: monospace;\n",
       "}\n",
       "\n",
       ".suggestion-warning { \n",
       "font-weight: bold;\n",
       "color: rgb(200, 130, 0);\n",
       "}\n",
       ".suggestion-error { \n",
       "font-weight: bold;\n",
       "color: red;\n",
       "}\n",
       ".suggestion-name {\n",
       "font-weight: bold;\n",
       "}\n",
       "\n",
       "</style><b>\n",
       "    -- 0 --\n",
       "</b>\n"
      ],
      "text/plain": [
       "<b>\n",
       "    -- 0 --\n",
       "</b>"
      ]
     },
     "metadata": {},
     "output_type": "display_data"
    }
   ],
   "source": [
    "showOff inList = H.ul $ fRecur inList\n",
    "\n",
    "-- Call itself recursively, but operate as an iterator over a list of values.\n",
    "fRecur inList =\n",
    "  case inList of\n",
    "    [] -> H.b \"-- 0 --\"        -- Edge case, the list is empty.\n",
    "    [car] -> itemize car       -- The list is a single element.\n",
    "    car : cdr -> itemize car <> fRecur cdr       -- There are more than 1 element in the list, call itself to iterate over all elements.\n",
    "  where\n",
    "    itemize = H.li . useString . show\n",
    "\n",
    "showOff aList\n",
    "\n",
    "fRecur []"
   ]
  },
  {
   "cell_type": "markdown",
   "id": "421e19cb-2f1e-4d8b-b9af-2a4e93b88a8c",
   "metadata": {},
   "source": [
    "This example uses recursive accumulation to get things done. It also introduces the `where` construct that lets us provide a set of definitions **after** the main logic rather than before. So you can consider `let` and `where` as mirror of each other. Using `let` or `where` makes no difference to code execution sequencing, it's just providing flexibility for writing helper code either before or after the main logic.\n",
    "\n",
    "Also in this example there's a function definition instead of a variable definition in the `where` construct.  At the end of the day, variables are just functions with 0 argument, so defining functions or variables is exactly the same thing, both in the `let` and `where` syntax."
   ]
  },
  {
   "cell_type": "markdown",
   "id": "5bc6c945-0bab-4dee-86ca-7378384510af",
   "metadata": {},
   "source": [
    "We have now covered a good base of Haskell syntax and functional concepts. And beside the section where we explicitely wanted to talk about typing, still no typing to bother with! <span>&#128512;</span>"
   ]
  },
  {
   "cell_type": "markdown",
   "id": "fb0bb199-e620-4638-b4fc-392c696ba395",
   "metadata": {},
   "source": [
    "<h2>Fetching web data</h2>\n",
    "We'll now start to look at more relevant topics to web application development, starting with using HTTP, the basic communication protocol of the web.\n",
    "\n",
    "To build an example we'll use a simple REST api provider, the USA's [Car Vehicle API](https://vpic.nhtsa.dot.gov/api/), to provide a live endpoint to work with. The API provides us with some information about vehicles that are used in the USA, embedded in JSON format.\n",
    "\n",
    "The basic HTTP tool of Haskell, the [Network.HTTP.Client](https://hackage.haskell.org/package/http-client-0.7.14/docs/Network-HTTP-Client.html) package, to fetch data easily. We'll then use the popular [Aeson](https://hackage.haskell.org/package/aeson) package to upgrade automagically the JSON into Haskell data structures.\n",
    "\n",
    "Also to illustrate a point about monadic stuff, we'll put the logic in a toy function."
   ]
  },
  {
   "cell_type": "code",
   "execution_count": 48,
   "id": "80645a12-756b-448e-8d6d-932f4872ba46",
   "metadata": {},
   "outputs": [
    {
     "data": {
      "text/plain": []
     },
     "metadata": {},
     "output_type": "display_data"
    }
   ],
   "source": [
    "import qualified Network.HTTP.Client as N\n",
    "import qualified Network.HTTP.Client.TLS as N\n",
    "\n",
    "vehicleFetch query =\n",
    "  let\n",
    "    url = \"GET https://vpic.nhtsa.dot.gov/api/vehicles/\" <> query\n",
    "    request = N.setQueryString [(\"format\", Just \"json\")] $ N.parseRequest_ url\n",
    "    settings = N.tlsManagerSettings\n",
    "  in do\n",
    "    reqMgr <- N.newManager settings\n",
    "    N.httpLbs request reqMgr\n",
    " \n",
    "response <- vehicleFetch \"getallmakes\""
   ]
  },
  {
   "cell_type": "markdown",
   "id": "1a3e9fd3-59e0-4cea-b1bd-99230efdd6ba",
   "metadata": {},
   "source": [
    "The function is split in two parts using a `let` construct.  The first part specifies the values for `url`, `req` and `settings` terms.\n",
    "\n",
    "The HTTP fetch happens in the second part, ie the `in`. Now we know that fetching data on the web is far from being a _pure_ operation, ie consistently repeatable. In the Haskell world, that means the computations need to be wrapped in one of those famous *monads*, in this case the `IO` *monad* which contains the _impure_ state of the real world. There is no indication that the `IO` type is being used in the code as it is all deduced by the compiler. But the two _impure_ computations need to be performed in a strict context and order, and that's why the `do` keyword shows up just after `in`.\n",
    "\n",
    "Once results are generated within the `IO` monad, we'll want to get them back into the _pure_ world. The `<-` (left-pointing arrow) symbol does exactly that, extracting the values from the `IO` _impure_ context and making them available for the _pure_ computations.\n",
    "\n",
    "The first _impure_ operation is the definition of a HTTP communication manager. Having to specify that is the price to pay for using a low-level package which exposes the connection layer.\n",
    "\n",
    "The next operation is the actual fetching of data, achieved by the `httpLbs` function.  This being the last value encountered in the `vehicleFetch` function, it also become its result. That means that `vehicleFetch` returns values embedded in the `IO` monad.\n",
    "\n",
    "If we were to specify typing for that function, it would gain:\n",
    "\n",
    "    vehicleFetch :: String -> IO (N.Response Data.ByteString)\n",
    "\n",
    "meaning that the function takes a `String` parameter, and returns a `ByteString`-based HTTP `Response` wrapped in the `IO` type (`ByteString` is yet another string implementation!).\n",
    "\n",
    "But why bother with type annotation?\n",
    "\n",
    "Once the data is received from the web after invoking the `vehicleFetch`, the `<-` symbol is used again to extract it out of the `IO` monad and back in the _pure_ world.\n",
    "If the Internet is working properly, the `response` value you get in the cell is a 200 HTTP reply with a body full of JSON data.\n",
    "I'll assume your Internet is fine, and first take a peek at the status and first 150 characters of the body, just to have an idea of what's inside."
   ]
  },
  {
   "cell_type": "code",
   "execution_count": 49,
   "id": "5aaad563-86d0-4cff-a6d7-0e9a4f551a52",
   "metadata": {},
   "outputs": [
    {
     "data": {
      "text/plain": [
       "\"status: Status {statusCode = 200, statusMessage = \\\"OK\\\"}, body: {\\\"Count\\\":11316,\\\"Message\\\":\\\"Response returned successfully\\\",\\\"SearchCriteria\\\":null,\\\"Results\\\":[{\\\"Make_ID\\\":12858,\\\"Make_Name\\\":\\\"#1 ALPINE CUSTOMS\\\"},{\\\"Make_ID\""
      ]
     },
     "metadata": {},
     "output_type": "display_data"
    }
   ],
   "source": [
    "import qualified Data.ByteString.Lazy as LBS\n",
    "import qualified Data.Text.Lazy.Encoding as TL\n",
    "import qualified Data.Text.Lazy as TL\n",
    "\n",
    "print $ \"status: \" <> show response.responseStatus <> \", body: \" <> (Prelude.take 150 . TL.unpack . TL.decodeUtf8 $ response.responseBody)"
   ]
  },
  {
   "cell_type": "markdown",
   "id": "64adbb79-9471-426c-9416-f11d964a5749",
   "metadata": {},
   "source": [
    "That example should show you a 200 `statusCode`, and then a body where you can see the beginning of a long JSON payload of strings-in-a-string full of escaped sequences ('\\' is the escape character).\n",
    "\n",
    "The example also shows the string conversion gymnastic that is typical of Haskell programming. There are many ways to encode string data (for scanning, for compactness, for high-speed string manipulations, etc). Given Haskell extensive level of precision available to manage strings, it becomes a habit to convert strings between the optimal implementations required by different utilisations. In our example, 3 typical string packages are imported and then the `unpack` and `decodeUtf8` functions get the job done."
   ]
  },
  {
   "cell_type": "markdown",
   "id": "fac4b39b-32b0-49ca-9a0a-86a19dc0468d",
   "metadata": {},
   "source": [
    "Assuming the HTTP response is indeed a 200, then we can move to upgrading the JSON string to Haskell data structures."
   ]
  },
  {
   "cell_type": "markdown",
   "id": "c6ec3c6f-9681-46d2-b332-483dbafb056d",
   "metadata": {},
   "source": [
    "<h2>Using JSON and meta-programming</h2>\n",
    "\n",
    "The conversion between JSON and Haskell values is normally done *automagically*. Nonetheless we'll look at how the magic happens, since it is an introduction to meta-programming features of Haskell.\n",
    "\n",
    "The basic setup to **manipulate code with code** during compilation is the use of the `GHC.Generics` core Haskell package together with the `DeriveGeneric` and `DeriveAnyClass` modes.\n",
    "\n",
    "**Golang** and other recent language compilers provide some features to transform a JSON string into a `struct` and vice-versa, something that is achieved through support logic that is fairly hidden within the compiler itself.\n",
    "\n",
    "In Haskell the meta-programming system is used so that one can extend or modify at will the behavior of the transformation.  It is a blessing for automatizing the generation of boiler-plate code and doing all kind of further code generation from a few lines provided by the developer.\n",
    "\n",
    "The [Aeson](https://hackage.haskell.org/package/aeson) package comes with the necessary logic to introspect a data structure, ie a *type*, and automatically generate at compile-time the additional logic to parse JSON strings into values of that given type, and/or generate JSON representations of values of that type.\n",
    "\n",
    "For example:"
   ]
  },
  {
   "cell_type": "code",
   "execution_count": 50,
   "id": "11a25973-b4f6-436e-84a5-7304b4d9f05c",
   "metadata": {},
   "outputs": [],
   "source": [
    "{-# LANGUAGE DeriveGeneric #-}\n",
    "{-# LANGUAGE DeriveAnyClass #-}\n",
    "\n",
    "import GHC.Generics\n",
    "import qualified Data.Aeson as J\n",
    "\n",
    "data SimpleThing = ST {\n",
    "    aField :: String\n",
    "    , anotherField :: Int\n",
    "  }\n",
    "  deriving (Show, Generic, J.FromJSON, J.ToJSON)"
   ]
  },
  {
   "cell_type": "markdown",
   "id": "fa58cf1b-3b41-405f-8b62-4c6d9d12d4c9",
   "metadata": {},
   "source": [
    "The `SimpleThing` type defined here is a simple record with a `String` and an `Int` fields, there's nothing special about that. The interesting part is the `deriving` keyword that comes after the data structure definition, together with the tuple of type names (remember, upper case first letter is for types and modules). That *derivation* command triggers the Haskell compiler to launch meta-programming handling and effectively generate all the required logic to convert a value into a string representation (`Show`), to create an introspective representation of the type (`Generic`), and finally to create conversion logic to go back and forth between a value of `SimpleThing` and its JSON representation (`FromJSON`, `ToJSON`).\n",
    "\n",
    "None of that generated code shows up, but the compiler will remember it's there and will use it whenever required.\n",
    "\n",
    "**Note** that `Show`, `Generic` and etc aren't really types, they are *typeclasses*... we'll talk about the difference in a few cells.\n",
    "\n",
    "Now let's create a value of `SimpleThing` type, then show it as a string and go between Haskell internal representation and JSON. All that is standard operations in web applications:"
   ]
  },
  {
   "cell_type": "code",
   "execution_count": 51,
   "id": "ba2767ec-5fb4-42ba-a65b-a7ef7e3ee606",
   "metadata": {},
   "outputs": [
    {
     "data": {
      "text/plain": [
       "ST {aField = \"first value\", anotherField = 100}"
      ]
     },
     "metadata": {},
     "output_type": "display_data"
    },
    {
     "data": {
      "text/plain": [
       "\"{\\\"aField\\\":\\\"first value\\\",\\\"anotherField\\\":100}\""
      ]
     },
     "metadata": {},
     "output_type": "display_data"
    },
    {
     "data": {
      "text/plain": [
       "\"Just (ST {aField = \\\"first value\\\", anotherField = 100})\""
      ]
     },
     "metadata": {},
     "output_type": "display_data"
    }
   ],
   "source": [
    "simpleThing = ST { aField = \"first value\", anotherField = 100 }\n",
    "\n",
    "-- Use the Show code to convert the value to a string.\n",
    "print simpleThing\n",
    "\n",
    "-- Use the ToJSON code to get a JSON string out of the value.\n",
    "J.encode simpleThing\n",
    "\n",
    "-- Parse the JSON string to get a SimpleThing value.\n",
    "simpleJson = \"{\\\"aField\\\":\\\"first value\\\",\\\"anotherField\\\":100}\"\n",
    "show (J.decode simpleJson :: Maybe SimpleThing)"
   ]
  },
  {
   "cell_type": "markdown",
   "id": "daed3b5d-50e9-4f4b-b4da-93ffc21d39e9",
   "metadata": {},
   "source": [
    "Having derived `SimpleThing` with `ToJSON`, the `encode` function will apply the *Aeson* conversion logic and convert a `SimpleThing` value to a JSON string as we'd expect.\n",
    "\n",
    "Then the `decode simpleJson` function is asked to be of type `Maybe SimpleThing`.  That instructs the compiler to apply the *Aeson* conversion logic to go from a JSON string to a `SimpleThing` value.\n",
    "\n",
    "This is the first time we encounter the `Maybe` type, a pillar of Haskell programming. It is the standard way to manage optional results, similarly to the `?` symbol in **Rust** or **TypeScript**. Most importantly `Maybe` does away with the usual `null` or `undefined` issues of so many other programming languages.  It is an additive type, which uses two value constructors: `Nothing` and `Just <a-value>`. So when a function can either emit a result or return a void, we'll define it as a `Maybe <some-type>` function.\n",
    "\n",
    "In this example the `decode` function does its magic and returns a `Just SimpleThing` value, which is then shown as a string. If the `decode` function couldn't figure out how to parse the JSON, it would simply return a `Nothing`. If you worry about error management, `decodeEither` is the answer but I won't get into that now.\n",
    "\n",
    "The way *Aeson* meta-programming logic can be expanded for extension/modification is especially important given the way AI code generation is coming about. Unfortunately meta-programming is a huge topic and we need to keep moving, so we'll cover very little of that amazing Haskell feature."
   ]
  },
  {
   "cell_type": "markdown",
   "id": "a955e48b-7742-4c3e-8864-f414903c2357",
   "metadata": {},
   "source": [
    "Going back to the `vehicleFetch` example, we can now define the `ResponseVehicle` and `CarDescription` data structures to hold the content returned in JSON format.\n",
    "\n",
    "When using 3rd party APIs in real life, it's not always neat and simple to parse the JSON fields.  In the case of the *Vehicle API*, the top-level JSON object fields start with an uppercase letter, and then the individual car description object has a 'Make_' prefix for its fields that's redundant.  On the other hand, Haskell fields in a record must start with a lowercase letter, and we don't want to have to carry the 'make_' prefix in our code.\n",
    "\n",
    "To deal with the structure impedence, we'll inject a few modifications to the default meta-programming logic that deals with the conversion of JSON representations, using the `instance` keyword instead of `deriving` one to specify our own FromJSON implementation.  And yes, `instance` means *instance of a class*! As mentioned previously, Haskell as a *typeclass* concept. It isn't object-oriented programming but it does enable to group common features into *classes* and then assign them to types through *derivation*. Further more these features can be extended as required for meta-programming purposes through *instantiation* specialization.  It's yet another very interesting aspect of Haskell that we don't have time to dig into!\n",
    "\n",
    "Here's the code to represent the vehicle info in Haskell as a `ResponseVehicle` and `CarDescription` types, and parse the respective JSON representations:"
   ]
  },
  {
   "cell_type": "code",
   "execution_count": 52,
   "id": "4fe257de-17f2-4c48-9007-5cc65c9ac549",
   "metadata": {},
   "outputs": [],
   "source": [
    "import qualified Data.Char as C\n",
    "\n",
    "-- Specify the structures for holding the API overall reply and each car specification.\n",
    "data ResponseVehicle = ResponseVehicle {\n",
    "    count :: Int\n",
    "    , message :: String\n",
    "    , searchCriteria :: Maybe String\n",
    "    , results :: [ CarDescription ]\n",
    "  }\n",
    "  deriving (Show, Generic)\n",
    "\n",
    "data CarDescription = CarDescription {\n",
    "    uid :: Int\n",
    "    , name :: T.Text\n",
    "  }\n",
    "  deriving (Show, Generic)\n",
    "\n",
    "\n",
    "-- Extend the JSON-conversion logic of Aeson with specific logic for the Vehicle API format:\n",
    "instance J.FromJSON CarDescription where\n",
    "  parseJSON (J.Object obj) = CarDescription <$> obj J..: \"Make_ID\" <*> obj J..: \"Make_Name\"\n",
    "\n",
    "instance J.FromJSON ResponseVehicle where\n",
    "    parseJSON = J.genericParseJSON J.defaultOptions { J.fieldLabelModifier = firstUpper }\n",
    "\n",
    "-- Define a 'make first letter upper-case' helper:\n",
    "firstUpper (c:cs) = C.toUpper c : cs\n",
    "firstUpper [] = []"
   ]
  },
  {
   "cell_type": "markdown",
   "id": "e54f7abf-1a52-4beb-be58-6ca0f1bb449e",
   "metadata": {},
   "source": [
    "The `parseJSON` function of the FromJSON typeclass in the *Aeson* package is the entry point for the basic conversion from JSON to a Haskell value. In the code above, the `instance J.FromJSON CarDescription where` means that we'll add to the existing meta-programming logic of *Aeson*'s `FromJSON` typeclass. We then provide a new definition for `parseJSON` that builds a `CarDescription` value from the `Make_ID` and `Make_Name` fields found in the JSON data."
   ]
  },
  {
   "cell_type": "markdown",
   "id": "56692e6c-8cfa-4248-bbe8-a35091019ad0",
   "metadata": {},
   "source": [
    "The somewhat cryptic `<$>` and `<*>` symbols are simply helper functions used to apply other functions within the *containers* the JSON values are stored in.  They are worth looking into a bit more.\n",
    "\n",
    "Let's use these helpers for doing math with values that are within the `Maybe` container. Let's say we have some numbers from a function that may return nothing, so they are contained by a `Just`:"
   ]
  },
  {
   "cell_type": "code",
   "execution_count": 53,
   "id": "46e4759d-a5f4-4ff9-b7dd-3cded02edcf9",
   "metadata": {},
   "outputs": [
    {
     "data": {
      "text/plain": [
       "Just 7"
      ]
     },
     "metadata": {},
     "output_type": "display_data"
    }
   ],
   "source": [
    "(+) <$> Just 2 <*> Just 5"
   ]
  },
  {
   "cell_type": "markdown",
   "id": "2bfe996b-8242-424f-ada7-237a64763c4b",
   "metadata": {},
   "source": [
    "The `<$>` push the `+` function into the first parameter, and the `<*>` connects it into the second one. That means we can add the integers and then put the sum back into the same kind of `Just` container.  The neat thing is that those helpers follow the rules of the container, so in the case of:"
   ]
  },
  {
   "cell_type": "code",
   "execution_count": 54,
   "id": "cdb75691-4981-4322-8a6f-c7350d0ceb9a",
   "metadata": {},
   "outputs": [
    {
     "data": {
      "text/plain": [
       "Nothing"
      ]
     },
     "metadata": {},
     "output_type": "display_data"
    }
   ],
   "source": [
    "(+) <$> Just 4 <*> Nothing"
   ]
  },
  {
   "cell_type": "markdown",
   "id": "2dccda22-80d7-4bbb-8f65-c4194d8b56a6",
   "metadata": {},
   "source": [
    "we see that the result isn't a crash but rather a reasonable `Nothing` value. That's because the rules of the `Maybe` type are enforced by `<$>` and `<*>`, leading to the `+` function behaving correctly even with a `Nothing` value although it doesn't know anything about the `Maybe` container."
   ]
  },
  {
   "cell_type": "markdown",
   "id": "597f1e7a-1027-4240-a8f2-da68f5f0efab",
   "metadata": {},
   "source": [
    "**Note:** the weird `J..:` syntax is *Aeson*'s field value extractor function `.:` prefixed with the `J` package.  As noted before, there are just few syntax rules in Haskell, so exotic function names are frequent, such as `.:`, or `!` for Blaze. The decision to use the package prefix everywhere in the code of this notebook is resulting in some weird looking code...\n",
    "\n",
    "Going back to the `parseJSON` function extended for the `ResponseVehicle` data structure, we use a different strategy. Instead of providing new extraction logic in the extension we simply modify the configuration parameters of *Aeson*'s `genericParseJSON` function: the `fieldLabelModifier` of the `defaultOptions` value is updated with a function that maps the first character of each field name to an uppercase value. That's it."
   ]
  },
  {
   "cell_type": "markdown",
   "id": "3c584434-6dfd-4af7-9ac0-d6d07d09dbea",
   "metadata": {},
   "source": [
    "Getting the JSON data returned by the Vehicle API to Haskell values is then a simple `J.decode` call; the on-the-fly generated logic takes care of field mapping, sub-objects resolution, array parsing, etc. Further more, if you were to look at the generated code (it's possible to ask the compiler to spit it out), you'd see it is fast and efficient because it's fine-tuned for each kind of JSON conversion required. For example we used the `Text` type for the `name` field in the `CarDescription`, which is a more efficient string implementation than `String`, and thus the generated JSON parsing logic for that perticular kind of string will also be used in the `CarDescription` JSON translation logic. Compare that to for example **Go** JSON parsing of complex structures with conditionals and recursion...\n",
    "\n",
    "In the next block of code, we bring back Blaze to get HTML beautification for the values converted from JSON and to show how we typically deal with `Maybe` situations. Why do *print* when it's simple and so much nicer preview values of complex types in HTML?"
   ]
  },
  {
   "cell_type": "code",
   "execution_count": 55,
   "id": "992d2f8e-1781-4a66-a5a3-9b11a071bd8b",
   "metadata": {},
   "outputs": [
    {
     "data": {
      "text/html": [
       "<style>/* Styles used for the Hoogle display in the pager */\n",
       ".hoogle-doc {\n",
       "display: block;\n",
       "padding-bottom: 1.3em;\n",
       "padding-left: 0.4em;\n",
       "}\n",
       ".hoogle-code {\n",
       "display: block;\n",
       "font-family: monospace;\n",
       "white-space: pre;\n",
       "}\n",
       ".hoogle-text {\n",
       "display: block;\n",
       "}\n",
       ".hoogle-name {\n",
       "color: green;\n",
       "font-weight: bold;\n",
       "}\n",
       ".hoogle-head {\n",
       "font-weight: bold;\n",
       "}\n",
       ".hoogle-sub {\n",
       "display: block;\n",
       "margin-left: 0.4em;\n",
       "}\n",
       ".hoogle-package {\n",
       "font-weight: bold;\n",
       "font-style: italic;\n",
       "}\n",
       ".hoogle-module {\n",
       "font-weight: bold;\n",
       "}\n",
       ".hoogle-class {\n",
       "font-weight: bold;\n",
       "}\n",
       "\n",
       ".get-type {\n",
       "color: green;\n",
       "font-weight: bold;\n",
       "font-family: monospace;\n",
       "display: block;\n",
       "white-space: pre-wrap;\n",
       "}\n",
       ".show-type {\n",
       "color: green;\n",
       "font-weight: bold;\n",
       "font-family: monospace;\n",
       "margin-left: 1em;\n",
       "}\n",
       ".mono {\n",
       "font-family: monospace;\n",
       "display: block;\n",
       "}\n",
       ".err-msg {\n",
       "color: red;\n",
       "font-style: italic;\n",
       "font-family: monospace;\n",
       "white-space: pre;\n",
       "display: block;\n",
       "}\n",
       "#unshowable {\n",
       "color: red;\n",
       "font-weight: bold;\n",
       "}\n",
       ".err-msg.in.collapse {\n",
       "padding-top: 0.7em;\n",
       "}\n",
       "\n",
       ".highlight-code {\n",
       "white-space: pre;\n",
       "font-family: monospace;\n",
       "}\n",
       "\n",
       ".suggestion-warning { \n",
       "font-weight: bold;\n",
       "color: rgb(200, 130, 0);\n",
       "}\n",
       ".suggestion-error { \n",
       "font-weight: bold;\n",
       "color: red;\n",
       "}\n",
       ".suggestion-name {\n",
       "font-weight: bold;\n",
       "}\n",
       "\n",
       "</style><div>\n",
       "    <b>\n",
       "        Got 11316 descriptions, the first few ones are:\n",
       "    </b>\n",
       "    <br>\n",
       "    <ul>\n",
       "        <li>\n",
       "            <b>\n",
       "                #1 ALPINE CUSTOMS\n",
       "            </b>\n",
       "            <i>\n",
       "                 (id: 12858)\n",
       "            </i>\n",
       "        </li>\n",
       "        <li>\n",
       "            <b>\n",
       "                1/OFF KUSTOMS, LLC\n",
       "            </b>\n",
       "            <i>\n",
       "                 (id: 4877)\n",
       "            </i>\n",
       "        </li>\n",
       "        <li>\n",
       "            <b>\n",
       "                102 IRONWORKS, INC.\n",
       "            </b>\n",
       "            <i>\n",
       "                 (id: 11257)\n",
       "            </i>\n",
       "        </li>\n",
       "        <li>\n",
       "            <b>\n",
       "                12832429 CANADA INC.\n",
       "            </b>\n",
       "            <i>\n",
       "                 (id: 12255)\n",
       "            </i>\n",
       "        </li>\n",
       "        <li>\n",
       "            <b>\n",
       "                17 CREEK ENTERPRISES\n",
       "            </b>\n",
       "            <i>\n",
       "                 (id: 6387)\n",
       "            </i>\n",
       "        </li>\n",
       "    </ul>\n",
       "</div>\n"
      ],
      "text/plain": [
       "<div>\n",
       "    <b>\n",
       "        Got 11316 descriptions, the first few ones are:\n",
       "    </b>\n",
       "    <br>\n",
       "    <ul>\n",
       "        <li>\n",
       "            <b>\n",
       "                #1 ALPINE CUSTOMS\n",
       "            </b>\n",
       "            <i>\n",
       "                 (id: 12858)\n",
       "            </i>\n",
       "        </li>\n",
       "        <li>\n",
       "            <b>\n",
       "                1/OFF KUSTOMS, LLC\n",
       "            </b>\n",
       "            <i>\n",
       "                 (id: 4877)\n",
       "            </i>\n",
       "        </li>\n",
       "        <li>\n",
       "            <b>\n",
       "                102 IRONWORKS, INC.\n",
       "            </b>\n",
       "            <i>\n",
       "                 (id: 11257)\n",
       "            </i>\n",
       "        </li>\n",
       "        <li>\n",
       "            <b>\n",
       "                12832429 CANADA INC.\n",
       "            </b>\n",
       "            <i>\n",
       "                 (id: 12255)\n",
       "            </i>\n",
       "        </li>\n",
       "        <li>\n",
       "            <b>\n",
       "                17 CREEK ENTERPRISES\n",
       "            </b>\n",
       "            <i>\n",
       "                 (id: 6387)\n",
       "            </i>\n",
       "        </li>\n",
       "    </ul>\n",
       "</div>"
      ]
     },
     "metadata": {},
     "output_type": "display_data"
    }
   ],
   "source": [
    "showCar aDescription = do\n",
    "  H.b . useString . T.unpack $ aDescription.name\n",
    "  H.i . useString $ \" (id: \" <> show aDescription.uid <> \")\"\n",
    "\n",
    "mbApiResponse = J.decode response.responseBody :: Maybe ResponseVehicle\n",
    "\n",
    "H.div $ case mbApiResponse of\n",
    "  Nothing -> H.b \"No result.\"\n",
    "  Just result ->\n",
    "    let\n",
    "      count = result.count\n",
    "    in\n",
    "      if Prelude.length result.results == 0\n",
    "        then H.b \"Nothing???\"\n",
    "        else do\n",
    "          H.b . useString $ \"Got \" <> show count <> \" descriptions, the first few ones are:\"\n",
    "          H.br\n",
    "          H.ul $ mapM_ (H.li . showCar) (Prelude.take 5 result.results)\n"
   ]
  },
  {
   "cell_type": "markdown",
   "id": "843d9c9b-45ce-4d74-b55a-69780f0c8fc7",
   "metadata": {},
   "source": [
    "At this point you should be able to read the code easily. The only new item is the `mapM_` function, which is an iterator specialized for *Monads* values.\n",
    "\n",
    "As you can see, server-side HTML content generation from scratch is simple. But for many people, it's even simpler to work out of text templates.  Let's do that too!"
   ]
  },
  {
   "cell_type": "markdown",
   "id": "c859e178-414f-43ca-802a-bbc477844e16",
   "metadata": {},
   "source": [
    "<h2>Using Jinja2 HTML templates</h2>\n",
    "\n",
    "In the Haskell ecosystem, the Ginger package is the go-to for using Jinja2 templates.\n",
    "\n",
    "In the following example, the `DotValue` structure will represent our app-specific information. We extend the Ginger logic using meta-programming on the `DotValue` that will later be applied in the template runtime context.  Then a text file is loaded (it's the template!), it is parsed and finally the Ginger VM runs the template logic with the data context to produce HTML.\n",
    "\n",
    "The first test template is using **Tailwind CSS** to add styling to the Jupyter notebook bland look, and it's also using the **D3.js** library for implementing data visualization. That has nothing to do with Haskell but at this point using *markdown* is boring."
   ]
  },
  {
   "cell_type": "markdown",
   "id": "e606982f-1316-4b8e-8634-ad18c5c8af91",
   "metadata": {},
   "source": [
    "First let's define `DotValue`, which will be a sum type that holds 2 simple data structures, for string and circle, and two container values, for list and dictionary.  You can see here the common functional habit of using self-referencing definitions:"
   ]
  },
  {
   "cell_type": "code",
   "execution_count": 56,
   "id": "b2343132-41c2-4b60-b079-7535833889c2",
   "metadata": {},
   "outputs": [],
   "source": [
    "import Control.Monad.Identity (runIdentity)\n",
    "import qualified Data.Map as Mp\n",
    "import qualified Text.Ginger as Gi\n",
    "import qualified Text.Ginger.Html as Gi\n",
    "\n",
    "data DotValue =\n",
    "  StrV T.Text\n",
    "  | CircleV Int Int Int String  -- quick and dirty way to provide x,y pos, radius and color.\n",
    "  | DictV (Mp.Map T.Text DotValue)\n",
    "  | ListV [ DotValue ]"
   ]
  },
  {
   "cell_type": "markdown",
   "id": "d273a514-5961-4c8a-9890-a62cf51a4ca8",
   "metadata": {},
   "source": [
    "Then we provide the logic for transforming a `DotValue` value into a *Ginger*'s `GVal`.  For the first 3 of the 4 kind of values, Ginger default converter will do the remap automatically. The `CircleV` conversion requires some work, as each of the record's fields needs to be mapped into a named value. That additional informatin will tell the **Javascript** code in the template how to pass along the right data to the **D3.js** functions for getting **SVG** diagrams."
   ]
  },
  {
   "cell_type": "code",
   "execution_count": 57,
   "id": "f9167f6c-c881-4e6d-ab30-dfcef724f3db",
   "metadata": {},
   "outputs": [],
   "source": [
    "-- Enable the use of the \"\\case\" shortcut (f x = case x of ... => f = \\case ...):\n",
    "{-# LANGUAGE LambdaCase #-}\n",
    "\n",
    "instance Gi.ToGVal m DotValue where\n",
    "  toGVal = \\case\n",
    "    StrV aString -> Gi.toGVal aString\n",
    "    DictV aMap -> Gi.toGVal aMap\n",
    "    ListV aList -> Gi.toGVal aList\n",
    "    CircleV cX cY radius color -> Gi.toGVal $\n",
    "            Mp.fromList [\n",
    "              (\"cx\", show cX)  :: (T.Text, String)\n",
    "              , (\"cy\", show cY)\n",
    "              , (\"radius\", show radius)\n",
    "              , (\"color\", color)\n",
    "            ]"
   ]
  },
  {
   "cell_type": "markdown",
   "id": "8c03f158-24fa-4558-8e2c-7d4bdad9bcd3",
   "metadata": {},
   "source": [
    "The `Map` dictionary is initialized from a list of pairs (2-tuples).\n",
    "\n",
    "<span class=\"text-red-800\">WARNING: TYPES INVOLVED!</span> The `Map` requires that we specify the key and value types given there are many valid choices. We provide that information for the first value of the list and that is enough to get all the rest of the typing figured out.\n",
    "\n",
    "In this example we use a common Haskell structure, the tuple `(<value>, <value>)`.  Tuples are standard in most modern languages, and I expect they work just like you think they should."
   ]
  },
  {
   "cell_type": "markdown",
   "id": "ce1185e9-c05f-4e8f-8db4-162b8a22e7ae",
   "metadata": {},
   "source": [
    "We then assemble some mock data and store it all as the `demoData_1` term.  Although we're dealing with complex typing possibilities, the compiler is still able to figure out what is what and we have no typing details for any function to provide.\n",
    "\n",
    "Also let's recycle the data from the Vehicle API used earlier on if there's some available."
   ]
  },
  {
   "cell_type": "code",
   "execution_count": 58,
   "id": "bcc86940-d4a4-497f-81e3-1f9add9058a4",
   "metadata": {},
   "outputs": [],
   "source": [
    "demoNavList = case mbApiResponse of\n",
    "  Nothing ->\n",
    "    let\n",
    "      nav_1 = Mp.fromList [\n",
    "         (\"url\", StrV \"https://gaga.com/url_1\")\n",
    "       , (\"label\", StrV \"Gaga\")\n",
    "       ]\n",
    "      nav_2 = Mp.fromList [\n",
    "          (\"url\", StrV \"https://gougou.com/url_1\")\n",
    "       , (\"label\", StrV \"Gougou\")\n",
    "       ]\n",
    "    in \n",
    "    ListV [ DictV nav_1, DictV nav_2 ]\n",
    "  Just apiResponse ->\n",
    "    let\n",
    "      subList = Prelude.take 5 apiResponse.results\n",
    "    in\n",
    "      ListV $ Prelude.map carDescToTuple subList\n",
    "  where\n",
    "    carDescToTuple cd =\n",
    "        DictV $ Mp.fromList [\n",
    "            (\"url\", StrV . T.pack $ \"http://https://vpic.nhtsa.dot.gov/api/vehicles/getmake?id=\" <> show cd.uid)\n",
    "            , (\"label\", StrV cd.name)\n",
    "        ]\n",
    "\n",
    "circles = [\n",
    "    CircleV 20 90 40 \"green\"  \n",
    "    , CircleV 50 90 45 \"red\"  \n",
    "    , CircleV 85 90 50 \"blue\"  \n",
    "  ]\n",
    "\n",
    "demoData_1 = Mp.fromList [\n",
    "    (\"title\", StrV \"Haskell, Hidden Gem\")\n",
    "    , (\"navigation\", demoNavList)\n",
    "    , (\"circles\", ListV circles)\n",
    "  ]"
   ]
  },
  {
   "cell_type": "markdown",
   "id": "c4366ada-de84-4ace-92e0-9644e46907d9",
   "metadata": {},
   "source": [
    "As usual, no need to bother with type annotations. Yet it's worth looking under the hood and find out what was inferred for the `demoData_1`. That's done with the `:t` feature of the notebook, as in:"
   ]
  },
  {
   "cell_type": "code",
   "execution_count": 59,
   "id": "274923e1-a726-483a-bbf2-62678f431981",
   "metadata": {},
   "outputs": [
    {
     "data": {
      "text/html": [
       "<style>/* Styles used for the Hoogle display in the pager */\n",
       ".hoogle-doc {\n",
       "display: block;\n",
       "padding-bottom: 1.3em;\n",
       "padding-left: 0.4em;\n",
       "}\n",
       ".hoogle-code {\n",
       "display: block;\n",
       "font-family: monospace;\n",
       "white-space: pre;\n",
       "}\n",
       ".hoogle-text {\n",
       "display: block;\n",
       "}\n",
       ".hoogle-name {\n",
       "color: green;\n",
       "font-weight: bold;\n",
       "}\n",
       ".hoogle-head {\n",
       "font-weight: bold;\n",
       "}\n",
       ".hoogle-sub {\n",
       "display: block;\n",
       "margin-left: 0.4em;\n",
       "}\n",
       ".hoogle-package {\n",
       "font-weight: bold;\n",
       "font-style: italic;\n",
       "}\n",
       ".hoogle-module {\n",
       "font-weight: bold;\n",
       "}\n",
       ".hoogle-class {\n",
       "font-weight: bold;\n",
       "}\n",
       "\n",
       ".get-type {\n",
       "color: green;\n",
       "font-weight: bold;\n",
       "font-family: monospace;\n",
       "display: block;\n",
       "white-space: pre-wrap;\n",
       "}\n",
       ".show-type {\n",
       "color: green;\n",
       "font-weight: bold;\n",
       "font-family: monospace;\n",
       "margin-left: 1em;\n",
       "}\n",
       ".mono {\n",
       "font-family: monospace;\n",
       "display: block;\n",
       "}\n",
       ".err-msg {\n",
       "color: red;\n",
       "font-style: italic;\n",
       "font-family: monospace;\n",
       "white-space: pre;\n",
       "display: block;\n",
       "}\n",
       "#unshowable {\n",
       "color: red;\n",
       "font-weight: bold;\n",
       "}\n",
       ".err-msg.in.collapse {\n",
       "padding-top: 0.7em;\n",
       "}\n",
       "\n",
       ".highlight-code {\n",
       "white-space: pre;\n",
       "font-family: monospace;\n",
       "}\n",
       "\n",
       ".suggestion-warning { \n",
       "font-weight: bold;\n",
       "color: rgb(200, 130, 0);\n",
       "}\n",
       ".suggestion-error { \n",
       "font-weight: bold;\n",
       "color: red;\n",
       "}\n",
       ".suggestion-name {\n",
       "font-weight: bold;\n",
       "}\n",
       "\n",
       "</style><span class='get-type'>demoData_1 :: forall {k}. (Ord k, IsString k) => Map k DotValue</span>"
      ],
      "text/plain": [
       "demoData_1 :: forall {k}. (Ord k, IsString k) => Map k DotValue"
      ]
     },
     "metadata": {},
     "output_type": "display_data"
    }
   ],
   "source": [
    ":t demoData_1"
   ]
  },
  {
   "cell_type": "markdown",
   "id": "63d3d0ee-7524-4cb3-b98a-140c55ace3d8",
   "metadata": {},
   "source": [
    "The type definition provided by the compiler shows there are a `Map` of `DotValue` values involved (that's the dictionary and its values). Interestingly for the keys the only possible inference is on polymorphic constraints: `Ord k` means `k` can be ordered, and `IsString k` means `k` must be able to be dealth with as a String. Even if the inference is partial, it's enough to move forward. Furter use of that `demoData_1` function will resolve what kind of string variation the keys are using.\n",
    "\n",
    "While it may be convenient to let the compiler do all the type management, it is a good habit to lock in some of the types, so a more prudent approach of writing the `demoData` definition would be to specify:\n",
    "\n",
    "    demoData_1 :: Mp.Map T.Text DotValue\n",
    "\n",
    "if we want to make sure that the `Text` implementation of strings is used."
   ]
  },
  {
   "cell_type": "markdown",
   "id": "b1cac00b-82e8-42e2-b599-00cb109ed0c9",
   "metadata": {},
   "source": [
    "The `readFile` function takes care of loading data from a file, that's basic stuff.  But as this is an _impure_ operation, we use the `<-` symbol to extract the result back into the _pure_ context.\n",
    "If the file doesn't exist, the `readFile` function will throw an exception. Yes, the Haskell runtime uses exceptions..."
   ]
  },
  {
   "cell_type": "code",
   "execution_count": 60,
   "id": "ff66df01-b67f-493d-80d8-2fdd66d7eb42",
   "metadata": {},
   "outputs": [],
   "source": [
    "template_1 <- Prelude.readFile \"xstatic/templates/templ_1.html\""
   ]
  },
  {
   "cell_type": "markdown",
   "id": "3e0a72b5-baeb-42b3-b7fd-e178491993c0",
   "metadata": {},
   "source": [
    "The handling of included templates and errors that can show up during the parsing of the template text just loaded up requires to provide a few things when calling the `parseGinger' function:"
   ]
  },
  {
   "cell_type": "code",
   "execution_count": 61,
   "id": "add5f898-c97f-4ebf-881b-1db5e40c7918",
   "metadata": {},
   "outputs": [],
   "source": [
    "loadTemplate aTemplate = do\n",
    "  either (error . show) id . runIdentity $\n",
    "    Gi.parseGinger (const $ return Nothing) Nothing aTemplate"
   ]
  },
  {
   "cell_type": "markdown",
   "id": "7a183276-ebd3-4b35-9828-404f683ba9b7",
   "metadata": {},
   "source": [
    "The first parameter of `parseGinger` is a file resolver to handle additional templates included in the first one; it is a function that will receive a path and figure out how to fetch additional content. In our case, we pass a do-nothing function, `const $ return Nothing`, so no additional templates can be included.\n",
    "\n",
    "**Note:** this being Haskell, `return` is not a keyword, but a function! It does the opposite of the `<-` extractor used in monadic context, embedding a *naked* value into a monadic container. In the case of the **IO** monad, it makes the `Nothing` value become the equivalent of an IO operation that didn't produce anything."
   ]
  },
  {
   "cell_type": "markdown",
   "id": "a5c0865f-684e-4172-8592-22f2dba3bff7",
   "metadata": {},
   "source": [
    "The Ginger VM needs a way to dereference values during the template execution. We use the `lookup` function to do that: it simply gets the template variable name as a parameter called `needle` and finds that in the `demoData` dictionary.\n",
    "\n",
    "Then the logic provided in the instance of `ToGVal` for `DotValue` will do the rest of the work in getting the data into the constructed HTML."
   ]
  },
  {
   "cell_type": "code",
   "execution_count": 62,
   "id": "083e67fa-0d8b-40f8-9a40-ba476d5821e0",
   "metadata": {},
   "outputs": [
    {
     "data": {
      "text/html": [
       "<style>/* Styles used for the Hoogle display in the pager */\n",
       ".hoogle-doc {\n",
       "display: block;\n",
       "padding-bottom: 1.3em;\n",
       "padding-left: 0.4em;\n",
       "}\n",
       ".hoogle-code {\n",
       "display: block;\n",
       "font-family: monospace;\n",
       "white-space: pre;\n",
       "}\n",
       ".hoogle-text {\n",
       "display: block;\n",
       "}\n",
       ".hoogle-name {\n",
       "color: green;\n",
       "font-weight: bold;\n",
       "}\n",
       ".hoogle-head {\n",
       "font-weight: bold;\n",
       "}\n",
       ".hoogle-sub {\n",
       "display: block;\n",
       "margin-left: 0.4em;\n",
       "}\n",
       ".hoogle-package {\n",
       "font-weight: bold;\n",
       "font-style: italic;\n",
       "}\n",
       ".hoogle-module {\n",
       "font-weight: bold;\n",
       "}\n",
       ".hoogle-class {\n",
       "font-weight: bold;\n",
       "}\n",
       "\n",
       ".get-type {\n",
       "color: green;\n",
       "font-weight: bold;\n",
       "font-family: monospace;\n",
       "display: block;\n",
       "white-space: pre-wrap;\n",
       "}\n",
       ".show-type {\n",
       "color: green;\n",
       "font-weight: bold;\n",
       "font-family: monospace;\n",
       "margin-left: 1em;\n",
       "}\n",
       ".mono {\n",
       "font-family: monospace;\n",
       "display: block;\n",
       "}\n",
       ".err-msg {\n",
       "color: red;\n",
       "font-style: italic;\n",
       "font-family: monospace;\n",
       "white-space: pre;\n",
       "display: block;\n",
       "}\n",
       "#unshowable {\n",
       "color: red;\n",
       "font-weight: bold;\n",
       "}\n",
       ".err-msg.in.collapse {\n",
       "padding-top: 0.7em;\n",
       "}\n",
       "\n",
       ".highlight-code {\n",
       "white-space: pre;\n",
       "font-family: monospace;\n",
       "}\n",
       "\n",
       ".suggestion-warning { \n",
       "font-weight: bold;\n",
       "color: rgb(200, 130, 0);\n",
       "}\n",
       ".suggestion-error { \n",
       "font-weight: bold;\n",
       "color: red;\n",
       "}\n",
       ".suggestion-name {\n",
       "font-weight: bold;\n",
       "}\n",
       "\n",
       "</style><!DOCTYPE html>\n",
       "<html>\n",
       "    <head>\n",
       "      <meta charset=\"UTF-8\">\n",
       "      <meta name=\"viewport\" content=\"width=device-width, initial-scale=1.0\">\n",
       "      <link href=\"https://unpkg.com/tailwindcss@^1.0/dist/tailwind.min.css\" rel=\"stylesheet\">\n",
       "      <title>Haskell, Hidden Gem</title>\n",
       "      <script src=\"https://unpkg.com/d3@7.8.5/dist/d3.min.js\" cross-origin=\"anonymous\" type=\"text/javascript\"></script>\n",
       "\n",
       "    </head>\n",
       "    \n",
       "    <body>\n",
       "      <div class=\"container bg-gray-500 mx-auto p-4\">\n",
       "        <h1 class=\"text-2xl text-red-900 font-bold mb-4\">Haskell, Hidden Gem</h1>\n",
       "        <table class=\"min-w-full bg-orange-500 border border-gray-300\">\n",
       "          <thead>\n",
       "            <tr>\n",
       "              <th class=\"px-6 py-3 text-left text-xs font-medium text-gray-100 uppercase tracking-wider border-b\">Name</th>\n",
       "              <th class=\"px-6 py-3 text-left text-xs font-medium text-gray-100 uppercase tracking-wider border-b\">Destination</th>\n",
       "            </tr>\n",
       "          </thead>\n",
       "          <tbody>\n",
       "                          <tr>\n",
       "                <td class=\"text-blue-800\">#1 ALPINE CUSTOMS</td>\n",
       "                <td class=\"text-green-600\"><a href=\"http://https://vpic.nhtsa.dot.gov/api/vehicles/getmake?id=12858\">#1 ALPINE CUSTOMS</td>\n",
       "              </tr>\n",
       "                          <tr>\n",
       "                <td class=\"text-blue-800\">1/OFF KUSTOMS, LLC</td>\n",
       "                <td class=\"text-green-600\"><a href=\"http://https://vpic.nhtsa.dot.gov/api/vehicles/getmake?id=4877\">1/OFF KUSTOMS, LLC</td>\n",
       "              </tr>\n",
       "                          <tr>\n",
       "                <td class=\"text-blue-800\">102 IRONWORKS, INC.</td>\n",
       "                <td class=\"text-green-600\"><a href=\"http://https://vpic.nhtsa.dot.gov/api/vehicles/getmake?id=11257\">102 IRONWORKS, INC.</td>\n",
       "              </tr>\n",
       "                          <tr>\n",
       "                <td class=\"text-blue-800\">12832429 CANADA INC.</td>\n",
       "                <td class=\"text-green-600\"><a href=\"http://https://vpic.nhtsa.dot.gov/api/vehicles/getmake?id=12255\">12832429 CANADA INC.</td>\n",
       "              </tr>\n",
       "                          <tr>\n",
       "                <td class=\"text-blue-800\">17 CREEK ENTERPRISES</td>\n",
       "                <td class=\"text-green-600\"><a href=\"http://https://vpic.nhtsa.dot.gov/api/vehicles/getmake?id=6387\">17 CREEK ENTERPRISES</td>\n",
       "              </tr>\n",
       "                       </tbody>\n",
       "        </table>\n",
       "        \n",
       "      </div>\n",
       "      <div id=\"d3 demo\" class=\"flex p-5 justify-center\">\n",
       "        <svg id=\"dataviz_area\" height=200 width=450></svg>\n",
       "\n",
       "        <script>\n",
       "          var svg = d3.select(\"#dataviz_area\")\n",
       "          var x = d3.scaleLinear()\n",
       "            .domain([0, 100])         // This is the min and the max of the data: 0 to 100 if percentages\n",
       "            .range([0, 400]);       // This is the corresponding value I want in Pixel\n",
       "\n",
       "          // Show the axis that corresponds to this scale\n",
       "          svg.call(d3.axisBottom(x));\n",
       "\n",
       "                      svg.append(\"circle\").attr(\"cx\", x(20))\n",
       "              .attr(\"cy\", 90).attr(\"r\", 40 )\n",
       "              .style(\"fill\", \"green\");\n",
       "                      svg.append(\"circle\").attr(\"cx\", x(50))\n",
       "              .attr(\"cy\", 90).attr(\"r\", 45 )\n",
       "              .style(\"fill\", \"red\");\n",
       "                      svg.append(\"circle\").attr(\"cx\", x(85))\n",
       "              .attr(\"cy\", 90).attr(\"r\", 50 )\n",
       "              .style(\"fill\", \"blue\");\n",
       "          \n",
       "        </script>\n",
       "\n",
       "      </div>\n",
       "    </body>\n",
       "</html>\n"
      ]
     },
     "metadata": {},
     "output_type": "display_data"
    }
   ],
   "source": [
    "derefLabel needle =\n",
    "  Gi.toGVal $ Mp.lookup needle demoData_1\n",
    "\n",
    "tmplDemo =\n",
    "  Gi.runGinger (Gi.makeContextHtml derefLabel) (loadTemplate template_1)\n",
    "\n",
    "Gi.htmlSource tmplDemo"
   ]
  },
  {
   "cell_type": "markdown",
   "id": "d1daed75-1959-4e81-bcc5-9e01c3f0ac6b",
   "metadata": {},
   "source": [
    "The `htmlSource` function simply converts the `Ginger` internal representation of HTML produced by the `runGinger` function into the one required by the notebook."
   ]
  },
  {
   "cell_type": "markdown",
   "id": "83a5eb6a-1a8b-4221-9217-0d536a1f0337",
   "metadata": {},
   "source": [
    "You now know how to deal with JSON, fetch data from the web, create HTML content with either html-like code or Jinja2 templates.\n",
    "\n",
    "Before moving forward, have a quick reflection on the template-based HTML generation vs going through interpreted Blaze logic. When doing quick iterations on developing a good looking HTML page, I now find myself to prefer the later... In fact, using **Elm** is my preferred way to generate HTML."
   ]
  },
  {
   "cell_type": "markdown",
   "id": "41203194-065b-46d3-8895-4fb65cc87823",
   "metadata": {},
   "source": [
    "What else does a full-stack web app developer continuously work with in daily tasks? Databases and HTTP endpoint servicing!"
   ]
  },
  {
   "cell_type": "markdown",
   "id": "fc7d13ae-7197-40df-a13d-fd7ab7033728",
   "metadata": {},
   "source": [
    "<h2>Domain Specific Language and DB access</h2>\n",
    "\n",
    "The Domain Specific Language (DSL) capability of Haskell is a very cool feature that is somewhat at odds with it.  You have a language that is promoting a simple syntax and a functional approach... and then boom! with DSL the door opens up to pretty much any syntax and computing model you can come up with.\n",
    "\n",
    "DSLs syntax are brought in by doing the relevant package import and then using the *QuasiQuotes* blocks to switch between Haskell and a DSL syntax.  This also requires to enable the *QuasiQuotes* mode with:"
   ]
  },
  {
   "cell_type": "code",
   "execution_count": 63,
   "id": "90f61a21-471d-4916-a674-87a28d0f9d4d",
   "metadata": {
    "scrolled": true
   },
   "outputs": [],
   "source": [
    "{-# LANGUAGE QuasiQuotes #-}"
   ]
  },
  {
   "cell_type": "markdown",
   "id": "4c92aa15-9588-43a5-a029-0563f6f2e797",
   "metadata": {},
   "source": [
    "We'll use some database interactions to showcase the benefits of DSLs. No matter how many ORM packages people come up with in their favorite ecosystem, they'll eventually conclude that **SQL** is the way to go for manipulations on anything bigger than toy datasets. Normally that means you have to write **SQL** statements as string constants with a bunch of question marks for parameter holes, invoke some execution functions, map out the results, etc.  It's error prone, it's very error prone, it's incredibly error prone and actually awkward.  If only you could write **SQL** as a first-class citizen, merged into the rest of the logic you can express with your favorite syntax.\n",
    "\n",
    "The solution exists, it is *embedded SQL*: the ability to use your preferred language together with **SQL** statements that will be analyzed, syntax-verified, type-impedence resolved, and finally that will be executed transparently at runtime.  And if you have **embedded SQL**, you also want that in the latest version of the compiling toolchain at your disposition (when was the last version of the Pro*C compiler released?).\n",
    "\n",
    "This is exactly what we can achieve with a **SQL** *DSL* in the GHC compiler, which means Haskell instantly becomes your favorite programming language."
   ]
  },
  {
   "cell_type": "markdown",
   "id": "4b4cb582-1d04-4d61-987c-43a68145953d",
   "metadata": {},
   "source": [
    "The [Hasql-th](https://hackage.haskell.org/package/hasql-th) package provides the **SQL** syntax as a DSL as part of the excellent [Hasql](https://hackage.haskell.org/package/hasql) family of facilities for Postgresql operations. In other words, you get a great support for embedded **SQL** in Haskell code."
   ]
  },
  {
   "cell_type": "markdown",
   "id": "4337955b-ea67-44f5-a03a-4c390ee5a7e1",
   "metadata": {},
   "source": [
    "Rather than doing function calls that pass **SQL** statements as strings, we can instead do **SQL** queries that are syntax- and type-checked at compile time.  So much for code breaks at runtime because you wrote `slect a from ...` instead of `select a from ...`.\n",
    "\n",
    "To get started, a bunch of packages are brought into the namespace."
   ]
  },
  {
   "cell_type": "code",
   "execution_count": 64,
   "id": "f7487cc8-b757-4b0f-9c4d-db0ab494b56b",
   "metadata": {
    "scrolled": true
   },
   "outputs": [],
   "source": [
    "import Data.ByteString\n",
    "\n",
    "import qualified Hasql.Connection as DbC\n",
    "import qualified Hasql.Session as Se\n",
    "import Hasql.TH as Th\n",
    "\n",
    "import qualified Data.Vector as Vc"
   ]
  },
  {
   "cell_type": "markdown",
   "id": "8efce9b7-a4ca-4ca9-9c16-2a96a86858ea",
   "metadata": {},
   "source": [
    "To connect to the DB, credentials should be to get them from *outside* the notebook, eg from the Jupyter process' environment. If there's a `DBINFO` env var that contains the connection params separated by ':' symbol, it would be a matter of spliting that var value into 4 entries and then use that to define the `dbSettings`, as in:"
   ]
  },
  {
   "cell_type": "code",
   "execution_count": 65,
   "id": "26808fac-d78c-4d03-8cae-de701a5b2623",
   "metadata": {},
   "outputs": [],
   "source": [
    "import qualified System.Environment as SE\n",
    "import qualified Data.Text.Encoding as T\n",
    "\n",
    "dbInfo <- SE.getEnv \"DBINFO\"\n",
    "\n",
    "[ host, db, user, paswd] = Prelude.map T.encodeUtf8 $ T.splitOn \":\" (T.pack dbInfo)"
   ]
  },
  {
   "cell_type": "markdown",
   "id": "6ebc33c8-43e8-450a-ba1e-ab0fb92ebd8f",
   "metadata": {},
   "source": [
    "**Note:** the expectation here is that the env variable is made of a set of colon-separated values, it is loaded as a `String`, converted into `Text`, passed to the `splitOn` function (`String` has no such feature) which returns an array of values, each value is converted to a `ByteString` with the `encodeUtf8`, and finally stored in specific variables.  Always fun to do some string gymnastics."
   ]
  },
  {
   "cell_type": "markdown",
   "id": "8b42f169-6233-4ed2-bab4-6221238d50ab",
   "metadata": {},
   "source": [
    "But as it's not clear how the Jupyter runtime for this notebook is spawned and given we use a free-tier demo db from SupaBase, hiding the connection information isn't even worth it:"
   ]
  },
  {
   "cell_type": "code",
   "execution_count": 66,
   "id": "eb8c4c30-004d-4dd2-8219-4d7d8f7e34cd",
   "metadata": {},
   "outputs": [],
   "source": [
    "dbSettings = DbC.settings \"aws-0-eu-central-1.pooler.supabase.com\" 5432 \"demoa.vtjcwbccdutdqcsxdaqr\" \"justForDemo\" \"demoha\""
   ]
  },
  {
   "cell_type": "markdown",
   "id": "7b3fe49d-25e2-4c56-8708-8ca96475af2a",
   "metadata": {},
   "source": [
    "Our demo database provides basic information about the top starred and forked GitHub repos for the last 5 years. The source information is at [GitHub Top 100](https://github.com/EvanLi/Github-Ranking); I've simply parsed and normalized the CSV files into a more efficient SQL representation.\n",
    "\n",
    "The `GhProject` structure provides a way to hold the de-normalized data within the interpreter runtime context. The example **SQL** code simply does a *select/join* over all normalized tables to fetch the data in the de-normalized format straight off the DB rather than having to performi that work in the Haskell side. In real life, you'll consider that such a de-normalization puts the workload on the RDBMS and the network bandwidth, and that it might be more efficient to fetch the data normalized to minimze RDBMS resources and network bandwidth utilization, and de-normalize in the app runtime context instead."
   ]
  },
  {
   "cell_type": "code",
   "execution_count": 67,
   "id": "96a2426e-c677-4a45-a06f-2ffc029f89ef",
   "metadata": {},
   "outputs": [],
   "source": [
    "import qualified Data.Time.LocalTime as Lt\n",
    "import qualified Data.Int as DI\n",
    "\n",
    "data GhProject = GhProject {\n",
    "    rank :: DI.Int32\n",
    "    , section :: T.Text\n",
    "    , repo :: T.Text\n",
    "    , stars :: DI.Int32\n",
    "    , forks :: DI.Int32\n",
    "    , language :: Maybe T.Text\n",
    "    , url :: Maybe T.Text\n",
    "    , uname :: T.Text\n",
    "    , issues :: DI.Int32\n",
    "    , lastCommit :: Lt.LocalTime\n",
    "    , description :: Maybe T.Text\n",
    "  }\n",
    "\n",
    "data TopGithubCtxt = TopGithubCtxt {\n",
    "    headColumns :: [ T.Text ]\n",
    "    , rows :: GhProject\n",
    "  }"
   ]
  },
  {
   "cell_type": "markdown",
   "id": "f030141f-571e-4690-a5c0-26e8ad7ecbdf",
   "metadata": {},
   "source": [
    "Now we're getting to the real stuff: write a **SQL** statement to extract rows from the DB.\n",
    "\n",
    "**Note:** the syntax switch between Haskell and **SQL** is done using the `[<context>| <statements ]` *QuasiQuoter* block.\n",
    "\n",
    "The *Hasql-th* package provides a `[Th.vectorStatement|... |]` block to indicate that the **SQL** statement will return a vector of values. In that block, the query is written in almost standard **SQL**; that code will go through a proper **SQL** parser to produce internally the logic that will run in the DB engine.  Additionally the compiler will create glue code to pass values to the query from the Haskell world, and convert the raw data returned by the DB into a `Vector` of Haskell values. Being able to use the compiler to verify the **SQL** increases tremendously the reliability of the data manipulation code at runtime and eliminates a lot of testing requirements.\n",
    "\n",
    "To retrieve a bunch of rows from our GitHub dataset, we define the `simpleQuery` function with embedded **SQL**:"
   ]
  },
  {
   "cell_type": "code",
   "execution_count": 68,
   "id": "c03efb3e-c110-44c0-bbfa-c7a2afea892a",
   "metadata": {},
   "outputs": [],
   "source": [
    "import qualified Data.Profunctor as Pf\n",
    "import qualified Data.Tuple.Curry as Tc\n",
    "\n",
    "simpleQuery repoName =\n",
    "  Se.statement (repoName) $ Pf.dimap matcherFromString toGhProject\n",
    "    [Th.vectorStatement|\n",
    "        select\n",
    "            o.rank::int4, ta.label::text, tb.label::text, o.stars::int4, o.forks::int4\n",
    "            , tc.label::text?, td.label::text?\n",
    "            , te.label::text, o.issues::int4, o.last_commit::timestamp, o.description::text?\n",
    "        from GithubTop100 o\n",
    "            left join itemu ta on o.itemfk = ta.id\n",
    "            left join RepoNameU tb on o.reponamefk = tb.id\n",
    "            left join LanguageU tc on o.languagefk = tc.id\n",
    "            left join UrlU td on o.urlfk = td.id\n",
    "            left join UserU te on o.unamefk = te.id\n",
    "        where tb.label ilike $1::text\n",
    "        order by date_trunc('day', o.last_commit) desc\n",
    "            , itemfk, rank\n",
    "        limit 10\n",
    "    |]\n",
    "  where\n",
    "  matcherFromString n = \"%\" <> n <> \"%\"\n",
    "  toGhProject = fmap (Tc.uncurryN GhProject)"
   ]
  },
  {
   "cell_type": "markdown",
   "id": "0a89631a-3e99-4915-b863-2f7c59664bd3",
   "metadata": {},
   "source": [
    "By *almost standard SQL*, I meant that the standard **SQL** syntax is extended with some type-annotations so that fields in the `select` statement are typed to both check consistency and specify **SQL**-to-Haskell value conversion.\n",
    "\n",
    "The first parameter to the `statement` function specifies the values to use as dynamic entries in the **SQL** statement. In this case we only pass the `repoName` variable to limit the data fetch to a single repository. The 2nd parameter to the `statement` function can be either the *QuasiQuoter* block by itself or, as in the case here, conversion logic for dynamic entries and returned values that can be applied with a `dimap` association. Detailing the [ProFunctor](https://hackage.haskell.org/package/profunctors/docs/Data-Profunctor.html) package where `dimap` is defined goes beyond the scope of this notebook, but you can figure out that the `matchterFromString` is an *encoder* function which simply adds **SQL** wildcards around the repo name, and a *decoder* function `toGhProject` which simply converts raw tuples of values returned by the select **SQL** statement into `GhProject` values through the application of the `uncurryN` helper (```uncurryN aFct (a1, a2, a3) = aFct a1 a2 a3```).\n",
    "\n",
    "Parameters passed to the **SQL** block are referred to using their position. The `$1::text` notation that is used in the `where` clause means the `repoName` wildcard-wrapped by the `matcherFromString` *encoder*. The implementator of *Hasql-TH* preferred to use positional referencing, but with Haskell DSL it is also possible to use named params in *QuasiQuoter* blocks. In fact the [Hasql-Interpolate](https://hackage.haskell.org/package/hasql-interpolate/docs/Hasql-Interpolate.html) extension package to *Hasql* will let you do just that and use `#{repoName}` notation instead of `$1::<type>`. The Haskell-to-**SQL** conversion is in this case automatic, but it will normally use meta-programming modifications when **SQL** or Haskell values are complex.\n",
    "\n",
    "Given we have a `simpleQuery` function with embedded **SQL**, the next thing is to execute it within a DB session to get a `Vector` of `GhProject` values (or an error)."
   ]
  },
  {
   "cell_type": "markdown",
   "id": "8f77311a-6fd9-4367-b2ba-c902d7aa7e1f",
   "metadata": {},
   "source": [
    "Enough blah-blah, let's get a session to the DB server:"
   ]
  },
  {
   "cell_type": "code",
   "execution_count": 69,
   "id": "8eb0ff3a-f59e-408e-a96a-92fd3a83e421",
   "metadata": {},
   "outputs": [
    {
     "data": {
      "text/plain": []
     },
     "metadata": {},
     "output_type": "display_data"
    }
   ],
   "source": [
    "dbConn <- DbC.acquire dbSettings"
   ]
  },
  {
   "cell_type": "markdown",
   "id": "d450444d-5e51-4cef-9fc3-c8e073e12fbc",
   "metadata": {},
   "source": [
    "Going out over a socket to a DB server somewhere on the Internet is definitely not *pure*, so we use the `<-` to bring back the result from the `acquire` call in *pure* form."
   ]
  },
  {
   "cell_type": "markdown",
   "id": "c1298f2d-d247-4432-8596-1ef398391b69",
   "metadata": {},
   "source": [
    "The next step is to execute the query, and then continue based on whether a correct or erronous  result was sent by the DB engine.\n",
    "\n",
    "It's essentially now just a matter of invoking *Hasql*'s `run` function. But we live in an imperfect world so we'll wrap the `run` call with proper error management that will catch any anomaly.  It's always a very good approach to put a maximum of runtime checking around distributed data operations:"
   ]
  },
  {
   "cell_type": "code",
   "execution_count": 70,
   "id": "8c457ce0-1a35-45ce-880c-d7f67c9e0169",
   "metadata": {},
   "outputs": [
    {
     "data": {
      "text/plain": []
     },
     "metadata": {},
     "output_type": "display_data"
    }
   ],
   "source": [
    "dbVal <- case dbConn of\n",
    "  Right conn -> do\n",
    "    rezA <- Se.run (simpleQuery \"bootcamp\") conn\n",
    "    case rezA of\n",
    "      Left err -> pure . Left $ show err\n",
    "      Right vcVal -> pure $ Right vcVal\n",
    "  Left err -> pure . Left $ show err"
   ]
  },
  {
   "cell_type": "markdown",
   "id": "d6c6cb27-15d3-4c60-8475-893ced6a6b6d",
   "metadata": {},
   "source": [
    "Once that cell has run, either the DB server executed the **SQL** statement and we've got back a vector of values, or there has been a runtime error. The no-error/error situation is indicated with the [Either](https://hackage.haskell.org/package/base/docs/Data-Either.html) monadic type, which uses `Right` and `Left` as containers meaning *no-error* and *error* respectively, as you can find in **Rust** `Result` or **C++** `std::expected`.\n",
    "\n",
    "If we got a good result from the query, we'll format it using HTML. It's much nicer to look at than a bland *print*... Using the Jinja template approach, we'll build a `GVal` instance of `GhProject` as a dictionnary of fields that will be used to populate an HTML template.  Using *Generics* can do the conversion just by derivation, but hopefully you find it more informative to see how a bunch of fields are mapped to the *Ginger* VM context."
   ]
  },
  {
   "cell_type": "markdown",
   "id": "19003f14-7955-4cf9-acca-95eca16b1c64",
   "metadata": {},
   "source": [
    "The following code loads a template file, defines the `GhProject` mapping to `GVal`, adds some formatting for erroneous situations, and finally runs the template engine with the dataset received from the DB so the data is shown in a HTML format (be patient, the DB query may take a while to complete):"
   ]
  },
  {
   "cell_type": "code",
   "execution_count": 71,
   "id": "fb2d9852-94d8-4d4b-b61f-eb9b30e08eeb",
   "metadata": {},
   "outputs": [
    {
     "data": {
      "text/html": [
       "<style>/* Styles used for the Hoogle display in the pager */\n",
       ".hoogle-doc {\n",
       "display: block;\n",
       "padding-bottom: 1.3em;\n",
       "padding-left: 0.4em;\n",
       "}\n",
       ".hoogle-code {\n",
       "display: block;\n",
       "font-family: monospace;\n",
       "white-space: pre;\n",
       "}\n",
       ".hoogle-text {\n",
       "display: block;\n",
       "}\n",
       ".hoogle-name {\n",
       "color: green;\n",
       "font-weight: bold;\n",
       "}\n",
       ".hoogle-head {\n",
       "font-weight: bold;\n",
       "}\n",
       ".hoogle-sub {\n",
       "display: block;\n",
       "margin-left: 0.4em;\n",
       "}\n",
       ".hoogle-package {\n",
       "font-weight: bold;\n",
       "font-style: italic;\n",
       "}\n",
       ".hoogle-module {\n",
       "font-weight: bold;\n",
       "}\n",
       ".hoogle-class {\n",
       "font-weight: bold;\n",
       "}\n",
       "\n",
       ".get-type {\n",
       "color: green;\n",
       "font-weight: bold;\n",
       "font-family: monospace;\n",
       "display: block;\n",
       "white-space: pre-wrap;\n",
       "}\n",
       ".show-type {\n",
       "color: green;\n",
       "font-weight: bold;\n",
       "font-family: monospace;\n",
       "margin-left: 1em;\n",
       "}\n",
       ".mono {\n",
       "font-family: monospace;\n",
       "display: block;\n",
       "}\n",
       ".err-msg {\n",
       "color: red;\n",
       "font-style: italic;\n",
       "font-family: monospace;\n",
       "white-space: pre;\n",
       "display: block;\n",
       "}\n",
       "#unshowable {\n",
       "color: red;\n",
       "font-weight: bold;\n",
       "}\n",
       ".err-msg.in.collapse {\n",
       "padding-top: 0.7em;\n",
       "}\n",
       "\n",
       ".highlight-code {\n",
       "white-space: pre;\n",
       "font-family: monospace;\n",
       "}\n",
       "\n",
       ".suggestion-warning { \n",
       "font-weight: bold;\n",
       "color: rgb(200, 130, 0);\n",
       "}\n",
       ".suggestion-error { \n",
       "font-weight: bold;\n",
       "color: red;\n",
       "}\n",
       ".suggestion-name {\n",
       "font-weight: bold;\n",
       "}\n",
       "\n",
       "</style><div style=\"width: 150em\" class=\"overflow-x-auto shadow-md sm:rounded-lg\">\n",
       "  <table class=\"w-full text-sm text-left rtl:text-right text-gray-500 dark:text-gray-400\">\n",
       "    <caption class=\"p-5 text-lg font-semibold text-left rtl:text-right text-gray-900 bg-white dark:text-white dark:bg-gray-800\">\n",
       "      GitHub TOP 100\n",
       "      <p class=\"mt-1 text-sm font-normal text-gray-500 dark:text-gray-400\">\n",
       "      A embellished presentation the top starred and/or forked repos of GitHub for the last 5 years.\n",
       "      </p>\n",
       "    </caption>\n",
       "    <thead class=\"text-xs text-white uppercase bg-blue-600 dark:text-white\">\n",
       "      <tr>\n",
       "                <th scope=\"col\" class=\"px-6 py-3\">Rank</th>\n",
       "                <th scope=\"col\" class=\"px-6 py-3\">Section</th>\n",
       "                <th scope=\"col\" class=\"px-6 py-3\">Repo</th>\n",
       "                <th scope=\"col\" class=\"px-6 py-3\">Stars</th>\n",
       "                <th scope=\"col\" class=\"px-6 py-3\">Forks</th>\n",
       "                <th scope=\"col\" class=\"px-6 py-3\">Language</th>\n",
       "                <th scope=\"col\" class=\"px-6 py-3\">Url</th>\n",
       "                <th scope=\"col\" class=\"px-6 py-3\">User</th>\n",
       "                <th scope=\"col\" class=\"px-6 py-3\">Issues</th>\n",
       "                <th scope=\"col\" class=\"px-6 py-3\">Latest</th>\n",
       "                <th style=\"width: 50em\" scope=\"col\" class=\"px-6\">Description</th>\n",
       "      </tr>\n",
       "    </thead>\n",
       "    <tbody>\n",
       "              <tr>\n",
       "          <td scope=\"col\" class=\"px-6 py-3\">7</td>\n",
       "          <td scope=\"col\" class=\"px-6 py-3\">top-100-forks</td>\n",
       "          <td scope=\"col\" class=\"px-6 py-3\">Complete-Python-3-Bootcamp</td>\n",
       "          <td class=\"px-6 py-4 font-medium text-gray-900 whitespace-nowrap dark:text-white\">25295</td>\n",
       "          <td class=\"px-6 py-4 font-medium text-gray-900 whitespace-nowrap dark:text-white\">81802</td>\n",
       "          <td scope=\"col\" class=\"px-6 py-3\">Jupyter Notebook</td>\n",
       "          <td>\n",
       "            <a href=\"https://github.com/Pierian-Data/Complete-Python-3-Bootcamp\">Complete-Python-3-Bootcamp</a>\n",
       "          </td>\n",
       "          <td scope=\"col\" class=\"px-6 py-3\">Pierian-Data</td>\n",
       "          <td class=\"px-6 py-4 font-medium text-gray-900 whitespace-nowrap dark:text-white\">120</td>\n",
       "          <td scope=\"col\" class=\"px-6 py-3\">2023-11-24 14:21:32</td>\n",
       "          <td scope=\"col\" class=\"px-6 py-3\">Course Files for Complete Python 3 Bootcamp Course on Udemy</td>\n",
       "        </tr>\n",
       "              <tr>\n",
       "          <td scope=\"col\" class=\"px-6 py-3\">7</td>\n",
       "          <td scope=\"col\" class=\"px-6 py-3\">top-100-forks</td>\n",
       "          <td scope=\"col\" class=\"px-6 py-3\">Complete-Python-3-Bootcamp</td>\n",
       "          <td class=\"px-6 py-4 font-medium text-gray-900 whitespace-nowrap dark:text-white\">25267</td>\n",
       "          <td class=\"px-6 py-4 font-medium text-gray-900 whitespace-nowrap dark:text-white\">81756</td>\n",
       "          <td scope=\"col\" class=\"px-6 py-3\">Jupyter Notebook</td>\n",
       "          <td>\n",
       "            <a href=\"https://github.com/Pierian-Data/Complete-Python-3-Bootcamp\">Complete-Python-3-Bootcamp</a>\n",
       "          </td>\n",
       "          <td scope=\"col\" class=\"px-6 py-3\">Pierian-Data</td>\n",
       "          <td class=\"px-6 py-4 font-medium text-gray-900 whitespace-nowrap dark:text-white\">119</td>\n",
       "          <td scope=\"col\" class=\"px-6 py-3\">2023-11-24 14:21:32</td>\n",
       "          <td scope=\"col\" class=\"px-6 py-3\">Course Files for Complete Python 3 Bootcamp Course on Udemy</td>\n",
       "        </tr>\n",
       "              <tr>\n",
       "          <td scope=\"col\" class=\"px-6 py-3\">7</td>\n",
       "          <td scope=\"col\" class=\"px-6 py-3\">top-100-forks</td>\n",
       "          <td scope=\"col\" class=\"px-6 py-3\">Complete-Python-3-Bootcamp</td>\n",
       "          <td class=\"px-6 py-4 font-medium text-gray-900 whitespace-nowrap dark:text-white\">25328</td>\n",
       "          <td class=\"px-6 py-4 font-medium text-gray-900 whitespace-nowrap dark:text-white\">81847</td>\n",
       "          <td scope=\"col\" class=\"px-6 py-3\">Jupyter Notebook</td>\n",
       "          <td>\n",
       "            <a href=\"https://github.com/Pierian-Data/Complete-Python-3-Bootcamp\">Complete-Python-3-Bootcamp</a>\n",
       "          </td>\n",
       "          <td scope=\"col\" class=\"px-6 py-3\">Pierian-Data</td>\n",
       "          <td class=\"px-6 py-4 font-medium text-gray-900 whitespace-nowrap dark:text-white\">120</td>\n",
       "          <td scope=\"col\" class=\"px-6 py-3\">2023-11-24 14:21:32</td>\n",
       "          <td scope=\"col\" class=\"px-6 py-3\">Course Files for Complete Python 3 Bootcamp Course on Udemy</td>\n",
       "        </tr>\n",
       "              <tr>\n",
       "          <td scope=\"col\" class=\"px-6 py-3\">7</td>\n",
       "          <td scope=\"col\" class=\"px-6 py-3\">top-100-forks</td>\n",
       "          <td scope=\"col\" class=\"px-6 py-3\">Complete-Python-3-Bootcamp</td>\n",
       "          <td class=\"px-6 py-4 font-medium text-gray-900 whitespace-nowrap dark:text-white\">25313</td>\n",
       "          <td class=\"px-6 py-4 font-medium text-gray-900 whitespace-nowrap dark:text-white\">81832</td>\n",
       "          <td scope=\"col\" class=\"px-6 py-3\">Jupyter Notebook</td>\n",
       "          <td>\n",
       "            <a href=\"https://github.com/Pierian-Data/Complete-Python-3-Bootcamp\">Complete-Python-3-Bootcamp</a>\n",
       "          </td>\n",
       "          <td scope=\"col\" class=\"px-6 py-3\">Pierian-Data</td>\n",
       "          <td class=\"px-6 py-4 font-medium text-gray-900 whitespace-nowrap dark:text-white\">120</td>\n",
       "          <td scope=\"col\" class=\"px-6 py-3\">2023-11-24 14:21:32</td>\n",
       "          <td scope=\"col\" class=\"px-6 py-3\">Course Files for Complete Python 3 Bootcamp Course on Udemy</td>\n",
       "        </tr>\n",
       "              <tr>\n",
       "          <td scope=\"col\" class=\"px-6 py-3\">7</td>\n",
       "          <td scope=\"col\" class=\"px-6 py-3\">top-100-forks</td>\n",
       "          <td scope=\"col\" class=\"px-6 py-3\">Complete-Python-3-Bootcamp</td>\n",
       "          <td class=\"px-6 py-4 font-medium text-gray-900 whitespace-nowrap dark:text-white\">25276</td>\n",
       "          <td class=\"px-6 py-4 font-medium text-gray-900 whitespace-nowrap dark:text-white\">81774</td>\n",
       "          <td scope=\"col\" class=\"px-6 py-3\">Jupyter Notebook</td>\n",
       "          <td>\n",
       "            <a href=\"https://github.com/Pierian-Data/Complete-Python-3-Bootcamp\">Complete-Python-3-Bootcamp</a>\n",
       "          </td>\n",
       "          <td scope=\"col\" class=\"px-6 py-3\">Pierian-Data</td>\n",
       "          <td class=\"px-6 py-4 font-medium text-gray-900 whitespace-nowrap dark:text-white\">119</td>\n",
       "          <td scope=\"col\" class=\"px-6 py-3\">2023-11-24 14:21:32</td>\n",
       "          <td scope=\"col\" class=\"px-6 py-3\">Course Files for Complete Python 3 Bootcamp Course on Udemy</td>\n",
       "        </tr>\n",
       "              <tr>\n",
       "          <td scope=\"col\" class=\"px-6 py-3\">7</td>\n",
       "          <td scope=\"col\" class=\"px-6 py-3\">top-100-forks</td>\n",
       "          <td scope=\"col\" class=\"px-6 py-3\">Complete-Python-3-Bootcamp</td>\n",
       "          <td class=\"px-6 py-4 font-medium text-gray-900 whitespace-nowrap dark:text-white\">25333</td>\n",
       "          <td class=\"px-6 py-4 font-medium text-gray-900 whitespace-nowrap dark:text-white\">81862</td>\n",
       "          <td scope=\"col\" class=\"px-6 py-3\">Jupyter Notebook</td>\n",
       "          <td>\n",
       "            <a href=\"https://github.com/Pierian-Data/Complete-Python-3-Bootcamp\">Complete-Python-3-Bootcamp</a>\n",
       "          </td>\n",
       "          <td scope=\"col\" class=\"px-6 py-3\">Pierian-Data</td>\n",
       "          <td class=\"px-6 py-4 font-medium text-gray-900 whitespace-nowrap dark:text-white\">120</td>\n",
       "          <td scope=\"col\" class=\"px-6 py-3\">2023-11-24 14:21:32</td>\n",
       "          <td scope=\"col\" class=\"px-6 py-3\">Course Files for Complete Python 3 Bootcamp Course on Udemy</td>\n",
       "        </tr>\n",
       "              <tr>\n",
       "          <td scope=\"col\" class=\"px-6 py-3\">7</td>\n",
       "          <td scope=\"col\" class=\"px-6 py-3\">top-100-forks</td>\n",
       "          <td scope=\"col\" class=\"px-6 py-3\">Complete-Python-3-Bootcamp</td>\n",
       "          <td class=\"px-6 py-4 font-medium text-gray-900 whitespace-nowrap dark:text-white\">25274</td>\n",
       "          <td class=\"px-6 py-4 font-medium text-gray-900 whitespace-nowrap dark:text-white\">81761</td>\n",
       "          <td scope=\"col\" class=\"px-6 py-3\">Jupyter Notebook</td>\n",
       "          <td>\n",
       "            <a href=\"https://github.com/Pierian-Data/Complete-Python-3-Bootcamp\">Complete-Python-3-Bootcamp</a>\n",
       "          </td>\n",
       "          <td scope=\"col\" class=\"px-6 py-3\">Pierian-Data</td>\n",
       "          <td class=\"px-6 py-4 font-medium text-gray-900 whitespace-nowrap dark:text-white\">119</td>\n",
       "          <td scope=\"col\" class=\"px-6 py-3\">2023-11-24 14:21:32</td>\n",
       "          <td scope=\"col\" class=\"px-6 py-3\">Course Files for Complete Python 3 Bootcamp Course on Udemy</td>\n",
       "        </tr>\n",
       "              <tr>\n",
       "          <td scope=\"col\" class=\"px-6 py-3\">7</td>\n",
       "          <td scope=\"col\" class=\"px-6 py-3\">top-100-forks</td>\n",
       "          <td scope=\"col\" class=\"px-6 py-3\">Complete-Python-3-Bootcamp</td>\n",
       "          <td class=\"px-6 py-4 font-medium text-gray-900 whitespace-nowrap dark:text-white\">25318</td>\n",
       "          <td class=\"px-6 py-4 font-medium text-gray-900 whitespace-nowrap dark:text-white\">81840</td>\n",
       "          <td scope=\"col\" class=\"px-6 py-3\">Jupyter Notebook</td>\n",
       "          <td>\n",
       "            <a href=\"https://github.com/Pierian-Data/Complete-Python-3-Bootcamp\">Complete-Python-3-Bootcamp</a>\n",
       "          </td>\n",
       "          <td scope=\"col\" class=\"px-6 py-3\">Pierian-Data</td>\n",
       "          <td class=\"px-6 py-4 font-medium text-gray-900 whitespace-nowrap dark:text-white\">120</td>\n",
       "          <td scope=\"col\" class=\"px-6 py-3\">2023-11-24 14:21:32</td>\n",
       "          <td scope=\"col\" class=\"px-6 py-3\">Course Files for Complete Python 3 Bootcamp Course on Udemy</td>\n",
       "        </tr>\n",
       "              <tr>\n",
       "          <td scope=\"col\" class=\"px-6 py-3\">7</td>\n",
       "          <td scope=\"col\" class=\"px-6 py-3\">top-100-forks</td>\n",
       "          <td scope=\"col\" class=\"px-6 py-3\">Complete-Python-3-Bootcamp</td>\n",
       "          <td class=\"px-6 py-4 font-medium text-gray-900 whitespace-nowrap dark:text-white\">25280</td>\n",
       "          <td class=\"px-6 py-4 font-medium text-gray-900 whitespace-nowrap dark:text-white\">81786</td>\n",
       "          <td scope=\"col\" class=\"px-6 py-3\">Jupyter Notebook</td>\n",
       "          <td>\n",
       "            <a href=\"https://github.com/Pierian-Data/Complete-Python-3-Bootcamp\">Complete-Python-3-Bootcamp</a>\n",
       "          </td>\n",
       "          <td scope=\"col\" class=\"px-6 py-3\">Pierian-Data</td>\n",
       "          <td class=\"px-6 py-4 font-medium text-gray-900 whitespace-nowrap dark:text-white\">120</td>\n",
       "          <td scope=\"col\" class=\"px-6 py-3\">2023-11-24 14:21:32</td>\n",
       "          <td scope=\"col\" class=\"px-6 py-3\">Course Files for Complete Python 3 Bootcamp Course on Udemy</td>\n",
       "        </tr>\n",
       "              <tr>\n",
       "          <td scope=\"col\" class=\"px-6 py-3\">7</td>\n",
       "          <td scope=\"col\" class=\"px-6 py-3\">top-100-forks</td>\n",
       "          <td scope=\"col\" class=\"px-6 py-3\">Complete-Python-3-Bootcamp</td>\n",
       "          <td class=\"px-6 py-4 font-medium text-gray-900 whitespace-nowrap dark:text-white\">25304</td>\n",
       "          <td class=\"px-6 py-4 font-medium text-gray-900 whitespace-nowrap dark:text-white\">81816</td>\n",
       "          <td scope=\"col\" class=\"px-6 py-3\">Jupyter Notebook</td>\n",
       "          <td>\n",
       "            <a href=\"https://github.com/Pierian-Data/Complete-Python-3-Bootcamp\">Complete-Python-3-Bootcamp</a>\n",
       "          </td>\n",
       "          <td scope=\"col\" class=\"px-6 py-3\">Pierian-Data</td>\n",
       "          <td class=\"px-6 py-4 font-medium text-gray-900 whitespace-nowrap dark:text-white\">120</td>\n",
       "          <td scope=\"col\" class=\"px-6 py-3\">2023-11-24 14:21:32</td>\n",
       "          <td scope=\"col\" class=\"px-6 py-3\">Course Files for Complete Python 3 Bootcamp Course on Udemy</td>\n",
       "        </tr>\n",
       "          </tbody>\n",
       "  </table>\n",
       "</div>\n"
      ]
     },
     "metadata": {},
     "output_type": "display_data"
    }
   ],
   "source": [
    "import qualified Data.Maybe as Mb\n",
    "\n",
    "template_2 <- Prelude.readFile \"xstatic/templates/templ_5.html\"\n",
    "\n",
    "\n",
    "instance Gi.ToGVal m GhProject where\n",
    "  toGVal p = Gi.toGVal $ Mp.fromList [\n",
    "        (\"rank\", T.pack $ show p.rank) :: (T.Text, T.Text), (\"section\", p.section), (\"repo\", p.repo), (\"stars\", T.pack $ show p.stars)\n",
    "        , (\"forks\", T.pack $ show p.forks), (\"language\", Mb.fromMaybe \"<nil>\" p.language), (\"url\", Mb.fromMaybe \"<nil>\" p.url)\n",
    "        , (\"uname\", p.uname), (\"issues\", T.pack $ show p.issues), (\"last_commit\", T.pack $ show p.lastCommit)\n",
    "        , (\"description\", Mb.fromMaybe \"<nil>\" p.description)\n",
    "    ]\n",
    "\n",
    "derefGhProj context needle =\n",
    "  case needle of\n",
    "    \"columns\" ->\n",
    "      Gi.toGVal [\n",
    "          \"Rank\" :: String, \"Section\", \"Repo\", \"Stars\", \"Forks\", \"Language\"\n",
    "          , \"Url\", \"User\", \"Issues\", \"Latest\"\n",
    "        ]\n",
    "    \"results\" -> case context of\n",
    "      Left _ -> Gi.toGVal (\"error\" :: T.Text)\n",
    "      Right vcProjs -> Gi.toGVal $ Vc.toList vcProjs\n",
    "    _ -> Gi.toGVal (\"error\" :: T.Text)\n",
    "\n",
    "\n",
    "Gi.htmlSource $ Gi.runGinger (Gi.makeContextHtml (derefGhProj dbVal)) (loadTemplate template_2)"
   ]
  },
  {
   "cell_type": "markdown",
   "id": "07f34f95-00c1-4058-80dd-66c8652ca4a9",
   "metadata": {},
   "source": [
    "That's it! Now you know how to interact with a SQL DB server in a safe and efficient way, convert data back and forth between Haskell structures and DB tables, and it's also easy to create HTML out of datasets from Jinja templates."
   ]
  },
  {
   "cell_type": "markdown",
   "id": "cd577aeb-2bf5-41c8-a3c7-3401b3235c84",
   "metadata": {},
   "source": [
    "<h2> Javascript as a DSL</h2>\n",
    "\n",
    "For fun, let's look at another DSL: Javascript.\n",
    "Yep, it's possible to write JS code as part of the Haskell code, have it syntax-checked and then sent to a *NodeJS* engine for processing.\n",
    "\n",
    "I don't bother to describe what is going on, but at this point you should be able to understand the whole sequence of code."
   ]
  },
  {
   "cell_type": "code",
   "execution_count": 72,
   "id": "818e1d43-8e46-4dfc-a23d-71b01aa8c89e",
   "metadata": {},
   "outputs": [],
   "source": [
    "{-# LANGUAGE DerivingVia #-}\n",
    "{-# LANGUAGE TemplateHaskell #-}\n",
    "{-# LANGUAGE TypeApplications #-}\n",
    "{-# LANGUAGE DeriveGeneric #-}\n",
    "{-# LANGUAGE DeriveAnyClass #-}\n",
    "{-# LANGUAGE ViewPatterns #-}"
   ]
  },
  {
   "cell_type": "code",
   "execution_count": 73,
   "id": "39697417-e035-42f7-9cb6-67ebaf109228",
   "metadata": {},
   "outputs": [],
   "source": [
    "import Control.Exception (try, SomeException, evaluate)\n",
    "import Control.Concurrent (threadDelay)\n",
    "\n",
    "import Data.Aeson ( FromJSON )\n",
    "import GHC.Generics ( Generic )\n",
    "import Language.JavaScript.Inline\n",
    "import Language.JavaScript.Inline.Core\n",
    "import qualified Data.ByteString.Lazy as LBS\n",
    "import Data.Text (Text, unpack)\n",
    "\n",
    "import Control.Monad (ap)\n",
    "import GHC.TypeLits (KnownSymbol)\n",
    "import Data.Text.Array (run)\n",
    "import Data.Vector.Generic.Mutable (set)"
   ]
  },
  {
   "cell_type": "code",
   "execution_count": 74,
   "id": "5ecd8551-52c9-4943-9ec3-d256759a42d9",
   "metadata": {},
   "outputs": [],
   "source": [
    "newtype JSReturn = JSReturn {\n",
    "    result :: String\n",
    "  } \n",
    "  deriving (Generic, Show, FromJSON)\n",
    "  deriving FromJS via (Aeson JSReturn)"
   ]
  },
  {
   "cell_type": "code",
   "execution_count": 75,
   "id": "d984af9f-de6a-4e5f-8497-48c754cfaf2e",
   "metadata": {},
   "outputs": [],
   "source": [
    "runJSTest :: IO JSReturn\n",
    "runJSTest = do\n",
    "  session <- newSession defaultConfig\n",
    "  putStrLn \"@[runJSTest] starting.\"\n",
    "  rezA <- eval session [js|\n",
    "    console.warn(\"@[runJSTest] JS starting.\")\n",
    "    let a = \"allo\"\n",
    "    let b = \"byebye\"\n",
    "\n",
    "    doTest = async () => {\n",
    "      console.warn(\"@[runElmTest] JS doTest start.\")\n",
    "      setTimeout(() => console.warn(\"timeout!\"), 5 * 1000)\n",
    "      console.warn(\"@[runElmTest] JS doTest end.\")\n",
    "      return { \"result\": \"run_JS_1: \" + a + \", \" + b}\n",
    "    }\n",
    "    finalRez = await doTest()\n",
    "    console.warn(\"@[runJSTest] JS ending.\")\n",
    "    return finalRez\n",
    "   |]\n",
    "  closeSession session\n",
    "  putStrLn \"@[runJSTest] finishing.\"\n",
    "  pure rezA"
   ]
  },
  {
   "cell_type": "code",
   "execution_count": 76,
   "id": "2bb29bf2-7f2d-4622-91dd-d12aa284d84e",
   "metadata": {},
   "outputs": [
    {
     "data": {
      "text/plain": [
       "@[runJSTest] starting.\n",
       "@[runJSTest] JS starting.\n",
       "@[newSession] msg : JSEvalResponse {jsEvalRespon@[runElmTest] JS doTest start.\n",
       "seId = 288@[runElmTest] JS doTest end.\n",
       "7, jsE@[runJSTest] JS ending.\n",
       "valResponseContent = Right \"{\\\"result\\\":\\\"run_JS_1: allo, byebye\\\"}\"}\n",
       "timeout!\n",
       "@[runJSTest] finishing.\n",
       "JSReturn {result = \"run_JS_1: allo, byebye\"}"
      ]
     },
     "metadata": {},
     "output_type": "display_data"
    }
   ],
   "source": [
    "runJSTest"
   ]
  },
  {
   "cell_type": "code",
   "execution_count": 77,
   "id": "f210b29c-b5be-4af6-afbc-7a856afeb219",
   "metadata": {},
   "outputs": [],
   "source": [
    "runJS_B :: IO JSReturn\n",
    "runJS_B = do\n",
    "  session <- newSession defaultConfig\n",
    "  rezA <- eval session [js|\n",
    "    console.warn(\"@[runJSTest] JS starting.\")\n",
    "\n",
    "    console.warn(\"@[runJSTest] JS ending.\")\n",
    "    return { \"result\": \"JS_B: pwd = \" + process.cwd() }\n",
    "   |]\n",
    "  closeSession session\n",
    "  pure rezA"
   ]
  },
  {
   "cell_type": "code",
   "execution_count": 78,
   "id": "cf6c1bcd-b4ee-488b-a70d-3a3152c166ca",
   "metadata": {},
   "outputs": [
    {
     "data": {
      "text/plain": [
       "@[runJSTest] JS starting.\n",
       "@[newSession] msg : JSEvalResponse {jsEvalResponseId = 2954, jsEvalResponseContent = Right \"{\\\"result\\\":\\\"JS_B: pwd = /home/lhugo/P@[runJSTest] JS ending.\n",
       "rojets/Fudd/IHaskell/IHaskell/notebooks_2\\\"}\"}\n",
       "JSReturn {result = \"JS_B: pwd = /home/lhugo/Projets/Fudd/IHaskell/IHaskell/notebooks_2\"}"
      ]
     },
     "metadata": {},
     "output_type": "display_data"
    }
   ],
   "source": [
    "runJS_B"
   ]
  },
  {
   "cell_type": "markdown",
   "id": "f394c0f6-b9b8-4e6d-b0e7-1a858bf58373",
   "metadata": {},
   "source": [
    "The Javascript code does nothing useful, but it does showcase another kind of DSL with distributed execution. Interestingly you'll notice that the feedback from the Javascript code execution is asynchronous, so you can start running the `runJS_B` demo while the 'runJSTest` is still waiting for the timeout code to trigger.\n",
    "\n",
    "Many language grammars have been encoded as DSL for Haskell. So you can let your imagination wonder a bit and think how interesting it is to connect let's say a large Python framework running within a Celery cluster or some Erlang application and interact with them from the Haskell code..."
   ]
  },
  {
   "cell_type": "markdown",
   "id": "f9888a03-d9a8-46b2-a0d7-002658114831",
   "metadata": {},
   "source": [
    "Enough fun with DSLs, we can now move on toward the last part of the introduction: web endpoints."
   ]
  },
  {
   "cell_type": "markdown",
   "id": "b0d0ac38-f37b-4bec-834a-cf7eb0134f95",
   "metadata": {},
   "source": [
    "<h2>Serving some Web endpoints: the basics</h2>"
   ]
  },
  {
   "cell_type": "markdown",
   "id": "52b2da90-2de8-4a70-bd1f-6bed3d11a4ba",
   "metadata": {},
   "source": [
    "The Web service architecture of the Haskell ecosystem has stabilized over the years the Web Application Interface ([Wai](https://hackage.haskell.org/package/wai)) package. It provides a mature and efficient base layer for handling and responding to HTTP requests.\n",
    "\n",
    "On top of *WAI* is another very stable package, the light-weight web server [Warp](https://hackage.haskell.org/package/warp). Together *WAI* and *Warp* provide a simple way to quickly prototype a web service.\n",
    "\n",
    "Let's use the WAI/Warp pair to build a quick-and-dirty web handler, as one does in real-life to prototype an idea while testing stuff in the interpreter."
   ]
  },
  {
   "cell_type": "markdown",
   "id": "9c49738e-6862-4adf-bf12-68cd7de139c8",
   "metadata": {},
   "source": [
    "As usual, a few packages need to be brought into the namespace to move forward."
   ]
  },
  {
   "cell_type": "code",
   "execution_count": 79,
   "id": "2917708c-18e5-40d0-96c1-a20b5ad9f540",
   "metadata": {},
   "outputs": [],
   "source": [
    "import qualified Control.Concurrent as Cc\n",
    "import qualified Network.Wai as W\n",
    "import qualified Network.Wai.Handler.Warp as Wr\n",
    "import qualified Network.HTTP.Types as Ht"
   ]
  },
  {
   "cell_type": "markdown",
   "id": "2a561865-39a0-445e-af72-ef4d705d2811",
   "metadata": {},
   "source": [
    "Then we create a basic HTTP handler called `waiDemoServer` which will handle the \"_/marco_\" route for incoming clients. The reply will be an unconditional responder sending back the `tmplDemo` HTML template content constructed earlier in the notebook."
   ]
  },
  {
   "cell_type": "code",
   "execution_count": 80,
   "id": "34c157d9-060f-43b2-99c6-4cb16721febc",
   "metadata": {},
   "outputs": [],
   "source": [
    "waiDemoServer request sendFct =\n",
    "  sendFct $ W.responseLBS\n",
    "    Ht.status200\n",
    "    (case Prelude.lookup \"marco\" $ W.requestHeaders request of\n",
    "       Nothing -> []\n",
    "       Just val -> [(\"Polo\", val)])\n",
    "    (LBS.fromStrict . T.encodeUtf8 . Gi.htmlSource $ tmplDemo)"
   ]
  },
  {
   "cell_type": "markdown",
   "id": "6516d32c-ae47-4eaf-afe2-dfd29589303d",
   "metadata": {},
   "source": [
    "There are two arguments for `waiDemoServer`: first the request received from the HTTP client, and second a responder function. That interface for `waiDemoServer` is standard stuff defined by WAI.\n",
    "\n",
    "The behavior of our toy server will be to reply with a 200 (OK) status code together with the HTML content in `tmplDemo`. Additionally if the URL of the request matches the _/marco_ route,  a `Polo` value is sent back in the headers of the response just to show how that works.\n",
    "\n",
    "The web server is started with a `run <port> <service-function>`.  As we're working in a Jupyter notebook context, we'll fork the service to a sub-process that we can kill later:"
   ]
  },
  {
   "cell_type": "code",
   "execution_count": 81,
   "id": "4833c94a-1718-4767-8dbf-2087785577b6",
   "metadata": {},
   "outputs": [
    {
     "data": {
      "text/plain": [
       "ThreadId 5467"
      ]
     },
     "metadata": {},
     "output_type": "display_data"
    },
    {
     "data": {
      "text/plain": [
       "Wed May 22 02:56:43 PM +04 2024"
      ]
     },
     "metadata": {},
     "output_type": "display_data"
    }
   ],
   "source": [
    "tid <- Cc.forkIO (Wr.run 8181 waiDemoServer)\n",
    "print tid\n",
    ":! date"
   ]
  },
  {
   "cell_type": "markdown",
   "id": "dda9c924-cf05-4c00-8593-40ea124e6a4d",
   "metadata": {},
   "source": [
    "If you are running this notebook from the docker image, you can hit *https://**host*/demo1* with your web browser.\n",
    "In case you have direct access to port 8181 of this Jupyter host, you can hit *http://**host**:8181/marco*  with your web browser.\n",
    "\n",
    "But since this demo will likely be running on a virtual server hiding private ports, here's the code based on the basic HTTP client introduced earlier in the notebook to fetch the route and visualize the returned HTML right in a cell:"
   ]
  },
  {
   "cell_type": "code",
   "execution_count": 82,
   "id": "a90618be-7e32-4160-9ac4-a64425734af8",
   "metadata": {
    "scrolled": true
   },
   "outputs": [
    {
     "data": {
      "text/html": [
       "<!DOCTYPE html>\n",
       "<html>\n",
       "    <head>\n",
       "      <meta charset=\"UTF-8\">\n",
       "      <meta name=\"viewport\" content=\"width=device-width, initial-scale=1.0\">\n",
       "      <link href=\"https://unpkg.com/tailwindcss@^1.0/dist/tailwind.min.css\" rel=\"stylesheet\">\n",
       "      <title>Haskell, Hidden Gem</title>\n",
       "      <script src=\"https://unpkg.com/d3@7.8.5/dist/d3.min.js\" cross-origin=\"anonymous\" type=\"text/javascript\"></script>\n",
       "\n",
       "    </head>\n",
       "    \n",
       "    <body>\n",
       "      <div class=\"container bg-gray-500 mx-auto p-4\">\n",
       "        <h1 class=\"text-2xl text-red-900 font-bold mb-4\">Haskell, Hidden Gem</h1>\n",
       "        <table class=\"min-w-full bg-orange-500 border border-gray-300\">\n",
       "          <thead>\n",
       "            <tr>\n",
       "              <th class=\"px-6 py-3 text-left text-xs font-medium text-gray-100 uppercase tracking-wider border-b\">Name</th>\n",
       "              <th class=\"px-6 py-3 text-left text-xs font-medium text-gray-100 uppercase tracking-wider border-b\">Destination</th>\n",
       "            </tr>\n",
       "          </thead>\n",
       "          <tbody>\n",
       "                          <tr>\n",
       "                <td class=\"text-blue-800\">#1 ALPINE CUSTOMS</td>\n",
       "                <td class=\"text-green-600\"><a href=\"http://https://vpic.nhtsa.dot.gov/api/vehicles/getmake?id=12858\">#1 ALPINE CUSTOMS</td>\n",
       "              </tr>\n",
       "                          <tr>\n",
       "                <td class=\"text-blue-800\">1/OFF KUSTOMS, LLC</td>\n",
       "                <td class=\"text-green-600\"><a href=\"http://https://vpic.nhtsa.dot.gov/api/vehicles/getmake?id=4877\">1/OFF KUSTOMS, LLC</td>\n",
       "              </tr>\n",
       "                          <tr>\n",
       "                <td class=\"text-blue-800\">102 IRONWORKS, INC.</td>\n",
       "                <td class=\"text-green-600\"><a href=\"http://https://vpic.nhtsa.dot.gov/api/vehicles/getmake?id=11257\">102 IRONWORKS, INC.</td>\n",
       "              </tr>\n",
       "                          <tr>\n",
       "                <td class=\"text-blue-800\">12832429 CANADA INC.</td>\n",
       "                <td class=\"text-green-600\"><a href=\"http://https://vpic.nhtsa.dot.gov/api/vehicles/getmake?id=12255\">12832429 CANADA INC.</td>\n",
       "              </tr>\n",
       "                          <tr>\n",
       "                <td class=\"text-blue-800\">17 CREEK ENTERPRISES</td>\n",
       "                <td class=\"text-green-600\"><a href=\"http://https://vpic.nhtsa.dot.gov/api/vehicles/getmake?id=6387\">17 CREEK ENTERPRISES</td>\n",
       "              </tr>\n",
       "                       </tbody>\n",
       "        </table>\n",
       "        \n",
       "      </div>\n",
       "      <div id=\"d3 demo\" class=\"flex p-5 justify-center\">\n",
       "        <svg id=\"dataviz_area\" height=200 width=450></svg>\n",
       "\n",
       "        <script>\n",
       "          var svg = d3.select(\"#dataviz_area\")\n",
       "          var x = d3.scaleLinear()\n",
       "            .domain([0, 100])         // This is the min and the max of the data: 0 to 100 if percentages\n",
       "            .range([0, 400]);       // This is the corresponding value I want in Pixel\n",
       "\n",
       "          // Show the axis that corresponds to this scale\n",
       "          svg.call(d3.axisBottom(x));\n",
       "\n",
       "                      svg.append(\"circle\").attr(\"cx\", x(20))\n",
       "              .attr(\"cy\", 90).attr(\"r\", 40 )\n",
       "              .style(\"fill\", \"green\");\n",
       "                      svg.append(\"circle\").attr(\"cx\", x(50))\n",
       "              .attr(\"cy\", 90).attr(\"r\", 45 )\n",
       "              .style(\"fill\", \"red\");\n",
       "                      svg.append(\"circle\").attr(\"cx\", x(85))\n",
       "              .attr(\"cy\", 90).attr(\"r\", 50 )\n",
       "              .style(\"fill\", \"blue\");\n",
       "          \n",
       "        </script>\n",
       "\n",
       "      </div>\n",
       "    </body>\n",
       "</html>\n"
      ]
     },
     "metadata": {},
     "output_type": "display_data"
    }
   ],
   "source": [
    "fetchDemo =\n",
    "  let\n",
    "    url = \"GET http://localhost:8181/marco\"\n",
    "    request = N.setQueryString [(\"arg\", Just \"123\")] $ N.parseRequest_ url\n",
    "  in do\n",
    "    reqMgr <- N.newManager N.defaultManagerSettings\n",
    "    N.httpLbs request reqMgr\n",
    "\n",
    "reply <- fetchDemo\n",
    "ID.html . TL.unpack . TL.decodeUtf8 $ reply.responseBody"
   ]
  },
  {
   "cell_type": "markdown",
   "id": "882e33e9-b492-4c5f-a7ae-b281ae0dc0ec",
   "metadata": {},
   "source": [
    "Is the SVG from *D3.js* showing up in the second half of the HTML page?  For me sometimes it does, sometimes it doesn't... Hopefully you can actually hit the route with your browser directly to get the correct result.\n",
    "\n",
    "When you have are done with the request, run the next cell to kill the background process and keep the execution space clean."
   ]
  },
  {
   "cell_type": "code",
   "execution_count": 83,
   "id": "e64990be-b453-4dd1-8bbd-243b9f39ffac",
   "metadata": {},
   "outputs": [
    {
     "data": {
      "text/plain": [
       "Wed May 22 02:56:45 PM +04 2024"
      ]
     },
     "metadata": {},
     "output_type": "display_data"
    }
   ],
   "source": [
    "Cc.killThread tid\n",
    ":! date"
   ]
  },
  {
   "cell_type": "markdown",
   "id": "57e3e425-5b41-41bc-a7dc-bf3331eede24",
   "metadata": {},
   "source": [
    "<div class=\"float-right rounded\"><img class=\"rounded-full shadow-md shadow-gray-700\" style=\"float: right; margin: 0px 10px 0px 10px;\" src=\"xstatic/img/webFramework_1.png\" width=\"300\" height=\"400\"></div>\n",
    "\n",
    "<h2>Reaching the main objective: a production grade modern web app</h2>\n",
    "\n",
    "This is the conclusion of this notebook: a _normal, modern, efficient_ web app built in the Haskell ecosystem, using HTMX and Tailwind in the frontend, server-side rendering of templates filled with data fetched by SQL queries in the backend and websocket low-latency communications between client and server. That plus authentication, security, distributed computing... the usual stuff.\n",
    "\n",
    "You've already seen how to deal with JSON, how to render HTML from either server-side DOM (Blaze) or Jinja templates (Ginger), how to query a Postgresql database using embedded **SQL**, and how to do HTTP operations (client & handler).\n",
    "\n",
    "Further more I hope you have reached this cell in a _short_ amount of time."
   ]
  },
  {
   "cell_type": "markdown",
   "id": "4cd1398f-8bf3-478d-8ffb-2de01317dc4b",
   "metadata": {},
   "source": [
    "We'll wrap-up everything covered so far into a basic modern web application by using the [Servant](https://hackage.haskell.org/package/servant) package. *Servant* a mature web app server based on type combinators. Finally, here are the types! And this is not simple typing stuff... *Servant* uses types as programming logic rather than just for expressing data structures and constraints for functions. That will give you a glimpse of how powerful the type system of Haskell is compared to other programming languages and why it is so interesting as a programming language.\n",
    "\n",
    "*Servant* type-based approach to endpoint definition provides verifiable, composable and extendable route specfication for web services. Beside the usual advantages of strongly-typed code, type-derived logic can automatically deduce route extension rules, apply security handlers, adapt request & reply behaviors based on middleware interactions, convert automatically data payloads from and to clients, generate client-side code and compliance testing code, and the list goes on. \n",
    "\n",
    "If only *OpenAPI* was based on Haskell...\n",
    "\n",
    "Once you've worked with Servant, you will find that the popular solutions of other ecosystems are simplistic, error-prone and inefficient. NextJS, Chi, Gin, Tokio, Rocket, Express, Flask, you name it, they just don't have the tools available in the Haskell ecosystem to compete."
   ]
  },
  {
   "cell_type": "markdown",
   "id": "1abb58a3-47f5-49a7-8017-59923c92dad5",
   "metadata": {},
   "source": [
    "In order to implement all the functionality in the notebook, we'll have to deal with a few limitations of the environment.  For some reason, I can't get the local module import to work if the module hasn't been implemented within the notebook. For that reason the `WebServer.CorsPolicy` and `WebServer.JWT` module definnitions are in the first few cells of the notebook, which you need to be run for this part to work. In normal conditions you would simply import the two modules from files.\n",
    "\n",
    "I put the language mode settings and the long list of imported packages as collapsed cells.  You can have a look at the code if you want to, but it's really not necessary for getting in the main part of the implementation.\n",
    "\n",
    "Then to insert *markdown* cells for documenting the code I also had to define every symbol (function, type) before it is referred.  That forced me to lay out the code in the opposite order that I wouldd normally write it. Normally I would go top-down and write the main logic (`listen`) first then define more and more of the details referred to by the main logic. But here it's bottom-up order. Probably that some blocks of code will seem pretty abstract when they show up, and you'll have to wait until you read the code that uses them to better understand how the Servant system works."
   ]
  },
  {
   "cell_type": "code",
   "execution_count": 84,
   "id": "6609c5c4-c52f-423b-ae31-315f32fb3c11",
   "metadata": {
    "jupyter": {
     "source_hidden": true
    }
   },
   "outputs": [],
   "source": [
    "{-# LANGUAGE DataKinds #-}\n",
    "{-# LANGUAGE TypeApplications #-}\n",
    "{-# LANGUAGE TypeOperators #-}\n",
    "{-# LANGUAGE TypeFamilies #-}\n",
    "{-# LANGUAGE MultiParamTypeClasses #-}\n",
    "{-# LANGUAGE DeriveGeneric #-}\n",
    "{-# LANGUAGE DerivingStrategies #-}\n",
    "{-# LANGUAGE DeriveAnyClass #-}\n",
    "{-# LANGUAGE GeneralizedNewtypeDeriving #-}"
   ]
  },
  {
   "cell_type": "code",
   "execution_count": 85,
   "id": "c63ef626-d5cf-439a-9c34-ebc1bcbf5a9a",
   "metadata": {
    "jupyter": {
     "source_hidden": true
    }
   },
   "outputs": [],
   "source": [
    "import Control.Concurrent.Async (concurrently_)\n",
    "import Control.Exception (bracket)\n",
    "import Control.Monad (forever, void)\n",
    "import Control.Monad.Catch (MonadCatch, MonadMask, MonadThrow)\n",
    "import Control.Monad.Cont (runContT, ContT (..), Cont)\n",
    "import Control.Monad.Except (ExceptT, MonadError, withExceptT)\n",
    "import Control.Monad.IO.Class (MonadIO, liftIO)\n",
    "import Control.Monad.Reader (ReaderT, MonadReader, runReaderT, asks)\n",
    "import Control.Exception.Safe (tryAny)\n",
    "\n",
    "import Data.List.NonEmpty (NonEmpty (..))\n",
    "import qualified Data.Int as DI\n",
    "\n",
    "import Data.Aeson (FromJSON (..), ToJSON (..), Value (Object), (.:), (.:?), eitherDecode)\n",
    "\n",
    "import Network.Wai.Handler.Warp as Wr\n",
    "import Network.Wai.Parse (setMaxRequestKeyLength, defaultParseRequestBodyOptions)\n",
    "import Network.HTTP.Media ((//), (/:))\n",
    "import Network.Wai.Middleware.RequestLogger (logStdout)\n",
    "import Network.Wai.Middleware.Servant.Errors (errorMw)\n",
    "import qualified Network.WebSockets as Ws\n",
    "\n",
    "import GHC.Stack (HasCallStack)\n",
    "import Servant as Srv\n",
    "import Servant.API.Generic\n",
    "import Servant.API.ContentTypes (FormUrlEncoded)\n",
    "import Servant.Auth.Server (Auth, AuthResult (..), BasicAuth, BasicAuthCfg, CookieSettings (CookieSettings, cookieIsSecure)\n",
    "                  , IsSecure (NotSecure), FromBasicAuthData, JWT, JWTSettings, FromJWT (..), ToJWT (..), cookieIsSecure\n",
    "                  , defaultCookieSettings, defaultJWTSettings )\n",
    "import qualified Servant.Auth.Server as Sauth\n",
    "import Servant.Multipart (defaultMultipartOptions, MultipartOptions (..), Tmp)\n",
    "import Servant.Server.Generic (AsServerT, genericServerT)\n",
    "import Servant.API.WebSocket (WebSocket)\n",
    "import Web.FormUrlEncoded (FromForm (..))\n",
    "\n",
    "import System.Posix.Signals as Sgnl\n",
    "\n",
    "import qualified Text.Blaze.Htmx as A\n",
    "import qualified Text.Blaze.Html.Renderer.Utf8 as H\n",
    "import qualified Text.Blaze.Htmx as X\n",
    "import qualified Text.Blaze.Htmx.WebSockets as X\n"
   ]
  },
  {
   "cell_type": "markdown",
   "id": "e84b10cb-f38f-4bd9-9826-4e884ae02747",
   "metadata": {},
   "source": [
    "In a normal coding environment, the helper logic is brought into a the main definitions, like this (remember that the `WebServer` modules are defined in the first cells of the notebook):"
   ]
  },
  {
   "cell_type": "code",
   "execution_count": 86,
   "id": "b8911079-e26f-4290-93c6-f5573d628fe9",
   "metadata": {},
   "outputs": [],
   "source": [
    "-- Bring in the Cors Policy & JWT helpers to configure the HTTP handler.\n",
    "\n",
    "import WebServer.CorsPolicy (setCorsPolicy)\n",
    "import WebServer.JWT (generateKeyPairIO, readJWK)\n",
    "\n",
    "import qualified Options.Runtime as Ropt"
   ]
  },
  {
   "cell_type": "markdown",
   "id": "d25153b1-fd7b-4ba8-92e5-7a394e37846d",
   "metadata": {},
   "source": [
    "Forced to use the bottom-up code introduction, here are some data structures that will be used in the main code...\n",
    "\n",
    "The `AppEnv` structure will represent the global state of the web service, and hold:\n",
    "\n",
    "- the JWT settings used most importantly to handle the encoding/decoding of JW tokens in HTTP requests,\n",
    "- the execution options that control the setup of the web server (in this example we'll only use a port value),\n",
    "- the global DB context to pass to handlers so they can do **SQL** operations."
   ]
  },
  {
   "cell_type": "code",
   "execution_count": 87,
   "id": "0f8d09d3-9015-4a91-b20a-6cb758d8eb91",
   "metadata": {},
   "outputs": [],
   "source": [
    "data AppEnv = AppEnv {\n",
    "    jwtSettings :: JWTSettings\n",
    "  , rtOptions :: Ropt.RunOptions\n",
    "  , dbCtxt :: Maybe DbC.Connection\n",
    "  }"
   ]
  },
  {
   "cell_type": "markdown",
   "id": "c98c1a13-35cf-4d26-9c4e-c10439ea64c8",
   "metadata": {},
   "source": [
    "The `HTML` type is introduced as a placeholder, that is no actual structure is attached to it. We then use it to tag the result of an endpoint handler with a MIME type corresponding to *text/html*. It ensures that the requesting client will render the HTML instead of showing its text.\n",
    "\n",
    "The `RawHtml` is a demo of how to pass results back up the responder chain; in this case we'll only use it to hold some flat content, ie a long string that is a HTML page that needs to be sent back to the client.  But in real-life you could see a more complex kind of definition where the `instance MimeRender HTML RawHtml` logic extension adds all kind of post-processing functionality to produce the response that is actually sent back to the client."
   ]
  },
  {
   "cell_type": "code",
   "execution_count": 88,
   "id": "817557f7-14a8-4487-a494-12f96ca8a7b4",
   "metadata": {},
   "outputs": [],
   "source": [
    "data HTML = HTML\n",
    "newtype RawHtml = RawHtml { rawContent :: LBS.ByteString }\n",
    "\n",
    "instance Accept HTML where\n",
    "  contentType _ = \"text\" // \"html\" /: (\"charset\", \"utf-8\")\n",
    "\n",
    "instance MimeRender HTML RawHtml where\n",
    "  mimeRender _ = rawContent"
   ]
  },
  {
   "cell_type": "markdown",
   "id": "1d82604d-933e-4aa3-b129-824ec5e72c61",
   "metadata": {},
   "source": [
    "**Note:** the `newtype` keyword is used in this example to define `RawHtml` instead of the usual `data` keyword. A `newtype` still creates a type, but it's a simpler kind of structure that has less runtime overhead. For example, a `newtype` data structure can only contain one value in a record.  Using `data` would also work but doing so gets the compiler to complain that a `newtype` is better...\n",
    "\n",
    "To handle secure data exchange between the client and the server, we pass a JWT that holds securely the `SessionContext` structure. The conversion from/to JSON and the encryption/decryption are implemented by doing a derivation of the `FromJSON`, `ToJSON`, `FromJWT` and `ToJWT` typeclasses. That makes everything work automagically. "
   ]
  },
  {
   "cell_type": "code",
   "execution_count": 89,
   "id": "58ae58a1-2698-4f71-9c4a-0f7944e9cbc6",
   "metadata": {},
   "outputs": [],
   "source": [
    "newtype SessionContext = SessionContext {\n",
    "    sessionID :: DI.Int32\n",
    "  }\n",
    "  deriving stock Generic\n",
    "  deriving anyclass (FromJSON, ToJSON, FromJWT, ToJWT)"
   ]
  },
  {
   "cell_type": "markdown",
   "id": "2497ed0e-82d6-422a-a90e-0ca688b459b0",
   "metadata": {},
   "source": [
    "For a client to initially authenticate itself, it will send a simple JSON block with a `identity` and `trust` values. These values are manipulated in the code with the `LoginForm` structure. Similarly the `LoginResult` structure is used when the authentication succeeds in sending a JSON block with a context and an encrypted JWT back to the client.  Again the `FromJSON` and `ToJSON` derivations take core of the conversion process automagically."
   ]
  },
  {
   "cell_type": "code",
   "execution_count": 90,
   "id": "3e39ea78-dc51-4a3b-8aa0-14edef1190b4",
   "metadata": {},
   "outputs": [],
   "source": [
    "data LoginForm = LoginForm {\n",
    "  identity :: T.Text\n",
    "  , trust :: T.Text\n",
    "  }\n",
    "  deriving stock (Eq, Show, Generic)\n",
    "  deriving anyclass (ToJSON, FromJSON)\n",
    "\n",
    "data LoginResult = LoginResult {\n",
    "    context :: SessionContext\n",
    "    , jwt :: T.Text\n",
    "  }\n",
    "  deriving stock Generic\n",
    "  deriving anyclass (ToJSON)"
   ]
  },
  {
   "cell_type": "markdown",
   "id": "7fc76242-7fcd-41a5-b2f9-19b9462a1220",
   "metadata": {},
   "source": [
    "The web app has an endpoint providing a search feature.  The client will use a *HTML* `form` element to implement the capture and transmission of the search needle, and the `SearchContent` structure represents just that and it is derived with `FromForm` to trigger automatically the conversion from the HTTP request *application/x-www-form-urlencoded* data into a Haskell `Text` value. "
   ]
  },
  {
   "cell_type": "code",
   "execution_count": 91,
   "id": "54c19424-c861-4e87-920c-98ff99ce1df6",
   "metadata": {},
   "outputs": [],
   "source": [
    "newtype SearchContent = SearchContent {\n",
    "    needle :: T.Text\n",
    "  }\n",
    "  deriving stock (Eq, Show, Generic)\n",
    "  deriving anyclass (FromForm)"
   ]
  },
  {
   "cell_type": "markdown",
   "id": "572230b8-7691-4501-928a-53d14a999f1c",
   "metadata": {},
   "source": [
    "With these data structures out of the way, we get to the important part of the web server implementation: the route definitions. Using Servant combinators, the routes are presented as a set of structure definitions, the top-level one being `ServerRoutes`.\n",
    "\n",
    "Servant routing specification is great for large-scale systems. To demo that point, we split the routing at the top-level into two branches: `anonymous` and `authenticated`.  Nothing special happens for the routes that are part of the `anonymous` branch and the definition just continues at the `AnonymousRoutes` type. But for the routes defined in the `authenticated` branch, some standard pre-processing logic will occur before their logic is executed.\n",
    "\n",
    "Ok here's the cool stuff. The line of code:\n",
    "\n",
    " ```route :- Auth '[JWT, Sauth.BasicAuth] SessionContext :> ToServantApi AuthenticatedRoutes```\n",
    "\n",
    "is a type expression, not just a type definition. The exotic `:-`, `'[ ]` and `:>` symbols are actually type functions defined by *Servant*; remember that Haskell gives developer a lot of flexibility in function naming. These functions operate on types rather than values. For the heavy-duty functional folks, that's 2nd order logic.\n",
    "\n",
    "The code states that a `route` construct is extended (`:-`) so that the request handling logic first figures out the authentication (`Auth`) using JWT and BasicAuth (`'[JWT, Sauth.BasicAuth]`) and carries that into the session information (`SessionContext`) before chaining on to the next level of route definitions provided by the `AuthenticatedRoutes`. \n",
    "\n",
    "The end-result of Servant advanced type operations is that we can assemble routes in logical groups which can be named, we can cluster and extend route definitions, we can specify formally the data structures that will come in and out of the HTTP request processing and handling, and we can get automatic complex conversions between client and server-side data. As the web app grows, this provides significant time saving during refactoring, cleaning and testing."
   ]
  },
  {
   "cell_type": "markdown",
   "id": "20824766-ddd1-41db-b524-58de524262f9",
   "metadata": {},
   "source": [
    "The route definitions. Code first, description after:"
   ]
  },
  {
   "cell_type": "code",
   "execution_count": 92,
   "id": "fbe27ed2-4990-4858-a530-70a37a8d3cf8",
   "metadata": {},
   "outputs": [],
   "source": [
    "data ServerRoutes route = ServerRoutes {\n",
    "    anonymous :: route :- ToServantApi AnonymousRoutes\n",
    "    , authenticated :: route :- Auth '[JWT, Sauth.BasicAuth] SessionContext :> ToServantApi AuthenticatedRoutes\n",
    "  }\n",
    "  deriving (Generic)\n",
    "\n",
    "\n",
    "data AnonymousRoutes route = AnonymousRoutes { \n",
    "    login :: route :- \"inlogin\" :> ReqBody '[JSON] LoginForm :> Post '[JSON] LoginResult\n",
    "    , staticLink :: route :- \"xstatic\" :> CaptureAll \"path\" String :> Get '[HTML] RawHtml\n",
    "    , stream :: route :- \"stream\" :> WebSocket\n",
    "    , search :: route :- \"xsearch\" :> ReqBody '[FormUrlEncoded] SearchContent :> Post '[HTML] RawHtml\n",
    "    , homePage :: route :- Get '[HTML] RawHtml\n",
    "  }\n",
    "  deriving (Generic)\n",
    "\n",
    "\n",
    "newtype AuthenticatedRoutes route = AuthenticatedRoutes { \n",
    "    privateAccess :: route :- \"private\" :> ToServantApi PrivateRoutes\n",
    "  }\n",
    "  deriving (Generic)\n",
    "\n",
    "\n",
    "newtype PrivateRoutes route = PrivateRoutes { \n",
    "    getPage :: route :- \"static\" :> Capture \"path\" String :> Get '[HTML] RawHtml\n",
    "  }\n",
    "  deriving (Generic)"
   ]
  },
  {
   "cell_type": "markdown",
   "id": "1816b1a6-808c-4f7e-858e-b1d9c43d4e5f",
   "metadata": {},
   "source": [
    "The `AnonymousRoutes` specifies 5 routes. You can probably already guess what is being defined if you read the 5 type definitions, but here is the explanation:\n",
    "\n",
    "- the `login` route is at _/inlogin_ (first part), it expects a payload of JSON from the client compabitle with the `LoginForm`, it comes in as a POST request and its handler will provide a `LoginResult` that will sent back as a JSON block.  That's the route a client uses to authenticate itself.\n",
    "- the `staticLink` route is at _/xstatic_, it expects more segments in the URL and these will be globbed up as a list of strings (`CaptureAll ...`; the `path` identifier is just a placeholder), it comes as a GET request and the handler will return some long text that the client will consume as *text/html* content (`GET '[HTML] RawHtml`).\n",
    "- the `stream` route is at _/stream_, and it's going to operate as a websocket connection.\n",
    "- the `search` route is at _/xsearch_, it expects a *urlencoded* form in the URL in the form of `SearchContent`, it comes in as a POST request and the handler will return some long text that the client (it's starting to be repetitive).\n",
    "- the `homePage` route is _/_, it simply comes in as GET request and returns *text/html*, ie a the HTML for the home page."
   ]
  },
  {
   "cell_type": "markdown",
   "id": "7eda1671-6345-445e-9586-641c068cdfe3",
   "metadata": {},
   "source": [
    "The `AuthenticatedRoutes` is a grouping for handling requests to the _/private_ path prefix. I wanted to showcase the convenient structuring and extension of route definitions in Servant, but I don't want to make the API too long, so there's only a very simple continuation in the group, defined by the `PrivateRoutes` type. That last definition, `PrivatesRoutes`, provides a `getPage` route. As it is an extension, the actual URL for that route will be _/private/static_. Like the `xstatic` route it is a globber, it comes in as a GET and the handler will return a HTML page."
   ]
  },
  {
   "cell_type": "markdown",
   "id": "37c70676-aaf8-4623-bf65-11dfb9e89003",
   "metadata": {},
   "source": [
    "In real life you'd expect to have many more route definitions in the authenticated group and probably many levels of definitions. For an introductory example, we have enough.\n",
    "\n",
    "Now that routes are specified as types, the entire conformance and meta-programming power of Haskell is available to analyse the specifications and activate all kind of further processing.  There's no extra description file required, no pre-parsing or conversion step, no boiler-plate code generation required.\n",
    "\n",
    "The meta-programming features can also integrate popular 3rd party API specs in the *Servant* framework. For example if you have an API specified as a *GraphQL* file, the compiler can read the spec file directly ([Morpheus](https://hackage.haskell.org/package/morpheus-graphql)) as the base for *Servant* route definitions. There are no intermediate file generated, no rewriting functions, etc; you can just focus on adding handler logic. There are similar solutions for *OpenAPI* files."
   ]
  },
  {
   "cell_type": "markdown",
   "id": "e3a4e5b6-6dd3-4753-9fc3-33201b119e8e",
   "metadata": {},
   "source": [
    "Specific error management for our handlers is defined by the `DemoServiceError` structure. When a request handler hits an issue, it throws an error specified in `DemoServiceError`. The Servant logic will do the rest to send a proper response to the client, using the `asHttpError` function to convert from our specific web app issues to standard HTTP errors."
   ]
  },
  {
   "cell_type": "code",
   "execution_count": 93,
   "id": "c0f46963-05b6-4d6d-83ee-2d8fdecd7e96",
   "metadata": {},
   "outputs": [],
   "source": [
    "data DemoServiceError\n",
    "  = NotImplemented\n",
    "  | UnexpectedError T.Text\n",
    "  | NotAuthorized T.Text\n",
    "  | Unaccessible\n",
    "  | NotFound T.Text\n",
    "  deriving stock (Generic, Show, Eq)\n",
    "  deriving anyclass (ToJSON, FromJSON)\n",
    "\n",
    "\n",
    "asHttpError :: DemoServiceError -> ServerError\n",
    "asHttpError err =\n",
    "  case err of\n",
    "    Unaccessible -> err401 { errBody = \"Resource not accessible.\" }\n",
    "    NotImplemented -> err500 { errBody = \"Not Implemented.\" }\n",
    "    UnexpectedError x -> err500 { errBody = textToLBS x }\n",
    "    NotAuthorized x -> err401 { errBody = textToLBS x }\n",
    "    NotFound x -> err404 { errBody = textToLBS x }\n",
    "  where\n",
    "    textToLBS = LBS.fromStrict . T.encodeUtf8"
   ]
  },
  {
   "cell_type": "markdown",
   "id": "d59f9519-504e-493f-bcdc-64fea5e40016",
   "metadata": {},
   "source": [
    "Finally we define the `WebApp` structure to hold an execution state for route handlers invoked by Servant main logic. It's rather a technical detail, but importantly it connects the global data context `AppEnv` and the specific error management `DemoServiceError` with the request handlers execution. The `WebApp` type is automagically bound to the result of each route handler as per its specific route definition.\n",
    "\n",
    "**Note:** the `WebApp` type is deriving lots of *Monad* stuff because the *Monad* meta-programming is Haskell way of dealing with real life processing and state management, ie changing context and non-pure execution."
   ]
  },
  {
   "cell_type": "code",
   "execution_count": 94,
   "id": "50cb2d2f-cde5-4d7d-ac78-06fe20c8d925",
   "metadata": {},
   "outputs": [],
   "source": [
    "newtype WebApp a = WebApp { \n",
    "    runApp :: ReaderT AppEnv (ExceptT DemoServiceError IO) a\n",
    "  }\n",
    "  deriving newtype (\n",
    "    Functor, Applicative, Monad, MonadMask, MonadCatch, MonadThrow\n",
    "    , MonadReader AppEnv, MonadIO, MonadError DemoServiceError\n",
    "  )"
   ]
  },
  {
   "cell_type": "markdown",
   "id": "b1964652-ac1a-4b1b-add2-c02922736ef4",
   "metadata": {},
   "source": [
    "We now get to the first route handler, `loginHandler`. It gets a LoginForm as a parameter and returns a LoginResult. Due to the bottom-up rather than top-down code presentation, the function will be linked to the _/inlogin_ endpoint in code that will show up further down in the *handler associations* section.\n",
    "\n",
    "As this is a demo without a real authentification system, the `loginHandler` simply pulls out JWT stuff with:\n",
    "\n",
    "   ```asks jwtSettings```\n",
    "\n",
    "which extracts the info from the `jwtSettings` field that is held in the `AppEnv` value (Haskell monad magic at work). If there's no problem doing so, it builds a new encrypted token with a fake `SessionContext` and puts that into a `LoginResult` value that is the result of the `loginHandler` call.  If there's a problem, an `UnexpectedError` is thrown.\n",
    "\n",
    "In a real life application, the authentication logic would be provided in the `AppEnv` value, and it would be used to assess the validity of the login data. Alternatively a 3rd-party authentication system could have already provided a JWT for the client and then that token would simply be verified by `loginHandler`, ie there would be no `LoginForm` required and instead the route definition would specify how the JWT is received (in headers, as a URL parameter, etc)."
   ]
  },
  {
   "cell_type": "code",
   "execution_count": 95,
   "id": "68a63fe2-d8fa-4cf3-bc27-5005a75b0cfb",
   "metadata": {},
   "outputs": [],
   "source": [
    "loginHandler :: LoginForm -> WebApp LoginResult\n",
    "loginHandler form = do\n",
    "  settings <- asks jwtSettings\n",
    "  jwtRez <- liftIO $ Sauth.makeJWT (SessionContext 1) settings Nothing\n",
    "  case jwtRez of\n",
    "    Left err ->\n",
    "      throwError . UnexpectedError . T.pack $ show err\n",
    "    Right jwtValue ->\n",
    "      pure $ LoginResult {\n",
    "          context = SessionContext 1\n",
    "          , jwt = T.decodeUtf8 . LBS.toStrict $ jwtValue\n",
    "        }"
   ]
  },
  {
   "cell_type": "markdown",
   "id": "655564cb-cd74-416c-b42b-1574b286c7dd",
   "metadata": {},
   "source": [
    "The `homePage` handler loads up a Jinja template, puts some values in its render context from the DB, and sends that back as the result to the client. In a real life application there would be some caching and/or session pooling to use the DB resource more efficiently."
   ]
  },
  {
   "cell_type": "code",
   "execution_count": 96,
   "id": "2733c98b-3e79-4219-bd9d-e6000a1a88d6",
   "metadata": {},
   "outputs": [],
   "source": [
    "homePageHandler :: WebApp RawHtml\n",
    "homePageHandler = do\n",
    "  template <- liftIO $ Prelude.readFile \"xstatic/templates/templ_4.html\"\n",
    "  let\n",
    "    genHtml = Gi.htmlSource $ Gi.runGinger (Gi.makeContextHtml derefLabelB) (loadTemplateB template)\n",
    "  pure . RawHtml . LBS.fromStrict . T.encodeUtf8  $ genHtml\n",
    "\n",
    "derefLabelB needle =\n",
    "  Gi.toGVal $ Mp.lookup needle demoData_1\n",
    "\n",
    "loadTemplateB aTemplate = do\n",
    "  either (error . show) id . runIdentity $\n",
    "    Gi.parseGinger (const $ return Nothing) Nothing aTemplate"
   ]
  },
  {
   "cell_type": "markdown",
   "id": "fb4a5599-b362-4afa-a79d-ca3edb26066d",
   "metadata": {},
   "source": [
    "The `searchHandler` is the endpoint logic that responds to a HTMX request, so it replies with HTML-formatted content in which values are fetched from the DB:"
   ]
  },
  {
   "cell_type": "code",
   "execution_count": 97,
   "id": "05d310e0-8e37-4b3b-80fe-9bc877ca4fb2",
   "metadata": {},
   "outputs": [],
   "source": [
    "searchHandler :: SearchContent -> WebApp RawHtml\n",
    "searchHandler searchContent = do\n",
    "  mbDbCtxt <- asks dbCtxt\n",
    "  dbVal <- case mbDbCtxt of\n",
    "    Just conn -> do\n",
    "      rezA <- liftIO $ Se.run (simpleQuery searchContent.needle) conn\n",
    "      case rezA of\n",
    "        Left err -> pure . Left $ show err\n",
    "        Right mbVal -> pure $ Right mbVal\n",
    "    Nothing -> throwError . UnexpectedError $ \"No database available.\"\n",
    "  let\n",
    "    genHtml = Gi.htmlSource $ Gi.runGinger (Gi.makeContextHtml (derefGhProj dbVal)) (loadTemplate template_2)\n",
    "  pure . RawHtml . LBS.fromStrict . T.encodeUtf8  $ genHtml"
   ]
  },
  {
   "cell_type": "markdown",
   "id": "1226610f-36d4-4d73-a940-17191300dd74",
   "metadata": {},
   "source": [
    "The `anonStaticHandler` simply loads up files from the *xstatic/assets* local Jupyter server directory and sends that data back to the client as a *text/html* reply."
   ]
  },
  {
   "cell_type": "code",
   "execution_count": 98,
   "id": "0712c699-6642-4161-b0aa-e1d6ad007482",
   "metadata": {},
   "outputs": [],
   "source": [
    "anonStaticHandler :: [ String ] -> WebApp RawHtml\n",
    "anonStaticHandler pageUrls = do\n",
    "  let\n",
    "    fullPath = Prelude.foldl (\\accum segment -> accum <> \"/\" <> segment) \"xstatic\" pageUrls\n",
    "  -- liftIO deals with getting the right order of IO and WebApp monadic contexts:\n",
    "  pageContent <- liftIO $ LBS.readFile fullPath\n",
    "  pure . RawHtml $ pageContent"
   ]
  },
  {
   "cell_type": "markdown",
   "id": "d672344b-c044-4579-a24c-d317fcaad1c9",
   "metadata": {},
   "source": [
    "The `prvStaticHandler` does the same job as the `anonStaticHandler`, but as it's in the private group or routes, it gets authentication and session information as parameters (the `AuthResult SessionContext` part). It would then allow/block or modify content access based on that. For the sake of simplicity of this demo, it ignores that information and just returns some HTML."
   ]
  },
  {
   "cell_type": "code",
   "execution_count": 99,
   "id": "3408357f-ecd3-4ad2-9fc4-0d754706b360",
   "metadata": {},
   "outputs": [],
   "source": [
    "prvStaticHandler :: AuthResult SessionContext -> String -> WebApp RawHtml\n",
    "prvStaticHandler authResult pageUrl =\n",
    "  case authResult of\n",
    "    Authenticated context ->\n",
    "      -- TODO: fetch an interesting piece of information in HTML.\n",
    "      let\n",
    "        content = H.renderHtml $ H.div $ H.toHtml $ T.pack . show $ context.sessionID\n",
    "      in\n",
    "        pure $ RawHtml content\n",
    "    _ ->\n",
    "      throwError . NotAuthorized . T.pack $ pageUrl"
   ]
  },
  {
   "cell_type": "markdown",
   "id": "e3e7253f-36e8-464a-b4cf-6e2483128339",
   "metadata": {},
   "source": [
    "Finally we have the `streamHandler` handler. It receives requests from clients over a websocket connection. It replies on the same connection with HTML-formatted data, as it is intented to be invoked from HTMX-enabled elements:"
   ]
  },
  {
   "cell_type": "code",
   "execution_count": 100,
   "id": "9aa76418-5130-4643-92ad-8fa2508462a7",
   "metadata": {},
   "outputs": [],
   "source": [
    "streamHandler :: MonadIO m => Ws.Connection -> m ()\n",
    "streamHandler conn = do\n",
    "  liftIO $ Ws.withPingThread conn 30 (pure ()) $ do\n",
    "    -- if you want to inspect streaming: liftIO $ Ws.sendTextData conn (\"<div id=\\\"notifications\\\" hx-swap-oob=\\\"beforeend\\\">Some message</div?\" :: ByteString)\n",
    "    handleClient\n",
    "  where\n",
    "    handleClient = do\n",
    "      rezA <- tryAny $ forever receiveStream\n",
    "      case rezA of\n",
    "        Left err -> do\n",
    "          liftIO . putStrLn $ \"@[streamHandler] situation: \" <> show err\n",
    "          closeConnection\n",
    "        Right _ -> do\n",
    "          liftIO $ putStrLn \"@[streamHandler] client disconnected.\"\n",
    "          pure ()\n",
    "\n",
    "    receiveStream = do\n",
    "      rezA <- Ws.receiveDataMessage conn\n",
    "      case rezA of\n",
    "        Ws.Text msg decodedMsg ->\n",
    "          let\n",
    "            hxMsg = eitherDecode msg :: Either String HxWsMessage\n",
    "          in\n",
    "          case hxMsg of\n",
    "            Left err -> do\n",
    "              putStrLn $ \"@[receiveStream] invalid HxWsMessage: \" <> (T.unpack . T.decodeUtf8 . LBS.toStrict) msg\n",
    "              putStrLn $ \"@[receiveStream] error: \" <> show err\n",
    "            Right hxMsg ->\n",
    "              Ws.sendTextData conn $ H.renderHtml $ htmxReply hxMsg.wsMessage\n",
    "        Ws.Binary msg ->\n",
    "          putStrLn \"@[receiveStream] received binary.\"\n",
    "    \n",
    "    closeConnection = do\n",
    "      Ws.sendClose conn (\"Bye\" :: ByteString)\n",
    "      void $ Ws.receiveDataMessage conn\n",
    "\n",
    "    htmxReply aMessage =\n",
    "      H.tbody H.! A.id \"notifications\" H.! X.hxSwapOob \"beforeend\" $ do\n",
    "        H.tr $ do\n",
    "          H.td H.! A.class_ \"px-6 py-4 whitespace-nowrap text-sm text-slate-900\" $ H.toHtml aMessage\n",
    "                \n",
    "\n",
    "data HxWsHeaders = HxWsHeaders {\n",
    "    request :: T.Text\n",
    "    , trigger :: T.Text\n",
    "    , triggerName :: Maybe T.Text\n",
    "    , target :: T.Text\n",
    "    , currentURL :: T.Text\n",
    "  }\n",
    "  deriving stock (Show, Generic)\n",
    "\n",
    "instance FromJSON HxWsHeaders where\n",
    "  parseJSON (Object obj) = HxWsHeaders <$>\n",
    "    obj .: \"HX-Request\"\n",
    "    <*> obj .: \"HX-Trigger\"\n",
    "    <*> obj .:? \"HX-Trigger-Name\"\n",
    "    <*> obj .: \"HX-Target\"\n",
    "    <*> obj .: \"HX-Current-URL\"\n",
    "\n",
    "\n",
    "data HxWsMessage = HxWsMessage {\n",
    "    wsMessage :: T.Text\n",
    "    , headers :: HxWsHeaders\n",
    "  }\n",
    "  deriving (Show, Generic)\n",
    "\n",
    "\n",
    "instance FromJSON HxWsMessage where\n",
    "  parseJSON (Object obj) = HxWsMessage <$>\n",
    "    obj .: \"ws-message\"\n",
    "    <*> obj .: \"HEADERS\""
   ]
  },
  {
   "cell_type": "markdown",
   "id": "6cb4fe5d-84f1-4d4c-8e50-8495a7b800a8",
   "metadata": {},
   "source": [
    "The `hxWsMessage` and `HxWsHeaders` structures receive the data sent by the HTMX logic on the client. They extend the `FromJSON` *typeclass* logic to match the format used by HTMX to send the client's data.\n",
    "\n",
    "**Note:** the flexibility of JSON conversion provided by the `FromJSON` *typeclass* results in more code than for example the **Golang** `struct` tags (`'json:...'`). In this notebook it's worthy to expose the conversion mechanisms for learning purposes. But of course there's a package out there that provides a camel-case formating function to achieve the same pre-defined field name encoding as in the **Golang** tags."
   ]
  },
  {
   "cell_type": "markdown",
   "id": "ff4ad6fa-2c14-4d6d-a447-7c993a5e2e91",
   "metadata": {},
   "source": [
    "We're almost done! After having defined the routes and handlers, we connect them together in the next block of code. First we specify the functions that use Servant's `genericServerT` combinator, second we define a value for each of the route types we've created a few cells ago, and third we associate each handler function that implement an endpoint.\n",
    "\n",
    "The ultimate glue point for all these specifications to Servant general request handling logic is the weird looking\n",
    "\n",
    "    serverApiProxy :: Proxy (ToServantApi ServerRoutes)\n",
    "    serverApiProxy = Proxy\n",
    "\n",
    "It's a typing trick! The important part is the type definition `Proxy (ToServantApi ServerRoutes)` for the function `serverApiProxy`.  That will be analyzed by the compiler to figure out all kind of futher logic expansion using the definitions of `ServerRoutes`. The function implementation is just providing a generic value of that `Proxy ...` type, using the constructor also named `Proxy`. The funciton itself has no real use."
   ]
  },
  {
   "cell_type": "code",
   "execution_count": 101,
   "id": "0c5b1a60-38c9-4967-9119-164413b76de0",
   "metadata": {},
   "outputs": [],
   "source": [
    "-- Handler associations:\n",
    "serverApiProxy :: Proxy (ToServantApi ServerRoutes)\n",
    "serverApiProxy = Proxy\n",
    "\n",
    "\n",
    "serverApiT :: ToServant ServerRoutes (AsServerT WebApp)\n",
    "serverApiT =\n",
    "  genericServerT $ ServerRoutes {\n",
    "    anonymous = anonHandlers\n",
    "    , authenticated = authHandlers\n",
    "  }\n",
    "\n",
    "\n",
    "anonHandlers :: ToServant AnonymousRoutes (AsServerT WebApp)\n",
    "anonHandlers =\n",
    "  genericServerT $ AnonymousRoutes {\n",
    "    login = loginHandler\n",
    "    , staticLink = anonStaticHandler\n",
    "    , stream = streamHandler\n",
    "    , homePage = homePageHandler\n",
    "    , search = searchHandler\n",
    "  }\n",
    "\n",
    "\n",
    "authHandlers :: AuthResult SessionContext -> ToServant AuthenticatedRoutes (AsServerT WebApp)\n",
    "authHandlers authResult =\n",
    "  genericServerT $ AuthenticatedRoutes {\n",
    "    privateAccess = prvStaticHandler authResult\n",
    "  }"
   ]
  },
  {
   "cell_type": "markdown",
   "id": "79fb191b-2fe2-494c-be50-3845f77ae9fe",
   "metadata": {},
   "source": [
    "As the web service uses *form/url-encoded* authentication, there's a logic extension provided for our `SessionContext` structure that could do some validation and book-keeping. But in this demo it will just defer to the default validation function `authCheckFun`."
   ]
  },
  {
   "cell_type": "code",
   "execution_count": 102,
   "id": "a3b1b8f7-deed-48a3-b9e4-d968448eb8f1",
   "metadata": {},
   "outputs": [],
   "source": [
    "type instance BasicAuthCfg = Srv.BasicAuthData -> IO (AuthResult SessionContext)\n",
    "instance FromBasicAuthData SessionContext where\n",
    "  fromBasicAuthData authData authCheckFun = authCheckFun authData"
   ]
  },
  {
   "cell_type": "markdown",
   "id": "c0bb1854-5558-4c1f-9818-06b391169f28",
   "metadata": {},
   "source": [
    "We have reached the operation side of running a web service! First, the WAI control is defined, where the listen port, the pre-processing logic (`showBanner`!) and the process interruption management are defined (`shutdownHandler`)."
   ]
  },
  {
   "cell_type": "code",
   "execution_count": 103,
   "id": "b37dc21d-e7d6-4cb5-8718-3900b8fbb147",
   "metadata": {},
   "outputs": [],
   "source": [
    "setupWai :: Int -> IO () -> Settings\n",
    "setupWai port shutdownCallback =\n",
    "  Wr.setPort port . Wr.setGracefulShutdownTimeout (Just 5) . Wr.setInstallShutdownHandler shutdownHandler\n",
    "    . setBeforeMainLoop showBanner\n",
    "    $ Wr.defaultSettings\n",
    "  where\n",
    "    showBanner =\n",
    "      putStrLn $ \"@[setupWai] using port: \" <> show port\n",
    "    shutdownHandler closeSocket = do\n",
    "      void $ installHandler Sgnl.sigTERM (Catch $ shutdownCallback >> closeSocket) Nothing\n",
    "      void $ installHandler Sgnl.sigINT (Catch $ shutdownCallback >> closeSocket) Nothing\n",
    "      void $ installHandler Sgnl.sigQUIT (Catch $ shutdownCallback >> closeSocket) Nothing\n",
    "      void $ installHandler Sgnl.sigHUP (Catch $ shutdownCallback >> closeSocket) Nothing"
   ]
  },
  {
   "cell_type": "markdown",
   "id": "fd5e3c00-3ad4-4484-9f99-980ef5faef00",
   "metadata": {},
   "source": [
    "We now have reached the definition of the overall bootstrap logic for the servicing, the `runAPI` function. It takes care of setting up the JWT encryption components, the DB connection, it puts the middlewares in place (logging, multi-part requests handler, CORS policy handlers), creates the global context `appEnv` that each handler will work with, builds the main server loop (`hostServerWithContext ...`) and finally returns everything linked together."
   ]
  },
  {
   "cell_type": "code",
   "execution_count": 104,
   "id": "734c1054-e939-4a20-b8cc-7ddcb562a967",
   "metadata": {},
   "outputs": [],
   "source": [
    "runAPI ::  Ropt.RunOptions -> IO Application\n",
    "runAPI rtOpts = do\n",
    "  -- Initialize the JWT parameters:\n",
    "  myKey <- case rtOpts.jwkConfFile of\n",
    "    Nothing ->\n",
    "      generateKeyPairIO \"/tmp/jwk.json\"\n",
    "    Just aPath ->\n",
    "      readJWK aPath\n",
    "\n",
    "  -- Initialize the DB parameters:\n",
    "  eiConn <- DbC.acquire $ DbC.settings \"aws-0-eu-central-1.pooler.supabase.com\" 5432 \"demoa.vtjcwbccdutdqcsxdaqr\" \"justForDemo\" \"demoha\"\n",
    "  case eiConn of\n",
    "    Left err ->\n",
    "      putStrLn $ \"@[runAPI] db connection err: \" <> show err\n",
    "    Right _ -> pure ()\n",
    "\n",
    "  -- pure computations:\n",
    "  let\n",
    "    cookieCfg = defaultCookieSettings { cookieIsSecure = NotSecure }\n",
    "    jwtDefSettings  = Sauth.defaultJWTSettings myKey\n",
    "    -- For file upload support, will be used in next demo:\n",
    "    multipartOpts = (defaultMultipartOptions (Proxy :: Proxy Tmp)) { \n",
    "          generalOptions = setMaxRequestKeyLength 512 defaultParseRequestBodyOptions\n",
    "      }\n",
    "\n",
    "    -- Define the overall Servant pre-processing required on requests:\n",
    "    runContext = cookieCfg :. jwtDefSettings :. fakeSessionValidation :. multipartOpts :. EmptyContext\n",
    "    runCtxtProxy = Proxy :: Proxy '[CookieSettings, JWTSettings, BasicAuthCfg]\n",
    "\n",
    "    -- activate some middlewares for loggin, CORS, standardized error handling:\n",
    "    middlewares = linkUp $ id :| case rtOpts.corsPolicy of\n",
    "      Nothing -> [ logStdout, errorMw @JSON @'[\"message\", \"status\" ] ]\n",
    "      Just aPolicy -> [ logStdout, setCorsPolicy aPolicy, errorMw @JSON @'[\"message\", \"status\" ] ]\n",
    "\n",
    "    mbDbConn = case eiConn of Left _ -> Nothing ; Right aConn -> Just aConn\n",
    "    -- define the global runtime context for handlers:\n",
    "    appEnv = AppEnv { jwtSettings = jwtDefSettings, rtOptions = rtOpts, dbCtxt = mbDbConn }\n",
    "    -- link all that stuff in Servant magic:\n",
    "    server = hoistServerWithContext serverApiProxy runCtxtProxy (toHandler appEnv) serverApiT\n",
    "\n",
    "  -- launch the servicing:\n",
    "  pure $ middlewares $ serveWithContext serverApiProxy runContext server\n",
    "  where\n",
    "    linkUp :: NonEmpty (a -> a) -> a -> a\n",
    "    linkUp = Prelude.foldr1 (.)\n",
    "\n",
    "    -- | Boilerplate transformation between our service structures and Servant's 'Handler' monad:\n",
    "    toHandler :: AppEnv -> WebApp a -> Srv.Handler a\n",
    "    toHandler e =\n",
    "      Handler . withExceptT asHttpError . flip runReaderT e . runApp\n",
    "\n",
    "    fakeSessionValidation :: BasicAuthData -> IO (AuthResult SessionContext)\n",
    "    fakeSessionValidation _ =\n",
    "      pure $ Authenticated $ SessionContext 1"
   ]
  },
  {
   "cell_type": "markdown",
   "id": "611a734f-be45-418b-8c89-027ee568b86d",
   "metadata": {},
   "source": [
    "The main function for executing the service is `listen`. It's using the [Continuations](https://hackage.haskell.org/package/mtl-2.3.1/docs/Control-Monad-Cont.html) package, which is Haskell ecosystem main formalization for a high-level manager of complex processing environments that include multiple processes, interruptions, initialization and cleanup requirements, and etc.  The function is most importantly a call to `runContT` which in turn will invoke:\n",
    "\n",
    "    webHandling <- runAPI rtOpts\n",
    "\n",
    "that sets up all the servicing logic for execution, and then\n",
    "\n",
    "    runSettings settings webHandling\n",
    "\n",
    "that will create the WAI HTTP listener and starts Servant main request processing logic.\n",
    "\n",
    "Additionally it defines what happens before, after, how to gracefully shutdown the process, etc, which in this demo is all mock logic."
   ]
  },
  {
   "cell_type": "code",
   "execution_count": 105,
   "id": "c0c68ab8-e79e-4f51-92cb-2105886bf472",
   "metadata": {},
   "outputs": [],
   "source": [
    "listen :: Ropt.RunOptions -> IO ()\n",
    "listen rtOpts = do\n",
    "  let\n",
    "    fakeContT = ContT $ bracket (fakeContFct \"dummy.\") fakeEndFct\n",
    "  runContT fakeContT finalAction\n",
    "  where\n",
    "  finalAction dummy = do\n",
    "    let shutdownCallback = putStrLn \"@[finalAction] empty termination callback.\"\n",
    "        settings = setupWai rtOpts.webServer.port shutdownCallback\n",
    "    webHandling <- runAPI rtOpts\n",
    "    Wr.runSettings settings webHandling\n",
    "\n",
    "  fakeContFct :: [a] -> IO Int\n",
    "  fakeContFct l = return (Prelude.length l)\n",
    "\n",
    "  fakeEndFct :: Int -> IO ()\n",
    "  fakeEndFct aNum = pure ()"
   ]
  },
  {
   "cell_type": "markdown",
   "id": "0e1fb0f9-8b01-4507-9431-8bf4c3a92a58",
   "metadata": {},
   "source": [
    "Like for the WAI/Warp example before, running the web service is done in a sub-thread with a call to the `forkIO` function.  The next lines spawn a full blown web server that is a realistic template for advanced and modern web app implementation:"
   ]
  },
  {
   "cell_type": "code",
   "execution_count": 106,
   "id": "063df4a5-f5bd-4b15-b26e-371bcc9aafef",
   "metadata": {},
   "outputs": [],
   "source": [
    "defaultRun :: RunOptions\n",
    "defaultRun =\n",
    "  RunOptions {\n",
    "    debug = 0\n",
    "    , webServer = WebServerOptions {\n",
    "        port = 8180\n",
    "        , host = \"localhost\"\n",
    "      }\n",
    "    , jwkConfFile = Nothing\n",
    "    , corsPolicy = Nothing\n",
    "  }"
   ]
  },
  {
   "cell_type": "code",
   "execution_count": 107,
   "id": "d06cef6b-9b4c-4b3f-9b3d-1e42cb8ebdcd",
   "metadata": {},
   "outputs": [
    {
     "data": {
      "text/plain": [
       "Wed May 22 02:56:58 PM +04 2024"
      ]
     },
     "metadata": {},
     "output_type": "display_data"
    }
   ],
   "source": [
    "tid <- Cc.forkIO (listen defaultRun)\n",
    ":! date"
   ]
  },
  {
   "cell_type": "code",
   "execution_count": 218,
   "id": "f51bf345-a67e-42c4-a486-c59e162101df",
   "metadata": {},
   "outputs": [
    {
     "data": {
      "text/plain": [
       "Wed May 22 01:49:23 PM +04 2024"
      ]
     },
     "metadata": {},
     "output_type": "display_data"
    }
   ],
   "source": [
    "Cc.killThread tid\n",
    ":! date"
   ]
  },
  {
   "cell_type": "markdown",
   "id": "e3aaaa61-8bb8-4c22-a784-00461708621d",
   "metadata": {},
   "source": [
    "<span class=\"text-red-700\">STOP HERE FOR NOW.</span>"
   ]
  },
  {
   "cell_type": "markdown",
   "id": "1adb46ba-bdbf-40db-81d4-235a704ce094",
   "metadata": {},
   "source": [
    "Let's use the route definition defined in the previous example to generate automatically a client for the API:"
   ]
  },
  {
   "cell_type": "code",
   "execution_count": null,
   "id": "8081e5c6-1271-4fec-bfa1-f7a4c88b0d4a",
   "metadata": {},
   "outputs": [
    {
     "data": {
      "text/html": [
       "<style>/* Styles used for the Hoogle display in the pager */\n",
       ".hoogle-doc {\n",
       "display: block;\n",
       "padding-bottom: 1.3em;\n",
       "padding-left: 0.4em;\n",
       "}\n",
       ".hoogle-code {\n",
       "display: block;\n",
       "font-family: monospace;\n",
       "white-space: pre;\n",
       "}\n",
       ".hoogle-text {\n",
       "display: block;\n",
       "}\n",
       ".hoogle-name {\n",
       "color: green;\n",
       "font-weight: bold;\n",
       "}\n",
       ".hoogle-head {\n",
       "font-weight: bold;\n",
       "}\n",
       ".hoogle-sub {\n",
       "display: block;\n",
       "margin-left: 0.4em;\n",
       "}\n",
       ".hoogle-package {\n",
       "font-weight: bold;\n",
       "font-style: italic;\n",
       "}\n",
       ".hoogle-module {\n",
       "font-weight: bold;\n",
       "}\n",
       ".hoogle-class {\n",
       "font-weight: bold;\n",
       "}\n",
       "\n",
       ".get-type {\n",
       "color: green;\n",
       "font-weight: bold;\n",
       "font-family: monospace;\n",
       "display: block;\n",
       "white-space: pre-wrap;\n",
       "}\n",
       ".show-type {\n",
       "color: green;\n",
       "font-weight: bold;\n",
       "font-family: monospace;\n",
       "margin-left: 1em;\n",
       "}\n",
       ".mono {\n",
       "font-family: monospace;\n",
       "display: block;\n",
       "}\n",
       ".err-msg {\n",
       "color: red;\n",
       "font-style: italic;\n",
       "font-family: monospace;\n",
       "white-space: pre;\n",
       "display: block;\n",
       "}\n",
       "#unshowable {\n",
       "color: red;\n",
       "font-weight: bold;\n",
       "}\n",
       ".err-msg.in.collapse {\n",
       "padding-top: 0.7em;\n",
       "}\n",
       "\n",
       ".highlight-code {\n",
       "white-space: pre;\n",
       "font-family: monospace;\n",
       "}\n",
       "\n",
       ".suggestion-warning { \n",
       "font-weight: bold;\n",
       "color: rgb(200, 130, 0);\n",
       "}\n",
       ".suggestion-error { \n",
       "font-weight: bold;\n",
       "color: red;\n",
       "}\n",
       ".suggestion-name {\n",
       "font-weight: bold;\n",
       "}\n",
       "\n",
       "</style><div class=\"suggestion-name\" style=\"clear:both;\">Eta reduce</div><div class=\"suggestion-row\" style=\"float: left;\"><div class=\"suggestion-warning\">Found:</div><div class=\"highlight-code\" id=\"haskell\">hoistClientMonad _ _ f ma = f ma</div></div><div class=\"suggestion-row\" style=\"float: left;\"><div class=\"suggestion-warning\">Why Not:</div><div class=\"highlight-code\" id=\"haskell\">hoistClientMonad _ _ f = f</div></div>"
      ],
      "text/plain": [
       "Line 7: Eta reduce\n",
       "Found:\n",
       "hoistClientMonad _ _ f ma = f ma\n",
       "Why not:\n",
       "hoistClientMonad _ _ f = f"
      ]
     },
     "metadata": {},
     "output_type": "display_data"
    },
    {
     "ename": "",
     "evalue": "",
     "output_type": "error",
     "traceback": [
      "<interactive>:2:3: error:\n    • Type indexes must match class instance head\n      Expected: Client ClientM WebSocket\n        Actual: Client m (Stream method status framing ct (Headers hs a))\n    • In the type instance declaration for ‘Client’\n      In the instance declaration for ‘HasClient ClientM WebSocket’"
     ]
    }
   ],
   "source": [
    "import Servant.Client\n",
    "import Servant.Client.Core.Request\n",
    "\n",
    "instance HasClient ClientM WebSocket where\n",
    "  type Client m (Stream method status framing ct (Headers hs a)) = m (Headers hs a)\n",
    "\n",
    "  hoistClientMonad _ _ f ma = f ma\n",
    "\n",
    "  clientWithRoute _pm Proxy req = withStreamingRequest req' $ \\gres -> do\n",
    "      let mimeUnrender'    = mimeUnrender (Proxy :: Proxy ct) :: LBS.ByteString -> Either String chunk\n",
    "          framingUnrender' = framingUnrender (Proxy :: Proxy framing) mimeUnrender'\n",
    "      val <- fromSourceIO $ framingUnrender' $ responseBody gres\n",
    "      return $ Headers\n",
    "        { getResponse = val\n",
    "        , getHeadersHList = buildHeadersTo . toList $ responseHeaders gres\n",
    "        }\n",
    "\n",
    "    where\n",
    "      req' = req\n",
    "          { requestAccept = fromList [contentType (Proxy :: Proxy ct)]\n",
    "          , requestMethod = reflectMethod (Proxy :: Proxy method)\n",
    "          }\n",
    "\n",
    "loginC :<|> staticC :<|> streamC :<|> homeC :<|> searchC :<|> privStaticC = client serverApiProxy"
   ]
  },
  {
   "cell_type": "markdown",
   "id": "2a8522f8-41a4-41c1-9e6b-cce16e7756d9",
   "metadata": {},
   "source": [
    "# "
   ]
  },
  {
   "cell_type": "markdown",
   "id": "e9b6e542-2e88-44fa-80a2-736d5f2fa384",
   "metadata": {},
   "source": [
    "<h1>References</h1>\n",
    "\n",
    "- [GitHub Top 100](https://github.com/EvanLi/Github-Ranking)\n",
    "- [Youtube Embedding](https://codepen.io/orvilleChomer/pen/mYBJzE)\n",
    "- [IHaskell Kernel for Jupyter](https://github.com/IHaskell/IHaskell)\n"
   ]
  },
  {
   "cell_type": "code",
   "execution_count": null,
   "id": "49af3395-6466-4fc1-8964-8e21a7d6a045",
   "metadata": {},
   "outputs": [],
   "source": []
  },
  {
   "cell_type": "markdown",
   "id": "0df62ae8-b6dd-4d35-ab89-246c96eeae06",
   "metadata": {
    "jp-MarkdownHeadingCollapsed": true
   },
   "source": [
    "Some of the benefits of having Haskell experience:\n",
    "- you get to look at both theory of computing **and** everyday practicalities of software development, leading to a better thinking in general,\n",
    "- best practices and first principles of programming are aplenty in the ecosystem, with substantial amount of high value-to-noise ratio packaged logic,\n",
    "- you improve your ability to enounce clearly and efficiently complex design, in consistent layers of abstractions,\n",
    "- you work in high-level of expressivenness providing short development time and minimal debugging efforts, yet you can get the kind of high-performance execution for large scale computing comparable to **C** and **Go**,\n",
    "- through its _domain specific languages_ (DSL) you can easily add your own language extensions for efficient handling of specific problems,\n",
    "- through the meta-programming features you can build CI/CD that understands the code, embeds deployment logic within the build phases and achieve much tighter iterations of software development,\n",
    "- the ecosystem is current with today's demand for interactive, media-rich, AI-enhanced cloud-based web applications (and most other buzz words you work with)."
   ]
  },
  {
   "cell_type": "markdown",
   "id": "14818c08-0644-4b45-a0b1-372f559a9b47",
   "metadata": {
    "jp-MarkdownHeadingCollapsed": true
   },
   "source": [
    "With all these great features, it's important to remember that:\n",
    "- after over 30 years of existance, it's still a niche tool,\n",
    "- advanced capabilities both in pure logic and meta-programming lead to amazing coding abstractions that use concepts living in ivory towers,\n",
    "- documentation for getting onboarded and going on modern application development isn't adequate, and the community being made of many academic users writing in research paper style instead of dumb-down explanations often result in hard-to-reach information,\n",
    "- its passionate community isn't mainstream, focusing more on fintech, super-computing and R&D than consumer-oriented applications.\n",
    "\n",
    "I'll offer some thoughts on the state of the ecosystem and community at the end of the presentation."
   ]
  }
 ],
 "metadata": {
  "kernelspec": {
   "display_name": "Haskell",
   "language": "haskell",
   "name": "haskell"
  },
  "language_info": {
   "codemirror_mode": "ihaskell",
   "file_extension": ".hs",
   "mimetype": "text/x-haskell",
   "name": "haskell",
   "pygments_lexer": "Haskell",
   "version": "9.4.7"
  }
 },
 "nbformat": 4,
 "nbformat_minor": 5
}
